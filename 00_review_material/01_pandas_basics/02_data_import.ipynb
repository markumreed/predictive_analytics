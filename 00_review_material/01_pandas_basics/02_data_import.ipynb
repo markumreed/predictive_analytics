{
  "nbformat": 4,
  "nbformat_minor": 0,
  "metadata": {
    "colab": {
      "name": "02_data_import.ipynb",
      "provenance": [],
      "collapsed_sections": [],
      "toc_visible": true,
      "include_colab_link": true
    },
    "kernelspec": {
      "name": "python3",
      "display_name": "Python 3"
    }
  },
  "cells": [
    {
      "cell_type": "markdown",
      "metadata": {
        "id": "view-in-github",
        "colab_type": "text"
      },
      "source": [
        "<a href=\"https://colab.research.google.com/github/SoIllEconomist/ds4b/blob/master/python_ds4b/02_wrangle/02_data_import.ipynb\" target=\"_parent\"><img src=\"https://colab.research.google.com/assets/colab-badge.svg\" alt=\"Open In Colab\"/></a>"
      ]
    },
    {
      "cell_type": "markdown",
      "metadata": {
        "id": "v116bkfCCWAJ",
        "colab_type": "text"
      },
      "source": [
        "# Data Import\n",
        "## Introduction\n",
        "Working with data provided by Python packages is a great way to learn the tools of data science, but at some point you want to stop learning and start working with your own data. In this chapter, you’ll learn how to read plain-text rectangular files into Python. Here, we’ll only scratch the surface of data import, but many of the principles will translate to other forms of data. We’ll finish with a few pointers to packages that are useful for other types of data.\n",
        "\n",
        "Importing data is one of the most essential and very first steps in any data related problem. The ability to import the data correctly is a must-have skill for every aspiring data scientist.\n",
        "\n",
        "Data exists in many different forms, and not only should you know how to import various data formats but also how to analyze and manipulate the data to gain useful insights.\n",
        "\n",
        "`pandas` is an open source Python library which is easy-to-use, provides high-performance, and a data analysis tool for various data formats.\n",
        "\n",
        "It gives you the capability to read various types of data formats like CSV, JSON, Excel, Pickle, etc. It allows you to represent your data in a row and column tabular fashion, which makes the data readable and presentable.\n",
        "\n",
        "`pandas` represent the data in a DataFrame form and provide you with extensive usage for data analysis and data manipulation. Once you start making sense out of the data using the various functionalities in pandas, you can then use this data for analyzing, forecasting, classifying, and more.\n",
        "\n",
        "`pandas` has an input and output API which has a set of top-level `reader` and `writer` functions. The reader function is accessed with `pandas.read_json()` that returns a pandas object, and the writer function is accessed with `pandas.to_json()` which is an object method.\n",
        "\n",
        "DataFrame has a `Reader` and a `Writer` function. The `Reader` function allows you to read the different data formats, while the `Writer` function enables you to save the data in a particular format.\n",
        "\n",
        "To get other types of data into Python, keep following the `pd.read_` syntax. Below are data formats that DataFrame supports, which means if your data is in any of the below forms, you can use pandas to load that data format and even write into a particular format.\n",
        "\n",
        "| Format Type | Data Description     | Reader         | Writer       |\n",
        "|-------------|----------------------|----------------|--------------|\n",
        "| text        | CSV                  | read_csv       | to_csv       |\n",
        "| text        | JSON                 | read_json      | to_json      |\n",
        "| text        | HTML                 | read_html      | to_html      |\n",
        "| text        | Local clipboard      | read_clipboard | to_clipboard |\n",
        "| binary      | MS Excel             | read_excel     | to_excel     |\n",
        "| binary      | OpenDocument         | read_excel     |              |\n",
        "| binary      | HDF5 Format          | read_hdf       | to_hdf       |\n",
        "| binary      | Feather Format       | read_feather   | to_feather   |\n",
        "| binary      | Parquet Format       | read_parquet   | to_parquet   |\n",
        "| binary      | Msgpack              | read_msgpack   | to_msgpack   |\n",
        "| binary      | Stata                | read_stata     | to_stata     |\n",
        "| binary      | SAS                  | read_sas       |              |\n",
        "| binary      | Python Pickle Format | read_pickle    | to_pickle    |\n",
        "| SQL         | SQL                  | read_sql       | to_sql       |\n",
        "| SQL         | Google Big Query     | read_gbq       | to_gbq       |\n",
        "\n",
        "### Prerequisites\n",
        "In this chapter, you’ll learn how to load flat files in Python with the `pandas` package.\n"
      ]
    },
    {
      "cell_type": "code",
      "metadata": {
        "id": "xX1HKCHYhwPd",
        "colab_type": "code",
        "colab": {}
      },
      "source": [
        "import pandas as pd"
      ],
      "execution_count": 0,
      "outputs": []
    },
    {
      "cell_type": "markdown",
      "metadata": {
        "id": "cWOlGY08hz1K",
        "colab_type": "text"
      },
      "source": [
        "## Getting started\n",
        "\n",
        "Most of `pandas.read_` functions are concerned with turning files into dataframes. These functions all have similar syntax: once you’ve mastered one, you can use the others with ease. For the rest of this chapter we’ll focus on `pandas.read_csv()`. Not only are csv files one of the most common forms of data storage, but once you understand `pandas.read_csv()`, you can easily apply your knowledge to all the other functions\n",
        "\n",
        "- `pd.read_csv()` reads comma delimited files, by changes the `sep` argument it also reads semicolon separated files (common in countries where `,` is used as the decimal place), reads tab delimited files, and reads in files with any delimiter.\n",
        "\n",
        "The first argument to read_csv() is the most important: it’s the path to the file to read."
      ]
    },
    {
      "cell_type": "code",
      "metadata": {
        "id": "GkDE-nNo6UZr",
        "colab_type": "code",
        "colab": {}
      },
      "source": [
        "df = pd.read_csv(\"heights.csv\",)"
      ],
      "execution_count": 0,
      "outputs": []
    },
    {
      "cell_type": "code",
      "metadata": {
        "id": "XA7lX8Px6fJl",
        "colab_type": "code",
        "outputId": "dd7910db-bd1c-495c-a914-f6622835df8d",
        "colab": {
          "base_uri": "https://localhost:8080/",
          "height": 204
        }
      },
      "source": [
        "df.head()"
      ],
      "execution_count": 0,
      "outputs": [
        {
          "output_type": "execute_result",
          "data": {
            "text/html": [
              "<div>\n",
              "<style scoped>\n",
              "    .dataframe tbody tr th:only-of-type {\n",
              "        vertical-align: middle;\n",
              "    }\n",
              "\n",
              "    .dataframe tbody tr th {\n",
              "        vertical-align: top;\n",
              "    }\n",
              "\n",
              "    .dataframe thead th {\n",
              "        text-align: right;\n",
              "    }\n",
              "</style>\n",
              "<table border=\"1\" class=\"dataframe\">\n",
              "  <thead>\n",
              "    <tr style=\"text-align: right;\">\n",
              "      <th></th>\n",
              "      <th>earn</th>\n",
              "      <th>height</th>\n",
              "      <th>sex</th>\n",
              "      <th>ed</th>\n",
              "      <th>age</th>\n",
              "      <th>race</th>\n",
              "    </tr>\n",
              "  </thead>\n",
              "  <tbody>\n",
              "    <tr>\n",
              "      <th>0</th>\n",
              "      <td>50000.0</td>\n",
              "      <td>74.424439</td>\n",
              "      <td>male</td>\n",
              "      <td>16</td>\n",
              "      <td>45</td>\n",
              "      <td>white</td>\n",
              "    </tr>\n",
              "    <tr>\n",
              "      <th>1</th>\n",
              "      <td>60000.0</td>\n",
              "      <td>65.537543</td>\n",
              "      <td>female</td>\n",
              "      <td>16</td>\n",
              "      <td>58</td>\n",
              "      <td>white</td>\n",
              "    </tr>\n",
              "    <tr>\n",
              "      <th>2</th>\n",
              "      <td>30000.0</td>\n",
              "      <td>63.629198</td>\n",
              "      <td>female</td>\n",
              "      <td>16</td>\n",
              "      <td>29</td>\n",
              "      <td>white</td>\n",
              "    </tr>\n",
              "    <tr>\n",
              "      <th>3</th>\n",
              "      <td>50000.0</td>\n",
              "      <td>63.108562</td>\n",
              "      <td>female</td>\n",
              "      <td>16</td>\n",
              "      <td>91</td>\n",
              "      <td>other</td>\n",
              "    </tr>\n",
              "    <tr>\n",
              "      <th>4</th>\n",
              "      <td>51000.0</td>\n",
              "      <td>63.402484</td>\n",
              "      <td>female</td>\n",
              "      <td>17</td>\n",
              "      <td>39</td>\n",
              "      <td>white</td>\n",
              "    </tr>\n",
              "  </tbody>\n",
              "</table>\n",
              "</div>"
            ],
            "text/plain": [
              "      earn     height     sex  ed  age   race\n",
              "0  50000.0  74.424439    male  16   45  white\n",
              "1  60000.0  65.537543  female  16   58  white\n",
              "2  30000.0  63.629198  female  16   29  white\n",
              "3  50000.0  63.108562  female  16   91  other\n",
              "4  51000.0  63.402484  female  17   39  white"
            ]
          },
          "metadata": {
            "tags": []
          },
          "execution_count": 26
        }
      ]
    },
    {
      "cell_type": "markdown",
      "metadata": {
        "id": "r0ZTv3ry6p1H",
        "colab_type": "text"
      },
      "source": [
        "`read_csv()` uses the first line of the data for the column names, which is a very common convention. There are two cases where you might want to tweak this behaviour:\n",
        "\n",
        "1. Sometimes there are a few lines of metadata at the top of the file. You can use `skiprows = n` to skip the first `n` lines; or use `comment = \"#\"` to drop all lines that start with (e.g.) `#`\n",
        "\n",
        "1. The data might not have column names. You can use `header = None` to tell `read_csv()` not to treat the first row as headings, and instead label them sequentially from 0 to n:"
      ]
    },
    {
      "cell_type": "code",
      "metadata": {
        "id": "asB0kHRi6h_2",
        "colab_type": "code",
        "outputId": "c27f3d2c-24eb-45b7-9fca-3bf35f8d0fc0",
        "colab": {
          "base_uri": "https://localhost:8080/",
          "height": 419
        }
      },
      "source": [
        "pd.read_csv(\"heights.csv\", header=None)"
      ],
      "execution_count": 0,
      "outputs": [
        {
          "output_type": "execute_result",
          "data": {
            "text/html": [
              "<div>\n",
              "<style scoped>\n",
              "    .dataframe tbody tr th:only-of-type {\n",
              "        vertical-align: middle;\n",
              "    }\n",
              "\n",
              "    .dataframe tbody tr th {\n",
              "        vertical-align: top;\n",
              "    }\n",
              "\n",
              "    .dataframe thead th {\n",
              "        text-align: right;\n",
              "    }\n",
              "</style>\n",
              "<table border=\"1\" class=\"dataframe\">\n",
              "  <thead>\n",
              "    <tr style=\"text-align: right;\">\n",
              "      <th></th>\n",
              "      <th>0</th>\n",
              "      <th>1</th>\n",
              "      <th>2</th>\n",
              "      <th>3</th>\n",
              "      <th>4</th>\n",
              "      <th>5</th>\n",
              "    </tr>\n",
              "  </thead>\n",
              "  <tbody>\n",
              "    <tr>\n",
              "      <th>0</th>\n",
              "      <td>earn</td>\n",
              "      <td>height</td>\n",
              "      <td>sex</td>\n",
              "      <td>ed</td>\n",
              "      <td>age</td>\n",
              "      <td>race</td>\n",
              "    </tr>\n",
              "    <tr>\n",
              "      <th>1</th>\n",
              "      <td>50000.0</td>\n",
              "      <td>74.4244387818035</td>\n",
              "      <td>male</td>\n",
              "      <td>16</td>\n",
              "      <td>45</td>\n",
              "      <td>white</td>\n",
              "    </tr>\n",
              "    <tr>\n",
              "      <th>2</th>\n",
              "      <td>60000.0</td>\n",
              "      <td>65.5375428255647</td>\n",
              "      <td>female</td>\n",
              "      <td>16</td>\n",
              "      <td>58</td>\n",
              "      <td>white</td>\n",
              "    </tr>\n",
              "    <tr>\n",
              "      <th>3</th>\n",
              "      <td>30000.0</td>\n",
              "      <td>63.6291977374349</td>\n",
              "      <td>female</td>\n",
              "      <td>16</td>\n",
              "      <td>29</td>\n",
              "      <td>white</td>\n",
              "    </tr>\n",
              "    <tr>\n",
              "      <th>4</th>\n",
              "      <td>50000.0</td>\n",
              "      <td>63.108561675297096</td>\n",
              "      <td>female</td>\n",
              "      <td>16</td>\n",
              "      <td>91</td>\n",
              "      <td>other</td>\n",
              "    </tr>\n",
              "    <tr>\n",
              "      <th>...</th>\n",
              "      <td>...</td>\n",
              "      <td>...</td>\n",
              "      <td>...</td>\n",
              "      <td>...</td>\n",
              "      <td>...</td>\n",
              "      <td>...</td>\n",
              "    </tr>\n",
              "    <tr>\n",
              "      <th>1188</th>\n",
              "      <td>19000.0</td>\n",
              "      <td>72.1657330563758</td>\n",
              "      <td>male</td>\n",
              "      <td>12</td>\n",
              "      <td>29</td>\n",
              "      <td>white</td>\n",
              "    </tr>\n",
              "    <tr>\n",
              "      <th>1189</th>\n",
              "      <td>15000.0</td>\n",
              "      <td>61.135799531126395</td>\n",
              "      <td>female</td>\n",
              "      <td>18</td>\n",
              "      <td>82</td>\n",
              "      <td>white</td>\n",
              "    </tr>\n",
              "    <tr>\n",
              "      <th>1190</th>\n",
              "      <td>8000.0</td>\n",
              "      <td>63.6641635315027</td>\n",
              "      <td>female</td>\n",
              "      <td>12</td>\n",
              "      <td>33</td>\n",
              "      <td>white</td>\n",
              "    </tr>\n",
              "    <tr>\n",
              "      <th>1191</th>\n",
              "      <td>60000.0</td>\n",
              "      <td>71.9258358024526</td>\n",
              "      <td>male</td>\n",
              "      <td>12</td>\n",
              "      <td>50</td>\n",
              "      <td>white</td>\n",
              "    </tr>\n",
              "    <tr>\n",
              "      <th>1192</th>\n",
              "      <td>6000.0</td>\n",
              "      <td>68.3684862144291</td>\n",
              "      <td>male</td>\n",
              "      <td>12</td>\n",
              "      <td>27</td>\n",
              "      <td>white</td>\n",
              "    </tr>\n",
              "  </tbody>\n",
              "</table>\n",
              "<p>1193 rows × 6 columns</p>\n",
              "</div>"
            ],
            "text/plain": [
              "            0                   1       2   3    4      5\n",
              "0        earn              height     sex  ed  age   race\n",
              "1     50000.0    74.4244387818035    male  16   45  white\n",
              "2     60000.0    65.5375428255647  female  16   58  white\n",
              "3     30000.0    63.6291977374349  female  16   29  white\n",
              "4     50000.0  63.108561675297096  female  16   91  other\n",
              "...       ...                 ...     ...  ..  ...    ...\n",
              "1188  19000.0    72.1657330563758    male  12   29  white\n",
              "1189  15000.0  61.135799531126395  female  18   82  white\n",
              "1190   8000.0    63.6641635315027  female  12   33  white\n",
              "1191  60000.0    71.9258358024526    male  12   50  white\n",
              "1192   6000.0    68.3684862144291    male  12   27  white\n",
              "\n",
              "[1193 rows x 6 columns]"
            ]
          },
          "metadata": {
            "tags": []
          },
          "execution_count": 33
        }
      ]
    },
    {
      "cell_type": "markdown",
      "metadata": {
        "id": "ghJq-WDs9QXs",
        "colab_type": "text"
      },
      "source": [
        "You can pass `names` a list of strings which will be used as the column names:"
      ]
    },
    {
      "cell_type": "code",
      "metadata": {
        "id": "Tc-lVg7f6sHT",
        "colab_type": "code",
        "colab": {}
      },
      "source": [
        ""
      ],
      "execution_count": 0,
      "outputs": []
    },
    {
      "cell_type": "markdown",
      "metadata": {
        "id": "NYkZY6tq9i5X",
        "colab_type": "text"
      },
      "source": [
        "Another option that commonly needs tweaking is `na_values`: this specifies the value (or values) that are used to represent missing values in your file:"
      ]
    },
    {
      "cell_type": "code",
      "metadata": {
        "id": "s2OMBMfg9jyp",
        "colab_type": "code",
        "colab": {}
      },
      "source": [
        "pd.read_csv()"
      ],
      "execution_count": 0,
      "outputs": []
    },
    {
      "cell_type": "markdown",
      "metadata": {
        "id": "43HvQEO2-Jkx",
        "colab_type": "text"
      },
      "source": [
        "### Exercises\n",
        "1. What function would you use to read a file where fields were separated with\n",
        "“|”?\n",
        "1. Apart from those mentioned in this chapter, what other arguments does `read_csv()` have?\n",
        "1. Import the following files using the correct `pd.read_` syntax.\n",
        "  1. \n",
        "  1. \n",
        "  1. \n",
        "  1. \n",
        "  1. \n",
        "  "
      ]
    },
    {
      "cell_type": "markdown",
      "metadata": {
        "id": "VM4f1UykySOG",
        "colab_type": "text"
      },
      "source": [
        "## Parsing a list"
      ]
    },
    {
      "cell_type": "code",
      "metadata": {
        "id": "ddHb4n3gyd29",
        "colab_type": "code",
        "colab": {}
      },
      "source": [
        ""
      ],
      "execution_count": 0,
      "outputs": []
    },
    {
      "cell_type": "markdown",
      "metadata": {
        "id": "86hcnOfxyeqx",
        "colab_type": "text"
      },
      "source": [
        "## Numbers"
      ]
    },
    {
      "cell_type": "code",
      "metadata": {
        "id": "wkYtrEpq-rVr",
        "colab_type": "code",
        "colab": {}
      },
      "source": [
        ""
      ],
      "execution_count": 0,
      "outputs": []
    },
    {
      "cell_type": "markdown",
      "metadata": {
        "id": "LMCGFly0yi2C",
        "colab_type": "text"
      },
      "source": [
        "## Strings"
      ]
    },
    {
      "cell_type": "code",
      "metadata": {
        "id": "2fBFmSiLyo2-",
        "colab_type": "code",
        "colab": {}
      },
      "source": [
        ""
      ],
      "execution_count": 0,
      "outputs": []
    },
    {
      "cell_type": "markdown",
      "metadata": {
        "id": "NOClUj14ypOq",
        "colab_type": "text"
      },
      "source": [
        "## Categoricals in Pandas"
      ]
    },
    {
      "cell_type": "code",
      "metadata": {
        "id": "GoVkz7ZHyscM",
        "colab_type": "code",
        "colab": {}
      },
      "source": [
        ""
      ],
      "execution_count": 0,
      "outputs": []
    },
    {
      "cell_type": "markdown",
      "metadata": {
        "id": "0MeJuQSPytDm",
        "colab_type": "text"
      },
      "source": [
        "## Dates, date-times, and times"
      ]
    },
    {
      "cell_type": "code",
      "metadata": {
        "id": "EPIQ7NEEyyM0",
        "colab_type": "code",
        "colab": {}
      },
      "source": [
        ""
      ],
      "execution_count": 0,
      "outputs": []
    },
    {
      "cell_type": "markdown",
      "metadata": {
        "id": "vuWk2wt1yyrz",
        "colab_type": "text"
      },
      "source": [
        "### Exercises"
      ]
    },
    {
      "cell_type": "markdown",
      "metadata": {
        "id": "HKQ3Sijry1Y9",
        "colab_type": "text"
      },
      "source": [
        "## Parsing a file"
      ]
    },
    {
      "cell_type": "markdown",
      "metadata": {
        "id": "ZDEOvhnSy6qE",
        "colab_type": "text"
      },
      "source": [
        "### Strategy"
      ]
    },
    {
      "cell_type": "code",
      "metadata": {
        "id": "pGSmJDxIy9s3",
        "colab_type": "code",
        "colab": {}
      },
      "source": [
        ""
      ],
      "execution_count": 0,
      "outputs": []
    },
    {
      "cell_type": "markdown",
      "metadata": {
        "id": "7DDrmr2wy-de",
        "colab_type": "text"
      },
      "source": [
        "### Problems"
      ]
    },
    {
      "cell_type": "markdown",
      "metadata": {
        "id": "UmdD5VZIzCgc",
        "colab_type": "text"
      },
      "source": [
        "### Other Strategies"
      ]
    },
    {
      "cell_type": "markdown",
      "metadata": {
        "id": "rtY5Qx7LzGHd",
        "colab_type": "text"
      },
      "source": [
        "## Writing to a file"
      ]
    },
    {
      "cell_type": "markdown",
      "metadata": {
        "id": "fg6vgvGxzJe0",
        "colab_type": "text"
      },
      "source": [
        "## Other types of data"
      ]
    },
    {
      "cell_type": "markdown",
      "metadata": {
        "id": "RSEmyD-dxg4L",
        "colab_type": "text"
      },
      "source": [
        "[Next Section: Tidy Data](https://colab.research.google.com/github/SoIllEconomist/ds4b/blob/master/python_ds4b/02_wrangle/03_tidy_data.ipynb)"
      ]
    }
  ]
}