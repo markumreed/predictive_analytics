{
  "nbformat": 4,
  "nbformat_minor": 0,
  "metadata": {
    "colab": {
      "name": "00_wrangle.ipynb",
      "provenance": [],
      "include_colab_link": true
    },
    "kernelspec": {
      "name": "python3",
      "display_name": "Python 3"
    }
  },
  "cells": [
    {
      "cell_type": "markdown",
      "metadata": {
        "id": "view-in-github",
        "colab_type": "text"
      },
      "source": [
        "<a href=\"https://colab.research.google.com/github/SoIllEconomist/ds4b/blob/master/python_ds4b/02_wrangle/00_wrangle.ipynb\" target=\"_parent\"><img src=\"https://colab.research.google.com/assets/colab-badge.svg\" alt=\"Open In Colab\"/></a>"
      ]
    },
    {
      "cell_type": "markdown",
      "metadata": {
        "id": "2EH_hRfDMOpP",
        "colab_type": "text"
      },
      "source": [
        "# Introduction\n",
        "\n",
        "In this part of the book, you’ll learn about data wrangling, the art of getting your data into R in a useful form for visualisation and modelling. Data wrangling is very important: without it you can’t work with your own data! There are three main parts to data wrangling:\n",
        "\n",
        "![Data Scince Wrangling Workflow: Import, Tidy, Transform](https://github.com/SoIllEconomist/ds4b/blob/master/python_ds4b/02_wrangle/data_science_wrangle.png?raw=1)\n",
        "\n",
        "This part of the book proceeds as follows:\n",
        "\n",
        "- In DataFrames, you’ll learn about the variant of the data frame that we use in this book: the tibble. You’ll learn what makes them different from regular data frames, and how you can construct them “by hand”.\n",
        "\n",
        "- In data import, you’ll learn how to get your data from disk and into R. We’ll focus on plain-text rectangular formats, but will give you pointers to packages that help with other types of data.\n",
        "\n",
        "- In tidy data, you’ll learn about tidy data, a consistent way of storing your data that makes transformation, visualisation, and modelling easier. You’ll learn the underlying principles, and how to get your data into a tidy form.\n",
        "\n",
        "Data wrangling also encompasses data transformation, which you’ve already learned a little about. Now we’ll focus on new skills for three specific types of data you will frequently encounter in practice:\n",
        "\n",
        "- Relational data will give you tools for working with multiple interrelated datasets.\n",
        "\n",
        "- Strings will introduce regular expressions, a powerful tool for manipulating strings.\n",
        "\n",
        "- Categoricals are how Python stores categorical data. They are used when a variable has a fixed set of possible values, or when you want to use a non-alphabetical ordering of a string.\n",
        "\n",
        "- Time series will give you the key tools for working with dates and date-times."
      ]
    }
  ]
}