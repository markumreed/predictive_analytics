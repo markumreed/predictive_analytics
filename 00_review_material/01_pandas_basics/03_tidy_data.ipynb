{
  "nbformat": 4,
  "nbformat_minor": 0,
  "metadata": {
    "colab": {
      "name": "03_tidy_data.ipynb",
      "provenance": [],
      "collapsed_sections": [],
      "toc_visible": true,
      "include_colab_link": true
    },
    "kernelspec": {
      "name": "python3",
      "display_name": "Python 3"
    }
  },
  "cells": [
    {
      "cell_type": "markdown",
      "metadata": {
        "id": "view-in-github",
        "colab_type": "text"
      },
      "source": [
        "<a href=\"https://colab.research.google.com/github/SoIllEconomist/ds4b/blob/master/python_ds4b/02_wrangle/03_tidy_data.ipynb\" target=\"_parent\"><img src=\"https://colab.research.google.com/assets/colab-badge.svg\" alt=\"Open In Colab\"/></a>"
      ]
    },
    {
      "cell_type": "markdown",
      "metadata": {
        "id": "PwPh2WORkuBr",
        "colab_type": "text"
      },
      "source": [
        "# Tidy Data\n",
        "## Introduction\n",
        "\n",
        "In this chapter, you will learn a consistent way to organise your data in Python, an organisation called **tidy data**. Getting your data into this format requires some upfront work, but that work pays off in the long term. Once you have tidy data and the tidy tools provided by `pandas`, you will spend much less time munging data from one representation to another, allowing you to spend more time on the analytic questions at hand.\n",
        "\n",
        "This chapter will give you a practical introduction to tidy data and the accompanying tools in `pandas`. If you’d like to learn more about the underlying theory, you might enjoy the Tidy Data paper published in the Journal of Statistical Software, http://www.jstatsoft.org/v59/i10/paper.\n",
        "\n",
        "### Prerequisties\n",
        "\n",
        "In this chapter we'll focus on `pandas`, a package that provides tools to help tidy up your messy datasets. "
      ]
    },
    {
      "cell_type": "code",
      "metadata": {
        "id": "3fXHTZL_kqBZ",
        "colab_type": "code",
        "colab": {}
      },
      "source": [
        "import pandas as pd\n",
        "import numpy as np"
      ],
      "execution_count": 0,
      "outputs": []
    },
    {
      "cell_type": "markdown",
      "metadata": {
        "id": "vfVbcXVfndAr",
        "colab_type": "text"
      },
      "source": [
        "You can represent the same underlying data in multiple ways. The example below shows the same data organised in four different ways. Each dataset shows the same values of four variables country, year, population, and cases, but each dataset organises the values in a different way.\n",
        "\n",
        "**Table 1**\n",
        "\n",
        "| country     | year  | cases  | population |\n",
        "|-------------|-------|--------|------------|\n",
        "| Afghanistan | 1999  | 745    | 19987071   |\n",
        "| Afghanistan | 2000  | 2666   | 20595360   |\n",
        "| Brazil      | 1999  | 37737  | 172006362  |\n",
        "| Brazil      | 2000  | 80488  | 174504898  |\n",
        "| China       | 1999  | 212258 | 1272915272 |\n",
        "| China       | 2000  | 213766 | 1280428583 |\n",
        "\n",
        "**Table 2**\n",
        "\n",
        "| country     | year | type       | count     |\n",
        "|-------------|------|------------|-----------|\n",
        "| Afghanistan | 1999 | cases      | 745       |\n",
        "| Afghanistan | 1999 | population | 19987071  |\n",
        "| Afghanistan | 2000 | cases      | 2666      |\n",
        "| Afghanistan | 2000 | population | 20595360  |\n",
        "| Brazil      | 1999 | cases      | 37737     |\n",
        "| Brazil      | 1999 | population | 172006362 |\n",
        "\n",
        "**Table 3**\n",
        "\n",
        "| country     | year | rate              |\n",
        "|-------------|------|-------------------|\n",
        "| Afghanistan | 1999 | 745/19987071      |\n",
        "| Afghanistan | 2000 | 2666/20595360     |\n",
        "| Brazil      | 1999 | 37737/172006362   |\n",
        "| Brazil      | 2000 | 80488/174504898   |\n",
        "| China       | 1999 | 212258/1272915272 |\n",
        "| China       | 2000 | 213766/1280428583 |\n",
        "\n",
        "Data Spread accross two tables.\n",
        "\n",
        "**Table 4a: Cases**\n",
        "\n",
        "| country     | 1999   | 2000   |\n",
        "|-------------|--------|--------|\n",
        "| Afghanistan | 745    | 2666   |\n",
        "| Brazil      | 37737  | 80488  |\n",
        "| China       | 212258 | 213766 |\n",
        "\n",
        "**Table 4b: Population**\n",
        "\n",
        "| country     | 1999       | 2000       |\n",
        "|-------------|------------|------------|\n",
        "| Afghanistan | 19987071   | 20595360   |\n",
        "| Brazil      | 172006362  | 174504898  |\n",
        "| China       | 1272915272 | 1280428583 |\n",
        "\n",
        "These are all representations of the same underlying data, but they are not equally easy to use. One dataset, the tidy dataset, will be much easier to work with inside the tidyverse.\n",
        "\n",
        "There are three interrelated rules which make a dataset tidy:\n",
        "\n",
        "1. Each variable must have its own column.\n",
        "1. Each observation must have its own row.\n",
        "1. Each value must have its own cell.\n",
        "\n",
        "**Visual Representation of the rules**\n",
        "\n",
        "![Following three rules makes a dataset tidy: variables are in columns, observations are in rows, and values are in cells.](https://github.com/SoIllEconomist/ds4b/blob/master/python_ds4b/02_wrangle/tidy-1.png?raw=1)\n",
        "\n",
        "These three rules are interrelated because it’s impossible to only satisfy two of the three. That interrelationship leads to an even simpler set of practical instructions:\n",
        "\n",
        "1. Put each dataset in a DataFrame.\n",
        "1. Put each variable in a column.\n",
        "\n",
        "In this example, only **Table 1** is tidy. It’s the only representation where each column is a variable.\n",
        "\n",
        "*Why ensure that your data is tidy?* There are two main advantages:\n",
        "\n",
        "1. There’s a general advantage to picking one consistent way of storing data. If you have a consistent data structure, it’s easier to learn the tools that work with it because they have an underlying uniformity.\n",
        "\n",
        "1. There’s a specific advantage to placing variables in columns because it allows `pandas`’s vectorised nature to shine. As you learned, most built-in `pandas` functions work with vectors of values. That makes transforming tidy data feel particularly natural.\n",
        "\n",
        "!ll the other functions/methods in `pandas` are designed to work with tidy data. Here are a couple of small examples showing how you might work with\n"
      ]
    },
    {
      "cell_type": "code",
      "metadata": {
        "id": "TlpN7PO8nV9E",
        "colab_type": "code",
        "colab": {}
      },
      "source": [
        "from io import StringIO\n",
        "table1 = StringIO(\"\"\"country     | year  | cases  | population\n",
        "Afghanistan | 1999  | 745    | 19987071\n",
        "Afghanistan | 2000  | 2666   | 20595360\n",
        "Brazil      | 1999  | 37737  | 172006362\n",
        "Brazil      | 2000  | 80488  | 174504898\n",
        "China       | 1999  | 212258 | 1272915272\n",
        "China       | 2000  | 213766 | 1280428583\"\"\")\n",
        "\n",
        "table1 = pd.read_csv(table1, sep=\"|\", )"
      ],
      "execution_count": 0,
      "outputs": []
    },
    {
      "cell_type": "code",
      "metadata": {
        "id": "QNpgaZ6KwPWy",
        "colab_type": "code",
        "colab": {}
      },
      "source": [
        "table1.columns = table1.columns.str.strip()"
      ],
      "execution_count": 0,
      "outputs": []
    },
    {
      "cell_type": "markdown",
      "metadata": {
        "id": "Y2dgQalWvk2r",
        "colab_type": "text"
      },
      "source": [
        "Compute rate per 10,000"
      ]
    },
    {
      "cell_type": "code",
      "metadata": {
        "id": "xAa1jBwJugmD",
        "colab_type": "code",
        "outputId": "c3682b0c-a835-42ce-977f-20b45d32b69f",
        "colab": {
          "base_uri": "https://localhost:8080/",
          "height": 235
        }
      },
      "source": [
        "table1.assign(rate = lambda x: x[\"cases\"] / x[\"population\"] * 10000)"
      ],
      "execution_count": 0,
      "outputs": [
        {
          "output_type": "execute_result",
          "data": {
            "text/html": [
              "<div>\n",
              "<style scoped>\n",
              "    .dataframe tbody tr th:only-of-type {\n",
              "        vertical-align: middle;\n",
              "    }\n",
              "\n",
              "    .dataframe tbody tr th {\n",
              "        vertical-align: top;\n",
              "    }\n",
              "\n",
              "    .dataframe thead th {\n",
              "        text-align: right;\n",
              "    }\n",
              "</style>\n",
              "<table border=\"1\" class=\"dataframe\">\n",
              "  <thead>\n",
              "    <tr style=\"text-align: right;\">\n",
              "      <th></th>\n",
              "      <th>country</th>\n",
              "      <th>year</th>\n",
              "      <th>cases</th>\n",
              "      <th>population</th>\n",
              "      <th>rate</th>\n",
              "    </tr>\n",
              "  </thead>\n",
              "  <tbody>\n",
              "    <tr>\n",
              "      <th>0</th>\n",
              "      <td>Afghanistan</td>\n",
              "      <td>1999</td>\n",
              "      <td>745</td>\n",
              "      <td>19987071</td>\n",
              "      <td>0.372741</td>\n",
              "    </tr>\n",
              "    <tr>\n",
              "      <th>1</th>\n",
              "      <td>Afghanistan</td>\n",
              "      <td>2000</td>\n",
              "      <td>2666</td>\n",
              "      <td>20595360</td>\n",
              "      <td>1.294466</td>\n",
              "    </tr>\n",
              "    <tr>\n",
              "      <th>2</th>\n",
              "      <td>Brazil</td>\n",
              "      <td>1999</td>\n",
              "      <td>37737</td>\n",
              "      <td>172006362</td>\n",
              "      <td>2.193930</td>\n",
              "    </tr>\n",
              "    <tr>\n",
              "      <th>3</th>\n",
              "      <td>Brazil</td>\n",
              "      <td>2000</td>\n",
              "      <td>80488</td>\n",
              "      <td>174504898</td>\n",
              "      <td>4.612363</td>\n",
              "    </tr>\n",
              "    <tr>\n",
              "      <th>4</th>\n",
              "      <td>China</td>\n",
              "      <td>1999</td>\n",
              "      <td>212258</td>\n",
              "      <td>1272915272</td>\n",
              "      <td>1.667495</td>\n",
              "    </tr>\n",
              "    <tr>\n",
              "      <th>5</th>\n",
              "      <td>China</td>\n",
              "      <td>2000</td>\n",
              "      <td>213766</td>\n",
              "      <td>1280428583</td>\n",
              "      <td>1.669488</td>\n",
              "    </tr>\n",
              "  </tbody>\n",
              "</table>\n",
              "</div>"
            ],
            "text/plain": [
              "        country  year   cases  population      rate\n",
              "0  Afghanistan   1999     745    19987071  0.372741\n",
              "1  Afghanistan   2000    2666    20595360  1.294466\n",
              "2  Brazil        1999   37737   172006362  2.193930\n",
              "3  Brazil        2000   80488   174504898  4.612363\n",
              "4  China         1999  212258  1272915272  1.667495\n",
              "5  China         2000  213766  1280428583  1.669488"
            ]
          },
          "metadata": {
            "tags": []
          },
          "execution_count": 14
        }
      ]
    },
    {
      "cell_type": "markdown",
      "metadata": {
        "id": "PJw0_z2WxdDk",
        "colab_type": "text"
      },
      "source": [
        "Compute cases per year"
      ]
    },
    {
      "cell_type": "code",
      "metadata": {
        "id": "Gh_8oW4BxV5e",
        "colab_type": "code",
        "outputId": "f6babee6-1880-4991-feab-f667e472a663",
        "colab": {
          "base_uri": "https://localhost:8080/",
          "height": 89
        }
      },
      "source": [
        "table1.groupby('year')['cases'].count()"
      ],
      "execution_count": 0,
      "outputs": [
        {
          "output_type": "execute_result",
          "data": {
            "text/plain": [
              "year\n",
              "1999    3\n",
              "2000    3\n",
              "Name: cases, dtype: int64"
            ]
          },
          "metadata": {
            "tags": []
          },
          "execution_count": 20
        }
      ]
    },
    {
      "cell_type": "markdown",
      "metadata": {
        "id": "gbPKb6UFx7A3",
        "colab_type": "text"
      },
      "source": [
        "Visualise changes over time"
      ]
    },
    {
      "cell_type": "code",
      "metadata": {
        "id": "FrTLedoWxfmj",
        "colab_type": "code",
        "colab": {}
      },
      "source": [
        "import seaborn as sns"
      ],
      "execution_count": 0,
      "outputs": []
    },
    {
      "cell_type": "code",
      "metadata": {
        "id": "VPtqXnX7ygfQ",
        "colab_type": "code",
        "outputId": "4b68d197-c511-47f5-9c48-0301f1ac52b9",
        "colab": {
          "base_uri": "https://localhost:8080/",
          "height": 279
        }
      },
      "source": [
        "sns.lineplot(x='year',y='cases',hue='country',data=table1);"
      ],
      "execution_count": 0,
      "outputs": [
        {
          "output_type": "display_data",
          "data": {
            "image/png": "[encoded data removed]",
            "text/plain": [
              "<Figure size 432x288 with 1 Axes>"
            ]
          },
          "metadata": {
            "tags": []
          }
        }
      ]
    },
    {
      "cell_type": "markdown",
      "metadata": {
        "id": "Rl0lvRfAy870",
        "colab_type": "text"
      },
      "source": [
        "### Exercises\n",
        "1. Using prose, describe how the variables and observations are organised in each of the sample tables.\n",
        "\n",
        "1. Compute the rate for table2, and table4a + table4b. You will need to perform four operations:\n",
        "\n",
        "  1. Extract the number of TB cases per country per year.\n",
        "  1. Extract the matching population per country per year.\n",
        "  1. Divide cases by population, and multiply by 10000.\n",
        "  1. Store back in the appropriate place.\n",
        "Which representation is easiest to work with? Which is hardest? Why?\n",
        "\n",
        "1. Recreate the plot showing change in cases over time using table2 instead of table1. What do you need to do first?\n",
        "\n",
        "## Spreading and gathering\n",
        "\n",
        "The principles of tidy data seem so obvious that you might wonder if you’ll ever encounter a dataset that isn’t tidy. Unfortunately, however, most data that you will encounter will be untidy. There are two main reasons:\n",
        "\n",
        "1. Most people aren’t familiar with the principles of tidy data, and it’s hard to derive them yourself unless you spend a lot of time working with data.\n",
        "\n",
        "1. Data is often organised to facilitate some use other than analysis. For example, data is often organised to make entry as easy as possible.\n",
        "\n",
        "This means for most real analyses, you’ll need to do some tidying. The first step is always to figure out what the variables and observations are. Sometimes this is easy; other times you’ll need to consult with the people who originally generated the data. The second step is to resolve one of two common problems:\n",
        "\n",
        "1. One variable might be spread across multiple columns.\n",
        "\n",
        "1. One observation might be scattered across multiple rows.\n",
        "\n",
        "Typically a dataset will only suffer from one of these problems; it’ll only suffer from both if you’re really unlucky! To fix these problems, you’ll need the two most important functions in `pandas`: `melt()` and `pivot_table()`.\n",
        "\n",
        "### Melt (Gathering)\n",
        "A common problem is a dataset where some of the column names are not names of variables, but *values* of a variable. Take `table4a`: the column names *1999* and *2000* represent values of the year variable, and each row represents two observations, not one. E.g., we are unpivoting a DataFrame from wide format to long format, optionally leaving identifier variables set.\n",
        "\n",
        "This function is useful to massage a DataFrame into a format where one or more columns are identifier variables (id_vars), while all other columns, considered measured variables (value_vars), are “unpivoted” to the row axis, leaving just two non-identifier columns, ‘variable’ and ‘value’."
      ]
    },
    {
      "cell_type": "code",
      "metadata": {
        "id": "rNCqHb3M0qSG",
        "colab_type": "code",
        "colab": {}
      },
      "source": [
        "table4a = StringIO(\"\"\"country|1999|2000\n",
        "Afghanistan | 745    | 2666   \n",
        "Brazil      | 37737  | 80488  \n",
        "China       | 212258 | 213766 \n",
        "\"\"\")\n",
        "table4a = pd.read_csv(table4a, sep=\"|\")"
      ],
      "execution_count": 0,
      "outputs": []
    },
    {
      "cell_type": "code",
      "metadata": {
        "id": "9QO81Waa1F2U",
        "colab_type": "code",
        "outputId": "48b3a94c-b80c-4e0b-e8db-93095a5e5f1a",
        "colab": {
          "base_uri": "https://localhost:8080/",
          "height": 142
        }
      },
      "source": [
        "table4a"
      ],
      "execution_count": 0,
      "outputs": [
        {
          "output_type": "execute_result",
          "data": {
            "text/html": [
              "<div>\n",
              "<style scoped>\n",
              "    .dataframe tbody tr th:only-of-type {\n",
              "        vertical-align: middle;\n",
              "    }\n",
              "\n",
              "    .dataframe tbody tr th {\n",
              "        vertical-align: top;\n",
              "    }\n",
              "\n",
              "    .dataframe thead th {\n",
              "        text-align: right;\n",
              "    }\n",
              "</style>\n",
              "<table border=\"1\" class=\"dataframe\">\n",
              "  <thead>\n",
              "    <tr style=\"text-align: right;\">\n",
              "      <th></th>\n",
              "      <th>country</th>\n",
              "      <th>1999</th>\n",
              "      <th>2000</th>\n",
              "    </tr>\n",
              "  </thead>\n",
              "  <tbody>\n",
              "    <tr>\n",
              "      <th>0</th>\n",
              "      <td>Afghanistan</td>\n",
              "      <td>745</td>\n",
              "      <td>2666</td>\n",
              "    </tr>\n",
              "    <tr>\n",
              "      <th>1</th>\n",
              "      <td>Brazil</td>\n",
              "      <td>37737</td>\n",
              "      <td>80488</td>\n",
              "    </tr>\n",
              "    <tr>\n",
              "      <th>2</th>\n",
              "      <td>China</td>\n",
              "      <td>212258</td>\n",
              "      <td>213766</td>\n",
              "    </tr>\n",
              "  </tbody>\n",
              "</table>\n",
              "</div>"
            ],
            "text/plain": [
              "        country    1999    2000\n",
              "0  Afghanistan      745    2666\n",
              "1  Brazil         37737   80488\n",
              "2  China         212258  213766"
            ]
          },
          "metadata": {
            "tags": []
          },
          "execution_count": 32
        }
      ]
    },
    {
      "cell_type": "markdown",
      "metadata": {
        "id": "vuOZjTI91Kfo",
        "colab_type": "text"
      },
      "source": [
        "To tidy a dataset like this, we need to **melt** (gather) those columns into a new pair of variables. To describe that operation we need three parameters:\n",
        "\n",
        "- The set of columns that represent values, not variables. In this example, those are the columns 1999 and 2000.\n",
        "\n",
        "- The name of the identifier variable(s) is the `id_vars`, and here it is `country`. \n",
        "\n",
        "- The name of the variable whose values form the column names. We call that the `var_name`, and here it is `year`.\n",
        "\n",
        "- The name of the variable whose values are spread over the cells. We call that `value_name`, and here it’s the number of `cases`.\n",
        "\n",
        "Together those parameters generate the call to `pd.melt()`"
      ]
    },
    {
      "cell_type": "code",
      "metadata": {
        "id": "w0XbhNmu1HAX",
        "colab_type": "code",
        "outputId": "49056767-3893-47bb-c1cb-71978f125ad6",
        "colab": {
          "base_uri": "https://localhost:8080/",
          "height": 235
        }
      },
      "source": [
        "table4a = pd.melt(table4a,\n",
        "        id_vars=[\"country\"],\n",
        "        value_vars=[\"1999\",\"2000\"],\n",
        "        var_name = \"year\",\n",
        "        value_name=\"cases\"\n",
        "        )\n",
        "table4a"
      ],
      "execution_count": 0,
      "outputs": [
        {
          "output_type": "execute_result",
          "data": {
            "text/html": [
              "<div>\n",
              "<style scoped>\n",
              "    .dataframe tbody tr th:only-of-type {\n",
              "        vertical-align: middle;\n",
              "    }\n",
              "\n",
              "    .dataframe tbody tr th {\n",
              "        vertical-align: top;\n",
              "    }\n",
              "\n",
              "    .dataframe thead th {\n",
              "        text-align: right;\n",
              "    }\n",
              "</style>\n",
              "<table border=\"1\" class=\"dataframe\">\n",
              "  <thead>\n",
              "    <tr style=\"text-align: right;\">\n",
              "      <th></th>\n",
              "      <th>country</th>\n",
              "      <th>year</th>\n",
              "      <th>cases</th>\n",
              "    </tr>\n",
              "  </thead>\n",
              "  <tbody>\n",
              "    <tr>\n",
              "      <th>0</th>\n",
              "      <td>Afghanistan</td>\n",
              "      <td>1999</td>\n",
              "      <td>745</td>\n",
              "    </tr>\n",
              "    <tr>\n",
              "      <th>1</th>\n",
              "      <td>Brazil</td>\n",
              "      <td>1999</td>\n",
              "      <td>37737</td>\n",
              "    </tr>\n",
              "    <tr>\n",
              "      <th>2</th>\n",
              "      <td>China</td>\n",
              "      <td>1999</td>\n",
              "      <td>212258</td>\n",
              "    </tr>\n",
              "    <tr>\n",
              "      <th>3</th>\n",
              "      <td>Afghanistan</td>\n",
              "      <td>2000</td>\n",
              "      <td>2666</td>\n",
              "    </tr>\n",
              "    <tr>\n",
              "      <th>4</th>\n",
              "      <td>Brazil</td>\n",
              "      <td>2000</td>\n",
              "      <td>80488</td>\n",
              "    </tr>\n",
              "    <tr>\n",
              "      <th>5</th>\n",
              "      <td>China</td>\n",
              "      <td>2000</td>\n",
              "      <td>213766</td>\n",
              "    </tr>\n",
              "  </tbody>\n",
              "</table>\n",
              "</div>"
            ],
            "text/plain": [
              "        country  year   cases\n",
              "0  Afghanistan   1999     745\n",
              "1  Brazil        1999   37737\n",
              "2  China         1999  212258\n",
              "3  Afghanistan   2000    2666\n",
              "4  Brazil        2000   80488\n",
              "5  China         2000  213766"
            ]
          },
          "metadata": {
            "tags": []
          },
          "execution_count": 42
        }
      ]
    },
    {
      "cell_type": "markdown",
      "metadata": {
        "id": "0YP3w-TR4N4e",
        "colab_type": "text"
      },
      "source": [
        "Here there are only two columns, so we list them individually. Note that “1999” and “2000” are non-syntactic names (because they don’t start with a letter) so we have to surround them in backticks. To refresh your memory of the other ways to select columns. \n",
        "\n",
        "![Gathering table4 into a tidy form.](https://github.com/SoIllEconomist/ds4b/blob/master/python_ds4b/02_wrangle/tidy-9.png?raw=1)\n",
        "\n",
        "In the final result, the gathered columns are dropped, and we get new key and value columns. Otherwise, the relationships between the original variables are preserved. \n",
        "\n",
        "We can use `melt()` to tidy `table4b` in a similar fashion. \n",
        "\n"
      ]
    },
    {
      "cell_type": "code",
      "metadata": {
        "id": "vZ8_sMIF2THW",
        "colab_type": "code",
        "colab": {}
      },
      "source": [
        "table4b = StringIO(\"\"\"country|1999|2000\n",
        "Afghanistan | 19987071   | 20595360\n",
        "Brazil      | 172006362  | 174504898\n",
        "China       | 1272915272 | 1280428583\"\"\")\n",
        "table4b = pd.read_csv(table4b, sep=\"|\")"
      ],
      "execution_count": 0,
      "outputs": []
    },
    {
      "cell_type": "code",
      "metadata": {
        "id": "uNg6Ecbv7Pr2",
        "colab_type": "code",
        "outputId": "db8146f8-9371-47e6-dcb5-04c01b56b677",
        "colab": {
          "base_uri": "https://localhost:8080/",
          "height": 235
        }
      },
      "source": [
        "table4b = pd.melt(table4b,\n",
        "        id_vars=[\"country\"],\n",
        "        value_vars=[\"1999\",\"2000\"],\n",
        "        var_name = \"year\",\n",
        "        value_name=\"population\"\n",
        "        )\n",
        "table4b"
      ],
      "execution_count": 0,
      "outputs": [
        {
          "output_type": "execute_result",
          "data": {
            "text/html": [
              "<div>\n",
              "<style scoped>\n",
              "    .dataframe tbody tr th:only-of-type {\n",
              "        vertical-align: middle;\n",
              "    }\n",
              "\n",
              "    .dataframe tbody tr th {\n",
              "        vertical-align: top;\n",
              "    }\n",
              "\n",
              "    .dataframe thead th {\n",
              "        text-align: right;\n",
              "    }\n",
              "</style>\n",
              "<table border=\"1\" class=\"dataframe\">\n",
              "  <thead>\n",
              "    <tr style=\"text-align: right;\">\n",
              "      <th></th>\n",
              "      <th>country</th>\n",
              "      <th>year</th>\n",
              "      <th>population</th>\n",
              "    </tr>\n",
              "  </thead>\n",
              "  <tbody>\n",
              "    <tr>\n",
              "      <th>0</th>\n",
              "      <td>Afghanistan</td>\n",
              "      <td>1999</td>\n",
              "      <td>19987071</td>\n",
              "    </tr>\n",
              "    <tr>\n",
              "      <th>1</th>\n",
              "      <td>Brazil</td>\n",
              "      <td>1999</td>\n",
              "      <td>172006362</td>\n",
              "    </tr>\n",
              "    <tr>\n",
              "      <th>2</th>\n",
              "      <td>China</td>\n",
              "      <td>1999</td>\n",
              "      <td>1272915272</td>\n",
              "    </tr>\n",
              "    <tr>\n",
              "      <th>3</th>\n",
              "      <td>Afghanistan</td>\n",
              "      <td>2000</td>\n",
              "      <td>20595360</td>\n",
              "    </tr>\n",
              "    <tr>\n",
              "      <th>4</th>\n",
              "      <td>Brazil</td>\n",
              "      <td>2000</td>\n",
              "      <td>174504898</td>\n",
              "    </tr>\n",
              "    <tr>\n",
              "      <th>5</th>\n",
              "      <td>China</td>\n",
              "      <td>2000</td>\n",
              "      <td>1280428583</td>\n",
              "    </tr>\n",
              "  </tbody>\n",
              "</table>\n",
              "</div>"
            ],
            "text/plain": [
              "        country  year  population\n",
              "0  Afghanistan   1999    19987071\n",
              "1  Brazil        1999   172006362\n",
              "2  China         1999  1272915272\n",
              "3  Afghanistan   2000    20595360\n",
              "4  Brazil        2000   174504898\n",
              "5  China         2000  1280428583"
            ]
          },
          "metadata": {
            "tags": []
          },
          "execution_count": 41
        }
      ]
    },
    {
      "cell_type": "markdown",
      "metadata": {
        "id": "YAHe7rQf7ahV",
        "colab_type": "text"
      },
      "source": [
        "To combine the tidied versions of table4a and table4b into a single tibble, we need to use `merge()`, which you’ll learn about in relational data."
      ]
    },
    {
      "cell_type": "code",
      "metadata": {
        "id": "e_pyT5l77UN1",
        "colab_type": "code",
        "outputId": "6319e984-b06d-4fa9-e2e1-c8b059beb88e",
        "colab": {
          "base_uri": "https://localhost:8080/",
          "height": 235
        }
      },
      "source": [
        "pd.merge(table4a, table4b, how=\"left\", on=[\"country\",\"year\"])"
      ],
      "execution_count": 0,
      "outputs": [
        {
          "output_type": "execute_result",
          "data": {
            "text/html": [
              "<div>\n",
              "<style scoped>\n",
              "    .dataframe tbody tr th:only-of-type {\n",
              "        vertical-align: middle;\n",
              "    }\n",
              "\n",
              "    .dataframe tbody tr th {\n",
              "        vertical-align: top;\n",
              "    }\n",
              "\n",
              "    .dataframe thead th {\n",
              "        text-align: right;\n",
              "    }\n",
              "</style>\n",
              "<table border=\"1\" class=\"dataframe\">\n",
              "  <thead>\n",
              "    <tr style=\"text-align: right;\">\n",
              "      <th></th>\n",
              "      <th>country</th>\n",
              "      <th>year</th>\n",
              "      <th>cases</th>\n",
              "      <th>population</th>\n",
              "    </tr>\n",
              "  </thead>\n",
              "  <tbody>\n",
              "    <tr>\n",
              "      <th>0</th>\n",
              "      <td>Afghanistan</td>\n",
              "      <td>1999</td>\n",
              "      <td>745</td>\n",
              "      <td>19987071</td>\n",
              "    </tr>\n",
              "    <tr>\n",
              "      <th>1</th>\n",
              "      <td>Brazil</td>\n",
              "      <td>1999</td>\n",
              "      <td>37737</td>\n",
              "      <td>172006362</td>\n",
              "    </tr>\n",
              "    <tr>\n",
              "      <th>2</th>\n",
              "      <td>China</td>\n",
              "      <td>1999</td>\n",
              "      <td>212258</td>\n",
              "      <td>1272915272</td>\n",
              "    </tr>\n",
              "    <tr>\n",
              "      <th>3</th>\n",
              "      <td>Afghanistan</td>\n",
              "      <td>2000</td>\n",
              "      <td>2666</td>\n",
              "      <td>20595360</td>\n",
              "    </tr>\n",
              "    <tr>\n",
              "      <th>4</th>\n",
              "      <td>Brazil</td>\n",
              "      <td>2000</td>\n",
              "      <td>80488</td>\n",
              "      <td>174504898</td>\n",
              "    </tr>\n",
              "    <tr>\n",
              "      <th>5</th>\n",
              "      <td>China</td>\n",
              "      <td>2000</td>\n",
              "      <td>213766</td>\n",
              "      <td>1280428583</td>\n",
              "    </tr>\n",
              "  </tbody>\n",
              "</table>\n",
              "</div>"
            ],
            "text/plain": [
              "        country  year   cases  population\n",
              "0  Afghanistan   1999     745    19987071\n",
              "1  Brazil        1999   37737   172006362\n",
              "2  China         1999  212258  1272915272\n",
              "3  Afghanistan   2000    2666    20595360\n",
              "4  Brazil        2000   80488   174504898\n",
              "5  China         2000  213766  1280428583"
            ]
          },
          "metadata": {
            "tags": []
          },
          "execution_count": 44
        }
      ]
    },
    {
      "cell_type": "markdown",
      "metadata": {
        "id": "m826QL7B8Ejz",
        "colab_type": "text"
      },
      "source": [
        "## Pivot (Spreading)\n",
        "Pivoting (spreading) is the opposite of melting (gathering). You use it when an observation is scattered across multiple rows. For example, take `table2`: an observation is a country in a year, but each observation is spread across two rows."
      ]
    },
    {
      "cell_type": "code",
      "metadata": {
        "id": "5p7fSrNP73gc",
        "colab_type": "code",
        "colab": {}
      },
      "source": [
        "table2 = StringIO(\"\"\"country|year|type|count\n",
        "Afghanistan | 1999 | cases      | 745       \n",
        "Afghanistan | 1999 | population | 19987071  \n",
        "Afghanistan | 2000 | cases      | 2666      \n",
        "Afghanistan | 2000 | population | 20595360  \n",
        "Brazil      | 1999 | cases      | 37737     \n",
        "Brazil      | 1999 | population | 172006362 \"\"\")\n",
        "table2 = pd.read_csv(table2, sep=\"|\")"
      ],
      "execution_count": 0,
      "outputs": []
    },
    {
      "cell_type": "code",
      "metadata": {
        "id": "O1Bjc3pJ8xPj",
        "colab_type": "code",
        "outputId": "5280b516-c789-4669-8151-0a5d4af89a8b",
        "colab": {
          "base_uri": "https://localhost:8080/",
          "height": 235
        }
      },
      "source": [
        "table2"
      ],
      "execution_count": 0,
      "outputs": [
        {
          "output_type": "execute_result",
          "data": {
            "text/html": [
              "<div>\n",
              "<style scoped>\n",
              "    .dataframe tbody tr th:only-of-type {\n",
              "        vertical-align: middle;\n",
              "    }\n",
              "\n",
              "    .dataframe tbody tr th {\n",
              "        vertical-align: top;\n",
              "    }\n",
              "\n",
              "    .dataframe thead th {\n",
              "        text-align: right;\n",
              "    }\n",
              "</style>\n",
              "<table border=\"1\" class=\"dataframe\">\n",
              "  <thead>\n",
              "    <tr style=\"text-align: right;\">\n",
              "      <th></th>\n",
              "      <th>country</th>\n",
              "      <th>year</th>\n",
              "      <th>type</th>\n",
              "      <th>count</th>\n",
              "    </tr>\n",
              "  </thead>\n",
              "  <tbody>\n",
              "    <tr>\n",
              "      <th>0</th>\n",
              "      <td>Afghanistan</td>\n",
              "      <td>1999</td>\n",
              "      <td>cases</td>\n",
              "      <td>745</td>\n",
              "    </tr>\n",
              "    <tr>\n",
              "      <th>1</th>\n",
              "      <td>Afghanistan</td>\n",
              "      <td>1999</td>\n",
              "      <td>population</td>\n",
              "      <td>19987071</td>\n",
              "    </tr>\n",
              "    <tr>\n",
              "      <th>2</th>\n",
              "      <td>Afghanistan</td>\n",
              "      <td>2000</td>\n",
              "      <td>cases</td>\n",
              "      <td>2666</td>\n",
              "    </tr>\n",
              "    <tr>\n",
              "      <th>3</th>\n",
              "      <td>Afghanistan</td>\n",
              "      <td>2000</td>\n",
              "      <td>population</td>\n",
              "      <td>20595360</td>\n",
              "    </tr>\n",
              "    <tr>\n",
              "      <th>4</th>\n",
              "      <td>Brazil</td>\n",
              "      <td>1999</td>\n",
              "      <td>cases</td>\n",
              "      <td>37737</td>\n",
              "    </tr>\n",
              "    <tr>\n",
              "      <th>5</th>\n",
              "      <td>Brazil</td>\n",
              "      <td>1999</td>\n",
              "      <td>population</td>\n",
              "      <td>172006362</td>\n",
              "    </tr>\n",
              "  </tbody>\n",
              "</table>\n",
              "</div>"
            ],
            "text/plain": [
              "        country  year          type      count\n",
              "0  Afghanistan   1999   cases              745\n",
              "1  Afghanistan   1999   population    19987071\n",
              "2  Afghanistan   2000   cases             2666\n",
              "3  Afghanistan   2000   population    20595360\n",
              "4  Brazil        1999   cases            37737\n",
              "5  Brazil        1999   population   172006362"
            ]
          },
          "metadata": {
            "tags": []
          },
          "execution_count": 46
        }
      ]
    },
    {
      "cell_type": "markdown",
      "metadata": {
        "id": "H0vCbJhB84Xc",
        "colab_type": "text"
      },
      "source": [
        "To tidy this up, we first analyse the representation in similar way to `pivot_table()`.\n"
      ]
    },
    {
      "cell_type": "code",
      "metadata": {
        "id": "cd7K_oby80NR",
        "colab_type": "code",
        "outputId": "13574d40-4a55-4345-ee2e-08b19ba5348a",
        "colab": {
          "base_uri": "https://localhost:8080/",
          "height": 173
        }
      },
      "source": [
        "pd.pivot_table(table2, index=[\"country\",\"year\"],values=\"count\", columns=\"type\")"
      ],
      "execution_count": 0,
      "outputs": [
        {
          "output_type": "execute_result",
          "data": {
            "text/html": [
              "<div>\n",
              "<style scoped>\n",
              "    .dataframe tbody tr th:only-of-type {\n",
              "        vertical-align: middle;\n",
              "    }\n",
              "\n",
              "    .dataframe tbody tr th {\n",
              "        vertical-align: top;\n",
              "    }\n",
              "\n",
              "    .dataframe thead th {\n",
              "        text-align: right;\n",
              "    }\n",
              "</style>\n",
              "<table border=\"1\" class=\"dataframe\">\n",
              "  <thead>\n",
              "    <tr style=\"text-align: right;\">\n",
              "      <th></th>\n",
              "      <th>type</th>\n",
              "      <th>cases</th>\n",
              "      <th>population</th>\n",
              "    </tr>\n",
              "    <tr>\n",
              "      <th>country</th>\n",
              "      <th>year</th>\n",
              "      <th></th>\n",
              "      <th></th>\n",
              "    </tr>\n",
              "  </thead>\n",
              "  <tbody>\n",
              "    <tr>\n",
              "      <th rowspan=\"2\" valign=\"top\">Afghanistan</th>\n",
              "      <th>1999</th>\n",
              "      <td>745</td>\n",
              "      <td>19987071</td>\n",
              "    </tr>\n",
              "    <tr>\n",
              "      <th>2000</th>\n",
              "      <td>2666</td>\n",
              "      <td>20595360</td>\n",
              "    </tr>\n",
              "    <tr>\n",
              "      <th>Brazil</th>\n",
              "      <th>1999</th>\n",
              "      <td>37737</td>\n",
              "      <td>172006362</td>\n",
              "    </tr>\n",
              "  </tbody>\n",
              "</table>\n",
              "</div>"
            ],
            "text/plain": [
              "type                cases         population \n",
              "country      year                            \n",
              "Afghanistan  1999           745      19987071\n",
              "             2000          2666      20595360\n",
              "Brazil       1999         37737     172006362"
            ]
          },
          "metadata": {
            "tags": []
          },
          "execution_count": 47
        }
      ]
    },
    {
      "cell_type": "markdown",
      "metadata": {
        "id": "h27ax71B94pc",
        "colab_type": "text"
      },
      "source": [
        "![Spreading table2 makes it tidy.](https://github.com/SoIllEconomist/ds4b/blob/master/python_ds4b/02_wrangle/tidy-8.png?raw=1)\n",
        "\n",
        "As you might have guessed that `melt()` and `pivot_table()` are complements. `melt()` makes wide tables narrower and longer; `pivot_table()` makes long tables shorter and wider.\n",
        "\n",
        "### Exercises\n",
        "1.\n",
        "1. \n",
        "1. \n",
        "1. \n",
        "1. "
      ]
    },
    {
      "cell_type": "markdown",
      "metadata": {
        "id": "-W5xUh289-KC",
        "colab_type": "text"
      },
      "source": [
        "## Separating and uniting\n",
        "\n",
        "So far you’ve learned how to tidy `table2` and `table4`, but not `table3`. `table3` has a different problem: we have one column (`rate`) that contains two variables (`cases` and `population`). To fix this problem, we’ll need the `split()` function. You’ll also learn about the complement of `split()`: `cat()`, which you use if a single variable is spread across multiple columns.\n",
        "\n",
        "## Separate\n",
        "\n",
        "`str.split()` pulls apart one column into multiple columns, by splitting whatever a separator character appears. The `expand=True` parameter converts the separated values into new columns. The `astype(int)` converts the string into integer columns. Take `table3`:"
      ]
    },
    {
      "cell_type": "code",
      "metadata": {
        "id": "6RxxoCO09eL3",
        "colab_type": "code",
        "colab": {}
      },
      "source": [
        "table3 = StringIO(\"\"\"country|year|rate\n",
        "Afghanistan | 1999 | 745/19987071      \n",
        "Afghanistan | 2000 | 2666/20595360     \n",
        "Brazil      | 1999 | 37737/172006362   \n",
        "Brazil      | 2000 | 80488/174504898   \n",
        "China       | 1999 | 212258/1272915272 \n",
        "China       | 2000 | 213766/1280428583 \"\"\")\n",
        "table3 = pd.read_csv(table3, sep=\"|\")"
      ],
      "execution_count": 0,
      "outputs": []
    },
    {
      "cell_type": "code",
      "metadata": {
        "id": "uMdBkibJIsHW",
        "colab_type": "code",
        "colab": {}
      },
      "source": [
        "table3[['cases','population']] = table3['rate'].str.split(\"/\", expand=True).astype(int)"
      ],
      "execution_count": 0,
      "outputs": []
    },
    {
      "cell_type": "markdown",
      "metadata": {
        "id": "pVxKj_u7QmA2",
        "colab_type": "text"
      },
      "source": [
        "![Separating table3 makes it tidy](https://github.com/SoIllEconomist/ds4b/blob/master/python_ds4b/02_wrangle/tidy-17.png?raw=1)\n",
        "\n",
        "By default, `split()` will split values by `,`. If you wish to use a specific character to separate a column, you can pass the character to the `sep` argument.\n",
        "\n",
        "Formally, sep is a regular expression, which you’ll learn more about in strings"
      ]
    },
    {
      "cell_type": "code",
      "metadata": {
        "id": "sh5pfeNJMM1G",
        "colab_type": "code",
        "outputId": "13b6ffa9-0075-47ac-fadf-8e8ac4a28ee0",
        "colab": {
          "base_uri": "https://localhost:8080/",
          "height": 235
        }
      },
      "source": [
        "table3[\"century\"] = table3[\"year\"].astype(str).str[:2]\n",
        "table3[\"year\"] = table3[\"year\"].astype(str).str[2:]\n",
        "table3"
      ],
      "execution_count": 0,
      "outputs": [
        {
          "output_type": "execute_result",
          "data": {
            "text/html": [
              "<div>\n",
              "<style scoped>\n",
              "    .dataframe tbody tr th:only-of-type {\n",
              "        vertical-align: middle;\n",
              "    }\n",
              "\n",
              "    .dataframe tbody tr th {\n",
              "        vertical-align: top;\n",
              "    }\n",
              "\n",
              "    .dataframe thead th {\n",
              "        text-align: right;\n",
              "    }\n",
              "</style>\n",
              "<table border=\"1\" class=\"dataframe\">\n",
              "  <thead>\n",
              "    <tr style=\"text-align: right;\">\n",
              "      <th></th>\n",
              "      <th>country</th>\n",
              "      <th>year</th>\n",
              "      <th>rate</th>\n",
              "      <th>cases</th>\n",
              "      <th>population</th>\n",
              "      <th>century</th>\n",
              "    </tr>\n",
              "  </thead>\n",
              "  <tbody>\n",
              "    <tr>\n",
              "      <th>0</th>\n",
              "      <td>Afghanistan</td>\n",
              "      <td>99</td>\n",
              "      <td>745/19987071</td>\n",
              "      <td>745</td>\n",
              "      <td>19987071</td>\n",
              "      <td>19</td>\n",
              "    </tr>\n",
              "    <tr>\n",
              "      <th>1</th>\n",
              "      <td>Afghanistan</td>\n",
              "      <td>00</td>\n",
              "      <td>2666/20595360</td>\n",
              "      <td>2666</td>\n",
              "      <td>20595360</td>\n",
              "      <td>20</td>\n",
              "    </tr>\n",
              "    <tr>\n",
              "      <th>2</th>\n",
              "      <td>Brazil</td>\n",
              "      <td>99</td>\n",
              "      <td>37737/172006362</td>\n",
              "      <td>37737</td>\n",
              "      <td>172006362</td>\n",
              "      <td>19</td>\n",
              "    </tr>\n",
              "    <tr>\n",
              "      <th>3</th>\n",
              "      <td>Brazil</td>\n",
              "      <td>00</td>\n",
              "      <td>80488/174504898</td>\n",
              "      <td>80488</td>\n",
              "      <td>174504898</td>\n",
              "      <td>20</td>\n",
              "    </tr>\n",
              "    <tr>\n",
              "      <th>4</th>\n",
              "      <td>China</td>\n",
              "      <td>99</td>\n",
              "      <td>212258/1272915272</td>\n",
              "      <td>212258</td>\n",
              "      <td>1272915272</td>\n",
              "      <td>19</td>\n",
              "    </tr>\n",
              "    <tr>\n",
              "      <th>5</th>\n",
              "      <td>China</td>\n",
              "      <td>00</td>\n",
              "      <td>213766/1280428583</td>\n",
              "      <td>213766</td>\n",
              "      <td>1280428583</td>\n",
              "      <td>20</td>\n",
              "    </tr>\n",
              "  </tbody>\n",
              "</table>\n",
              "</div>"
            ],
            "text/plain": [
              "        country year                 rate   cases  population century\n",
              "0  Afghanistan    99   745/19987071           745    19987071      19\n",
              "1  Afghanistan    00   2666/20595360         2666    20595360      20\n",
              "2  Brazil         99   37737/172006362      37737   172006362      19\n",
              "3  Brazil         00   80488/174504898      80488   174504898      20\n",
              "4  China          99   212258/1272915272   212258  1272915272      19\n",
              "5  China          00   213766/1280428583   213766  1280428583      20"
            ]
          },
          "metadata": {
            "tags": []
          },
          "execution_count": 93
        }
      ]
    },
    {
      "cell_type": "markdown",
      "metadata": {
        "id": "o1fMmKCqTuqt",
        "colab_type": "text"
      },
      "source": [
        "### Unite\n",
        "`cat()` is the inverse of `split()1: it combines multiple columns into a single column. You’ll need it much less frequently than `split()`, but it’s still a useful tool to have in your back pocket."
      ]
    },
    {
      "cell_type": "code",
      "metadata": {
        "id": "gOts-lClRM3D",
        "colab_type": "code",
        "outputId": "bba29a41-2f9a-4848-8d36-9568b685e175",
        "colab": {
          "base_uri": "https://localhost:8080/",
          "height": 255
        }
      },
      "source": [
        "table3[\"new\"] = table3[\"century\"].str.cat(table3[\"year\"])\n",
        "table3"
      ],
      "execution_count": 0,
      "outputs": [
        {
          "output_type": "execute_result",
          "data": {
            "text/html": [
              "<div>\n",
              "<style scoped>\n",
              "    .dataframe tbody tr th:only-of-type {\n",
              "        vertical-align: middle;\n",
              "    }\n",
              "\n",
              "    .dataframe tbody tr th {\n",
              "        vertical-align: top;\n",
              "    }\n",
              "\n",
              "    .dataframe thead th {\n",
              "        text-align: right;\n",
              "    }\n",
              "</style>\n",
              "<table border=\"1\" class=\"dataframe\">\n",
              "  <thead>\n",
              "    <tr style=\"text-align: right;\">\n",
              "      <th></th>\n",
              "      <th>country</th>\n",
              "      <th>year</th>\n",
              "      <th>rate</th>\n",
              "      <th>cases</th>\n",
              "      <th>population</th>\n",
              "      <th>century</th>\n",
              "      <th>new</th>\n",
              "    </tr>\n",
              "  </thead>\n",
              "  <tbody>\n",
              "    <tr>\n",
              "      <th>0</th>\n",
              "      <td>Afghanistan</td>\n",
              "      <td>99</td>\n",
              "      <td>745/19987071</td>\n",
              "      <td>745</td>\n",
              "      <td>19987071</td>\n",
              "      <td>19</td>\n",
              "      <td>1999</td>\n",
              "    </tr>\n",
              "    <tr>\n",
              "      <th>1</th>\n",
              "      <td>Afghanistan</td>\n",
              "      <td>00</td>\n",
              "      <td>2666/20595360</td>\n",
              "      <td>2666</td>\n",
              "      <td>20595360</td>\n",
              "      <td>20</td>\n",
              "      <td>2000</td>\n",
              "    </tr>\n",
              "    <tr>\n",
              "      <th>2</th>\n",
              "      <td>Brazil</td>\n",
              "      <td>99</td>\n",
              "      <td>37737/172006362</td>\n",
              "      <td>37737</td>\n",
              "      <td>172006362</td>\n",
              "      <td>19</td>\n",
              "      <td>1999</td>\n",
              "    </tr>\n",
              "    <tr>\n",
              "      <th>3</th>\n",
              "      <td>Brazil</td>\n",
              "      <td>00</td>\n",
              "      <td>80488/174504898</td>\n",
              "      <td>80488</td>\n",
              "      <td>174504898</td>\n",
              "      <td>20</td>\n",
              "      <td>2000</td>\n",
              "    </tr>\n",
              "    <tr>\n",
              "      <th>4</th>\n",
              "      <td>China</td>\n",
              "      <td>99</td>\n",
              "      <td>212258/1272915272</td>\n",
              "      <td>212258</td>\n",
              "      <td>1272915272</td>\n",
              "      <td>19</td>\n",
              "      <td>1999</td>\n",
              "    </tr>\n",
              "    <tr>\n",
              "      <th>5</th>\n",
              "      <td>China</td>\n",
              "      <td>00</td>\n",
              "      <td>213766/1280428583</td>\n",
              "      <td>213766</td>\n",
              "      <td>1280428583</td>\n",
              "      <td>20</td>\n",
              "      <td>2000</td>\n",
              "    </tr>\n",
              "  </tbody>\n",
              "</table>\n",
              "</div>"
            ],
            "text/plain": [
              "        country year                 rate   cases  population century   new\n",
              "0  Afghanistan    99   745/19987071           745    19987071      19  1999\n",
              "1  Afghanistan    00   2666/20595360         2666    20595360      20  2000\n",
              "2  Brazil         99   37737/172006362      37737   172006362      19  1999\n",
              "3  Brazil         00   80488/174504898      80488   174504898      20  2000\n",
              "4  China          99   212258/1272915272   212258  1272915272      19  1999\n",
              "5  China          00   213766/1280428583   213766  1280428583      20  2000"
            ]
          },
          "metadata": {
            "tags": []
          },
          "execution_count": 98
        }
      ]
    },
    {
      "cell_type": "markdown",
      "metadata": {
        "id": "pyAH88DwUYWu",
        "colab_type": "text"
      },
      "source": [
        "### Exercises\n",
        "1. \n",
        "1. \n",
        "1. \n",
        "1. \n",
        "1. "
      ]
    },
    {
      "cell_type": "markdown",
      "metadata": {
        "id": "V-mU2JfBUd_O",
        "colab_type": "text"
      },
      "source": [
        "## Missing Values\n",
        "\n",
        "Changing the representation of a dataset brings up an important subtlety of missing values. Surprisingly, a value can be missing in one of two possible ways:\n",
        "1. **Explicitly**, i.e. flagged with `NaN`\n",
        "1. **Implicitly**, i.e. simply not present in the data. \n",
        "\n",
        "Let's illustrate this idea with a very simple dataset:"
      ]
    },
    {
      "cell_type": "code",
      "metadata": {
        "id": "T_DoBWEbT_dl",
        "colab_type": "code",
        "colab": {}
      },
      "source": [
        "stocks = pd.DataFrame(\n",
        "                      {\n",
        "                          \"year\":[2015, 2015, 2015, 2015, 2016, 2016, 2016],\n",
        "                       \"qtr\":[1,    2,    3,    4,    2,    3,    4],\n",
        "                       \"return\":[1.88, 0.59, 0.35,   np.nan, 0.92, 0.17, 2.66]\n",
        "                      }\n",
        ")"
      ],
      "execution_count": 0,
      "outputs": []
    },
    {
      "cell_type": "code",
      "metadata": {
        "id": "MuSOYR65WPgk",
        "colab_type": "code",
        "outputId": "1dcb893d-4bc0-408d-800a-3a3dbc6e008c",
        "colab": {
          "base_uri": "https://localhost:8080/",
          "height": 266
        }
      },
      "source": [
        "stocks"
      ],
      "execution_count": 0,
      "outputs": [
        {
          "output_type": "execute_result",
          "data": {
            "text/html": [
              "<div>\n",
              "<style scoped>\n",
              "    .dataframe tbody tr th:only-of-type {\n",
              "        vertical-align: middle;\n",
              "    }\n",
              "\n",
              "    .dataframe tbody tr th {\n",
              "        vertical-align: top;\n",
              "    }\n",
              "\n",
              "    .dataframe thead th {\n",
              "        text-align: right;\n",
              "    }\n",
              "</style>\n",
              "<table border=\"1\" class=\"dataframe\">\n",
              "  <thead>\n",
              "    <tr style=\"text-align: right;\">\n",
              "      <th></th>\n",
              "      <th>year</th>\n",
              "      <th>qtr</th>\n",
              "      <th>return</th>\n",
              "    </tr>\n",
              "  </thead>\n",
              "  <tbody>\n",
              "    <tr>\n",
              "      <th>0</th>\n",
              "      <td>2015</td>\n",
              "      <td>1</td>\n",
              "      <td>1.88</td>\n",
              "    </tr>\n",
              "    <tr>\n",
              "      <th>1</th>\n",
              "      <td>2015</td>\n",
              "      <td>2</td>\n",
              "      <td>0.59</td>\n",
              "    </tr>\n",
              "    <tr>\n",
              "      <th>2</th>\n",
              "      <td>2015</td>\n",
              "      <td>3</td>\n",
              "      <td>0.35</td>\n",
              "    </tr>\n",
              "    <tr>\n",
              "      <th>3</th>\n",
              "      <td>2015</td>\n",
              "      <td>4</td>\n",
              "      <td>NaN</td>\n",
              "    </tr>\n",
              "    <tr>\n",
              "      <th>4</th>\n",
              "      <td>2016</td>\n",
              "      <td>2</td>\n",
              "      <td>0.92</td>\n",
              "    </tr>\n",
              "    <tr>\n",
              "      <th>5</th>\n",
              "      <td>2016</td>\n",
              "      <td>3</td>\n",
              "      <td>0.17</td>\n",
              "    </tr>\n",
              "    <tr>\n",
              "      <th>6</th>\n",
              "      <td>2016</td>\n",
              "      <td>4</td>\n",
              "      <td>2.66</td>\n",
              "    </tr>\n",
              "  </tbody>\n",
              "</table>\n",
              "</div>"
            ],
            "text/plain": [
              "   year  qtr  return\n",
              "0  2015    1    1.88\n",
              "1  2015    2    0.59\n",
              "2  2015    3    0.35\n",
              "3  2015    4     NaN\n",
              "4  2016    2    0.92\n",
              "5  2016    3    0.17\n",
              "6  2016    4    2.66"
            ]
          },
          "metadata": {
            "tags": []
          },
          "execution_count": 103
        }
      ]
    },
    {
      "cell_type": "markdown",
      "metadata": {
        "id": "WnRc-_u9W4TF",
        "colab_type": "text"
      },
      "source": [
        "There are two missing values in this dataset:\n",
        "\n",
        "- The return for the fourth quarter of 2015 is explicitly missing, because the cell where its value should be instead contains `NaN`.\n",
        "\n",
        "- The return for the first quarter of 2016 is implicitly missing, because it simply does not appear in the dataset.\n",
        "\n",
        "One way to think about the difference is with this Zen-like koan: An explicit missing value is the presence of an absence; an implicit missing value is the absence of a presence.\n",
        "\n",
        "The way that a dataset is represented can make implicit values explicit. For example, we can make the implicit missing value explicit by putting years in the columns:"
      ]
    },
    {
      "cell_type": "code",
      "metadata": {
        "id": "7MxwwJHFWbBW",
        "colab_type": "code",
        "colab": {}
      },
      "source": [
        "stocks_pivot = stocks.pivot(index=\"qtr\", columns=\"year\",values=\"return\")"
      ],
      "execution_count": 0,
      "outputs": []
    },
    {
      "cell_type": "code",
      "metadata": {
        "id": "KbkX859XZtMu",
        "colab_type": "code",
        "outputId": "63327a5f-c0cf-4138-ed7a-d83ce8941c5f",
        "colab": {
          "base_uri": "https://localhost:8080/",
          "height": 204
        }
      },
      "source": [
        "stocks_pivot"
      ],
      "execution_count": 0,
      "outputs": [
        {
          "output_type": "execute_result",
          "data": {
            "text/html": [
              "<div>\n",
              "<style scoped>\n",
              "    .dataframe tbody tr th:only-of-type {\n",
              "        vertical-align: middle;\n",
              "    }\n",
              "\n",
              "    .dataframe tbody tr th {\n",
              "        vertical-align: top;\n",
              "    }\n",
              "\n",
              "    .dataframe thead th {\n",
              "        text-align: right;\n",
              "    }\n",
              "</style>\n",
              "<table border=\"1\" class=\"dataframe\">\n",
              "  <thead>\n",
              "    <tr style=\"text-align: right;\">\n",
              "      <th>year</th>\n",
              "      <th>2015</th>\n",
              "      <th>2016</th>\n",
              "    </tr>\n",
              "    <tr>\n",
              "      <th>qtr</th>\n",
              "      <th></th>\n",
              "      <th></th>\n",
              "    </tr>\n",
              "  </thead>\n",
              "  <tbody>\n",
              "    <tr>\n",
              "      <th>1</th>\n",
              "      <td>1.88</td>\n",
              "      <td>NaN</td>\n",
              "    </tr>\n",
              "    <tr>\n",
              "      <th>2</th>\n",
              "      <td>0.59</td>\n",
              "      <td>0.92</td>\n",
              "    </tr>\n",
              "    <tr>\n",
              "      <th>3</th>\n",
              "      <td>0.35</td>\n",
              "      <td>0.17</td>\n",
              "    </tr>\n",
              "    <tr>\n",
              "      <th>4</th>\n",
              "      <td>NaN</td>\n",
              "      <td>2.66</td>\n",
              "    </tr>\n",
              "  </tbody>\n",
              "</table>\n",
              "</div>"
            ],
            "text/plain": [
              "year  2015  2016\n",
              "qtr             \n",
              "1     1.88   NaN\n",
              "2     0.59  0.92\n",
              "3     0.35  0.17\n",
              "4      NaN  2.66"
            ]
          },
          "metadata": {
            "tags": []
          },
          "execution_count": 120
        }
      ]
    },
    {
      "cell_type": "markdown",
      "metadata": {
        "id": "KfPltWSAXcoI",
        "colab_type": "text"
      },
      "source": [
        "Because these explicit missing values may not be important in other representations of the data, you can use `.dropna()` in `melt()` to turn explicit missing values implicit:"
      ]
    },
    {
      "cell_type": "code",
      "metadata": {
        "id": "_czGdu-hXLQ-",
        "colab_type": "code",
        "colab": {}
      },
      "source": [
        "stocks_explicit = pd.melt(stocks_pivot.reset_index(), id_vars=['qtr'], value_vars=[2015,2016])"
      ],
      "execution_count": 0,
      "outputs": []
    },
    {
      "cell_type": "code",
      "metadata": {
        "id": "JGkPjg9dd3_C",
        "colab_type": "code",
        "outputId": "602f1fd9-9c0d-4eaa-9785-7e32ce6f81bd",
        "colab": {
          "base_uri": "https://localhost:8080/",
          "height": 297
        }
      },
      "source": [
        "stocks_explicit"
      ],
      "execution_count": 0,
      "outputs": [
        {
          "output_type": "execute_result",
          "data": {
            "text/html": [
              "<div>\n",
              "<style scoped>\n",
              "    .dataframe tbody tr th:only-of-type {\n",
              "        vertical-align: middle;\n",
              "    }\n",
              "\n",
              "    .dataframe tbody tr th {\n",
              "        vertical-align: top;\n",
              "    }\n",
              "\n",
              "    .dataframe thead th {\n",
              "        text-align: right;\n",
              "    }\n",
              "</style>\n",
              "<table border=\"1\" class=\"dataframe\">\n",
              "  <thead>\n",
              "    <tr style=\"text-align: right;\">\n",
              "      <th></th>\n",
              "      <th>qtr</th>\n",
              "      <th>year</th>\n",
              "      <th>value</th>\n",
              "    </tr>\n",
              "  </thead>\n",
              "  <tbody>\n",
              "    <tr>\n",
              "      <th>0</th>\n",
              "      <td>1</td>\n",
              "      <td>2015</td>\n",
              "      <td>1.88</td>\n",
              "    </tr>\n",
              "    <tr>\n",
              "      <th>1</th>\n",
              "      <td>2</td>\n",
              "      <td>2015</td>\n",
              "      <td>0.59</td>\n",
              "    </tr>\n",
              "    <tr>\n",
              "      <th>2</th>\n",
              "      <td>3</td>\n",
              "      <td>2015</td>\n",
              "      <td>0.35</td>\n",
              "    </tr>\n",
              "    <tr>\n",
              "      <th>3</th>\n",
              "      <td>4</td>\n",
              "      <td>2015</td>\n",
              "      <td>NaN</td>\n",
              "    </tr>\n",
              "    <tr>\n",
              "      <th>4</th>\n",
              "      <td>1</td>\n",
              "      <td>2016</td>\n",
              "      <td>NaN</td>\n",
              "    </tr>\n",
              "    <tr>\n",
              "      <th>5</th>\n",
              "      <td>2</td>\n",
              "      <td>2016</td>\n",
              "      <td>0.92</td>\n",
              "    </tr>\n",
              "    <tr>\n",
              "      <th>6</th>\n",
              "      <td>3</td>\n",
              "      <td>2016</td>\n",
              "      <td>0.17</td>\n",
              "    </tr>\n",
              "    <tr>\n",
              "      <th>7</th>\n",
              "      <td>4</td>\n",
              "      <td>2016</td>\n",
              "      <td>2.66</td>\n",
              "    </tr>\n",
              "  </tbody>\n",
              "</table>\n",
              "</div>"
            ],
            "text/plain": [
              "   qtr  year  value\n",
              "0    1  2015   1.88\n",
              "1    2  2015   0.59\n",
              "2    3  2015   0.35\n",
              "3    4  2015    NaN\n",
              "4    1  2016    NaN\n",
              "5    2  2016   0.92\n",
              "6    3  2016   0.17\n",
              "7    4  2016   2.66"
            ]
          },
          "metadata": {
            "tags": []
          },
          "execution_count": 147
        }
      ]
    },
    {
      "cell_type": "code",
      "metadata": {
        "id": "A23FUZfEb7IW",
        "colab_type": "code",
        "colab": {}
      },
      "source": [
        "stocks_implicit = pd.melt(stocks_pivot.reset_index(), id_vars=['qtr'], value_vars=[2015,2016]).dropna()"
      ],
      "execution_count": 0,
      "outputs": []
    },
    {
      "cell_type": "code",
      "metadata": {
        "id": "Q5qz_evjd7Ic",
        "colab_type": "code",
        "outputId": "f9f35599-0be5-4fd9-b0df-b7378de7e1a0",
        "colab": {
          "base_uri": "https://localhost:8080/",
          "height": 235
        }
      },
      "source": [
        "stocks_implicit"
      ],
      "execution_count": 0,
      "outputs": [
        {
          "output_type": "execute_result",
          "data": {
            "text/html": [
              "<div>\n",
              "<style scoped>\n",
              "    .dataframe tbody tr th:only-of-type {\n",
              "        vertical-align: middle;\n",
              "    }\n",
              "\n",
              "    .dataframe tbody tr th {\n",
              "        vertical-align: top;\n",
              "    }\n",
              "\n",
              "    .dataframe thead th {\n",
              "        text-align: right;\n",
              "    }\n",
              "</style>\n",
              "<table border=\"1\" class=\"dataframe\">\n",
              "  <thead>\n",
              "    <tr style=\"text-align: right;\">\n",
              "      <th></th>\n",
              "      <th>qtr</th>\n",
              "      <th>year</th>\n",
              "      <th>value</th>\n",
              "    </tr>\n",
              "  </thead>\n",
              "  <tbody>\n",
              "    <tr>\n",
              "      <th>0</th>\n",
              "      <td>1</td>\n",
              "      <td>2015</td>\n",
              "      <td>1.88</td>\n",
              "    </tr>\n",
              "    <tr>\n",
              "      <th>1</th>\n",
              "      <td>2</td>\n",
              "      <td>2015</td>\n",
              "      <td>0.59</td>\n",
              "    </tr>\n",
              "    <tr>\n",
              "      <th>2</th>\n",
              "      <td>3</td>\n",
              "      <td>2015</td>\n",
              "      <td>0.35</td>\n",
              "    </tr>\n",
              "    <tr>\n",
              "      <th>5</th>\n",
              "      <td>2</td>\n",
              "      <td>2016</td>\n",
              "      <td>0.92</td>\n",
              "    </tr>\n",
              "    <tr>\n",
              "      <th>6</th>\n",
              "      <td>3</td>\n",
              "      <td>2016</td>\n",
              "      <td>0.17</td>\n",
              "    </tr>\n",
              "    <tr>\n",
              "      <th>7</th>\n",
              "      <td>4</td>\n",
              "      <td>2016</td>\n",
              "      <td>2.66</td>\n",
              "    </tr>\n",
              "  </tbody>\n",
              "</table>\n",
              "</div>"
            ],
            "text/plain": [
              "   qtr  year  value\n",
              "0    1  2015   1.88\n",
              "1    2  2015   0.59\n",
              "2    3  2015   0.35\n",
              "5    2  2016   0.92\n",
              "6    3  2016   0.17\n",
              "7    4  2016   2.66"
            ]
          },
          "metadata": {
            "tags": []
          },
          "execution_count": 150
        }
      ]
    },
    {
      "cell_type": "markdown",
      "metadata": {
        "id": "R6RRPncCcjwJ",
        "colab_type": "text"
      },
      "source": [
        "There’s one other important tool that you should know for working with missing values.\n",
        "\n",
        "To drop any rows that have missing data."
      ]
    },
    {
      "cell_type": "code",
      "metadata": {
        "id": "ElvOZqqCcajG",
        "colab_type": "code",
        "outputId": "61f343e4-434b-454a-aedc-2f19130a0708",
        "colab": {
          "base_uri": "https://localhost:8080/",
          "height": 235
        }
      },
      "source": [
        "stocks_explicit.dropna()"
      ],
      "execution_count": 0,
      "outputs": [
        {
          "output_type": "execute_result",
          "data": {
            "text/html": [
              "<div>\n",
              "<style scoped>\n",
              "    .dataframe tbody tr th:only-of-type {\n",
              "        vertical-align: middle;\n",
              "    }\n",
              "\n",
              "    .dataframe tbody tr th {\n",
              "        vertical-align: top;\n",
              "    }\n",
              "\n",
              "    .dataframe thead th {\n",
              "        text-align: right;\n",
              "    }\n",
              "</style>\n",
              "<table border=\"1\" class=\"dataframe\">\n",
              "  <thead>\n",
              "    <tr style=\"text-align: right;\">\n",
              "      <th></th>\n",
              "      <th>qtr</th>\n",
              "      <th>year</th>\n",
              "      <th>value</th>\n",
              "    </tr>\n",
              "  </thead>\n",
              "  <tbody>\n",
              "    <tr>\n",
              "      <th>0</th>\n",
              "      <td>1</td>\n",
              "      <td>2015</td>\n",
              "      <td>1.88</td>\n",
              "    </tr>\n",
              "    <tr>\n",
              "      <th>1</th>\n",
              "      <td>2</td>\n",
              "      <td>2015</td>\n",
              "      <td>0.59</td>\n",
              "    </tr>\n",
              "    <tr>\n",
              "      <th>2</th>\n",
              "      <td>3</td>\n",
              "      <td>2015</td>\n",
              "      <td>0.35</td>\n",
              "    </tr>\n",
              "    <tr>\n",
              "      <th>5</th>\n",
              "      <td>2</td>\n",
              "      <td>2016</td>\n",
              "      <td>0.92</td>\n",
              "    </tr>\n",
              "    <tr>\n",
              "      <th>6</th>\n",
              "      <td>3</td>\n",
              "      <td>2016</td>\n",
              "      <td>0.17</td>\n",
              "    </tr>\n",
              "    <tr>\n",
              "      <th>7</th>\n",
              "      <td>4</td>\n",
              "      <td>2016</td>\n",
              "      <td>2.66</td>\n",
              "    </tr>\n",
              "  </tbody>\n",
              "</table>\n",
              "</div>"
            ],
            "text/plain": [
              "   qtr  year  value\n",
              "0    1  2015   1.88\n",
              "1    2  2015   0.59\n",
              "2    3  2015   0.35\n",
              "5    2  2016   0.92\n",
              "6    3  2016   0.17\n",
              "7    4  2016   2.66"
            ]
          },
          "metadata": {
            "tags": []
          },
          "execution_count": 151
        }
      ]
    },
    {
      "cell_type": "markdown",
      "metadata": {
        "id": "t8VCRbL6eKd2",
        "colab_type": "text"
      },
      "source": [
        "Filling missing data."
      ]
    },
    {
      "cell_type": "code",
      "metadata": {
        "id": "qIQsKk7XeAgE",
        "colab_type": "code",
        "outputId": "d78340ce-859b-4c3d-b8db-54b07869dbdc",
        "colab": {
          "base_uri": "https://localhost:8080/",
          "height": 297
        }
      },
      "source": [
        "stocks_explicit.fillna(\"FILL VALUE\")"
      ],
      "execution_count": 0,
      "outputs": [
        {
          "output_type": "execute_result",
          "data": {
            "text/html": [
              "<div>\n",
              "<style scoped>\n",
              "    .dataframe tbody tr th:only-of-type {\n",
              "        vertical-align: middle;\n",
              "    }\n",
              "\n",
              "    .dataframe tbody tr th {\n",
              "        vertical-align: top;\n",
              "    }\n",
              "\n",
              "    .dataframe thead th {\n",
              "        text-align: right;\n",
              "    }\n",
              "</style>\n",
              "<table border=\"1\" class=\"dataframe\">\n",
              "  <thead>\n",
              "    <tr style=\"text-align: right;\">\n",
              "      <th></th>\n",
              "      <th>qtr</th>\n",
              "      <th>year</th>\n",
              "      <th>value</th>\n",
              "    </tr>\n",
              "  </thead>\n",
              "  <tbody>\n",
              "    <tr>\n",
              "      <th>0</th>\n",
              "      <td>1</td>\n",
              "      <td>2015</td>\n",
              "      <td>1.88</td>\n",
              "    </tr>\n",
              "    <tr>\n",
              "      <th>1</th>\n",
              "      <td>2</td>\n",
              "      <td>2015</td>\n",
              "      <td>0.59</td>\n",
              "    </tr>\n",
              "    <tr>\n",
              "      <th>2</th>\n",
              "      <td>3</td>\n",
              "      <td>2015</td>\n",
              "      <td>0.35</td>\n",
              "    </tr>\n",
              "    <tr>\n",
              "      <th>3</th>\n",
              "      <td>4</td>\n",
              "      <td>2015</td>\n",
              "      <td>FILL VALUE</td>\n",
              "    </tr>\n",
              "    <tr>\n",
              "      <th>4</th>\n",
              "      <td>1</td>\n",
              "      <td>2016</td>\n",
              "      <td>FILL VALUE</td>\n",
              "    </tr>\n",
              "    <tr>\n",
              "      <th>5</th>\n",
              "      <td>2</td>\n",
              "      <td>2016</td>\n",
              "      <td>0.92</td>\n",
              "    </tr>\n",
              "    <tr>\n",
              "      <th>6</th>\n",
              "      <td>3</td>\n",
              "      <td>2016</td>\n",
              "      <td>0.17</td>\n",
              "    </tr>\n",
              "    <tr>\n",
              "      <th>7</th>\n",
              "      <td>4</td>\n",
              "      <td>2016</td>\n",
              "      <td>2.66</td>\n",
              "    </tr>\n",
              "  </tbody>\n",
              "</table>\n",
              "</div>"
            ],
            "text/plain": [
              "   qtr  year       value\n",
              "0    1  2015        1.88\n",
              "1    2  2015        0.59\n",
              "2    3  2015        0.35\n",
              "3    4  2015  FILL VALUE\n",
              "4    1  2016  FILL VALUE\n",
              "5    2  2016        0.92\n",
              "6    3  2016        0.17\n",
              "7    4  2016        2.66"
            ]
          },
          "metadata": {
            "tags": []
          },
          "execution_count": 152
        }
      ]
    },
    {
      "cell_type": "code",
      "metadata": {
        "id": "Qp1g-srpeQRG",
        "colab_type": "code",
        "outputId": "25f39c34-f738-4fd2-fd4d-4654463cfa0a",
        "colab": {
          "base_uri": "https://localhost:8080/",
          "height": 297
        }
      },
      "source": [
        "stocks_explicit.fillna(0)"
      ],
      "execution_count": 0,
      "outputs": [
        {
          "output_type": "execute_result",
          "data": {
            "text/html": [
              "<div>\n",
              "<style scoped>\n",
              "    .dataframe tbody tr th:only-of-type {\n",
              "        vertical-align: middle;\n",
              "    }\n",
              "\n",
              "    .dataframe tbody tr th {\n",
              "        vertical-align: top;\n",
              "    }\n",
              "\n",
              "    .dataframe thead th {\n",
              "        text-align: right;\n",
              "    }\n",
              "</style>\n",
              "<table border=\"1\" class=\"dataframe\">\n",
              "  <thead>\n",
              "    <tr style=\"text-align: right;\">\n",
              "      <th></th>\n",
              "      <th>qtr</th>\n",
              "      <th>year</th>\n",
              "      <th>value</th>\n",
              "    </tr>\n",
              "  </thead>\n",
              "  <tbody>\n",
              "    <tr>\n",
              "      <th>0</th>\n",
              "      <td>1</td>\n",
              "      <td>2015</td>\n",
              "      <td>1.88</td>\n",
              "    </tr>\n",
              "    <tr>\n",
              "      <th>1</th>\n",
              "      <td>2</td>\n",
              "      <td>2015</td>\n",
              "      <td>0.59</td>\n",
              "    </tr>\n",
              "    <tr>\n",
              "      <th>2</th>\n",
              "      <td>3</td>\n",
              "      <td>2015</td>\n",
              "      <td>0.35</td>\n",
              "    </tr>\n",
              "    <tr>\n",
              "      <th>3</th>\n",
              "      <td>4</td>\n",
              "      <td>2015</td>\n",
              "      <td>0.00</td>\n",
              "    </tr>\n",
              "    <tr>\n",
              "      <th>4</th>\n",
              "      <td>1</td>\n",
              "      <td>2016</td>\n",
              "      <td>0.00</td>\n",
              "    </tr>\n",
              "    <tr>\n",
              "      <th>5</th>\n",
              "      <td>2</td>\n",
              "      <td>2016</td>\n",
              "      <td>0.92</td>\n",
              "    </tr>\n",
              "    <tr>\n",
              "      <th>6</th>\n",
              "      <td>3</td>\n",
              "      <td>2016</td>\n",
              "      <td>0.17</td>\n",
              "    </tr>\n",
              "    <tr>\n",
              "      <th>7</th>\n",
              "      <td>4</td>\n",
              "      <td>2016</td>\n",
              "      <td>2.66</td>\n",
              "    </tr>\n",
              "  </tbody>\n",
              "</table>\n",
              "</div>"
            ],
            "text/plain": [
              "   qtr  year  value\n",
              "0    1  2015   1.88\n",
              "1    2  2015   0.59\n",
              "2    3  2015   0.35\n",
              "3    4  2015   0.00\n",
              "4    1  2016   0.00\n",
              "5    2  2016   0.92\n",
              "6    3  2016   0.17\n",
              "7    4  2016   2.66"
            ]
          },
          "metadata": {
            "tags": []
          },
          "execution_count": 153
        }
      ]
    },
    {
      "cell_type": "code",
      "metadata": {
        "id": "u0IyfZ7Zed0A",
        "colab_type": "code",
        "outputId": "5e5440c1-1eec-4c84-b44d-ec50016c1293",
        "colab": {
          "base_uri": "https://localhost:8080/",
          "height": 297
        }
      },
      "source": [
        "stocks_explicit.fillna(method=\"bfill\") # backfill"
      ],
      "execution_count": 0,
      "outputs": [
        {
          "output_type": "execute_result",
          "data": {
            "text/html": [
              "<div>\n",
              "<style scoped>\n",
              "    .dataframe tbody tr th:only-of-type {\n",
              "        vertical-align: middle;\n",
              "    }\n",
              "\n",
              "    .dataframe tbody tr th {\n",
              "        vertical-align: top;\n",
              "    }\n",
              "\n",
              "    .dataframe thead th {\n",
              "        text-align: right;\n",
              "    }\n",
              "</style>\n",
              "<table border=\"1\" class=\"dataframe\">\n",
              "  <thead>\n",
              "    <tr style=\"text-align: right;\">\n",
              "      <th></th>\n",
              "      <th>qtr</th>\n",
              "      <th>year</th>\n",
              "      <th>value</th>\n",
              "    </tr>\n",
              "  </thead>\n",
              "  <tbody>\n",
              "    <tr>\n",
              "      <th>0</th>\n",
              "      <td>1</td>\n",
              "      <td>2015</td>\n",
              "      <td>1.88</td>\n",
              "    </tr>\n",
              "    <tr>\n",
              "      <th>1</th>\n",
              "      <td>2</td>\n",
              "      <td>2015</td>\n",
              "      <td>0.59</td>\n",
              "    </tr>\n",
              "    <tr>\n",
              "      <th>2</th>\n",
              "      <td>3</td>\n",
              "      <td>2015</td>\n",
              "      <td>0.35</td>\n",
              "    </tr>\n",
              "    <tr>\n",
              "      <th>3</th>\n",
              "      <td>4</td>\n",
              "      <td>2015</td>\n",
              "      <td>0.92</td>\n",
              "    </tr>\n",
              "    <tr>\n",
              "      <th>4</th>\n",
              "      <td>1</td>\n",
              "      <td>2016</td>\n",
              "      <td>0.92</td>\n",
              "    </tr>\n",
              "    <tr>\n",
              "      <th>5</th>\n",
              "      <td>2</td>\n",
              "      <td>2016</td>\n",
              "      <td>0.92</td>\n",
              "    </tr>\n",
              "    <tr>\n",
              "      <th>6</th>\n",
              "      <td>3</td>\n",
              "      <td>2016</td>\n",
              "      <td>0.17</td>\n",
              "    </tr>\n",
              "    <tr>\n",
              "      <th>7</th>\n",
              "      <td>4</td>\n",
              "      <td>2016</td>\n",
              "      <td>2.66</td>\n",
              "    </tr>\n",
              "  </tbody>\n",
              "</table>\n",
              "</div>"
            ],
            "text/plain": [
              "   qtr  year  value\n",
              "0    1  2015   1.88\n",
              "1    2  2015   0.59\n",
              "2    3  2015   0.35\n",
              "3    4  2015   0.92\n",
              "4    1  2016   0.92\n",
              "5    2  2016   0.92\n",
              "6    3  2016   0.17\n",
              "7    4  2016   2.66"
            ]
          },
          "metadata": {
            "tags": []
          },
          "execution_count": 156
        }
      ]
    },
    {
      "cell_type": "code",
      "metadata": {
        "id": "3duny5i6epoz",
        "colab_type": "code",
        "outputId": "28ca855b-7f8b-4870-afd8-be188a6fe411",
        "colab": {
          "base_uri": "https://localhost:8080/",
          "height": 297
        }
      },
      "source": [
        "stocks_explicit.fillna(method=\"ffill\") # forward fill"
      ],
      "execution_count": 0,
      "outputs": [
        {
          "output_type": "execute_result",
          "data": {
            "text/html": [
              "<div>\n",
              "<style scoped>\n",
              "    .dataframe tbody tr th:only-of-type {\n",
              "        vertical-align: middle;\n",
              "    }\n",
              "\n",
              "    .dataframe tbody tr th {\n",
              "        vertical-align: top;\n",
              "    }\n",
              "\n",
              "    .dataframe thead th {\n",
              "        text-align: right;\n",
              "    }\n",
              "</style>\n",
              "<table border=\"1\" class=\"dataframe\">\n",
              "  <thead>\n",
              "    <tr style=\"text-align: right;\">\n",
              "      <th></th>\n",
              "      <th>qtr</th>\n",
              "      <th>year</th>\n",
              "      <th>value</th>\n",
              "    </tr>\n",
              "  </thead>\n",
              "  <tbody>\n",
              "    <tr>\n",
              "      <th>0</th>\n",
              "      <td>1</td>\n",
              "      <td>2015</td>\n",
              "      <td>1.88</td>\n",
              "    </tr>\n",
              "    <tr>\n",
              "      <th>1</th>\n",
              "      <td>2</td>\n",
              "      <td>2015</td>\n",
              "      <td>0.59</td>\n",
              "    </tr>\n",
              "    <tr>\n",
              "      <th>2</th>\n",
              "      <td>3</td>\n",
              "      <td>2015</td>\n",
              "      <td>0.35</td>\n",
              "    </tr>\n",
              "    <tr>\n",
              "      <th>3</th>\n",
              "      <td>4</td>\n",
              "      <td>2015</td>\n",
              "      <td>0.35</td>\n",
              "    </tr>\n",
              "    <tr>\n",
              "      <th>4</th>\n",
              "      <td>1</td>\n",
              "      <td>2016</td>\n",
              "      <td>0.35</td>\n",
              "    </tr>\n",
              "    <tr>\n",
              "      <th>5</th>\n",
              "      <td>2</td>\n",
              "      <td>2016</td>\n",
              "      <td>0.92</td>\n",
              "    </tr>\n",
              "    <tr>\n",
              "      <th>6</th>\n",
              "      <td>3</td>\n",
              "      <td>2016</td>\n",
              "      <td>0.17</td>\n",
              "    </tr>\n",
              "    <tr>\n",
              "      <th>7</th>\n",
              "      <td>4</td>\n",
              "      <td>2016</td>\n",
              "      <td>2.66</td>\n",
              "    </tr>\n",
              "  </tbody>\n",
              "</table>\n",
              "</div>"
            ],
            "text/plain": [
              "   qtr  year  value\n",
              "0    1  2015   1.88\n",
              "1    2  2015   0.59\n",
              "2    3  2015   0.35\n",
              "3    4  2015   0.35\n",
              "4    1  2016   0.35\n",
              "5    2  2016   0.92\n",
              "6    3  2016   0.17\n",
              "7    4  2016   2.66"
            ]
          },
          "metadata": {
            "tags": []
          },
          "execution_count": 155
        }
      ]
    },
    {
      "cell_type": "markdown",
      "metadata": {
        "id": "lbDWanRwe7Y5",
        "colab_type": "text"
      },
      "source": [
        "There are a variety of other methods but we'll leave those for another time. \n",
        "\n",
        "### Exercise\n",
        "\n",
        "1. \n",
        "1. \n",
        "1. \n",
        "1. \n",
        "1. "
      ]
    },
    {
      "cell_type": "markdown",
      "metadata": {
        "id": "yTaGc8zyfMv7",
        "colab_type": "text"
      },
      "source": [
        "## Case Study\n",
        "\n",
        "To finish off the chapter, let’s pull together everything you’ve learned to tackle a realistic data tidying problem. WHO dataset contains tuberculosis (TB) cases broken down by year, country, age, gender, and diagnosis method. The data comes from the 2014 World Health Organization Global Tuberculosis Report, available at http://www.who.int/tb/country/data/download/en/.\n",
        "\n",
        "There’s a wealth of epidemiological information in this dataset, but it’s challenging to work with the data in the form that it’s provided:"
      ]
    },
    {
      "cell_type": "code",
      "metadata": {
        "id": "YO7IsEM-esvj",
        "colab_type": "code",
        "colab": {}
      },
      "source": [
        "url = \"https://extranet.who.int/tme/generateCSV.asp?ds=notifications\"\n",
        "who = pd.read_csv(url)"
      ],
      "execution_count": 0,
      "outputs": []
    },
    {
      "cell_type": "markdown",
      "metadata": {
        "id": "0ZVWm2g_fkgD",
        "colab_type": "text"
      },
      "source": [
        "This is a very typical real-life example dataset. It contains redundant columns, odd variable codes, and many missing values. In short, `who` is messy, and we’ll need multiple steps to tidy it. That means in real-life situations you’ll usually need to string together multiple functions into a pipeline.\n",
        "\n",
        "The best place to start is almost always to gather together the columns that are not variables. Let’s have a look at what we’ve got:\n",
        "\n",
        "- It looks like `country`, `iso2`, and `iso3` are three variables that redundantly specify the country.\n",
        "\n",
        "- `year` is clearly also a variable.\n",
        "\n",
        "- We don’t know what all the other columns are yet, but given the structure in the variable names (e.g. `new_sp_m014`, `new_ep_m014`, `new_ep_f014`) these are likely to be values, not variables.\n",
        "\n",
        "So we need to gather together all the columns from `new_sp_m014` to `newrel_f65`. We don’t know what those values represent yet, so we’ll give them the generic name \"key\". We know the cells represent the count of cases, so we’ll use the variable cases. There are a lot of missing values in the current representation, so for now we’ll use `.dropna()` just so we can focus on the values that are present."
      ]
    },
    {
      "cell_type": "code",
      "metadata": {
        "id": "8-eopDDLfhYW",
        "colab_type": "code",
        "colab": {}
      },
      "source": [
        "who1 = pd.melt(who,\n",
        "        id_vars=[\"country\",\"iso2\",\"iso3\",\"year\"],\n",
        "        var_name=\"key\",\n",
        "        value_name=\"cases\").dropna()"
      ],
      "execution_count": 0,
      "outputs": []
    },
    {
      "cell_type": "markdown",
      "metadata": {
        "id": "AnJ7eDj7CLW4",
        "colab_type": "text"
      },
      "source": [
        "We can get some hint of the structure of the values in the new key column by counting them:"
      ]
    },
    {
      "cell_type": "code",
      "metadata": {
        "id": "YH0-s-2HBuMQ",
        "colab_type": "code",
        "outputId": "971aa957-6709-4a1b-80e0-88986c1c8b39",
        "colab": {
          "base_uri": "https://localhost:8080/",
          "height": 419
        }
      },
      "source": [
        "who1"
      ],
      "execution_count": 0,
      "outputs": [
        {
          "output_type": "execute_result",
          "data": {
            "text/html": [
              "<div>\n",
              "<style scoped>\n",
              "    .dataframe tbody tr th:only-of-type {\n",
              "        vertical-align: middle;\n",
              "    }\n",
              "\n",
              "    .dataframe tbody tr th {\n",
              "        vertical-align: top;\n",
              "    }\n",
              "\n",
              "    .dataframe thead th {\n",
              "        text-align: right;\n",
              "    }\n",
              "</style>\n",
              "<table border=\"1\" class=\"dataframe\">\n",
              "  <thead>\n",
              "    <tr style=\"text-align: right;\">\n",
              "      <th></th>\n",
              "      <th>country</th>\n",
              "      <th>iso2</th>\n",
              "      <th>iso3</th>\n",
              "      <th>year</th>\n",
              "      <th>key</th>\n",
              "      <th>cases</th>\n",
              "    </tr>\n",
              "  </thead>\n",
              "  <tbody>\n",
              "    <tr>\n",
              "      <th>0</th>\n",
              "      <td>Afghanistan</td>\n",
              "      <td>AF</td>\n",
              "      <td>AFG</td>\n",
              "      <td>1980</td>\n",
              "      <td>iso_numeric</td>\n",
              "      <td>4</td>\n",
              "    </tr>\n",
              "    <tr>\n",
              "      <th>1</th>\n",
              "      <td>Afghanistan</td>\n",
              "      <td>AF</td>\n",
              "      <td>AFG</td>\n",
              "      <td>1981</td>\n",
              "      <td>iso_numeric</td>\n",
              "      <td>4</td>\n",
              "    </tr>\n",
              "    <tr>\n",
              "      <th>2</th>\n",
              "      <td>Afghanistan</td>\n",
              "      <td>AF</td>\n",
              "      <td>AFG</td>\n",
              "      <td>1982</td>\n",
              "      <td>iso_numeric</td>\n",
              "      <td>4</td>\n",
              "    </tr>\n",
              "    <tr>\n",
              "      <th>3</th>\n",
              "      <td>Afghanistan</td>\n",
              "      <td>AF</td>\n",
              "      <td>AFG</td>\n",
              "      <td>1983</td>\n",
              "      <td>iso_numeric</td>\n",
              "      <td>4</td>\n",
              "    </tr>\n",
              "    <tr>\n",
              "      <th>4</th>\n",
              "      <td>Afghanistan</td>\n",
              "      <td>AF</td>\n",
              "      <td>AFG</td>\n",
              "      <td>1984</td>\n",
              "      <td>iso_numeric</td>\n",
              "      <td>4</td>\n",
              "    </tr>\n",
              "    <tr>\n",
              "      <th>...</th>\n",
              "      <td>...</td>\n",
              "      <td>...</td>\n",
              "      <td>...</td>\n",
              "      <td>...</td>\n",
              "      <td>...</td>\n",
              "      <td>...</td>\n",
              "    </tr>\n",
              "    <tr>\n",
              "      <th>1325717</th>\n",
              "      <td>Zambia</td>\n",
              "      <td>ZM</td>\n",
              "      <td>ZMB</td>\n",
              "      <td>2015</td>\n",
              "      <td>hiv_reg_new2</td>\n",
              "      <td>3888</td>\n",
              "    </tr>\n",
              "    <tr>\n",
              "      <th>1325719</th>\n",
              "      <td>Zambia</td>\n",
              "      <td>ZM</td>\n",
              "      <td>ZMB</td>\n",
              "      <td>2017</td>\n",
              "      <td>hiv_reg_new2</td>\n",
              "      <td>199278</td>\n",
              "    </tr>\n",
              "    <tr>\n",
              "      <th>1325755</th>\n",
              "      <td>Zimbabwe</td>\n",
              "      <td>ZW</td>\n",
              "      <td>ZWE</td>\n",
              "      <td>2014</td>\n",
              "      <td>hiv_reg_new2</td>\n",
              "      <td>215379</td>\n",
              "    </tr>\n",
              "    <tr>\n",
              "      <th>1325757</th>\n",
              "      <td>Zimbabwe</td>\n",
              "      <td>ZW</td>\n",
              "      <td>ZWE</td>\n",
              "      <td>2016</td>\n",
              "      <td>hiv_reg_new2</td>\n",
              "      <td>168968</td>\n",
              "    </tr>\n",
              "    <tr>\n",
              "      <th>1325758</th>\n",
              "      <td>Zimbabwe</td>\n",
              "      <td>ZW</td>\n",
              "      <td>ZWE</td>\n",
              "      <td>2017</td>\n",
              "      <td>hiv_reg_new2</td>\n",
              "      <td>164963</td>\n",
              "    </tr>\n",
              "  </tbody>\n",
              "</table>\n",
              "<p>214489 rows × 6 columns</p>\n",
              "</div>"
            ],
            "text/plain": [
              "             country iso2 iso3  year           key   cases\n",
              "0        Afghanistan   AF  AFG  1980   iso_numeric       4\n",
              "1        Afghanistan   AF  AFG  1981   iso_numeric       4\n",
              "2        Afghanistan   AF  AFG  1982   iso_numeric       4\n",
              "3        Afghanistan   AF  AFG  1983   iso_numeric       4\n",
              "4        Afghanistan   AF  AFG  1984   iso_numeric       4\n",
              "...              ...  ...  ...   ...           ...     ...\n",
              "1325717       Zambia   ZM  ZMB  2015  hiv_reg_new2    3888\n",
              "1325719       Zambia   ZM  ZMB  2017  hiv_reg_new2  199278\n",
              "1325755     Zimbabwe   ZW  ZWE  2014  hiv_reg_new2  215379\n",
              "1325757     Zimbabwe   ZW  ZWE  2016  hiv_reg_new2  168968\n",
              "1325758     Zimbabwe   ZW  ZWE  2017  hiv_reg_new2  164963\n",
              "\n",
              "[214489 rows x 6 columns]"
            ]
          },
          "metadata": {
            "tags": []
          },
          "execution_count": 26
        }
      ]
    },
    {
      "cell_type": "markdown",
      "metadata": {
        "id": "Byxnyqw2FWe7",
        "colab_type": "text"
      },
      "source": [
        "You might be able to parse this out by yourself with a little thought and some experimentation, but luckily we have the data dictionary handy. It tells us:\n",
        "\n",
        "1. The first three letters of each column denote whether the column contains new or old cases of TB. In this dataset, each column contains new cases.\n",
        "1. The next two letters describe the type of TB:\n",
        "  - `rel` stands for cases of relapse\n",
        "  - `ep` stands for cases of extrapulmonary TB\n",
        "  - `sn` stands for cases of pulmonary TB that could not be diagnosed by a pulmonary smear (smear negative)\n",
        "  - `sp` stands for cases of pulmonary TB that could be diagnosed be a pulmonary smear (smear positive)\n",
        "\n",
        "1. The sixth letter gives the sex of TB patients. The dataset groups cases by males (`m`) and females (`f`).\n",
        "1. The remaining numbers gives the age group. The dataset groups cases into seven age groups:\n",
        "\n",
        "  - `014` = 0 – 14 years old\n",
        "  - `1524` = 15 – 24 years old\n",
        "  - `2534` = 25 – 34 years old\n",
        "  - `3544` = 35 – 44 years old\n",
        "  - `4554` = 45 – 54 years old\n",
        "  - `5564` = 55 – 64 years old\n",
        "  - `65` = 65 or older\n",
        "\n",
        "We need to make a minor fix to the format of the column names: unfortunately the names are slightly inconsistent because instead of `new_rel` we have `newrel` (it’s hard to spot this here but if you don’t fix it we’ll get errors in subsequent steps). You’ll learn about`replace()` in strings, but the basic idea is pretty simple: replace the characters “newrel” with “new_rel”. This makes all variable names consistent."
      ]
    },
    {
      "cell_type": "code",
      "metadata": {
        "id": "NKeVUOz2COoC",
        "colab_type": "code",
        "colab": {}
      },
      "source": [
        "who2 = who1.assign(key= who1[\"key\"].str.replace(\"newrel\",\"new_rel\").str.replace(\"newret\",\"new_ret\"))"
      ],
      "execution_count": 0,
      "outputs": []
    },
    {
      "cell_type": "markdown",
      "metadata": {
        "id": "QZpKWtAwHXOZ",
        "colab_type": "text"
      },
      "source": [
        "We can separate the values in each code with two passes. The first pass will split the codes at each underscore."
      ]
    },
    {
      "cell_type": "code",
      "metadata": {
        "id": "Y5tmW1SJGhSw",
        "colab_type": "code",
        "outputId": "48d8d6d3-1251-4554-943f-991435e167a2",
        "colab": {
          "base_uri": "https://localhost:8080/",
          "height": 35
        }
      },
      "source": [
        "who2.key.str.split(\"_\", expand=True).rename({0:\"new\", 1:\"type\",2:\"sexage\",3:\"unk\"}, axis=1).unk.unique()"
      ],
      "execution_count": 0,
      "outputs": [
        {
          "output_type": "execute_result",
          "data": {
            "text/plain": [
              "array([None, 'flg', 'events', 'all'], dtype=object)"
            ]
          },
          "metadata": {
            "tags": []
          },
          "execution_count": 74
        }
      ]
    },
    {
      "cell_type": "code",
      "metadata": {
        "id": "ZsDiy0_hJO5-",
        "colab_type": "code",
        "colab": {}
      },
      "source": [
        ""
      ],
      "execution_count": 0,
      "outputs": []
    },
    {
      "cell_type": "markdown",
      "metadata": {
        "id": "VgnK3KyS1J9O",
        "colab_type": "text"
      },
      "source": [
        "### Exercises"
      ]
    },
    {
      "cell_type": "markdown",
      "metadata": {
        "id": "BegVOoc71RJj",
        "colab_type": "text"
      },
      "source": [
        "## Non-tidy data"
      ]
    },
    {
      "cell_type": "code",
      "metadata": {
        "id": "AAUBW2ug1SWT",
        "colab_type": "code",
        "colab": {}
      },
      "source": [
        ""
      ],
      "execution_count": 0,
      "outputs": []
    }
  ]
}