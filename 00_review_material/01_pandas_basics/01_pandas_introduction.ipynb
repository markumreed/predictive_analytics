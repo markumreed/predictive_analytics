{
  "nbformat": 4,
  "nbformat_minor": 0,
  "metadata": {
    "kernelspec": {
      "display_name": "PyCharm (ds4b)",
      "language": "python",
      "name": "pycharm-d7086c1b"
    },
    "language_info": {
      "codemirror_mode": {
        "name": "ipython",
        "version": 3
      },
      "file_extension": ".py",
      "mimetype": "text/x-python",
      "name": "python",
      "nbconvert_exporter": "python",
      "pygments_lexer": "ipython3",
      "version": "3.7.4"
    },
    "pycharm": {
      "stem_cell": {
        "cell_type": "raw",
        "metadata": {
          "collapsed": false
        },
        "source": []
      }
    },
    "colab": {
      "name": "01_pandas_introduction.ipynb",
      "provenance": [],
      "include_colab_link": true
    }
  },
  "cells": [
    {
      "cell_type": "markdown",
      "metadata": {
        "id": "view-in-github",
        "colab_type": "text"
      },
      "source": [
        "<a href=\"https://colab.research.google.com/github/SoIllEconomist/ds4b/blob/master/python_ds4b/02_wrangle/01_pandas_introduction.ipynb\" target=\"_parent\"><img src=\"https://colab.research.google.com/assets/colab-badge.svg\" alt=\"Open In Colab\"/></a>"
      ]
    },
    {
      "cell_type": "markdown",
      "metadata": {
        "id": "FnEgxgb_KA-W",
        "colab_type": "text"
      },
      "source": [
        "# Introduction to Pandas\n",
        "- Pandas is an open source library built on top of NumPy\n",
        "- Allows fast analysis, cleaning and preparation of data\n",
        "- High performance and productivity\n",
        "- Built-in visualization capability\n",
        "- Work with data from many sources\n"
      ]
    },
    {
      "cell_type": "markdown",
      "metadata": {
        "id": "x47ZzqUWKA-a",
        "colab_type": "text"
      },
      "source": [
        "## Overview of Pandas Capabilities\n",
        "- Series\n",
        "- DataFrames\n",
        "- Selection\n",
        "- Missing Data\n",
        "- Operations\n",
        "- Merging, Joining, and Concatenating\n",
        "- GroupBy\n",
        "- Reshaping Data and Pivot Tables\n",
        "- Time Series\n",
        "- Data Input/Output\n"
      ]
    },
    {
      "cell_type": "markdown",
      "metadata": {
        "id": "0G06tvDEKA-b",
        "colab_type": "text"
      },
      "source": [
        "# Pandas\n",
        "This is a basic introduction to the pandas module. \n",
        "\n",
        "First we start off with the customary imports. \n"
      ]
    },
    {
      "cell_type": "code",
      "metadata": {
        "jupyter": {
          "outputs_hidden": false
        },
        "pycharm": {
          "name": "#%%\n"
        },
        "id": "GYCAknSMKA-c",
        "colab_type": "code",
        "colab": {}
      },
      "source": [
        "import numpy as np\n",
        "import pandas as pd\n",
        "\n",
        "np.random.seed(42)\n"
      ],
      "execution_count": 0,
      "outputs": []
    },
    {
      "cell_type": "markdown",
      "metadata": {
        "id": "ZK8OD6JUKA-g",
        "colab_type": "text"
      },
      "source": [
        "# Object Creation"
      ]
    },
    {
      "cell_type": "markdown",
      "metadata": {
        "id": "libZHg9bKA-h",
        "colab_type": "text"
      },
      "source": [
        "## Series\n",
        "- Similar to NumPy array\n",
        "    - Built on top of it\n",
        "- Can have axis labels\n"
      ]
    },
    {
      "cell_type": "markdown",
      "metadata": {
        "id": "BpPssmFQKA-i",
        "colab_type": "text"
      },
      "source": [
        "## Series Creation\n",
        "- Here we will show a few ways to create series\n",
        "    - Throughout the course we will be primarily dealing with DataFrames\n",
        "    - DataFrames will be discussed shortly\n",
        "## Series\n",
        "- Series can hold a variety of object types\n",
        "- Numbers, strings, etc\n",
        "\n",
        "Create a Series by passing a list, letting pandas create a default index value. \n"
      ]
    },
    {
      "cell_type": "code",
      "metadata": {
        "jupyter": {
          "outputs_hidden": false
        },
        "pycharm": {
          "name": "#%%\n"
        },
        "id": "EE6VE6rXKA-j",
        "colab_type": "code",
        "colab": {}
      },
      "source": [
        "s = pd.Series([1,2,3,np.nan, 4,5])"
      ],
      "execution_count": 0,
      "outputs": []
    },
    {
      "cell_type": "code",
      "metadata": {
        "jupyter": {
          "outputs_hidden": false
        },
        "pycharm": {
          "name": "#%%\n"
        },
        "id": "PQj7hkjCKA-m",
        "colab_type": "code",
        "colab": {},
        "outputId": "67f7f2de-174a-40d0-af8f-29e678e6e14a"
      },
      "source": [
        "s\n"
      ],
      "execution_count": 0,
      "outputs": [
        {
          "output_type": "execute_result",
          "data": {
            "text/plain": [
              "0    1.0\n",
              "1    2.0\n",
              "2    3.0\n",
              "3    NaN\n",
              "4    4.0\n",
              "5    5.0\n",
              "dtype: float64"
            ]
          },
          "metadata": {
            "tags": []
          },
          "execution_count": 3
        }
      ]
    },
    {
      "cell_type": "markdown",
      "metadata": {
        "id": "duTKtMgQKA-q",
        "colab_type": "text"
      },
      "source": [
        "## Series\n",
        "- Key to using a series is understanding its index\n",
        "    - Pandas makes use of these index names/numbers\n",
        "    - Allows fast lookups of information\n",
        "    - Works like a hash table or dictionary\n",
        "    "
      ]
    },
    {
      "cell_type": "markdown",
      "metadata": {
        "id": "dVanQIZOKA-r",
        "colab_type": "text"
      },
      "source": [
        "## Series Examples\n"
      ]
    },
    {
      "cell_type": "code",
      "metadata": {
        "jupyter": {
          "outputs_hidden": false
        },
        "pycharm": {
          "name": "#%%\n"
        },
        "id": "8mX0vmqVKA-s",
        "colab_type": "code",
        "colab": {}
      },
      "source": [
        "s_1 = pd.Series([1,2,3,4],\n",
        "                ['USA', 'Germany', 'China', \n",
        "                 'Japan'])"
      ],
      "execution_count": 0,
      "outputs": []
    },
    {
      "cell_type": "code",
      "metadata": {
        "jupyter": {
          "outputs_hidden": false
        },
        "pycharm": {
          "name": "#%%\n"
        },
        "id": "EEGPq3vwKA-v",
        "colab_type": "code",
        "colab": {},
        "outputId": "e48be812-4c15-4444-c6e1-9c15dd3533e2"
      },
      "source": [
        "s_1"
      ],
      "execution_count": 0,
      "outputs": [
        {
          "output_type": "execute_result",
          "data": {
            "text/plain": [
              "USA        1\n",
              "Germany    2\n",
              "China      3\n",
              "Japan      4\n",
              "dtype: int64"
            ]
          },
          "metadata": {
            "tags": []
          },
          "execution_count": 5
        }
      ]
    },
    {
      "cell_type": "markdown",
      "metadata": {
        "id": "3flMUB3rKA-y",
        "colab_type": "text"
      },
      "source": [
        "## Series Examples"
      ]
    },
    {
      "cell_type": "code",
      "metadata": {
        "jupyter": {
          "outputs_hidden": false
        },
        "pycharm": {
          "name": "#%%\n"
        },
        "id": "sfYDHwqBKA-z",
        "colab_type": "code",
        "colab": {}
      },
      "source": [
        "s_2 = pd.Series([1,2,5,6],['USA', 'Germany', 'Italy', 'China'])"
      ],
      "execution_count": 0,
      "outputs": []
    },
    {
      "cell_type": "code",
      "metadata": {
        "jupyter": {
          "outputs_hidden": false
        },
        "pycharm": {
          "name": "#%%\n"
        },
        "id": "DO802Ck6KA-1",
        "colab_type": "code",
        "colab": {},
        "outputId": "384ca457-767d-4a13-b87f-53086b4107aa"
      },
      "source": [
        "s_2"
      ],
      "execution_count": 0,
      "outputs": [
        {
          "output_type": "execute_result",
          "data": {
            "text/plain": [
              "USA        1\n",
              "Germany    2\n",
              "Italy      5\n",
              "China      6\n",
              "dtype: int64"
            ]
          },
          "metadata": {
            "tags": []
          },
          "execution_count": 7
        }
      ]
    },
    {
      "cell_type": "code",
      "metadata": {
        "jupyter": {
          "outputs_hidden": false
        },
        "pycharm": {
          "name": "#%%\n"
        },
        "id": "sk-jMFJQKA-4",
        "colab_type": "code",
        "colab": {},
        "outputId": "924f8f6f-df1f-4001-b49e-711c02012c97"
      },
      "source": [
        "s_2['China'] # Indexing is type dependent"
      ],
      "execution_count": 0,
      "outputs": [
        {
          "output_type": "execute_result",
          "data": {
            "text/plain": [
              "6"
            ]
          },
          "metadata": {
            "tags": []
          },
          "execution_count": 12
        }
      ]
    },
    {
      "cell_type": "code",
      "metadata": {
        "id": "QIa2c4OFKA-7",
        "colab_type": "code",
        "colab": {},
        "outputId": "0870d8d9-a9b3-47f2-b059-055bac695409"
      },
      "source": [
        "s_2.index"
      ],
      "execution_count": 0,
      "outputs": [
        {
          "output_type": "execute_result",
          "data": {
            "text/plain": [
              "Index(['USA', 'Germany', 'Italy', 'China'], dtype='object')"
            ]
          },
          "metadata": {
            "tags": []
          },
          "execution_count": 13
        }
      ]
    },
    {
      "cell_type": "markdown",
      "metadata": {
        "id": "_52pSjKsKA--",
        "colab_type": "text"
      },
      "source": [
        "## Series Example"
      ]
    },
    {
      "cell_type": "code",
      "metadata": {
        "jupyter": {
          "outputs_hidden": false
        },
        "pycharm": {
          "name": "#%%\n"
        },
        "id": "XTM0nxvZKA-_",
        "colab_type": "code",
        "colab": {}
      },
      "source": [
        "labels = ['a', 'b', 'c'] \n",
        "s_3 = pd.Series(data=labels)"
      ],
      "execution_count": 0,
      "outputs": []
    },
    {
      "cell_type": "code",
      "metadata": {
        "jupyter": {
          "outputs_hidden": false
        },
        "pycharm": {
          "name": "#%%\n"
        },
        "id": "SGQjPY-oKA_B",
        "colab_type": "code",
        "colab": {},
        "outputId": "05eab2cf-a13a-41fb-8ba9-c41944b4ad16"
      },
      "source": [
        "s_3"
      ],
      "execution_count": 0,
      "outputs": [
        {
          "output_type": "execute_result",
          "data": {
            "text/plain": [
              "0    a\n",
              "1    b\n",
              "2    c\n",
              "dtype: object"
            ]
          },
          "metadata": {
            "tags": []
          },
          "execution_count": 15
        }
      ]
    },
    {
      "cell_type": "code",
      "metadata": {
        "jupyter": {
          "outputs_hidden": false
        },
        "pycharm": {
          "name": "#%%\n"
        },
        "id": "MvE6U4hPKA_F",
        "colab_type": "code",
        "colab": {},
        "outputId": "0ced4c6f-2597-43f5-9a20-f2645ada6037"
      },
      "source": [
        "s_3[2]\n"
      ],
      "execution_count": 0,
      "outputs": [
        {
          "output_type": "execute_result",
          "data": {
            "text/plain": [
              "'c'"
            ]
          },
          "metadata": {
            "tags": []
          },
          "execution_count": 16
        }
      ]
    },
    {
      "cell_type": "markdown",
      "metadata": {
        "id": "k0e6RLUBKA_I",
        "colab_type": "text"
      },
      "source": [
        "## Series\n",
        "- Matches operation off of the index\n",
        "- Creates NaN object where missing matches\n",
        "- Integers convert to floats\n"
      ]
    },
    {
      "cell_type": "code",
      "metadata": {
        "id": "9ynfA2fXKA_I",
        "colab_type": "code",
        "colab": {},
        "outputId": "9e51e2fe-e651-4e0e-c4c4-dbf4f63546be"
      },
      "source": [
        "s_1"
      ],
      "execution_count": 0,
      "outputs": [
        {
          "output_type": "execute_result",
          "data": {
            "text/plain": [
              "USA        1\n",
              "Germany    2\n",
              "China      3\n",
              "Japan      4\n",
              "dtype: int64"
            ]
          },
          "metadata": {
            "tags": []
          },
          "execution_count": 19
        }
      ]
    },
    {
      "cell_type": "code",
      "metadata": {
        "id": "irMR99i4KA_L",
        "colab_type": "code",
        "colab": {},
        "outputId": "621037df-e8ce-4b60-9c8c-a9d29d24e189"
      },
      "source": [
        "s_2"
      ],
      "execution_count": 0,
      "outputs": [
        {
          "output_type": "execute_result",
          "data": {
            "text/plain": [
              "USA        1\n",
              "Germany    2\n",
              "Italy      5\n",
              "China      6\n",
              "dtype: int64"
            ]
          },
          "metadata": {
            "tags": []
          },
          "execution_count": 20
        }
      ]
    },
    {
      "cell_type": "code",
      "metadata": {
        "jupyter": {
          "outputs_hidden": false
        },
        "pycharm": {
          "name": "#%%\n"
        },
        "id": "niEqj15wKA_O",
        "colab_type": "code",
        "colab": {},
        "outputId": "49741fef-f8f7-44ad-e68a-5cafd9772208"
      },
      "source": [
        "s_1 + s_2\n",
        "\n"
      ],
      "execution_count": 0,
      "outputs": [
        {
          "output_type": "execute_result",
          "data": {
            "text/plain": [
              "China      9.0\n",
              "Germany    4.0\n",
              "Italy      NaN\n",
              "Japan      NaN\n",
              "USA        2.0\n",
              "dtype: float64"
            ]
          },
          "metadata": {
            "tags": []
          },
          "execution_count": 17
        }
      ]
    },
    {
      "cell_type": "markdown",
      "metadata": {
        "id": "_QqH2pv9KA_Q",
        "colab_type": "text"
      },
      "source": [
        "# DataFrame Creation\n",
        "\n",
        "Creating a DataFrame by passing a NumPy array, with a datetime index and labeled columns."
      ]
    },
    {
      "cell_type": "code",
      "metadata": {
        "jupyter": {
          "outputs_hidden": false
        },
        "pycharm": {
          "name": "#%%\n"
        },
        "id": "nzcKpFsoKA_R",
        "colab_type": "code",
        "colab": {}
      },
      "source": [
        "dates = pd.date_range('20190101',periods=10)"
      ],
      "execution_count": 0,
      "outputs": []
    },
    {
      "cell_type": "code",
      "metadata": {
        "jupyter": {
          "outputs_hidden": false
        },
        "pycharm": {
          "name": "#%%\n"
        },
        "id": "h8VZYh4TKA_T",
        "colab_type": "code",
        "colab": {},
        "outputId": "ed3bc0d5-7a4f-49f9-e719-52483a70b9e1"
      },
      "source": [
        "dates"
      ],
      "execution_count": 0,
      "outputs": [
        {
          "output_type": "execute_result",
          "data": {
            "text/plain": [
              "DatetimeIndex(['2019-01-01', '2019-01-02', '2019-01-03', '2019-01-04',\n",
              "               '2019-01-05', '2019-01-06', '2019-01-07', '2019-01-08',\n",
              "               '2019-01-09', '2019-01-10'],\n",
              "              dtype='datetime64[ns]', freq='D')"
            ]
          },
          "metadata": {
            "tags": []
          },
          "execution_count": 24
        }
      ]
    },
    {
      "cell_type": "code",
      "metadata": {
        "jupyter": {
          "outputs_hidden": false
        },
        "pycharm": {
          "name": "#%%\n"
        },
        "id": "Xd0dNOlsKA_Y",
        "colab_type": "code",
        "colab": {}
      },
      "source": [
        "df = pd.DataFrame(np.random.randn(10,4), \n",
        "                  index=dates, \n",
        "                  columns=list('ABCD'))"
      ],
      "execution_count": 0,
      "outputs": []
    },
    {
      "cell_type": "code",
      "metadata": {
        "jupyter": {
          "outputs_hidden": false
        },
        "pycharm": {
          "name": "#%%\n"
        },
        "id": "QILS3AviKA_b",
        "colab_type": "code",
        "colab": {},
        "outputId": "7bb8e5eb-f0cd-4a80-dfa6-5e8c33294557"
      },
      "source": [
        "df"
      ],
      "execution_count": 0,
      "outputs": [
        {
          "output_type": "execute_result",
          "data": {
            "text/html": [
              "<div>\n",
              "<style scoped>\n",
              "    .dataframe tbody tr th:only-of-type {\n",
              "        vertical-align: middle;\n",
              "    }\n",
              "\n",
              "    .dataframe tbody tr th {\n",
              "        vertical-align: top;\n",
              "    }\n",
              "\n",
              "    .dataframe thead th {\n",
              "        text-align: right;\n",
              "    }\n",
              "</style>\n",
              "<table border=\"1\" class=\"dataframe\">\n",
              "  <thead>\n",
              "    <tr style=\"text-align: right;\">\n",
              "      <th></th>\n",
              "      <th>A</th>\n",
              "      <th>B</th>\n",
              "      <th>C</th>\n",
              "      <th>D</th>\n",
              "    </tr>\n",
              "  </thead>\n",
              "  <tbody>\n",
              "    <tr>\n",
              "      <th>2019-01-01</th>\n",
              "      <td>0.496714</td>\n",
              "      <td>-0.138264</td>\n",
              "      <td>0.647689</td>\n",
              "      <td>1.523030</td>\n",
              "    </tr>\n",
              "    <tr>\n",
              "      <th>2019-01-02</th>\n",
              "      <td>-0.234153</td>\n",
              "      <td>-0.234137</td>\n",
              "      <td>1.579213</td>\n",
              "      <td>0.767435</td>\n",
              "    </tr>\n",
              "    <tr>\n",
              "      <th>2019-01-03</th>\n",
              "      <td>-0.469474</td>\n",
              "      <td>0.542560</td>\n",
              "      <td>-0.463418</td>\n",
              "      <td>-0.465730</td>\n",
              "    </tr>\n",
              "    <tr>\n",
              "      <th>2019-01-04</th>\n",
              "      <td>0.241962</td>\n",
              "      <td>-1.913280</td>\n",
              "      <td>-1.724918</td>\n",
              "      <td>-0.562288</td>\n",
              "    </tr>\n",
              "    <tr>\n",
              "      <th>2019-01-05</th>\n",
              "      <td>-1.012831</td>\n",
              "      <td>0.314247</td>\n",
              "      <td>-0.908024</td>\n",
              "      <td>-1.412304</td>\n",
              "    </tr>\n",
              "    <tr>\n",
              "      <th>2019-01-06</th>\n",
              "      <td>1.465649</td>\n",
              "      <td>-0.225776</td>\n",
              "      <td>0.067528</td>\n",
              "      <td>-1.424748</td>\n",
              "    </tr>\n",
              "    <tr>\n",
              "      <th>2019-01-07</th>\n",
              "      <td>-0.544383</td>\n",
              "      <td>0.110923</td>\n",
              "      <td>-1.150994</td>\n",
              "      <td>0.375698</td>\n",
              "    </tr>\n",
              "    <tr>\n",
              "      <th>2019-01-08</th>\n",
              "      <td>-0.600639</td>\n",
              "      <td>-0.291694</td>\n",
              "      <td>-0.601707</td>\n",
              "      <td>1.852278</td>\n",
              "    </tr>\n",
              "    <tr>\n",
              "      <th>2019-01-09</th>\n",
              "      <td>-0.013497</td>\n",
              "      <td>-1.057711</td>\n",
              "      <td>0.822545</td>\n",
              "      <td>-1.220844</td>\n",
              "    </tr>\n",
              "    <tr>\n",
              "      <th>2019-01-10</th>\n",
              "      <td>0.208864</td>\n",
              "      <td>-1.959670</td>\n",
              "      <td>-1.328186</td>\n",
              "      <td>0.196861</td>\n",
              "    </tr>\n",
              "  </tbody>\n",
              "</table>\n",
              "</div>"
            ],
            "text/plain": [
              "                   A         B         C         D\n",
              "2019-01-01  0.496714 -0.138264  0.647689  1.523030\n",
              "2019-01-02 -0.234153 -0.234137  1.579213  0.767435\n",
              "2019-01-03 -0.469474  0.542560 -0.463418 -0.465730\n",
              "2019-01-04  0.241962 -1.913280 -1.724918 -0.562288\n",
              "2019-01-05 -1.012831  0.314247 -0.908024 -1.412304\n",
              "2019-01-06  1.465649 -0.225776  0.067528 -1.424748\n",
              "2019-01-07 -0.544383  0.110923 -1.150994  0.375698\n",
              "2019-01-08 -0.600639 -0.291694 -0.601707  1.852278\n",
              "2019-01-09 -0.013497 -1.057711  0.822545 -1.220844\n",
              "2019-01-10  0.208864 -1.959670 -1.328186  0.196861"
            ]
          },
          "metadata": {
            "tags": []
          },
          "execution_count": 30
        }
      ]
    },
    {
      "cell_type": "markdown",
      "metadata": {
        "id": "_7P22ZHyKA_d",
        "colab_type": "text"
      },
      "source": [
        "Creating a DataFrame by passing a dictionary that can be converted to a series:"
      ]
    },
    {
      "cell_type": "code",
      "metadata": {
        "jupyter": {
          "outputs_hidden": false
        },
        "pycharm": {
          "name": "#%%\n"
        },
        "id": "MoEd3pR0KA_d",
        "colab_type": "code",
        "colab": {}
      },
      "source": [
        "df2 = pd.DataFrame({'A':1.,\n",
        "                    'B': pd.Timestamp('20190101'),\n",
        "                    'C':pd.Series(1, index=list(range(4)),dtype='float32'),\n",
        "                    'D':np.array([3] * 4, dtype='int32'),\n",
        "                    'E': pd.Categorical(['test','train','test','train']),\n",
        "                    'F':'foo'})"
      ],
      "execution_count": 0,
      "outputs": []
    },
    {
      "cell_type": "code",
      "metadata": {
        "jupyter": {
          "outputs_hidden": false
        },
        "pycharm": {
          "name": "#%%\n"
        },
        "id": "I7sOcjhsKA_f",
        "colab_type": "code",
        "colab": {},
        "outputId": "f7f170c5-9da1-42b4-feca-716e52da28cd"
      },
      "source": [
        "df2"
      ],
      "execution_count": 0,
      "outputs": [
        {
          "output_type": "execute_result",
          "data": {
            "text/html": [
              "<div>\n",
              "<style scoped>\n",
              "    .dataframe tbody tr th:only-of-type {\n",
              "        vertical-align: middle;\n",
              "    }\n",
              "\n",
              "    .dataframe tbody tr th {\n",
              "        vertical-align: top;\n",
              "    }\n",
              "\n",
              "    .dataframe thead th {\n",
              "        text-align: right;\n",
              "    }\n",
              "</style>\n",
              "<table border=\"1\" class=\"dataframe\">\n",
              "  <thead>\n",
              "    <tr style=\"text-align: right;\">\n",
              "      <th></th>\n",
              "      <th>A</th>\n",
              "      <th>B</th>\n",
              "      <th>C</th>\n",
              "      <th>D</th>\n",
              "      <th>E</th>\n",
              "      <th>F</th>\n",
              "    </tr>\n",
              "  </thead>\n",
              "  <tbody>\n",
              "    <tr>\n",
              "      <th>0</th>\n",
              "      <td>1.0</td>\n",
              "      <td>2019-01-01</td>\n",
              "      <td>1.0</td>\n",
              "      <td>3</td>\n",
              "      <td>test</td>\n",
              "      <td>foo</td>\n",
              "    </tr>\n",
              "    <tr>\n",
              "      <th>1</th>\n",
              "      <td>1.0</td>\n",
              "      <td>2019-01-01</td>\n",
              "      <td>1.0</td>\n",
              "      <td>3</td>\n",
              "      <td>train</td>\n",
              "      <td>foo</td>\n",
              "    </tr>\n",
              "    <tr>\n",
              "      <th>2</th>\n",
              "      <td>1.0</td>\n",
              "      <td>2019-01-01</td>\n",
              "      <td>1.0</td>\n",
              "      <td>3</td>\n",
              "      <td>test</td>\n",
              "      <td>foo</td>\n",
              "    </tr>\n",
              "    <tr>\n",
              "      <th>3</th>\n",
              "      <td>1.0</td>\n",
              "      <td>2019-01-01</td>\n",
              "      <td>1.0</td>\n",
              "      <td>3</td>\n",
              "      <td>train</td>\n",
              "      <td>foo</td>\n",
              "    </tr>\n",
              "  </tbody>\n",
              "</table>\n",
              "</div>"
            ],
            "text/plain": [
              "     A          B    C  D      E    F\n",
              "0  1.0 2019-01-01  1.0  3   test  foo\n",
              "1  1.0 2019-01-01  1.0  3  train  foo\n",
              "2  1.0 2019-01-01  1.0  3   test  foo\n",
              "3  1.0 2019-01-01  1.0  3  train  foo"
            ]
          },
          "metadata": {
            "tags": []
          },
          "execution_count": 32
        }
      ]
    },
    {
      "cell_type": "markdown",
      "metadata": {
        "id": "___63qkhKA_l",
        "colab_type": "text"
      },
      "source": [
        "The columns of the DataFrame have different `dtypes`."
      ]
    },
    {
      "cell_type": "code",
      "metadata": {
        "jupyter": {
          "outputs_hidden": false
        },
        "pycharm": {
          "name": "#%%\n"
        },
        "id": "NGGTjJ_IKA_l",
        "colab_type": "code",
        "colab": {},
        "outputId": "e794548e-d10c-46cb-c409-2d8dd9e9b754"
      },
      "source": [
        "df2.info()"
      ],
      "execution_count": 0,
      "outputs": [
        {
          "output_type": "stream",
          "text": [
            "<class 'pandas.core.frame.DataFrame'>\n",
            "Int64Index: 4 entries, 0 to 3\n",
            "Data columns (total 6 columns):\n",
            "A    4 non-null float64\n",
            "B    4 non-null datetime64[ns]\n",
            "C    4 non-null float32\n",
            "D    4 non-null int32\n",
            "E    4 non-null category\n",
            "F    4 non-null object\n",
            "dtypes: category(1), datetime64[ns](1), float32(1), float64(1), int32(1), object(1)\n",
            "memory usage: 260.0+ bytes\n"
          ],
          "name": "stdout"
        }
      ]
    },
    {
      "cell_type": "markdown",
      "metadata": {
        "id": "a52yE63cKA_n",
        "colab_type": "text"
      },
      "source": [
        "\n",
        "# Viewing Data\n",
        "\n",
        "Here is how to view the top and bottom rows of the frame:"
      ]
    },
    {
      "cell_type": "code",
      "metadata": {
        "jupyter": {
          "outputs_hidden": false
        },
        "pycharm": {
          "name": "#%%\n"
        },
        "id": "XYdBrycdKA_o",
        "colab_type": "code",
        "colab": {},
        "outputId": "d236c1f6-7958-460b-f8d9-0788d0124c7c"
      },
      "source": [
        "df.head()"
      ],
      "execution_count": 0,
      "outputs": [
        {
          "output_type": "execute_result",
          "data": {
            "text/html": [
              "<div>\n",
              "<style scoped>\n",
              "    .dataframe tbody tr th:only-of-type {\n",
              "        vertical-align: middle;\n",
              "    }\n",
              "\n",
              "    .dataframe tbody tr th {\n",
              "        vertical-align: top;\n",
              "    }\n",
              "\n",
              "    .dataframe thead th {\n",
              "        text-align: right;\n",
              "    }\n",
              "</style>\n",
              "<table border=\"1\" class=\"dataframe\">\n",
              "  <thead>\n",
              "    <tr style=\"text-align: right;\">\n",
              "      <th></th>\n",
              "      <th>A</th>\n",
              "      <th>B</th>\n",
              "      <th>C</th>\n",
              "      <th>D</th>\n",
              "    </tr>\n",
              "  </thead>\n",
              "  <tbody>\n",
              "    <tr>\n",
              "      <th>2019-01-01</th>\n",
              "      <td>0.496714</td>\n",
              "      <td>-0.138264</td>\n",
              "      <td>0.647689</td>\n",
              "      <td>1.523030</td>\n",
              "    </tr>\n",
              "    <tr>\n",
              "      <th>2019-01-02</th>\n",
              "      <td>-0.234153</td>\n",
              "      <td>-0.234137</td>\n",
              "      <td>1.579213</td>\n",
              "      <td>0.767435</td>\n",
              "    </tr>\n",
              "    <tr>\n",
              "      <th>2019-01-03</th>\n",
              "      <td>-0.469474</td>\n",
              "      <td>0.542560</td>\n",
              "      <td>-0.463418</td>\n",
              "      <td>-0.465730</td>\n",
              "    </tr>\n",
              "    <tr>\n",
              "      <th>2019-01-04</th>\n",
              "      <td>0.241962</td>\n",
              "      <td>-1.913280</td>\n",
              "      <td>-1.724918</td>\n",
              "      <td>-0.562288</td>\n",
              "    </tr>\n",
              "    <tr>\n",
              "      <th>2019-01-05</th>\n",
              "      <td>-1.012831</td>\n",
              "      <td>0.314247</td>\n",
              "      <td>-0.908024</td>\n",
              "      <td>-1.412304</td>\n",
              "    </tr>\n",
              "  </tbody>\n",
              "</table>\n",
              "</div>"
            ],
            "text/plain": [
              "                   A         B         C         D\n",
              "2019-01-01  0.496714 -0.138264  0.647689  1.523030\n",
              "2019-01-02 -0.234153 -0.234137  1.579213  0.767435\n",
              "2019-01-03 -0.469474  0.542560 -0.463418 -0.465730\n",
              "2019-01-04  0.241962 -1.913280 -1.724918 -0.562288\n",
              "2019-01-05 -1.012831  0.314247 -0.908024 -1.412304"
            ]
          },
          "metadata": {
            "tags": []
          },
          "execution_count": 34
        }
      ]
    },
    {
      "cell_type": "code",
      "metadata": {
        "jupyter": {
          "outputs_hidden": false
        },
        "pycharm": {
          "name": "#%%\n"
        },
        "id": "tNSe4RuyKA_q",
        "colab_type": "code",
        "colab": {},
        "outputId": "f6a505be-c390-4f59-d21b-294debfc6490"
      },
      "source": [
        "df.tail(2)"
      ],
      "execution_count": 0,
      "outputs": [
        {
          "output_type": "execute_result",
          "data": {
            "text/html": [
              "<div>\n",
              "<style scoped>\n",
              "    .dataframe tbody tr th:only-of-type {\n",
              "        vertical-align: middle;\n",
              "    }\n",
              "\n",
              "    .dataframe tbody tr th {\n",
              "        vertical-align: top;\n",
              "    }\n",
              "\n",
              "    .dataframe thead th {\n",
              "        text-align: right;\n",
              "    }\n",
              "</style>\n",
              "<table border=\"1\" class=\"dataframe\">\n",
              "  <thead>\n",
              "    <tr style=\"text-align: right;\">\n",
              "      <th></th>\n",
              "      <th>A</th>\n",
              "      <th>B</th>\n",
              "      <th>C</th>\n",
              "      <th>D</th>\n",
              "    </tr>\n",
              "  </thead>\n",
              "  <tbody>\n",
              "    <tr>\n",
              "      <th>2019-01-09</th>\n",
              "      <td>-0.013497</td>\n",
              "      <td>-1.057711</td>\n",
              "      <td>0.822545</td>\n",
              "      <td>-1.220844</td>\n",
              "    </tr>\n",
              "    <tr>\n",
              "      <th>2019-01-10</th>\n",
              "      <td>0.208864</td>\n",
              "      <td>-1.959670</td>\n",
              "      <td>-1.328186</td>\n",
              "      <td>0.196861</td>\n",
              "    </tr>\n",
              "  </tbody>\n",
              "</table>\n",
              "</div>"
            ],
            "text/plain": [
              "                   A         B         C         D\n",
              "2019-01-09 -0.013497 -1.057711  0.822545 -1.220844\n",
              "2019-01-10  0.208864 -1.959670 -1.328186  0.196861"
            ]
          },
          "metadata": {
            "tags": []
          },
          "execution_count": 35
        }
      ]
    },
    {
      "cell_type": "markdown",
      "metadata": {
        "id": "dxAK9aHPKA_t",
        "colab_type": "text"
      },
      "source": [
        "Display the index, columns:"
      ]
    },
    {
      "cell_type": "code",
      "metadata": {
        "jupyter": {
          "outputs_hidden": false
        },
        "pycharm": {
          "name": "#%%\n"
        },
        "id": "yn7mQ8pSKA_u",
        "colab_type": "code",
        "colab": {},
        "outputId": "2e7b8565-ac82-46b3-fa9e-639ca228593d"
      },
      "source": [
        "df.index"
      ],
      "execution_count": 0,
      "outputs": [
        {
          "output_type": "execute_result",
          "data": {
            "text/plain": [
              "DatetimeIndex(['2019-01-01', '2019-01-02', '2019-01-03', '2019-01-04',\n",
              "               '2019-01-05', '2019-01-06', '2019-01-07', '2019-01-08',\n",
              "               '2019-01-09', '2019-01-10'],\n",
              "              dtype='datetime64[ns]', freq='D')"
            ]
          },
          "metadata": {
            "tags": []
          },
          "execution_count": 36
        }
      ]
    },
    {
      "cell_type": "code",
      "metadata": {
        "jupyter": {
          "outputs_hidden": false
        },
        "pycharm": {
          "name": "#%%\n"
        },
        "id": "oMMstntTKA_w",
        "colab_type": "code",
        "colab": {},
        "outputId": "bec02ed9-fd49-44db-a105-e53823e42c9d"
      },
      "source": [
        "df.columns"
      ],
      "execution_count": 0,
      "outputs": [
        {
          "output_type": "execute_result",
          "data": {
            "text/plain": [
              "Index(['A', 'B', 'C', 'D'], dtype='object')"
            ]
          },
          "metadata": {
            "tags": []
          },
          "execution_count": 38
        }
      ]
    },
    {
      "cell_type": "code",
      "metadata": {
        "id": "GRrZetjqKA_z",
        "colab_type": "code",
        "colab": {},
        "outputId": "665e31ea-5f97-46e4-9bfc-bfcb3305f71e"
      },
      "source": [
        "df.shape"
      ],
      "execution_count": 0,
      "outputs": [
        {
          "output_type": "execute_result",
          "data": {
            "text/plain": [
              "(10, 4)"
            ]
          },
          "metadata": {
            "tags": []
          },
          "execution_count": 39
        }
      ]
    },
    {
      "cell_type": "markdown",
      "metadata": {
        "id": "9V-iG5s3KA_1",
        "colab_type": "text"
      },
      "source": [
        "We can convert our DataFrame (of floating-points) to a NumPy array."
      ]
    },
    {
      "cell_type": "code",
      "metadata": {
        "jupyter": {
          "outputs_hidden": false
        },
        "pycharm": {
          "name": "#%%\n"
        },
        "id": "vsiIAygcKA_2",
        "colab_type": "code",
        "colab": {},
        "outputId": "4d224f4e-8bd0-4753-be3e-1c01dc62a991"
      },
      "source": [
        "df.to_numpy() # This can be a taxing operation in not all floats\n",
        "# df.values"
      ],
      "execution_count": 0,
      "outputs": [
        {
          "output_type": "execute_result",
          "data": {
            "text/plain": [
              "array([[ 0.49671415, -0.1382643 ,  0.64768854,  1.52302986],\n",
              "       [-0.23415337, -0.23413696,  1.57921282,  0.76743473],\n",
              "       [-0.46947439,  0.54256004, -0.46341769, -0.46572975],\n",
              "       [ 0.24196227, -1.91328024, -1.72491783, -0.56228753],\n",
              "       [-1.01283112,  0.31424733, -0.90802408, -1.4123037 ],\n",
              "       [ 1.46564877, -0.2257763 ,  0.0675282 , -1.42474819],\n",
              "       [-0.54438272,  0.11092259, -1.15099358,  0.37569802],\n",
              "       [-0.60063869, -0.29169375, -0.60170661,  1.85227818],\n",
              "       [-0.01349722, -1.05771093,  0.82254491, -1.22084365],\n",
              "       [ 0.2088636 , -1.95967012, -1.32818605,  0.19686124]])"
            ]
          },
          "metadata": {
            "tags": []
          },
          "execution_count": 42
        }
      ]
    },
    {
      "cell_type": "code",
      "metadata": {
        "jupyter": {
          "outputs_hidden": false
        },
        "pycharm": {
          "name": "#%%\n"
        },
        "id": "9XzPTE6FKA_5",
        "colab_type": "code",
        "colab": {},
        "outputId": "724fef37-98ab-4fee-a460-92a3cf9bd5cb"
      },
      "source": [
        "df2.to_numpy() # This has multiple dtypes"
      ],
      "execution_count": 0,
      "outputs": [
        {
          "output_type": "execute_result",
          "data": {
            "text/plain": [
              "array([[1.0, Timestamp('2019-01-01 00:00:00'), 1.0, 3, 'test', 'foo'],\n",
              "       [1.0, Timestamp('2019-01-01 00:00:00'), 1.0, 3, 'train', 'foo'],\n",
              "       [1.0, Timestamp('2019-01-01 00:00:00'), 1.0, 3, 'test', 'foo'],\n",
              "       [1.0, Timestamp('2019-01-01 00:00:00'), 1.0, 3, 'train', 'foo']],\n",
              "      dtype=object)"
            ]
          },
          "metadata": {
            "tags": []
          },
          "execution_count": 43
        }
      ]
    },
    {
      "cell_type": "markdown",
      "metadata": {
        "id": "Lp5UyccwKA_6",
        "colab_type": "text"
      },
      "source": [
        "`describe()` shows a quick statistic summary of your data:"
      ]
    },
    {
      "cell_type": "code",
      "metadata": {
        "jupyter": {
          "outputs_hidden": false
        },
        "pycharm": {
          "name": "#%%\n"
        },
        "id": "KMwXm1AeKA_7",
        "colab_type": "code",
        "colab": {},
        "outputId": "d5c0c123-3a68-45ab-a799-ea22d3103afd"
      },
      "source": [
        "df.describe()"
      ],
      "execution_count": 0,
      "outputs": [
        {
          "output_type": "execute_result",
          "data": {
            "text/html": [
              "<div>\n",
              "<style scoped>\n",
              "    .dataframe tbody tr th:only-of-type {\n",
              "        vertical-align: middle;\n",
              "    }\n",
              "\n",
              "    .dataframe tbody tr th {\n",
              "        vertical-align: top;\n",
              "    }\n",
              "\n",
              "    .dataframe thead th {\n",
              "        text-align: right;\n",
              "    }\n",
              "</style>\n",
              "<table border=\"1\" class=\"dataframe\">\n",
              "  <thead>\n",
              "    <tr style=\"text-align: right;\">\n",
              "      <th></th>\n",
              "      <th>A</th>\n",
              "      <th>B</th>\n",
              "      <th>C</th>\n",
              "      <th>D</th>\n",
              "    </tr>\n",
              "  </thead>\n",
              "  <tbody>\n",
              "    <tr>\n",
              "      <th>count</th>\n",
              "      <td>10.000000</td>\n",
              "      <td>10.000000</td>\n",
              "      <td>10.000000</td>\n",
              "      <td>10.000000</td>\n",
              "    </tr>\n",
              "    <tr>\n",
              "      <th>mean</th>\n",
              "      <td>-0.046179</td>\n",
              "      <td>-0.485280</td>\n",
              "      <td>-0.306027</td>\n",
              "      <td>-0.037061</td>\n",
              "    </tr>\n",
              "    <tr>\n",
              "      <th>std</th>\n",
              "      <td>0.701907</td>\n",
              "      <td>0.874335</td>\n",
              "      <td>1.060584</td>\n",
              "      <td>1.181041</td>\n",
              "    </tr>\n",
              "    <tr>\n",
              "      <th>min</th>\n",
              "      <td>-1.012831</td>\n",
              "      <td>-1.959670</td>\n",
              "      <td>-1.724918</td>\n",
              "      <td>-1.424748</td>\n",
              "    </tr>\n",
              "    <tr>\n",
              "      <th>25%</th>\n",
              "      <td>-0.525656</td>\n",
              "      <td>-0.866207</td>\n",
              "      <td>-1.090251</td>\n",
              "      <td>-1.056205</td>\n",
              "    </tr>\n",
              "    <tr>\n",
              "      <th>50%</th>\n",
              "      <td>-0.123825</td>\n",
              "      <td>-0.229957</td>\n",
              "      <td>-0.532562</td>\n",
              "      <td>-0.134434</td>\n",
              "    </tr>\n",
              "    <tr>\n",
              "      <th>75%</th>\n",
              "      <td>0.233688</td>\n",
              "      <td>0.048626</td>\n",
              "      <td>0.502648</td>\n",
              "      <td>0.669501</td>\n",
              "    </tr>\n",
              "    <tr>\n",
              "      <th>max</th>\n",
              "      <td>1.465649</td>\n",
              "      <td>0.542560</td>\n",
              "      <td>1.579213</td>\n",
              "      <td>1.852278</td>\n",
              "    </tr>\n",
              "  </tbody>\n",
              "</table>\n",
              "</div>"
            ],
            "text/plain": [
              "               A          B          C          D\n",
              "count  10.000000  10.000000  10.000000  10.000000\n",
              "mean   -0.046179  -0.485280  -0.306027  -0.037061\n",
              "std     0.701907   0.874335   1.060584   1.181041\n",
              "min    -1.012831  -1.959670  -1.724918  -1.424748\n",
              "25%    -0.525656  -0.866207  -1.090251  -1.056205\n",
              "50%    -0.123825  -0.229957  -0.532562  -0.134434\n",
              "75%     0.233688   0.048626   0.502648   0.669501\n",
              "max     1.465649   0.542560   1.579213   1.852278"
            ]
          },
          "metadata": {
            "tags": []
          },
          "execution_count": 47
        }
      ]
    },
    {
      "cell_type": "markdown",
      "metadata": {
        "id": "fBP2BC1YKA_9",
        "colab_type": "text"
      },
      "source": [
        "Transposing your data:"
      ]
    },
    {
      "cell_type": "code",
      "metadata": {
        "jupyter": {
          "outputs_hidden": false
        },
        "pycharm": {
          "name": "#%%\n"
        },
        "id": "JudXmhFOKA_-",
        "colab_type": "code",
        "colab": {},
        "outputId": "ba650df2-2e21-464b-ec58-9a1bcc500c77"
      },
      "source": [
        "df.T"
      ],
      "execution_count": 0,
      "outputs": [
        {
          "output_type": "execute_result",
          "data": {
            "text/html": [
              "<div>\n",
              "<style scoped>\n",
              "    .dataframe tbody tr th:only-of-type {\n",
              "        vertical-align: middle;\n",
              "    }\n",
              "\n",
              "    .dataframe tbody tr th {\n",
              "        vertical-align: top;\n",
              "    }\n",
              "\n",
              "    .dataframe thead th {\n",
              "        text-align: right;\n",
              "    }\n",
              "</style>\n",
              "<table border=\"1\" class=\"dataframe\">\n",
              "  <thead>\n",
              "    <tr style=\"text-align: right;\">\n",
              "      <th></th>\n",
              "      <th>2019-01-01</th>\n",
              "      <th>2019-01-02</th>\n",
              "      <th>2019-01-03</th>\n",
              "      <th>2019-01-04</th>\n",
              "      <th>2019-01-05</th>\n",
              "      <th>2019-01-06</th>\n",
              "      <th>2019-01-07</th>\n",
              "      <th>2019-01-08</th>\n",
              "      <th>2019-01-09</th>\n",
              "      <th>2019-01-10</th>\n",
              "    </tr>\n",
              "  </thead>\n",
              "  <tbody>\n",
              "    <tr>\n",
              "      <th>A</th>\n",
              "      <td>0.496714</td>\n",
              "      <td>-0.234153</td>\n",
              "      <td>-0.469474</td>\n",
              "      <td>0.241962</td>\n",
              "      <td>-1.012831</td>\n",
              "      <td>1.465649</td>\n",
              "      <td>-0.544383</td>\n",
              "      <td>-0.600639</td>\n",
              "      <td>-0.013497</td>\n",
              "      <td>0.208864</td>\n",
              "    </tr>\n",
              "    <tr>\n",
              "      <th>B</th>\n",
              "      <td>-0.138264</td>\n",
              "      <td>-0.234137</td>\n",
              "      <td>0.542560</td>\n",
              "      <td>-1.913280</td>\n",
              "      <td>0.314247</td>\n",
              "      <td>-0.225776</td>\n",
              "      <td>0.110923</td>\n",
              "      <td>-0.291694</td>\n",
              "      <td>-1.057711</td>\n",
              "      <td>-1.959670</td>\n",
              "    </tr>\n",
              "    <tr>\n",
              "      <th>C</th>\n",
              "      <td>0.647689</td>\n",
              "      <td>1.579213</td>\n",
              "      <td>-0.463418</td>\n",
              "      <td>-1.724918</td>\n",
              "      <td>-0.908024</td>\n",
              "      <td>0.067528</td>\n",
              "      <td>-1.150994</td>\n",
              "      <td>-0.601707</td>\n",
              "      <td>0.822545</td>\n",
              "      <td>-1.328186</td>\n",
              "    </tr>\n",
              "    <tr>\n",
              "      <th>D</th>\n",
              "      <td>1.523030</td>\n",
              "      <td>0.767435</td>\n",
              "      <td>-0.465730</td>\n",
              "      <td>-0.562288</td>\n",
              "      <td>-1.412304</td>\n",
              "      <td>-1.424748</td>\n",
              "      <td>0.375698</td>\n",
              "      <td>1.852278</td>\n",
              "      <td>-1.220844</td>\n",
              "      <td>0.196861</td>\n",
              "    </tr>\n",
              "  </tbody>\n",
              "</table>\n",
              "</div>"
            ],
            "text/plain": [
              "   2019-01-01  2019-01-02  2019-01-03  2019-01-04  2019-01-05  2019-01-06  \\\n",
              "A    0.496714   -0.234153   -0.469474    0.241962   -1.012831    1.465649   \n",
              "B   -0.138264   -0.234137    0.542560   -1.913280    0.314247   -0.225776   \n",
              "C    0.647689    1.579213   -0.463418   -1.724918   -0.908024    0.067528   \n",
              "D    1.523030    0.767435   -0.465730   -0.562288   -1.412304   -1.424748   \n",
              "\n",
              "   2019-01-07  2019-01-08  2019-01-09  2019-01-10  \n",
              "A   -0.544383   -0.600639   -0.013497    0.208864  \n",
              "B    0.110923   -0.291694   -1.057711   -1.959670  \n",
              "C   -1.150994   -0.601707    0.822545   -1.328186  \n",
              "D    0.375698    1.852278   -1.220844    0.196861  "
            ]
          },
          "metadata": {
            "tags": []
          },
          "execution_count": 48
        }
      ]
    },
    {
      "cell_type": "markdown",
      "metadata": {
        "id": "CDlN71jMKBAB",
        "colab_type": "text"
      },
      "source": [
        "Sorting by an axis:"
      ]
    },
    {
      "cell_type": "code",
      "metadata": {
        "jupyter": {
          "outputs_hidden": false
        },
        "pycharm": {
          "name": "#%%\n"
        },
        "id": "dHrRDjYLKBAC",
        "colab_type": "code",
        "colab": {},
        "outputId": "3eed4a02-c19f-4df1-951e-2cad23813b9c"
      },
      "source": [
        "df.sort_index(axis=0, ascending=False) # axis = 1 Columns"
      ],
      "execution_count": 0,
      "outputs": [
        {
          "output_type": "execute_result",
          "data": {
            "text/html": [
              "<div>\n",
              "<style scoped>\n",
              "    .dataframe tbody tr th:only-of-type {\n",
              "        vertical-align: middle;\n",
              "    }\n",
              "\n",
              "    .dataframe tbody tr th {\n",
              "        vertical-align: top;\n",
              "    }\n",
              "\n",
              "    .dataframe thead th {\n",
              "        text-align: right;\n",
              "    }\n",
              "</style>\n",
              "<table border=\"1\" class=\"dataframe\">\n",
              "  <thead>\n",
              "    <tr style=\"text-align: right;\">\n",
              "      <th></th>\n",
              "      <th>A</th>\n",
              "      <th>B</th>\n",
              "      <th>C</th>\n",
              "      <th>D</th>\n",
              "    </tr>\n",
              "  </thead>\n",
              "  <tbody>\n",
              "    <tr>\n",
              "      <th>2019-01-10</th>\n",
              "      <td>0.208864</td>\n",
              "      <td>-1.959670</td>\n",
              "      <td>-1.328186</td>\n",
              "      <td>0.196861</td>\n",
              "    </tr>\n",
              "    <tr>\n",
              "      <th>2019-01-09</th>\n",
              "      <td>-0.013497</td>\n",
              "      <td>-1.057711</td>\n",
              "      <td>0.822545</td>\n",
              "      <td>-1.220844</td>\n",
              "    </tr>\n",
              "    <tr>\n",
              "      <th>2019-01-08</th>\n",
              "      <td>-0.600639</td>\n",
              "      <td>-0.291694</td>\n",
              "      <td>-0.601707</td>\n",
              "      <td>1.852278</td>\n",
              "    </tr>\n",
              "    <tr>\n",
              "      <th>2019-01-07</th>\n",
              "      <td>-0.544383</td>\n",
              "      <td>0.110923</td>\n",
              "      <td>-1.150994</td>\n",
              "      <td>0.375698</td>\n",
              "    </tr>\n",
              "    <tr>\n",
              "      <th>2019-01-06</th>\n",
              "      <td>1.465649</td>\n",
              "      <td>-0.225776</td>\n",
              "      <td>0.067528</td>\n",
              "      <td>-1.424748</td>\n",
              "    </tr>\n",
              "    <tr>\n",
              "      <th>2019-01-05</th>\n",
              "      <td>-1.012831</td>\n",
              "      <td>0.314247</td>\n",
              "      <td>-0.908024</td>\n",
              "      <td>-1.412304</td>\n",
              "    </tr>\n",
              "    <tr>\n",
              "      <th>2019-01-04</th>\n",
              "      <td>0.241962</td>\n",
              "      <td>-1.913280</td>\n",
              "      <td>-1.724918</td>\n",
              "      <td>-0.562288</td>\n",
              "    </tr>\n",
              "    <tr>\n",
              "      <th>2019-01-03</th>\n",
              "      <td>-0.469474</td>\n",
              "      <td>0.542560</td>\n",
              "      <td>-0.463418</td>\n",
              "      <td>-0.465730</td>\n",
              "    </tr>\n",
              "    <tr>\n",
              "      <th>2019-01-02</th>\n",
              "      <td>-0.234153</td>\n",
              "      <td>-0.234137</td>\n",
              "      <td>1.579213</td>\n",
              "      <td>0.767435</td>\n",
              "    </tr>\n",
              "    <tr>\n",
              "      <th>2019-01-01</th>\n",
              "      <td>0.496714</td>\n",
              "      <td>-0.138264</td>\n",
              "      <td>0.647689</td>\n",
              "      <td>1.523030</td>\n",
              "    </tr>\n",
              "  </tbody>\n",
              "</table>\n",
              "</div>"
            ],
            "text/plain": [
              "                   A         B         C         D\n",
              "2019-01-10  0.208864 -1.959670 -1.328186  0.196861\n",
              "2019-01-09 -0.013497 -1.057711  0.822545 -1.220844\n",
              "2019-01-08 -0.600639 -0.291694 -0.601707  1.852278\n",
              "2019-01-07 -0.544383  0.110923 -1.150994  0.375698\n",
              "2019-01-06  1.465649 -0.225776  0.067528 -1.424748\n",
              "2019-01-05 -1.012831  0.314247 -0.908024 -1.412304\n",
              "2019-01-04  0.241962 -1.913280 -1.724918 -0.562288\n",
              "2019-01-03 -0.469474  0.542560 -0.463418 -0.465730\n",
              "2019-01-02 -0.234153 -0.234137  1.579213  0.767435\n",
              "2019-01-01  0.496714 -0.138264  0.647689  1.523030"
            ]
          },
          "metadata": {
            "tags": []
          },
          "execution_count": 50
        }
      ]
    },
    {
      "cell_type": "markdown",
      "metadata": {
        "id": "1lTAPNjGKBAF",
        "colab_type": "text"
      },
      "source": [
        "Sorting by values:"
      ]
    },
    {
      "cell_type": "code",
      "metadata": {
        "jupyter": {
          "outputs_hidden": false
        },
        "pycharm": {
          "name": "#%%\n"
        },
        "id": "BMLZgSloKBAG",
        "colab_type": "code",
        "colab": {},
        "outputId": "2d05562c-1a42-4f68-f82d-b52beef41ae4"
      },
      "source": [
        "df.sort_values(by='B', ascending=False)"
      ],
      "execution_count": 0,
      "outputs": [
        {
          "output_type": "execute_result",
          "data": {
            "text/html": [
              "<div>\n",
              "<style scoped>\n",
              "    .dataframe tbody tr th:only-of-type {\n",
              "        vertical-align: middle;\n",
              "    }\n",
              "\n",
              "    .dataframe tbody tr th {\n",
              "        vertical-align: top;\n",
              "    }\n",
              "\n",
              "    .dataframe thead th {\n",
              "        text-align: right;\n",
              "    }\n",
              "</style>\n",
              "<table border=\"1\" class=\"dataframe\">\n",
              "  <thead>\n",
              "    <tr style=\"text-align: right;\">\n",
              "      <th></th>\n",
              "      <th>A</th>\n",
              "      <th>B</th>\n",
              "      <th>C</th>\n",
              "      <th>D</th>\n",
              "    </tr>\n",
              "  </thead>\n",
              "  <tbody>\n",
              "    <tr>\n",
              "      <th>2019-01-03</th>\n",
              "      <td>-0.469474</td>\n",
              "      <td>0.542560</td>\n",
              "      <td>-0.463418</td>\n",
              "      <td>-0.465730</td>\n",
              "    </tr>\n",
              "    <tr>\n",
              "      <th>2019-01-05</th>\n",
              "      <td>-1.012831</td>\n",
              "      <td>0.314247</td>\n",
              "      <td>-0.908024</td>\n",
              "      <td>-1.412304</td>\n",
              "    </tr>\n",
              "    <tr>\n",
              "      <th>2019-01-07</th>\n",
              "      <td>-0.544383</td>\n",
              "      <td>0.110923</td>\n",
              "      <td>-1.150994</td>\n",
              "      <td>0.375698</td>\n",
              "    </tr>\n",
              "    <tr>\n",
              "      <th>2019-01-01</th>\n",
              "      <td>0.496714</td>\n",
              "      <td>-0.138264</td>\n",
              "      <td>0.647689</td>\n",
              "      <td>1.523030</td>\n",
              "    </tr>\n",
              "    <tr>\n",
              "      <th>2019-01-06</th>\n",
              "      <td>1.465649</td>\n",
              "      <td>-0.225776</td>\n",
              "      <td>0.067528</td>\n",
              "      <td>-1.424748</td>\n",
              "    </tr>\n",
              "    <tr>\n",
              "      <th>2019-01-02</th>\n",
              "      <td>-0.234153</td>\n",
              "      <td>-0.234137</td>\n",
              "      <td>1.579213</td>\n",
              "      <td>0.767435</td>\n",
              "    </tr>\n",
              "    <tr>\n",
              "      <th>2019-01-08</th>\n",
              "      <td>-0.600639</td>\n",
              "      <td>-0.291694</td>\n",
              "      <td>-0.601707</td>\n",
              "      <td>1.852278</td>\n",
              "    </tr>\n",
              "    <tr>\n",
              "      <th>2019-01-09</th>\n",
              "      <td>-0.013497</td>\n",
              "      <td>-1.057711</td>\n",
              "      <td>0.822545</td>\n",
              "      <td>-1.220844</td>\n",
              "    </tr>\n",
              "    <tr>\n",
              "      <th>2019-01-04</th>\n",
              "      <td>0.241962</td>\n",
              "      <td>-1.913280</td>\n",
              "      <td>-1.724918</td>\n",
              "      <td>-0.562288</td>\n",
              "    </tr>\n",
              "    <tr>\n",
              "      <th>2019-01-10</th>\n",
              "      <td>0.208864</td>\n",
              "      <td>-1.959670</td>\n",
              "      <td>-1.328186</td>\n",
              "      <td>0.196861</td>\n",
              "    </tr>\n",
              "  </tbody>\n",
              "</table>\n",
              "</div>"
            ],
            "text/plain": [
              "                   A         B         C         D\n",
              "2019-01-03 -0.469474  0.542560 -0.463418 -0.465730\n",
              "2019-01-05 -1.012831  0.314247 -0.908024 -1.412304\n",
              "2019-01-07 -0.544383  0.110923 -1.150994  0.375698\n",
              "2019-01-01  0.496714 -0.138264  0.647689  1.523030\n",
              "2019-01-06  1.465649 -0.225776  0.067528 -1.424748\n",
              "2019-01-02 -0.234153 -0.234137  1.579213  0.767435\n",
              "2019-01-08 -0.600639 -0.291694 -0.601707  1.852278\n",
              "2019-01-09 -0.013497 -1.057711  0.822545 -1.220844\n",
              "2019-01-04  0.241962 -1.913280 -1.724918 -0.562288\n",
              "2019-01-10  0.208864 -1.959670 -1.328186  0.196861"
            ]
          },
          "metadata": {
            "tags": []
          },
          "execution_count": 52
        }
      ]
    },
    {
      "cell_type": "markdown",
      "metadata": {
        "id": "nI1yCIQHKBAI",
        "colab_type": "text"
      },
      "source": [
        "\n",
        "# Selection\n",
        "Selecting a single columns yields a `Series`"
      ]
    },
    {
      "cell_type": "code",
      "metadata": {
        "jupyter": {
          "outputs_hidden": false
        },
        "pycharm": {
          "name": "#%%\n"
        },
        "id": "Yxmn61J3KBAJ",
        "colab_type": "code",
        "colab": {},
        "outputId": "89e1e813-9c2e-47cd-9a02-4af4d2f10ac7"
      },
      "source": [
        "df['A']"
      ],
      "execution_count": 0,
      "outputs": [
        {
          "output_type": "execute_result",
          "data": {
            "text/plain": [
              "2019-01-01    0.496714\n",
              "2019-01-02   -0.234153\n",
              "2019-01-03   -0.469474\n",
              "2019-01-04    0.241962\n",
              "2019-01-05   -1.012831\n",
              "2019-01-06    1.465649\n",
              "2019-01-07   -0.544383\n",
              "2019-01-08   -0.600639\n",
              "2019-01-09   -0.013497\n",
              "2019-01-10    0.208864\n",
              "Freq: D, Name: A, dtype: float64"
            ]
          },
          "metadata": {
            "tags": []
          },
          "execution_count": 57
        }
      ]
    },
    {
      "cell_type": "markdown",
      "metadata": {
        "id": "4aJUfdu5KBAK",
        "colab_type": "text"
      },
      "source": [
        "Selecting with `[]` slices the rows"
      ]
    },
    {
      "cell_type": "code",
      "metadata": {
        "jupyter": {
          "outputs_hidden": false
        },
        "pycharm": {
          "name": "#%%\n"
        },
        "id": "zRCylEKWKBAL",
        "colab_type": "code",
        "colab": {},
        "outputId": "25096fb1-2355-4bef-9298-e16ae7f4f50d"
      },
      "source": [
        "df[0:3]"
      ],
      "execution_count": 0,
      "outputs": [
        {
          "output_type": "execute_result",
          "data": {
            "text/html": [
              "<div>\n",
              "<style scoped>\n",
              "    .dataframe tbody tr th:only-of-type {\n",
              "        vertical-align: middle;\n",
              "    }\n",
              "\n",
              "    .dataframe tbody tr th {\n",
              "        vertical-align: top;\n",
              "    }\n",
              "\n",
              "    .dataframe thead th {\n",
              "        text-align: right;\n",
              "    }\n",
              "</style>\n",
              "<table border=\"1\" class=\"dataframe\">\n",
              "  <thead>\n",
              "    <tr style=\"text-align: right;\">\n",
              "      <th></th>\n",
              "      <th>A</th>\n",
              "      <th>B</th>\n",
              "      <th>C</th>\n",
              "      <th>D</th>\n",
              "    </tr>\n",
              "  </thead>\n",
              "  <tbody>\n",
              "    <tr>\n",
              "      <th>2019-01-01</th>\n",
              "      <td>0.496714</td>\n",
              "      <td>-0.138264</td>\n",
              "      <td>0.647689</td>\n",
              "      <td>1.523030</td>\n",
              "    </tr>\n",
              "    <tr>\n",
              "      <th>2019-01-02</th>\n",
              "      <td>-0.234153</td>\n",
              "      <td>-0.234137</td>\n",
              "      <td>1.579213</td>\n",
              "      <td>0.767435</td>\n",
              "    </tr>\n",
              "    <tr>\n",
              "      <th>2019-01-03</th>\n",
              "      <td>-0.469474</td>\n",
              "      <td>0.542560</td>\n",
              "      <td>-0.463418</td>\n",
              "      <td>-0.465730</td>\n",
              "    </tr>\n",
              "  </tbody>\n",
              "</table>\n",
              "</div>"
            ],
            "text/plain": [
              "                   A         B         C         D\n",
              "2019-01-01  0.496714 -0.138264  0.647689  1.523030\n",
              "2019-01-02 -0.234153 -0.234137  1.579213  0.767435\n",
              "2019-01-03 -0.469474  0.542560 -0.463418 -0.465730"
            ]
          },
          "metadata": {
            "tags": []
          },
          "execution_count": 58
        }
      ]
    },
    {
      "cell_type": "code",
      "metadata": {
        "jupyter": {
          "outputs_hidden": false
        },
        "pycharm": {
          "name": "#%%\n"
        },
        "id": "cHElAFAPKBAN",
        "colab_type": "code",
        "colab": {},
        "outputId": "6604dfcc-55a0-4c32-bcaf-f9e80fbad81d"
      },
      "source": [
        "df['20190101':'20190103']\n",
        "\n"
      ],
      "execution_count": 0,
      "outputs": [
        {
          "output_type": "execute_result",
          "data": {
            "text/html": [
              "<div>\n",
              "<style scoped>\n",
              "    .dataframe tbody tr th:only-of-type {\n",
              "        vertical-align: middle;\n",
              "    }\n",
              "\n",
              "    .dataframe tbody tr th {\n",
              "        vertical-align: top;\n",
              "    }\n",
              "\n",
              "    .dataframe thead th {\n",
              "        text-align: right;\n",
              "    }\n",
              "</style>\n",
              "<table border=\"1\" class=\"dataframe\">\n",
              "  <thead>\n",
              "    <tr style=\"text-align: right;\">\n",
              "      <th></th>\n",
              "      <th>A</th>\n",
              "      <th>B</th>\n",
              "      <th>C</th>\n",
              "      <th>D</th>\n",
              "    </tr>\n",
              "  </thead>\n",
              "  <tbody>\n",
              "    <tr>\n",
              "      <th>2019-01-01</th>\n",
              "      <td>0.496714</td>\n",
              "      <td>-0.138264</td>\n",
              "      <td>0.647689</td>\n",
              "      <td>1.523030</td>\n",
              "    </tr>\n",
              "    <tr>\n",
              "      <th>2019-01-02</th>\n",
              "      <td>-0.234153</td>\n",
              "      <td>-0.234137</td>\n",
              "      <td>1.579213</td>\n",
              "      <td>0.767435</td>\n",
              "    </tr>\n",
              "    <tr>\n",
              "      <th>2019-01-03</th>\n",
              "      <td>-0.469474</td>\n",
              "      <td>0.542560</td>\n",
              "      <td>-0.463418</td>\n",
              "      <td>-0.465730</td>\n",
              "    </tr>\n",
              "  </tbody>\n",
              "</table>\n",
              "</div>"
            ],
            "text/plain": [
              "                   A         B         C         D\n",
              "2019-01-01  0.496714 -0.138264  0.647689  1.523030\n",
              "2019-01-02 -0.234153 -0.234137  1.579213  0.767435\n",
              "2019-01-03 -0.469474  0.542560 -0.463418 -0.465730"
            ]
          },
          "metadata": {
            "tags": []
          },
          "execution_count": 59
        }
      ]
    },
    {
      "cell_type": "code",
      "metadata": {
        "id": "CYhfCsnvKBAR",
        "colab_type": "code",
        "colab": {}
      },
      "source": [
        ""
      ],
      "execution_count": 0,
      "outputs": []
    }
  ]
}