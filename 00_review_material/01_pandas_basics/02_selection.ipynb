{
  "nbformat": 4,
  "nbformat_minor": 0,
  "metadata": {
    "kernelspec": {
      "display_name": "PyCharm (ds4b)",
      "language": "python",
      "name": "pycharm-d7086c1b"
    },
    "language_info": {
      "codemirror_mode": {
        "name": "ipython",
        "version": 3
      },
      "file_extension": ".py",
      "mimetype": "text/x-python",
      "name": "python",
      "nbconvert_exporter": "python",
      "pygments_lexer": "ipython3",
      "version": "3.7.4"
    },
    "pycharm": {
      "stem_cell": {
        "cell_type": "raw",
        "metadata": {
          "collapsed": false
        },
        "source": []
      }
    },
    "colab": {
      "name": "02_selection.ipynb",
      "provenance": [],
      "include_colab_link": true
    }
  },
  "cells": [
    {
      "cell_type": "markdown",
      "metadata": {
        "id": "view-in-github",
        "colab_type": "text"
      },
      "source": [
        "<a href=\"https://colab.research.google.com/github/SoIllEconomist/ds4b/blob/master/python_ds4b/02_wrangle/02_selection.ipynb\" target=\"_parent\"><img src=\"https://colab.research.google.com/assets/colab-badge.svg\" alt=\"Open In Colab\"/></a>"
      ]
    },
    {
      "cell_type": "markdown",
      "metadata": {
        "id": "yHfBHMwPKXCB",
        "colab_type": "text"
      },
      "source": [
        "## Selection by label\n",
        "For getting a cross section using a label:"
      ]
    },
    {
      "cell_type": "code",
      "metadata": {
        "id": "wiQeC1NuKXCD",
        "colab_type": "code",
        "colab": {}
      },
      "source": [
        "import pandas as pd\n",
        "import numpy as np\n",
        "import matplotlib.pyplot as plt\n",
        "%matplotlib inline\n",
        "dates = pd.date_range('20190101',periods=10)\n",
        "df = pd.DataFrame(np.random.randn(10,4), \n",
        "                  index=dates, \n",
        "                  columns=list('ABCD'))\n"
      ],
      "execution_count": 0,
      "outputs": []
    },
    {
      "cell_type": "code",
      "metadata": {
        "id": "tlsiRj88KXCI",
        "colab_type": "code",
        "colab": {},
        "outputId": "8f175d5d-bf66-4483-8785-4c387c8d516d"
      },
      "source": [
        "dates[0]"
      ],
      "execution_count": 0,
      "outputs": [
        {
          "output_type": "execute_result",
          "data": {
            "text/plain": [
              "Timestamp('2019-01-01 00:00:00', freq='D')"
            ]
          },
          "metadata": {
            "tags": []
          },
          "execution_count": 4
        }
      ]
    },
    {
      "cell_type": "code",
      "metadata": {
        "jupyter": {
          "outputs_hidden": false
        },
        "pycharm": {
          "name": "#%%\n"
        },
        "id": "zs455HrBKXCN",
        "colab_type": "code",
        "colab": {},
        "outputId": "ff55da6c-c343-4b87-99ac-f3c32c1f9598"
      },
      "source": [
        "df.loc[dates[0]]"
      ],
      "execution_count": 0,
      "outputs": [
        {
          "output_type": "execute_result",
          "data": {
            "text/plain": [
              "A   -1.158573\n",
              "B   -0.941688\n",
              "C    2.568583\n",
              "D    0.494481\n",
              "Name: 2019-01-01 00:00:00, dtype: float64"
            ]
          },
          "metadata": {
            "tags": []
          },
          "execution_count": 8
        }
      ]
    },
    {
      "cell_type": "markdown",
      "metadata": {
        "id": "Rg8G4xwVKXCR",
        "colab_type": "text"
      },
      "source": [
        "Selecting on a mutli-axis by label"
      ]
    },
    {
      "cell_type": "code",
      "metadata": {
        "jupyter": {
          "outputs_hidden": false
        },
        "pycharm": {
          "name": "#%%\n"
        },
        "id": "2Z4u1It7KXCS",
        "colab_type": "code",
        "colab": {},
        "outputId": "d9ce5b2e-61d2-4ef4-eabb-c4e5f8b69968"
      },
      "source": [
        "df.loc[:, ['A','D']]"
      ],
      "execution_count": 0,
      "outputs": [
        {
          "output_type": "execute_result",
          "data": {
            "text/html": [
              "<div>\n",
              "<style scoped>\n",
              "    .dataframe tbody tr th:only-of-type {\n",
              "        vertical-align: middle;\n",
              "    }\n",
              "\n",
              "    .dataframe tbody tr th {\n",
              "        vertical-align: top;\n",
              "    }\n",
              "\n",
              "    .dataframe thead th {\n",
              "        text-align: right;\n",
              "    }\n",
              "</style>\n",
              "<table border=\"1\" class=\"dataframe\">\n",
              "  <thead>\n",
              "    <tr style=\"text-align: right;\">\n",
              "      <th></th>\n",
              "      <th>A</th>\n",
              "      <th>D</th>\n",
              "    </tr>\n",
              "  </thead>\n",
              "  <tbody>\n",
              "    <tr>\n",
              "      <th>2019-01-01</th>\n",
              "      <td>-1.158573</td>\n",
              "      <td>0.494481</td>\n",
              "    </tr>\n",
              "    <tr>\n",
              "      <th>2019-01-02</th>\n",
              "      <td>-0.683202</td>\n",
              "      <td>-0.187010</td>\n",
              "    </tr>\n",
              "    <tr>\n",
              "      <th>2019-01-03</th>\n",
              "      <td>0.564102</td>\n",
              "      <td>-0.146018</td>\n",
              "    </tr>\n",
              "    <tr>\n",
              "      <th>2019-01-04</th>\n",
              "      <td>-0.939398</td>\n",
              "      <td>0.034436</td>\n",
              "    </tr>\n",
              "    <tr>\n",
              "      <th>2019-01-05</th>\n",
              "      <td>1.135158</td>\n",
              "      <td>-2.690404</td>\n",
              "    </tr>\n",
              "    <tr>\n",
              "      <th>2019-01-06</th>\n",
              "      <td>-0.953653</td>\n",
              "      <td>2.677651</td>\n",
              "    </tr>\n",
              "    <tr>\n",
              "      <th>2019-01-07</th>\n",
              "      <td>1.677311</td>\n",
              "      <td>0.462660</td>\n",
              "    </tr>\n",
              "    <tr>\n",
              "      <th>2019-01-08</th>\n",
              "      <td>-0.612544</td>\n",
              "      <td>0.027003</td>\n",
              "    </tr>\n",
              "    <tr>\n",
              "      <th>2019-01-09</th>\n",
              "      <td>1.106210</td>\n",
              "      <td>-0.057844</td>\n",
              "    </tr>\n",
              "    <tr>\n",
              "      <th>2019-01-10</th>\n",
              "      <td>0.165680</td>\n",
              "      <td>-0.706584</td>\n",
              "    </tr>\n",
              "  </tbody>\n",
              "</table>\n",
              "</div>"
            ],
            "text/plain": [
              "                   A         D\n",
              "2019-01-01 -1.158573  0.494481\n",
              "2019-01-02 -0.683202 -0.187010\n",
              "2019-01-03  0.564102 -0.146018\n",
              "2019-01-04 -0.939398  0.034436\n",
              "2019-01-05  1.135158 -2.690404\n",
              "2019-01-06 -0.953653  2.677651\n",
              "2019-01-07  1.677311  0.462660\n",
              "2019-01-08 -0.612544  0.027003\n",
              "2019-01-09  1.106210 -0.057844\n",
              "2019-01-10  0.165680 -0.706584"
            ]
          },
          "metadata": {
            "tags": []
          },
          "execution_count": 10
        }
      ]
    },
    {
      "cell_type": "markdown",
      "metadata": {
        "id": "_6CU3O2QKXCV",
        "colab_type": "text"
      },
      "source": [
        "Showing label slicing, both endpoints are *included*"
      ]
    },
    {
      "cell_type": "code",
      "metadata": {
        "jupyter": {
          "outputs_hidden": false
        },
        "pycharm": {
          "name": "#%%\n"
        },
        "id": "1dbMhScOKXCW",
        "colab_type": "code",
        "colab": {},
        "outputId": "03ae9c72-52a9-4b7e-a26e-c7179305cec5"
      },
      "source": [
        "df.loc['20190102':'20190104', ['A', 'B']]"
      ],
      "execution_count": 0,
      "outputs": [
        {
          "output_type": "execute_result",
          "data": {
            "text/html": [
              "<div>\n",
              "<style scoped>\n",
              "    .dataframe tbody tr th:only-of-type {\n",
              "        vertical-align: middle;\n",
              "    }\n",
              "\n",
              "    .dataframe tbody tr th {\n",
              "        vertical-align: top;\n",
              "    }\n",
              "\n",
              "    .dataframe thead th {\n",
              "        text-align: right;\n",
              "    }\n",
              "</style>\n",
              "<table border=\"1\" class=\"dataframe\">\n",
              "  <thead>\n",
              "    <tr style=\"text-align: right;\">\n",
              "      <th></th>\n",
              "      <th>A</th>\n",
              "      <th>B</th>\n",
              "    </tr>\n",
              "  </thead>\n",
              "  <tbody>\n",
              "    <tr>\n",
              "      <th>2019-01-02</th>\n",
              "      <td>-0.683202</td>\n",
              "      <td>0.056144</td>\n",
              "    </tr>\n",
              "    <tr>\n",
              "      <th>2019-01-03</th>\n",
              "      <td>0.564102</td>\n",
              "      <td>1.448998</td>\n",
              "    </tr>\n",
              "    <tr>\n",
              "      <th>2019-01-04</th>\n",
              "      <td>-0.939398</td>\n",
              "      <td>2.276844</td>\n",
              "    </tr>\n",
              "  </tbody>\n",
              "</table>\n",
              "</div>"
            ],
            "text/plain": [
              "                   A         B\n",
              "2019-01-02 -0.683202  0.056144\n",
              "2019-01-03  0.564102  1.448998\n",
              "2019-01-04 -0.939398  2.276844"
            ]
          },
          "metadata": {
            "tags": []
          },
          "execution_count": 11
        }
      ]
    },
    {
      "cell_type": "markdown",
      "metadata": {
        "id": "8kXVnzJsKXCZ",
        "colab_type": "text"
      },
      "source": [
        "Reduction in the dimensions of the returns object"
      ]
    },
    {
      "cell_type": "code",
      "metadata": {
        "jupyter": {
          "outputs_hidden": false
        },
        "pycharm": {
          "name": "#%%\n"
        },
        "id": "eq4JdL5iKXCa",
        "colab_type": "code",
        "colab": {},
        "outputId": "d9e45cdb-c2ae-4f23-cf7d-394ce61d949e"
      },
      "source": [
        "df.loc['20190102',['A','B']]"
      ],
      "execution_count": 0,
      "outputs": [
        {
          "output_type": "execute_result",
          "data": {
            "text/plain": [
              "A   -0.683202\n",
              "B    0.056144\n",
              "Name: 2019-01-02 00:00:00, dtype: float64"
            ]
          },
          "metadata": {
            "tags": []
          },
          "execution_count": 14
        }
      ]
    },
    {
      "cell_type": "markdown",
      "metadata": {
        "id": "OKZmGrnbKXCd",
        "colab_type": "text"
      },
      "source": [
        "For getting a scalar value:"
      ]
    },
    {
      "cell_type": "code",
      "metadata": {
        "jupyter": {
          "outputs_hidden": false
        },
        "pycharm": {
          "name": "#%%\n"
        },
        "id": "8Gag92u1KXCe",
        "colab_type": "code",
        "colab": {},
        "outputId": "d63d4bc9-7811-46d3-fcd7-61657164c294"
      },
      "source": [
        "df.loc[dates[0], 'A']\n"
      ],
      "execution_count": 0,
      "outputs": [
        {
          "output_type": "execute_result",
          "data": {
            "text/plain": [
              "-1.1585727488744095"
            ]
          },
          "metadata": {
            "tags": []
          },
          "execution_count": 15
        }
      ]
    },
    {
      "cell_type": "markdown",
      "metadata": {
        "id": "cICmkpqhKXCh",
        "colab_type": "text"
      },
      "source": [
        "## Selection by position\n",
        "Select with the position of the passed integers:"
      ]
    },
    {
      "cell_type": "code",
      "metadata": {
        "jupyter": {
          "outputs_hidden": false
        },
        "pycharm": {
          "name": "#%%\n"
        },
        "id": "CoPlg0otKXCi",
        "colab_type": "code",
        "colab": {},
        "outputId": "b4bf7f46-8b0f-406a-ccad-6c7dcc58a6d4"
      },
      "source": [
        "df.iloc[2]"
      ],
      "execution_count": 0,
      "outputs": [
        {
          "output_type": "execute_result",
          "data": {
            "text/plain": [
              "A    0.564102\n",
              "B    1.448998\n",
              "C    1.036779\n",
              "D   -0.146018\n",
              "Name: 2019-01-03 00:00:00, dtype: float64"
            ]
          },
          "metadata": {
            "tags": []
          },
          "execution_count": 16
        }
      ]
    },
    {
      "cell_type": "markdown",
      "metadata": {
        "id": "uL7DmLGgKXCl",
        "colab_type": "text"
      },
      "source": [
        "By integer slices, acting similar to numpy/python:"
      ]
    },
    {
      "cell_type": "code",
      "metadata": {
        "jupyter": {
          "outputs_hidden": false
        },
        "pycharm": {
          "name": "#%%\n"
        },
        "id": "-dRxge0MKXCm",
        "colab_type": "code",
        "colab": {},
        "outputId": "8a819254-3e01-4e15-915f-f59ee84d768d"
      },
      "source": [
        "df.iloc[2:4, 0:2]"
      ],
      "execution_count": 0,
      "outputs": [
        {
          "output_type": "execute_result",
          "data": {
            "text/html": [
              "<div>\n",
              "<style scoped>\n",
              "    .dataframe tbody tr th:only-of-type {\n",
              "        vertical-align: middle;\n",
              "    }\n",
              "\n",
              "    .dataframe tbody tr th {\n",
              "        vertical-align: top;\n",
              "    }\n",
              "\n",
              "    .dataframe thead th {\n",
              "        text-align: right;\n",
              "    }\n",
              "</style>\n",
              "<table border=\"1\" class=\"dataframe\">\n",
              "  <thead>\n",
              "    <tr style=\"text-align: right;\">\n",
              "      <th></th>\n",
              "      <th>A</th>\n",
              "      <th>B</th>\n",
              "    </tr>\n",
              "  </thead>\n",
              "  <tbody>\n",
              "    <tr>\n",
              "      <th>2019-01-03</th>\n",
              "      <td>0.564102</td>\n",
              "      <td>1.448998</td>\n",
              "    </tr>\n",
              "    <tr>\n",
              "      <th>2019-01-04</th>\n",
              "      <td>-0.939398</td>\n",
              "      <td>2.276844</td>\n",
              "    </tr>\n",
              "  </tbody>\n",
              "</table>\n",
              "</div>"
            ],
            "text/plain": [
              "                   A         B\n",
              "2019-01-03  0.564102  1.448998\n",
              "2019-01-04 -0.939398  2.276844"
            ]
          },
          "metadata": {
            "tags": []
          },
          "execution_count": 18
        }
      ]
    },
    {
      "cell_type": "markdown",
      "metadata": {
        "id": "EOLvyiwmKXCp",
        "colab_type": "text"
      },
      "source": [
        "By lists of integer position locations, similar to the numpy/python style:"
      ]
    },
    {
      "cell_type": "code",
      "metadata": {
        "jupyter": {
          "outputs_hidden": false
        },
        "pycharm": {
          "name": "#%%\n"
        },
        "id": "rd17g6ocKXCq",
        "colab_type": "code",
        "colab": {}
      },
      "source": [
        "df.iloc[[1,2,4],[0,2]]"
      ],
      "execution_count": 0,
      "outputs": []
    },
    {
      "cell_type": "markdown",
      "metadata": {
        "id": "4029yGAjKXCs",
        "colab_type": "text"
      },
      "source": [
        "For slicing rows explicitly:"
      ]
    },
    {
      "cell_type": "code",
      "metadata": {
        "jupyter": {
          "outputs_hidden": false
        },
        "pycharm": {
          "name": "#%%\n"
        },
        "id": "_HWG4EzDKXCt",
        "colab_type": "code",
        "colab": {}
      },
      "source": [
        "df.iloc[1:3, :]"
      ],
      "execution_count": 0,
      "outputs": []
    },
    {
      "cell_type": "markdown",
      "metadata": {
        "id": "jIWEipPgKXCv",
        "colab_type": "text"
      },
      "source": [
        "For slicing columns explicitly:"
      ]
    },
    {
      "cell_type": "code",
      "metadata": {
        "jupyter": {
          "outputs_hidden": false
        },
        "pycharm": {
          "name": "#%%\n"
        },
        "id": "_bv3Dn-4KXCw",
        "colab_type": "code",
        "colab": {}
      },
      "source": [
        "df.iloc[:,1:3]"
      ],
      "execution_count": 0,
      "outputs": []
    },
    {
      "cell_type": "markdown",
      "metadata": {
        "id": "7VlmVTgQKXCz",
        "colab_type": "text"
      },
      "source": [
        "For getting a value explicitly:"
      ]
    },
    {
      "cell_type": "code",
      "metadata": {
        "jupyter": {
          "outputs_hidden": false
        },
        "pycharm": {
          "name": "#%%\n"
        },
        "id": "Sfgnk08aKXCz",
        "colab_type": "code",
        "colab": {}
      },
      "source": [
        "df.iloc[1,1]\n"
      ],
      "execution_count": 0,
      "outputs": []
    },
    {
      "cell_type": "markdown",
      "metadata": {
        "id": "V4cspHgGKXC1",
        "colab_type": "text"
      },
      "source": [
        "# Boolean indexing\n",
        "Using a single column's values to select data."
      ]
    },
    {
      "cell_type": "code",
      "metadata": {
        "id": "PID4zzovKXC2",
        "colab_type": "code",
        "colab": {}
      },
      "source": [
        "mask = df['A'] > 0"
      ],
      "execution_count": 0,
      "outputs": []
    },
    {
      "cell_type": "code",
      "metadata": {
        "id": "VRra6YnaKXC4",
        "colab_type": "code",
        "colab": {},
        "outputId": "6aa7e05a-edcc-4692-8f6e-b856738363e4"
      },
      "source": [
        "mask.head()"
      ],
      "execution_count": 0,
      "outputs": [
        {
          "output_type": "execute_result",
          "data": {
            "text/plain": [
              "2019-01-01    False\n",
              "2019-01-02    False\n",
              "2019-01-03     True\n",
              "2019-01-04    False\n",
              "2019-01-05     True\n",
              "Freq: D, Name: A, dtype: bool"
            ]
          },
          "metadata": {
            "tags": []
          },
          "execution_count": 27
        }
      ]
    },
    {
      "cell_type": "code",
      "metadata": {
        "jupyter": {
          "outputs_hidden": false
        },
        "pycharm": {
          "name": "#%%\n"
        },
        "id": "TzuH3vSiKXC7",
        "colab_type": "code",
        "colab": {},
        "outputId": "d38320b2-e91d-4bd0-ec58-17927b1b7550"
      },
      "source": [
        "df[mask] # ~ negates the mask"
      ],
      "execution_count": 0,
      "outputs": [
        {
          "output_type": "execute_result",
          "data": {
            "text/html": [
              "<div>\n",
              "<style scoped>\n",
              "    .dataframe tbody tr th:only-of-type {\n",
              "        vertical-align: middle;\n",
              "    }\n",
              "\n",
              "    .dataframe tbody tr th {\n",
              "        vertical-align: top;\n",
              "    }\n",
              "\n",
              "    .dataframe thead th {\n",
              "        text-align: right;\n",
              "    }\n",
              "</style>\n",
              "<table border=\"1\" class=\"dataframe\">\n",
              "  <thead>\n",
              "    <tr style=\"text-align: right;\">\n",
              "      <th></th>\n",
              "      <th>A</th>\n",
              "      <th>B</th>\n",
              "      <th>C</th>\n",
              "      <th>D</th>\n",
              "    </tr>\n",
              "  </thead>\n",
              "  <tbody>\n",
              "    <tr>\n",
              "      <th>2019-01-03</th>\n",
              "      <td>0.564102</td>\n",
              "      <td>1.448998</td>\n",
              "      <td>1.036779</td>\n",
              "      <td>-0.146018</td>\n",
              "    </tr>\n",
              "    <tr>\n",
              "      <th>2019-01-05</th>\n",
              "      <td>1.135158</td>\n",
              "      <td>0.720135</td>\n",
              "      <td>-0.771679</td>\n",
              "      <td>-2.690404</td>\n",
              "    </tr>\n",
              "    <tr>\n",
              "      <th>2019-01-07</th>\n",
              "      <td>1.677311</td>\n",
              "      <td>-0.572894</td>\n",
              "      <td>0.405523</td>\n",
              "      <td>0.462660</td>\n",
              "    </tr>\n",
              "    <tr>\n",
              "      <th>2019-01-09</th>\n",
              "      <td>1.106210</td>\n",
              "      <td>-0.385144</td>\n",
              "      <td>1.194672</td>\n",
              "      <td>-0.057844</td>\n",
              "    </tr>\n",
              "    <tr>\n",
              "      <th>2019-01-10</th>\n",
              "      <td>0.165680</td>\n",
              "      <td>0.786776</td>\n",
              "      <td>-1.079196</td>\n",
              "      <td>-0.706584</td>\n",
              "    </tr>\n",
              "  </tbody>\n",
              "</table>\n",
              "</div>"
            ],
            "text/plain": [
              "                   A         B         C         D\n",
              "2019-01-03  0.564102  1.448998  1.036779 -0.146018\n",
              "2019-01-05  1.135158  0.720135 -0.771679 -2.690404\n",
              "2019-01-07  1.677311 -0.572894  0.405523  0.462660\n",
              "2019-01-09  1.106210 -0.385144  1.194672 -0.057844\n",
              "2019-01-10  0.165680  0.786776 -1.079196 -0.706584"
            ]
          },
          "metadata": {
            "tags": []
          },
          "execution_count": 24
        }
      ]
    },
    {
      "cell_type": "markdown",
      "metadata": {
        "id": "wB6R24dQKXC9",
        "colab_type": "text"
      },
      "source": [
        "Selecting values from a DataFrame where a boolean condition is met."
      ]
    },
    {
      "cell_type": "code",
      "metadata": {
        "jupyter": {
          "outputs_hidden": false
        },
        "pycharm": {
          "name": "#%%\n"
        },
        "id": "AaLfquIEKXC-",
        "colab_type": "code",
        "colab": {},
        "outputId": "3915d3f4-85e9-46f2-f6b4-e26bb6e9f320"
      },
      "source": [
        "df[df > 0]"
      ],
      "execution_count": 0,
      "outputs": [
        {
          "output_type": "execute_result",
          "data": {
            "text/html": [
              "<div>\n",
              "<style scoped>\n",
              "    .dataframe tbody tr th:only-of-type {\n",
              "        vertical-align: middle;\n",
              "    }\n",
              "\n",
              "    .dataframe tbody tr th {\n",
              "        vertical-align: top;\n",
              "    }\n",
              "\n",
              "    .dataframe thead th {\n",
              "        text-align: right;\n",
              "    }\n",
              "</style>\n",
              "<table border=\"1\" class=\"dataframe\">\n",
              "  <thead>\n",
              "    <tr style=\"text-align: right;\">\n",
              "      <th></th>\n",
              "      <th>A</th>\n",
              "      <th>B</th>\n",
              "      <th>C</th>\n",
              "      <th>D</th>\n",
              "    </tr>\n",
              "  </thead>\n",
              "  <tbody>\n",
              "    <tr>\n",
              "      <th>2019-01-01</th>\n",
              "      <td>NaN</td>\n",
              "      <td>NaN</td>\n",
              "      <td>2.568583</td>\n",
              "      <td>0.494481</td>\n",
              "    </tr>\n",
              "    <tr>\n",
              "      <th>2019-01-02</th>\n",
              "      <td>NaN</td>\n",
              "      <td>0.056144</td>\n",
              "      <td>0.677926</td>\n",
              "      <td>NaN</td>\n",
              "    </tr>\n",
              "    <tr>\n",
              "      <th>2019-01-03</th>\n",
              "      <td>0.564102</td>\n",
              "      <td>1.448998</td>\n",
              "      <td>1.036779</td>\n",
              "      <td>NaN</td>\n",
              "    </tr>\n",
              "    <tr>\n",
              "      <th>2019-01-04</th>\n",
              "      <td>NaN</td>\n",
              "      <td>2.276844</td>\n",
              "      <td>NaN</td>\n",
              "      <td>0.034436</td>\n",
              "    </tr>\n",
              "    <tr>\n",
              "      <th>2019-01-05</th>\n",
              "      <td>1.135158</td>\n",
              "      <td>0.720135</td>\n",
              "      <td>NaN</td>\n",
              "      <td>NaN</td>\n",
              "    </tr>\n",
              "    <tr>\n",
              "      <th>2019-01-06</th>\n",
              "      <td>NaN</td>\n",
              "      <td>0.296899</td>\n",
              "      <td>NaN</td>\n",
              "      <td>2.677651</td>\n",
              "    </tr>\n",
              "    <tr>\n",
              "      <th>2019-01-07</th>\n",
              "      <td>1.677311</td>\n",
              "      <td>NaN</td>\n",
              "      <td>0.405523</td>\n",
              "      <td>0.462660</td>\n",
              "    </tr>\n",
              "    <tr>\n",
              "      <th>2019-01-08</th>\n",
              "      <td>NaN</td>\n",
              "      <td>NaN</td>\n",
              "      <td>NaN</td>\n",
              "      <td>0.027003</td>\n",
              "    </tr>\n",
              "    <tr>\n",
              "      <th>2019-01-09</th>\n",
              "      <td>1.106210</td>\n",
              "      <td>NaN</td>\n",
              "      <td>1.194672</td>\n",
              "      <td>NaN</td>\n",
              "    </tr>\n",
              "    <tr>\n",
              "      <th>2019-01-10</th>\n",
              "      <td>0.165680</td>\n",
              "      <td>0.786776</td>\n",
              "      <td>NaN</td>\n",
              "      <td>NaN</td>\n",
              "    </tr>\n",
              "  </tbody>\n",
              "</table>\n",
              "</div>"
            ],
            "text/plain": [
              "                   A         B         C         D\n",
              "2019-01-01       NaN       NaN  2.568583  0.494481\n",
              "2019-01-02       NaN  0.056144  0.677926       NaN\n",
              "2019-01-03  0.564102  1.448998  1.036779       NaN\n",
              "2019-01-04       NaN  2.276844       NaN  0.034436\n",
              "2019-01-05  1.135158  0.720135       NaN       NaN\n",
              "2019-01-06       NaN  0.296899       NaN  2.677651\n",
              "2019-01-07  1.677311       NaN  0.405523  0.462660\n",
              "2019-01-08       NaN       NaN       NaN  0.027003\n",
              "2019-01-09  1.106210       NaN  1.194672       NaN\n",
              "2019-01-10  0.165680  0.786776       NaN       NaN"
            ]
          },
          "metadata": {
            "tags": []
          },
          "execution_count": 28
        }
      ]
    },
    {
      "cell_type": "markdown",
      "metadata": {
        "id": "RaJiRGZCKXDC",
        "colab_type": "text"
      },
      "source": [
        "Using the `isin()` method for filtering:"
      ]
    },
    {
      "cell_type": "code",
      "metadata": {
        "jupyter": {
          "outputs_hidden": false
        },
        "pycharm": {
          "name": "#%%\n"
        },
        "id": "sSlGewLdKXDD",
        "colab_type": "code",
        "colab": {}
      },
      "source": [
        "df2 = df.copy()"
      ],
      "execution_count": 0,
      "outputs": []
    },
    {
      "cell_type": "code",
      "metadata": {
        "jupyter": {
          "outputs_hidden": false
        },
        "pycharm": {
          "name": "#%%\n"
        },
        "id": "KvXf8n_fKXDF",
        "colab_type": "code",
        "colab": {}
      },
      "source": [
        "df2['E'] = ['one','one','two','three','four','three','two','three','four','four']"
      ],
      "execution_count": 0,
      "outputs": []
    },
    {
      "cell_type": "code",
      "metadata": {
        "jupyter": {
          "outputs_hidden": false
        },
        "pycharm": {
          "name": "#%%\n"
        },
        "id": "m3DbVmE9KXDH",
        "colab_type": "code",
        "colab": {},
        "outputId": "47906e67-967e-4894-9873-b83efd1a4b93"
      },
      "source": [
        "df2"
      ],
      "execution_count": 0,
      "outputs": [
        {
          "output_type": "execute_result",
          "data": {
            "text/html": [
              "<div>\n",
              "<style scoped>\n",
              "    .dataframe tbody tr th:only-of-type {\n",
              "        vertical-align: middle;\n",
              "    }\n",
              "\n",
              "    .dataframe tbody tr th {\n",
              "        vertical-align: top;\n",
              "    }\n",
              "\n",
              "    .dataframe thead th {\n",
              "        text-align: right;\n",
              "    }\n",
              "</style>\n",
              "<table border=\"1\" class=\"dataframe\">\n",
              "  <thead>\n",
              "    <tr style=\"text-align: right;\">\n",
              "      <th></th>\n",
              "      <th>A</th>\n",
              "      <th>B</th>\n",
              "      <th>C</th>\n",
              "      <th>D</th>\n",
              "      <th>E</th>\n",
              "    </tr>\n",
              "  </thead>\n",
              "  <tbody>\n",
              "    <tr>\n",
              "      <th>2019-01-01</th>\n",
              "      <td>-1.158573</td>\n",
              "      <td>-0.941688</td>\n",
              "      <td>2.568583</td>\n",
              "      <td>0.494481</td>\n",
              "      <td>one</td>\n",
              "    </tr>\n",
              "    <tr>\n",
              "      <th>2019-01-02</th>\n",
              "      <td>-0.683202</td>\n",
              "      <td>0.056144</td>\n",
              "      <td>0.677926</td>\n",
              "      <td>-0.187010</td>\n",
              "      <td>one</td>\n",
              "    </tr>\n",
              "    <tr>\n",
              "      <th>2019-01-03</th>\n",
              "      <td>0.564102</td>\n",
              "      <td>1.448998</td>\n",
              "      <td>1.036779</td>\n",
              "      <td>-0.146018</td>\n",
              "      <td>two</td>\n",
              "    </tr>\n",
              "    <tr>\n",
              "      <th>2019-01-04</th>\n",
              "      <td>-0.939398</td>\n",
              "      <td>2.276844</td>\n",
              "      <td>-0.400286</td>\n",
              "      <td>0.034436</td>\n",
              "      <td>three</td>\n",
              "    </tr>\n",
              "    <tr>\n",
              "      <th>2019-01-05</th>\n",
              "      <td>1.135158</td>\n",
              "      <td>0.720135</td>\n",
              "      <td>-0.771679</td>\n",
              "      <td>-2.690404</td>\n",
              "      <td>four</td>\n",
              "    </tr>\n",
              "    <tr>\n",
              "      <th>2019-01-06</th>\n",
              "      <td>-0.953653</td>\n",
              "      <td>0.296899</td>\n",
              "      <td>-1.022055</td>\n",
              "      <td>2.677651</td>\n",
              "      <td>three</td>\n",
              "    </tr>\n",
              "    <tr>\n",
              "      <th>2019-01-07</th>\n",
              "      <td>1.677311</td>\n",
              "      <td>-0.572894</td>\n",
              "      <td>0.405523</td>\n",
              "      <td>0.462660</td>\n",
              "      <td>two</td>\n",
              "    </tr>\n",
              "    <tr>\n",
              "      <th>2019-01-08</th>\n",
              "      <td>-0.612544</td>\n",
              "      <td>-1.102798</td>\n",
              "      <td>-0.829374</td>\n",
              "      <td>0.027003</td>\n",
              "      <td>three</td>\n",
              "    </tr>\n",
              "    <tr>\n",
              "      <th>2019-01-09</th>\n",
              "      <td>1.106210</td>\n",
              "      <td>-0.385144</td>\n",
              "      <td>1.194672</td>\n",
              "      <td>-0.057844</td>\n",
              "      <td>four</td>\n",
              "    </tr>\n",
              "    <tr>\n",
              "      <th>2019-01-10</th>\n",
              "      <td>0.165680</td>\n",
              "      <td>0.786776</td>\n",
              "      <td>-1.079196</td>\n",
              "      <td>-0.706584</td>\n",
              "      <td>four</td>\n",
              "    </tr>\n",
              "  </tbody>\n",
              "</table>\n",
              "</div>"
            ],
            "text/plain": [
              "                   A         B         C         D      E\n",
              "2019-01-01 -1.158573 -0.941688  2.568583  0.494481    one\n",
              "2019-01-02 -0.683202  0.056144  0.677926 -0.187010    one\n",
              "2019-01-03  0.564102  1.448998  1.036779 -0.146018    two\n",
              "2019-01-04 -0.939398  2.276844 -0.400286  0.034436  three\n",
              "2019-01-05  1.135158  0.720135 -0.771679 -2.690404   four\n",
              "2019-01-06 -0.953653  0.296899 -1.022055  2.677651  three\n",
              "2019-01-07  1.677311 -0.572894  0.405523  0.462660    two\n",
              "2019-01-08 -0.612544 -1.102798 -0.829374  0.027003  three\n",
              "2019-01-09  1.106210 -0.385144  1.194672 -0.057844   four\n",
              "2019-01-10  0.165680  0.786776 -1.079196 -0.706584   four"
            ]
          },
          "metadata": {
            "tags": []
          },
          "execution_count": 31
        }
      ]
    },
    {
      "cell_type": "code",
      "metadata": {
        "jupyter": {
          "outputs_hidden": false
        },
        "pycharm": {
          "name": "#%%\n"
        },
        "id": "Z4Qk-99wKXDJ",
        "colab_type": "code",
        "colab": {},
        "outputId": "aae3efba-df5f-4a8c-a5d5-f4de697758a5"
      },
      "source": [
        "df2[df2['E'].isin(['two', 'four'])]\n"
      ],
      "execution_count": 0,
      "outputs": [
        {
          "output_type": "execute_result",
          "data": {
            "text/html": [
              "<div>\n",
              "<style scoped>\n",
              "    .dataframe tbody tr th:only-of-type {\n",
              "        vertical-align: middle;\n",
              "    }\n",
              "\n",
              "    .dataframe tbody tr th {\n",
              "        vertical-align: top;\n",
              "    }\n",
              "\n",
              "    .dataframe thead th {\n",
              "        text-align: right;\n",
              "    }\n",
              "</style>\n",
              "<table border=\"1\" class=\"dataframe\">\n",
              "  <thead>\n",
              "    <tr style=\"text-align: right;\">\n",
              "      <th></th>\n",
              "      <th>A</th>\n",
              "      <th>B</th>\n",
              "      <th>C</th>\n",
              "      <th>D</th>\n",
              "      <th>E</th>\n",
              "    </tr>\n",
              "  </thead>\n",
              "  <tbody>\n",
              "    <tr>\n",
              "      <th>2019-01-03</th>\n",
              "      <td>0.564102</td>\n",
              "      <td>1.448998</td>\n",
              "      <td>1.036779</td>\n",
              "      <td>-0.146018</td>\n",
              "      <td>two</td>\n",
              "    </tr>\n",
              "    <tr>\n",
              "      <th>2019-01-05</th>\n",
              "      <td>1.135158</td>\n",
              "      <td>0.720135</td>\n",
              "      <td>-0.771679</td>\n",
              "      <td>-2.690404</td>\n",
              "      <td>four</td>\n",
              "    </tr>\n",
              "    <tr>\n",
              "      <th>2019-01-07</th>\n",
              "      <td>1.677311</td>\n",
              "      <td>-0.572894</td>\n",
              "      <td>0.405523</td>\n",
              "      <td>0.462660</td>\n",
              "      <td>two</td>\n",
              "    </tr>\n",
              "    <tr>\n",
              "      <th>2019-01-09</th>\n",
              "      <td>1.106210</td>\n",
              "      <td>-0.385144</td>\n",
              "      <td>1.194672</td>\n",
              "      <td>-0.057844</td>\n",
              "      <td>four</td>\n",
              "    </tr>\n",
              "    <tr>\n",
              "      <th>2019-01-10</th>\n",
              "      <td>0.165680</td>\n",
              "      <td>0.786776</td>\n",
              "      <td>-1.079196</td>\n",
              "      <td>-0.706584</td>\n",
              "      <td>four</td>\n",
              "    </tr>\n",
              "  </tbody>\n",
              "</table>\n",
              "</div>"
            ],
            "text/plain": [
              "                   A         B         C         D     E\n",
              "2019-01-03  0.564102  1.448998  1.036779 -0.146018   two\n",
              "2019-01-05  1.135158  0.720135 -0.771679 -2.690404  four\n",
              "2019-01-07  1.677311 -0.572894  0.405523  0.462660   two\n",
              "2019-01-09  1.106210 -0.385144  1.194672 -0.057844  four\n",
              "2019-01-10  0.165680  0.786776 -1.079196 -0.706584  four"
            ]
          },
          "metadata": {
            "tags": []
          },
          "execution_count": 32
        }
      ]
    },
    {
      "cell_type": "markdown",
      "metadata": {
        "id": "UTNpk7dLKXDM",
        "colab_type": "text"
      },
      "source": [
        "# Setting\n",
        "Setting a new column automatically aligns the data by the indexes."
      ]
    },
    {
      "cell_type": "code",
      "metadata": {
        "jupyter": {
          "outputs_hidden": false
        },
        "pycharm": {
          "name": "#%%\n"
        },
        "id": "XWfP4PY8KXDM",
        "colab_type": "code",
        "colab": {}
      },
      "source": [
        "s1 = pd.Series([1, 2, 3, 4, 5, 6,7,8,9,10], index=pd.date_range('20190101', periods=10))"
      ],
      "execution_count": 0,
      "outputs": []
    },
    {
      "cell_type": "code",
      "metadata": {
        "jupyter": {
          "outputs_hidden": false
        },
        "pycharm": {
          "name": "#%%\n"
        },
        "id": "9rz6bBPHKXDO",
        "colab_type": "code",
        "colab": {},
        "outputId": "10b95579-edd1-4e93-a292-4c7471c17df0"
      },
      "source": [
        "s1"
      ],
      "execution_count": 0,
      "outputs": [
        {
          "output_type": "execute_result",
          "data": {
            "text/plain": [
              "2019-01-01     1\n",
              "2019-01-02     2\n",
              "2019-01-03     3\n",
              "2019-01-04     4\n",
              "2019-01-05     5\n",
              "2019-01-06     6\n",
              "2019-01-07     7\n",
              "2019-01-08     8\n",
              "2019-01-09     9\n",
              "2019-01-10    10\n",
              "Freq: D, dtype: int64"
            ]
          },
          "metadata": {
            "tags": []
          },
          "execution_count": 34
        }
      ]
    },
    {
      "cell_type": "code",
      "metadata": {
        "jupyter": {
          "outputs_hidden": false
        },
        "pycharm": {
          "name": "#%%\n"
        },
        "id": "OBXmSw-2KXDQ",
        "colab_type": "code",
        "colab": {}
      },
      "source": [
        "df['F'] = s1"
      ],
      "execution_count": 0,
      "outputs": []
    },
    {
      "cell_type": "code",
      "metadata": {
        "jupyter": {
          "outputs_hidden": false
        },
        "pycharm": {
          "name": "#%%\n"
        },
        "id": "587AC2puKXDS",
        "colab_type": "code",
        "colab": {},
        "outputId": "8bb7a0e9-7646-4023-e661-49a84b6c4c9a"
      },
      "source": [
        "df"
      ],
      "execution_count": 0,
      "outputs": [
        {
          "output_type": "execute_result",
          "data": {
            "text/html": [
              "<div>\n",
              "<style scoped>\n",
              "    .dataframe tbody tr th:only-of-type {\n",
              "        vertical-align: middle;\n",
              "    }\n",
              "\n",
              "    .dataframe tbody tr th {\n",
              "        vertical-align: top;\n",
              "    }\n",
              "\n",
              "    .dataframe thead th {\n",
              "        text-align: right;\n",
              "    }\n",
              "</style>\n",
              "<table border=\"1\" class=\"dataframe\">\n",
              "  <thead>\n",
              "    <tr style=\"text-align: right;\">\n",
              "      <th></th>\n",
              "      <th>A</th>\n",
              "      <th>B</th>\n",
              "      <th>C</th>\n",
              "      <th>D</th>\n",
              "      <th>F</th>\n",
              "    </tr>\n",
              "  </thead>\n",
              "  <tbody>\n",
              "    <tr>\n",
              "      <th>2019-01-01</th>\n",
              "      <td>-1.158573</td>\n",
              "      <td>-0.941688</td>\n",
              "      <td>2.568583</td>\n",
              "      <td>0.494481</td>\n",
              "      <td>1</td>\n",
              "    </tr>\n",
              "    <tr>\n",
              "      <th>2019-01-02</th>\n",
              "      <td>-0.683202</td>\n",
              "      <td>0.056144</td>\n",
              "      <td>0.677926</td>\n",
              "      <td>-0.187010</td>\n",
              "      <td>2</td>\n",
              "    </tr>\n",
              "    <tr>\n",
              "      <th>2019-01-03</th>\n",
              "      <td>0.564102</td>\n",
              "      <td>1.448998</td>\n",
              "      <td>1.036779</td>\n",
              "      <td>-0.146018</td>\n",
              "      <td>3</td>\n",
              "    </tr>\n",
              "    <tr>\n",
              "      <th>2019-01-04</th>\n",
              "      <td>-0.939398</td>\n",
              "      <td>2.276844</td>\n",
              "      <td>-0.400286</td>\n",
              "      <td>0.034436</td>\n",
              "      <td>4</td>\n",
              "    </tr>\n",
              "    <tr>\n",
              "      <th>2019-01-05</th>\n",
              "      <td>1.135158</td>\n",
              "      <td>0.720135</td>\n",
              "      <td>-0.771679</td>\n",
              "      <td>-2.690404</td>\n",
              "      <td>5</td>\n",
              "    </tr>\n",
              "    <tr>\n",
              "      <th>2019-01-06</th>\n",
              "      <td>-0.953653</td>\n",
              "      <td>0.296899</td>\n",
              "      <td>-1.022055</td>\n",
              "      <td>2.677651</td>\n",
              "      <td>6</td>\n",
              "    </tr>\n",
              "    <tr>\n",
              "      <th>2019-01-07</th>\n",
              "      <td>1.677311</td>\n",
              "      <td>-0.572894</td>\n",
              "      <td>0.405523</td>\n",
              "      <td>0.462660</td>\n",
              "      <td>7</td>\n",
              "    </tr>\n",
              "    <tr>\n",
              "      <th>2019-01-08</th>\n",
              "      <td>-0.612544</td>\n",
              "      <td>-1.102798</td>\n",
              "      <td>-0.829374</td>\n",
              "      <td>0.027003</td>\n",
              "      <td>8</td>\n",
              "    </tr>\n",
              "    <tr>\n",
              "      <th>2019-01-09</th>\n",
              "      <td>1.106210</td>\n",
              "      <td>-0.385144</td>\n",
              "      <td>1.194672</td>\n",
              "      <td>-0.057844</td>\n",
              "      <td>9</td>\n",
              "    </tr>\n",
              "    <tr>\n",
              "      <th>2019-01-10</th>\n",
              "      <td>0.165680</td>\n",
              "      <td>0.786776</td>\n",
              "      <td>-1.079196</td>\n",
              "      <td>-0.706584</td>\n",
              "      <td>10</td>\n",
              "    </tr>\n",
              "  </tbody>\n",
              "</table>\n",
              "</div>"
            ],
            "text/plain": [
              "                   A         B         C         D   F\n",
              "2019-01-01 -1.158573 -0.941688  2.568583  0.494481   1\n",
              "2019-01-02 -0.683202  0.056144  0.677926 -0.187010   2\n",
              "2019-01-03  0.564102  1.448998  1.036779 -0.146018   3\n",
              "2019-01-04 -0.939398  2.276844 -0.400286  0.034436   4\n",
              "2019-01-05  1.135158  0.720135 -0.771679 -2.690404   5\n",
              "2019-01-06 -0.953653  0.296899 -1.022055  2.677651   6\n",
              "2019-01-07  1.677311 -0.572894  0.405523  0.462660   7\n",
              "2019-01-08 -0.612544 -1.102798 -0.829374  0.027003   8\n",
              "2019-01-09  1.106210 -0.385144  1.194672 -0.057844   9\n",
              "2019-01-10  0.165680  0.786776 -1.079196 -0.706584  10"
            ]
          },
          "metadata": {
            "tags": []
          },
          "execution_count": 38
        }
      ]
    },
    {
      "cell_type": "markdown",
      "metadata": {
        "id": "v5OM5XiBKXDU",
        "colab_type": "text"
      },
      "source": [
        "Setting values by label:"
      ]
    },
    {
      "cell_type": "code",
      "metadata": {
        "jupyter": {
          "outputs_hidden": false
        },
        "pycharm": {
          "name": "#%%\n"
        },
        "id": "xxjpaRKdKXDV",
        "colab_type": "code",
        "colab": {}
      },
      "source": [
        "df.loc[dates[0]] = 0"
      ],
      "execution_count": 0,
      "outputs": []
    },
    {
      "cell_type": "markdown",
      "metadata": {
        "id": "kya0MSr7KXDX",
        "colab_type": "text"
      },
      "source": [
        "Setting values by position"
      ]
    },
    {
      "cell_type": "code",
      "metadata": {
        "jupyter": {
          "outputs_hidden": false
        },
        "pycharm": {
          "name": "#%%\n"
        },
        "id": "5qJYH7cOKXDX",
        "colab_type": "code",
        "colab": {}
      },
      "source": [
        "df.iloc[0,1] = 0"
      ],
      "execution_count": 0,
      "outputs": []
    },
    {
      "cell_type": "markdown",
      "metadata": {
        "id": "eFSnGTZJKXDa",
        "colab_type": "text"
      },
      "source": [
        "Setting by assigning with a NumPy array:"
      ]
    },
    {
      "cell_type": "code",
      "metadata": {
        "jupyter": {
          "outputs_hidden": false
        },
        "pycharm": {
          "name": "#%%\n"
        },
        "id": "8-rtRLgJKXDa",
        "colab_type": "code",
        "colab": {}
      },
      "source": [
        "df.loc[:, 'D'] = np.array([5] * len(df))"
      ],
      "execution_count": 0,
      "outputs": []
    },
    {
      "cell_type": "markdown",
      "metadata": {
        "id": "g4JHOVWIKXDc",
        "colab_type": "text"
      },
      "source": [
        "The result of the prior setting operations."
      ]
    },
    {
      "cell_type": "code",
      "metadata": {
        "jupyter": {
          "outputs_hidden": false
        },
        "pycharm": {
          "name": "#%%\n"
        },
        "id": "nbMfS_8jKXDd",
        "colab_type": "code",
        "colab": {}
      },
      "source": [
        "df"
      ],
      "execution_count": 0,
      "outputs": []
    },
    {
      "cell_type": "markdown",
      "metadata": {
        "id": "AxpWNdg9KXDf",
        "colab_type": "text"
      },
      "source": [
        "A where operation with setting."
      ]
    },
    {
      "cell_type": "code",
      "metadata": {
        "jupyter": {
          "outputs_hidden": false
        },
        "pycharm": {
          "name": "#%%\n"
        },
        "id": "qIqD9QlSKXDf",
        "colab_type": "code",
        "colab": {}
      },
      "source": [
        "df2 = df.copy()"
      ],
      "execution_count": 0,
      "outputs": []
    },
    {
      "cell_type": "code",
      "metadata": {
        "id": "DoxScjTOKXDh",
        "colab_type": "code",
        "colab": {},
        "outputId": "0cf3c3ca-864f-41c3-9796-ef6dcd26a4ed"
      },
      "source": [
        "df2"
      ],
      "execution_count": 0,
      "outputs": [
        {
          "output_type": "execute_result",
          "data": {
            "text/html": [
              "<div>\n",
              "<style scoped>\n",
              "    .dataframe tbody tr th:only-of-type {\n",
              "        vertical-align: middle;\n",
              "    }\n",
              "\n",
              "    .dataframe tbody tr th {\n",
              "        vertical-align: top;\n",
              "    }\n",
              "\n",
              "    .dataframe thead th {\n",
              "        text-align: right;\n",
              "    }\n",
              "</style>\n",
              "<table border=\"1\" class=\"dataframe\">\n",
              "  <thead>\n",
              "    <tr style=\"text-align: right;\">\n",
              "      <th></th>\n",
              "      <th>A</th>\n",
              "      <th>B</th>\n",
              "      <th>C</th>\n",
              "      <th>D</th>\n",
              "      <th>F</th>\n",
              "    </tr>\n",
              "  </thead>\n",
              "  <tbody>\n",
              "    <tr>\n",
              "      <th>2019-01-01</th>\n",
              "      <td>0.000000</td>\n",
              "      <td>0.000000</td>\n",
              "      <td>0.000000</td>\n",
              "      <td>5</td>\n",
              "      <td>0</td>\n",
              "    </tr>\n",
              "    <tr>\n",
              "      <th>2019-01-02</th>\n",
              "      <td>-0.683202</td>\n",
              "      <td>0.056144</td>\n",
              "      <td>0.677926</td>\n",
              "      <td>5</td>\n",
              "      <td>2</td>\n",
              "    </tr>\n",
              "    <tr>\n",
              "      <th>2019-01-03</th>\n",
              "      <td>0.564102</td>\n",
              "      <td>1.448998</td>\n",
              "      <td>1.036779</td>\n",
              "      <td>5</td>\n",
              "      <td>3</td>\n",
              "    </tr>\n",
              "    <tr>\n",
              "      <th>2019-01-04</th>\n",
              "      <td>-0.939398</td>\n",
              "      <td>2.276844</td>\n",
              "      <td>-0.400286</td>\n",
              "      <td>5</td>\n",
              "      <td>4</td>\n",
              "    </tr>\n",
              "    <tr>\n",
              "      <th>2019-01-05</th>\n",
              "      <td>1.135158</td>\n",
              "      <td>0.720135</td>\n",
              "      <td>-0.771679</td>\n",
              "      <td>5</td>\n",
              "      <td>5</td>\n",
              "    </tr>\n",
              "    <tr>\n",
              "      <th>2019-01-06</th>\n",
              "      <td>-0.953653</td>\n",
              "      <td>0.296899</td>\n",
              "      <td>-1.022055</td>\n",
              "      <td>5</td>\n",
              "      <td>6</td>\n",
              "    </tr>\n",
              "    <tr>\n",
              "      <th>2019-01-07</th>\n",
              "      <td>1.677311</td>\n",
              "      <td>-0.572894</td>\n",
              "      <td>0.405523</td>\n",
              "      <td>5</td>\n",
              "      <td>7</td>\n",
              "    </tr>\n",
              "    <tr>\n",
              "      <th>2019-01-08</th>\n",
              "      <td>-0.612544</td>\n",
              "      <td>-1.102798</td>\n",
              "      <td>-0.829374</td>\n",
              "      <td>5</td>\n",
              "      <td>8</td>\n",
              "    </tr>\n",
              "    <tr>\n",
              "      <th>2019-01-09</th>\n",
              "      <td>1.106210</td>\n",
              "      <td>-0.385144</td>\n",
              "      <td>1.194672</td>\n",
              "      <td>5</td>\n",
              "      <td>9</td>\n",
              "    </tr>\n",
              "    <tr>\n",
              "      <th>2019-01-10</th>\n",
              "      <td>0.165680</td>\n",
              "      <td>0.786776</td>\n",
              "      <td>-1.079196</td>\n",
              "      <td>5</td>\n",
              "      <td>10</td>\n",
              "    </tr>\n",
              "  </tbody>\n",
              "</table>\n",
              "</div>"
            ],
            "text/plain": [
              "                   A         B         C  D   F\n",
              "2019-01-01  0.000000  0.000000  0.000000  5   0\n",
              "2019-01-02 -0.683202  0.056144  0.677926  5   2\n",
              "2019-01-03  0.564102  1.448998  1.036779  5   3\n",
              "2019-01-04 -0.939398  2.276844 -0.400286  5   4\n",
              "2019-01-05  1.135158  0.720135 -0.771679  5   5\n",
              "2019-01-06 -0.953653  0.296899 -1.022055  5   6\n",
              "2019-01-07  1.677311 -0.572894  0.405523  5   7\n",
              "2019-01-08 -0.612544 -1.102798 -0.829374  5   8\n",
              "2019-01-09  1.106210 -0.385144  1.194672  5   9\n",
              "2019-01-10  0.165680  0.786776 -1.079196  5  10"
            ]
          },
          "metadata": {
            "tags": []
          },
          "execution_count": 43
        }
      ]
    },
    {
      "cell_type": "code",
      "metadata": {
        "jupyter": {
          "outputs_hidden": false
        },
        "pycharm": {
          "name": "#%%\n"
        },
        "id": "VLHmiDQUKXDj",
        "colab_type": "code",
        "colab": {}
      },
      "source": [
        "df2[df2 > 0] = -df2"
      ],
      "execution_count": 0,
      "outputs": []
    },
    {
      "cell_type": "code",
      "metadata": {
        "jupyter": {
          "outputs_hidden": false
        },
        "pycharm": {
          "name": "#%%\n"
        },
        "id": "xDPpzlWSKXDl",
        "colab_type": "code",
        "colab": {},
        "outputId": "c669d28a-2820-4a2b-a197-bf77e32dc1d2"
      },
      "source": [
        "df2\n"
      ],
      "execution_count": 0,
      "outputs": [
        {
          "output_type": "execute_result",
          "data": {
            "text/html": [
              "<div>\n",
              "<style scoped>\n",
              "    .dataframe tbody tr th:only-of-type {\n",
              "        vertical-align: middle;\n",
              "    }\n",
              "\n",
              "    .dataframe tbody tr th {\n",
              "        vertical-align: top;\n",
              "    }\n",
              "\n",
              "    .dataframe thead th {\n",
              "        text-align: right;\n",
              "    }\n",
              "</style>\n",
              "<table border=\"1\" class=\"dataframe\">\n",
              "  <thead>\n",
              "    <tr style=\"text-align: right;\">\n",
              "      <th></th>\n",
              "      <th>A</th>\n",
              "      <th>B</th>\n",
              "      <th>C</th>\n",
              "      <th>D</th>\n",
              "      <th>F</th>\n",
              "    </tr>\n",
              "  </thead>\n",
              "  <tbody>\n",
              "    <tr>\n",
              "      <th>2019-01-01</th>\n",
              "      <td>0.000000</td>\n",
              "      <td>0.000000</td>\n",
              "      <td>0.000000</td>\n",
              "      <td>-5</td>\n",
              "      <td>0</td>\n",
              "    </tr>\n",
              "    <tr>\n",
              "      <th>2019-01-02</th>\n",
              "      <td>-0.683202</td>\n",
              "      <td>-0.056144</td>\n",
              "      <td>-0.677926</td>\n",
              "      <td>-5</td>\n",
              "      <td>-2</td>\n",
              "    </tr>\n",
              "    <tr>\n",
              "      <th>2019-01-03</th>\n",
              "      <td>-0.564102</td>\n",
              "      <td>-1.448998</td>\n",
              "      <td>-1.036779</td>\n",
              "      <td>-5</td>\n",
              "      <td>-3</td>\n",
              "    </tr>\n",
              "    <tr>\n",
              "      <th>2019-01-04</th>\n",
              "      <td>-0.939398</td>\n",
              "      <td>-2.276844</td>\n",
              "      <td>-0.400286</td>\n",
              "      <td>-5</td>\n",
              "      <td>-4</td>\n",
              "    </tr>\n",
              "    <tr>\n",
              "      <th>2019-01-05</th>\n",
              "      <td>-1.135158</td>\n",
              "      <td>-0.720135</td>\n",
              "      <td>-0.771679</td>\n",
              "      <td>-5</td>\n",
              "      <td>-5</td>\n",
              "    </tr>\n",
              "    <tr>\n",
              "      <th>2019-01-06</th>\n",
              "      <td>-0.953653</td>\n",
              "      <td>-0.296899</td>\n",
              "      <td>-1.022055</td>\n",
              "      <td>-5</td>\n",
              "      <td>-6</td>\n",
              "    </tr>\n",
              "    <tr>\n",
              "      <th>2019-01-07</th>\n",
              "      <td>-1.677311</td>\n",
              "      <td>-0.572894</td>\n",
              "      <td>-0.405523</td>\n",
              "      <td>-5</td>\n",
              "      <td>-7</td>\n",
              "    </tr>\n",
              "    <tr>\n",
              "      <th>2019-01-08</th>\n",
              "      <td>-0.612544</td>\n",
              "      <td>-1.102798</td>\n",
              "      <td>-0.829374</td>\n",
              "      <td>-5</td>\n",
              "      <td>-8</td>\n",
              "    </tr>\n",
              "    <tr>\n",
              "      <th>2019-01-09</th>\n",
              "      <td>-1.106210</td>\n",
              "      <td>-0.385144</td>\n",
              "      <td>-1.194672</td>\n",
              "      <td>-5</td>\n",
              "      <td>-9</td>\n",
              "    </tr>\n",
              "    <tr>\n",
              "      <th>2019-01-10</th>\n",
              "      <td>-0.165680</td>\n",
              "      <td>-0.786776</td>\n",
              "      <td>-1.079196</td>\n",
              "      <td>-5</td>\n",
              "      <td>-10</td>\n",
              "    </tr>\n",
              "  </tbody>\n",
              "</table>\n",
              "</div>"
            ],
            "text/plain": [
              "                   A         B         C  D   F\n",
              "2019-01-01  0.000000  0.000000  0.000000 -5   0\n",
              "2019-01-02 -0.683202 -0.056144 -0.677926 -5  -2\n",
              "2019-01-03 -0.564102 -1.448998 -1.036779 -5  -3\n",
              "2019-01-04 -0.939398 -2.276844 -0.400286 -5  -4\n",
              "2019-01-05 -1.135158 -0.720135 -0.771679 -5  -5\n",
              "2019-01-06 -0.953653 -0.296899 -1.022055 -5  -6\n",
              "2019-01-07 -1.677311 -0.572894 -0.405523 -5  -7\n",
              "2019-01-08 -0.612544 -1.102798 -0.829374 -5  -8\n",
              "2019-01-09 -1.106210 -0.385144 -1.194672 -5  -9\n",
              "2019-01-10 -0.165680 -0.786776 -1.079196 -5 -10"
            ]
          },
          "metadata": {
            "tags": []
          },
          "execution_count": 45
        }
      ]
    },
    {
      "cell_type": "code",
      "metadata": {
        "id": "4QvcGc34KXDn",
        "colab_type": "code",
        "colab": {}
      },
      "source": [
        ""
      ],
      "execution_count": 0,
      "outputs": []
    }
  ]
}