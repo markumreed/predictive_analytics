{
 "nbformat": 4,
 "nbformat_minor": 0,
 "metadata": {
  "kernelspec": {
   "display_name": "Python 3",
   "language": "python",
   "name": "python3"
  },
  "language_info": {
   "codemirror_mode": {
    "name": "ipython",
    "version": 3
   },
   "file_extension": ".py",
   "mimetype": "text/x-python",
   "name": "python",
   "nbconvert_exporter": "python",
   "pygments_lexer": "ipython3",
   "version": "3.6.5"
  },
  "colab": {
   "name": "Conditionals and Recursion.ipynb",
   "provenance": [],
   "include_colab_link": true
  }
 },
 "cells": [
  {
   "cell_type": "markdown",
   "metadata": {
    "id": "view-in-github",
    "colab_type": "text"
   },
   "source": [
    "<a href=\"https://colab.research.google.com/github/SoIllEconomist/ds4b/blob/master/python_ds4b/python_basics/course_restart/Conditionals%20and%20Recursion.ipynb\" target=\"_parent\"><img src=\"https://colab.research.google.com/assets/colab-badge.svg\" alt=\"Open In Colab\"/></a>"
   ]
  },
  {
   "cell_type": "markdown",
   "metadata": {
    "id": "Rol0yE8zkM37",
    "colab_type": "text"
   },
   "source": [
    "# Conditionals and Recursion\n",
    "\n",
    "- `if` statement\n",
    "    - executes code depending on the state of the program\n",
    "\n",
    "## Floor division and modulus\n",
    "\n",
    "The **floor division** operator, //, divides two numbers and rounds down to an integer.\n",
    "\n",
    "Suppose you have a movie with a runtime of 105 minutes. You might want to know how long that is in hours.\n",
    "\n",
    "Conventional division returns a floating-point"
   ]
  },
  {
   "cell_type": "code",
   "metadata": {
    "id": "9A4wvrfVkM39",
    "colab_type": "code",
    "colab": {}
   },
   "source": [
    "minutes = 105"
   ],
   "execution_count": 0,
   "outputs": []
  },
  {
   "cell_type": "code",
   "metadata": {
    "id": "Q9ymqsyukM4B",
    "colab_type": "code",
    "colab": {},
    "outputId": "5bce083c-95d7-4df5-ecd0-bcbdf750e95c"
   },
   "source": [
    "minutes / 60"
   ],
   "execution_count": 0,
   "outputs": [
    {
     "output_type": "execute_result",
     "data": {
      "text/plain": [
       "1.75"
      ]
     },
     "metadata": {
      "tags": []
     },
     "execution_count": 2
    }
   ]
  },
  {
   "cell_type": "markdown",
   "metadata": {
    "id": "dRE9yXACkM4F",
    "colab_type": "text"
   },
   "source": [
    "But we don’t normally write hours with decimal points. Floor division returns the integer number of hours, rounding down:"
   ]
  },
  {
   "cell_type": "code",
   "metadata": {
    "id": "r1DSiEAskM4G",
    "colab_type": "code",
    "colab": {}
   },
   "source": [
    "hours = minutes // 60"
   ],
   "execution_count": 0,
   "outputs": []
  },
  {
   "cell_type": "code",
   "metadata": {
    "id": "4kSrBvZ3kM4J",
    "colab_type": "code",
    "colab": {},
    "outputId": "0cfd194b-5192-4327-ccea-837a4c5f13a7"
   },
   "source": [
    "hours"
   ],
   "execution_count": 0,
   "outputs": [
    {
     "output_type": "execute_result",
     "data": {
      "text/plain": [
       "1"
      ]
     },
     "metadata": {
      "tags": []
     },
     "execution_count": 5
    }
   ]
  },
  {
   "cell_type": "markdown",
   "metadata": {
    "id": "a_gRLeBckM4M",
    "colab_type": "text"
   },
   "source": [
    "**Modulus operator**, %, which divides two numbers and returns the remainder."
   ]
  },
  {
   "cell_type": "code",
   "metadata": {
    "id": "FnoHFYd9kM4N",
    "colab_type": "code",
    "colab": {}
   },
   "source": [
    "remainder = minutes % 60"
   ],
   "execution_count": 0,
   "outputs": []
  },
  {
   "cell_type": "code",
   "metadata": {
    "id": "DKQlzTqrkM4Q",
    "colab_type": "code",
    "colab": {},
    "outputId": "1e490443-a026-49b8-e38a-aa9db5c9cce7"
   },
   "source": [
    "remainder"
   ],
   "execution_count": 0,
   "outputs": [
    {
     "output_type": "execute_result",
     "data": {
      "text/plain": [
       "45"
      ]
     },
     "metadata": {
      "tags": []
     },
     "execution_count": 9
    }
   ]
  },
  {
   "cell_type": "code",
   "metadata": {
    "id": "SP733uLckM4S",
    "colab_type": "code",
    "colab": {}
   },
   "source": [
    "def movie_time(minutes):\n",
    "    \"\"\"Converts movie time from minutes \n",
    "    to hours minutes.\n",
    "    Output:\n",
    "    =========\n",
    "    \n",
    "    X hrs Y mins\n",
    "    \n",
    "    \"\"\"\n",
    "    hrs = minutes // 60\n",
    "    mins = minutes % 60\n",
    "    print(str(hrs) + ' hrs ' + str(mins) +' mins')"
   ],
   "execution_count": 0,
   "outputs": []
  },
  {
   "cell_type": "code",
   "metadata": {
    "id": "5G6QyZpVkM4V",
    "colab_type": "code",
    "colab": {},
    "outputId": "989c8638-e336-47d6-c852-cf9e62c5ba8f"
   },
   "source": [
    "movie_time(105)"
   ],
   "execution_count": 0,
   "outputs": [
    {
     "output_type": "stream",
     "text": [
      "1 hrs 45 mins\n"
     ],
     "name": "stdout"
    }
   ]
  },
  {
   "cell_type": "markdown",
   "metadata": {
    "id": "f8UUz_BukM4Y",
    "colab_type": "text"
   },
   "source": [
    "## Boolean expressions\n",
    "\n",
    "A boolean expression is an expression that is either true or false. The following examples use the operator `==`, which compares two operands and produces `True` if they are equal and False otherwise:"
   ]
  },
  {
   "cell_type": "code",
   "metadata": {
    "id": "UyNtiutmkM4Z",
    "colab_type": "code",
    "colab": {},
    "outputId": "38dbe07d-b87f-4431-abb8-a246bb5bbd6d"
   },
   "source": [
    "5 == 5"
   ],
   "execution_count": 0,
   "outputs": [
    {
     "output_type": "execute_result",
     "data": {
      "text/plain": [
       "True"
      ]
     },
     "metadata": {
      "tags": []
     },
     "execution_count": 27
    }
   ]
  },
  {
   "cell_type": "code",
   "metadata": {
    "id": "--3hfB8QkM4c",
    "colab_type": "code",
    "colab": {},
    "outputId": "23002387-5ec7-460a-859a-ac30a27da231"
   },
   "source": [
    "5 == 6"
   ],
   "execution_count": 0,
   "outputs": [
    {
     "output_type": "execute_result",
     "data": {
      "text/plain": [
       "False"
      ]
     },
     "metadata": {
      "tags": []
     },
     "execution_count": 28
    }
   ]
  },
  {
   "cell_type": "code",
   "metadata": {
    "id": "OF-1XZqOkM4e",
    "colab_type": "code",
    "colab": {},
    "outputId": "583021b7-3394-465e-9dab-b74263fb63e2"
   },
   "source": [
    "type(True)"
   ],
   "execution_count": 0,
   "outputs": [
    {
     "output_type": "execute_result",
     "data": {
      "text/plain": [
       "bool"
      ]
     },
     "metadata": {
      "tags": []
     },
     "execution_count": 29
    }
   ]
  },
  {
   "cell_type": "code",
   "metadata": {
    "id": "PTcZXND8kM4h",
    "colab_type": "code",
    "colab": {},
    "outputId": "c3d63024-e53a-4bd6-891a-0f9e416e4cf1"
   },
   "source": [
    "type(False)"
   ],
   "execution_count": 0,
   "outputs": [
    {
     "output_type": "execute_result",
     "data": {
      "text/plain": [
       "bool"
      ]
     },
     "metadata": {
      "tags": []
     },
     "execution_count": 30
    }
   ]
  },
  {
   "cell_type": "markdown",
   "metadata": {
    "id": "niOKhdyjkM4j",
    "colab_type": "text"
   },
   "source": [
    "The `==` operator is one of the relational operators; the others are:\n",
    "\n",
    "| Relational Operator | Description                     |\n",
    "|---------------------|---------------------------------|\n",
    "| x != y              | x is not equal to y             |\n",
    "| x > y               | x is greater than y             |\n",
    "| x < y               | x is less than y                |\n",
    "| x >= y              | x is greater than or equal to y |\n",
    "| x <= y              | x is less than or equal to y    |"
   ]
  },
  {
   "cell_type": "markdown",
   "metadata": {
    "id": "5XNUrSrAkM4k",
    "colab_type": "text"
   },
   "source": [
    "## Logical operators\n",
    "\n",
    "There are three **logical operators**: \n",
    "    - and, or, and not. \n",
    "    \n",
    "The meaning of these operators is similar to their meaning in English. "
   ]
  },
  {
   "cell_type": "markdown",
   "metadata": {
    "id": "bdJKvY15kM4l",
    "colab_type": "text"
   },
   "source": [
    "For example, `x > 0` **and** `x < 10` is true only if x is greater than 0 and less than 10."
   ]
  },
  {
   "cell_type": "code",
   "metadata": {
    "id": "GIbYVccekM4m",
    "colab_type": "code",
    "colab": {},
    "outputId": "d14116ec-d4ba-4ecd-cea0-f7e3a14b86ee"
   },
   "source": [
    "5 > 0 and 5 < 10"
   ],
   "execution_count": 0,
   "outputs": [
    {
     "output_type": "execute_result",
     "data": {
      "text/plain": [
       "True"
      ]
     },
     "metadata": {
      "tags": []
     },
     "execution_count": 31
    }
   ]
  },
  {
   "cell_type": "code",
   "metadata": {
    "id": "qlG3mgL5kM4o",
    "colab_type": "code",
    "colab": {},
    "outputId": "2955bc06-df37-4149-b819-e2adbd3343e5"
   },
   "source": [
    "20 > 0 and 20 < 10"
   ],
   "execution_count": 0,
   "outputs": [
    {
     "output_type": "execute_result",
     "data": {
      "text/plain": [
       "False"
      ]
     },
     "metadata": {
      "tags": []
     },
     "execution_count": 32
    }
   ]
  },
  {
   "cell_type": "markdown",
   "metadata": {
    "id": "s_qwKdlokM4r",
    "colab_type": "text"
   },
   "source": [
    "`n%2 == 0` **or** `n%3 == 0` is true if either or both of the conditions is true, that is, if the number is divisible by 2 or 3"
   ]
  },
  {
   "cell_type": "code",
   "metadata": {
    "id": "grcoYv7NkM4s",
    "colab_type": "code",
    "colab": {},
    "outputId": "568ddc4e-90fc-4dc8-ae5d-26ec15a6fa94"
   },
   "source": [
    "4 % 2 == 0 or 4 % 3 == 0"
   ],
   "execution_count": 0,
   "outputs": [
    {
     "output_type": "execute_result",
     "data": {
      "text/plain": [
       "True"
      ]
     },
     "metadata": {
      "tags": []
     },
     "execution_count": 33
    }
   ]
  },
  {
   "cell_type": "code",
   "metadata": {
    "id": "XbZqbPxEkM4v",
    "colab_type": "code",
    "colab": {},
    "outputId": "493efe62-abe7-49db-e902-0dc0522e399e"
   },
   "source": [
    "9 % 2 == 0 or 9 % 3 == 0"
   ],
   "execution_count": 0,
   "outputs": [
    {
     "output_type": "execute_result",
     "data": {
      "text/plain": [
       "True"
      ]
     },
     "metadata": {
      "tags": []
     },
     "execution_count": 34
    }
   ]
  },
  {
   "cell_type": "code",
   "metadata": {
    "id": "1JHJevpwkM4x",
    "colab_type": "code",
    "colab": {},
    "outputId": "6a70d040-33c5-413d-846f-56b784bf064d"
   },
   "source": [
    "9 % 2 == 0 or 10 % 3 == 0"
   ],
   "execution_count": 0,
   "outputs": [
    {
     "output_type": "execute_result",
     "data": {
      "text/plain": [
       "False"
      ]
     },
     "metadata": {
      "tags": []
     },
     "execution_count": 35
    }
   ]
  },
  {
   "cell_type": "markdown",
   "metadata": {
    "id": "b9qIM7q3kM40",
    "colab_type": "text"
   },
   "source": [
    "the not operator negates a boolean expression, so **not** `(x > y)` is true if x > y is false, that is, if x is less than or equal to y."
   ]
  },
  {
   "cell_type": "code",
   "metadata": {
    "id": "dJSVvSdLkM40",
    "colab_type": "code",
    "colab": {},
    "outputId": "22d56b6a-25d2-479c-ea65-4027f89aff49"
   },
   "source": [
    "not (10 > 5)"
   ],
   "execution_count": 0,
   "outputs": [
    {
     "output_type": "execute_result",
     "data": {
      "text/plain": [
       "False"
      ]
     },
     "metadata": {
      "tags": []
     },
     "execution_count": 36
    }
   ]
  },
  {
   "cell_type": "code",
   "metadata": {
    "id": "qATne-FBkM48",
    "colab_type": "code",
    "colab": {},
    "outputId": "33c9dcc5-517e-43a2-cada-5f4f678ff3d3"
   },
   "source": [
    "(10 > 5)"
   ],
   "execution_count": 0,
   "outputs": [
    {
     "output_type": "execute_result",
     "data": {
      "text/plain": [
       "True"
      ]
     },
     "metadata": {
      "tags": []
     },
     "execution_count": 37
    }
   ]
  },
  {
   "cell_type": "markdown",
   "metadata": {
    "id": "IefneRbdkM5A",
    "colab_type": "text"
   },
   "source": [
    "## Conditional execution\n",
    "\n",
    "In order to write useful programs, we almost always need the ability to check conditions and change the behavior of the program accordingly. \n",
    "\n",
    "**Conditional statements** give us this ability. The simplest form is the if statement:"
   ]
  },
  {
   "cell_type": "code",
   "metadata": {
    "id": "1OdT9_R5kM5A",
    "colab_type": "code",
    "colab": {},
    "outputId": "94b25f9d-b54a-4dae-c082-f34711afaea1"
   },
   "source": [
    "x = 10 \n",
    "if x > 0:\n",
    "    print('x is positive')"
   ],
   "execution_count": 0,
   "outputs": [
    {
     "output_type": "stream",
     "text": [
      "x is positive\n"
     ],
     "name": "stdout"
    }
   ]
  },
  {
   "cell_type": "markdown",
   "metadata": {
    "id": "zAAXnguYkM5D",
    "colab_type": "text"
   },
   "source": [
    "The boolean expression after if is called the **condition**. If it is true, the indented statement runs. If not, nothing happens.\n",
    "\n",
    "`if` statements have the same structure as function definitions: a header followed by an indented body. \n",
    "\n",
    "Statements like this are called **compound statements**."
   ]
  },
  {
   "cell_type": "markdown",
   "metadata": {
    "id": "bQoX-s8xkM5D",
    "colab_type": "text"
   },
   "source": [
    "## Alternative execution\n",
    "\n",
    "A second form of the if statement is “alternative execution”, in which there are two possibilities and the condition determines which one runs. \n",
    "\n",
    "The alternatives are called **branches**, because they are branches in the flow of execution."
   ]
  },
  {
   "cell_type": "code",
   "metadata": {
    "id": "hfj9p1OikM5E",
    "colab_type": "code",
    "colab": {},
    "outputId": "4904723f-869a-443b-8de2-dfd1ecbd1da8"
   },
   "source": [
    "x = 10\n",
    "\n",
    "if x % 2 ==0:\n",
    "    print('x is even')\n",
    "else:\n",
    "    print('x is odd')\n"
   ],
   "execution_count": 0,
   "outputs": [
    {
     "output_type": "stream",
     "text": [
      "x is even\n"
     ],
     "name": "stdout"
    }
   ]
  },
  {
   "cell_type": "code",
   "metadata": {
    "id": "6OzcXOF5kM5I",
    "colab_type": "code",
    "colab": {}
   },
   "source": [
    "x = 9\n",
    "\n",
    "if x % 2 ==0:\n",
    "    print('x is even')\n",
    "else:\n",
    "    print('x is odd')"
   ],
   "execution_count": 0,
   "outputs": []
  },
  {
   "cell_type": "markdown",
   "metadata": {
    "id": "vHwJqLd5kM5M",
    "colab_type": "text"
   },
   "source": [
    "## Chained conditionals\n",
    "\n",
    "Sometimes there are more than two possibilities and we need more than two branches. \n",
    "\n",
    "`elif` is an abbreviation of “else if”. \n",
    "\n",
    "Exactly one branch will run. \n",
    "\n",
    "There is no limit on the number of elif statements. \n",
    "\n",
    "If there is an else clause, it has to be at the end, but there doesn’t have to be one.\n",
    "\n",
    "One way to express a computation like that is a **chained conditional**:"
   ]
  },
  {
   "cell_type": "code",
   "metadata": {
    "id": "4mKELgFRkM5N",
    "colab_type": "code",
    "colab": {},
    "outputId": "21c52884-2123-4f93-fe77-95d6899c453d"
   },
   "source": [
    "x = 10\n",
    "y = 11\n",
    "\n",
    "if x < y:\n",
    "    print('x is less than y')\n",
    "elif x > y:\n",
    "    print('x is greater than y')\n",
    "else:\n",
    "    print('x and y are equal')"
   ],
   "execution_count": 0,
   "outputs": [
    {
     "output_type": "stream",
     "text": [
      "x is less than y\n"
     ],
     "name": "stdout"
    }
   ]
  },
  {
   "cell_type": "code",
   "metadata": {
    "id": "oBRClqd1kM5P",
    "colab_type": "code",
    "colab": {}
   },
   "source": [
    "x = 12\n",
    "y = 11\n",
    "\n",
    "if x < y:\n",
    "    print('x is less than y')\n",
    "elif x > y:\n",
    "    print('x is greater than y')\n",
    "else:\n",
    "    print('x and y are equal')"
   ],
   "execution_count": 0,
   "outputs": []
  },
  {
   "cell_type": "code",
   "metadata": {
    "id": "uJbVOuwmkM5S",
    "colab_type": "code",
    "colab": {}
   },
   "source": [
    "x = 12\n",
    "y = 12\n",
    "\n",
    "if x < y:\n",
    "    print('x is less than y')\n",
    "elif x > y:\n",
    "    print('x is greater than y')\n",
    "else:\n",
    "    print('x and y are equal')"
   ],
   "execution_count": 0,
   "outputs": []
  },
  {
   "cell_type": "markdown",
   "metadata": {
    "id": "BGADAGCmkM5U",
    "colab_type": "text"
   },
   "source": [
    "## Nested conditionals\n",
    "\n",
    "- One conditional can also be nested within another. \n",
    "\n",
    "- The outer conditional contains two branches. \n",
    "\n",
    "- The first branch contains a simple statement. \n",
    "\n",
    "- The second branch contains another if statement, which has two branches of its own. \n",
    "\n",
    "    - Those two branches are both simple statements, although they could have been conditional statements as well.\n",
    "\n"
   ]
  },
  {
   "cell_type": "code",
   "metadata": {
    "id": "P5EvKtU0kM5V",
    "colab_type": "code",
    "colab": {},
    "outputId": "b997ca89-7b6a-4fe0-d192-ecb4fefdfe7b"
   },
   "source": [
    "x = 12\n",
    "y = 12\n",
    "\n",
    "if x == y:\n",
    "    print('x and y are equal')\n",
    "else:\n",
    "    if x < y:\n",
    "        print('x is less than y')\n",
    "    else:\n",
    "        print('x is greater than y')"
   ],
   "execution_count": 0,
   "outputs": [
    {
     "output_type": "stream",
     "text": [
      "x and y are equal\n"
     ],
     "name": "stdout"
    }
   ]
  },
  {
   "cell_type": "code",
   "metadata": {
    "id": "TV4a35RFkM5Y",
    "colab_type": "code",
    "colab": {}
   },
   "source": [
    "x = 12\n",
    "y = 11\n",
    "\n",
    "if x == y:\n",
    "    print('x and y are equal')\n",
    "else:\n",
    "    if x < y:\n",
    "        print('x is less than y')\n",
    "    else:\n",
    "        print('x is greater than y')"
   ],
   "execution_count": 0,
   "outputs": []
  },
  {
   "cell_type": "code",
   "metadata": {
    "id": "yffuqKK2kM5a",
    "colab_type": "code",
    "colab": {}
   },
   "source": [
    "x = 10\n",
    "y = 11\n",
    "\n",
    "if x == y:\n",
    "    print('x and y are equal')\n",
    "else:\n",
    "    if x < y:\n",
    "        print('x is less than y')\n",
    "    else:\n",
    "        print('x is greater than y')"
   ],
   "execution_count": 0,
   "outputs": []
  },
  {
   "cell_type": "markdown",
   "metadata": {
    "id": "hKtdSFC3kM5e",
    "colab_type": "text"
   },
   "source": [
    "Although the indentation of the statements makes the structure apparent, nested conditionals become difficult to read very quickly. \n",
    "\n",
    "**It is a good idea to avoid them when you can.**"
   ]
  },
  {
   "cell_type": "markdown",
   "metadata": {
    "id": "_0WlQ7DgkM5e",
    "colab_type": "text"
   },
   "source": [
    "## Recursion\n",
    "\n",
    "It is legal for one function to call another; it is also legal for a function to call itself. \n",
    "\n",
    "It may not be obvious why that is a good thing, but it turns out to be one of the most magical things a program can do. "
   ]
  },
  {
   "cell_type": "markdown",
   "metadata": {
    "id": "f1tjcpXGkM5f",
    "colab_type": "text"
   },
   "source": [
    "### What is recursion in Python?\n",
    "Recursion is the process of defining something in terms of itself.\n",
    "\n",
    "A physical world example would be to place two parallel mirrors facing each other. Any object in between them would be reflected recursively."
   ]
  },
  {
   "cell_type": "code",
   "metadata": {
    "id": "DSZ3JJI6kM5g",
    "colab_type": "code",
    "colab": {}
   },
   "source": [
    "def countdown(n):\n",
    "    if n <= 0:\n",
    "        print('Blastoff!')\n",
    "    else:\n",
    "        print(n)\n",
    "        countdown(n-1)"
   ],
   "execution_count": 0,
   "outputs": []
  },
  {
   "cell_type": "markdown",
   "metadata": {
    "id": "jxApTJ8bkM5i",
    "colab_type": "text"
   },
   "source": [
    "- If n is 0 or negative, it outputs the word, “Blastoff!” \n",
    "\n",
    "- Otherwise, it outputs n and then calls a function named countdown—itself—passing n-1 as an argument.\n",
    "\n"
   ]
  },
  {
   "cell_type": "code",
   "metadata": {
    "id": "EdEVa89wkM5j",
    "colab_type": "code",
    "colab": {},
    "outputId": "16ed15a9-1902-437f-d545-7e794cf05733"
   },
   "source": [
    "countdown(5)"
   ],
   "execution_count": 0,
   "outputs": [
    {
     "output_type": "stream",
     "text": [
      "5\n",
      "4\n",
      "3\n",
      "2\n",
      "1\n",
      "Blastoff!\n"
     ],
     "name": "stdout"
    }
   ]
  },
  {
   "cell_type": "markdown",
   "metadata": {
    "id": "tFBhb_sGkM5l",
    "colab_type": "text"
   },
   "source": [
    "## Infinite recursion\n",
    "\n",
    "- **Infinite recursion** is when a recursion never reaches a base case, it goes on making recursive calls forever, and the program never terminates.\n",
    "\n",
    "In most programming environments, a program with infinite recursion does not really run forever. Python reports an error message when the maximum recursion depth is reached:"
   ]
  },
  {
   "cell_type": "code",
   "metadata": {
    "id": "CZd4Fg0dkM5m",
    "colab_type": "code",
    "colab": {}
   },
   "source": [
    "def recursion():\n",
    "    recursion()"
   ],
   "execution_count": 0,
   "outputs": []
  },
  {
   "cell_type": "code",
   "metadata": {
    "id": "OzosNVwVkM5n",
    "colab_type": "code",
    "colab": {},
    "outputId": "f00a3189-a22e-4ea4-a49a-99e21473a1ca"
   },
   "source": [
    "recursion()"
   ],
   "execution_count": 0,
   "outputs": [
    {
     "output_type": "error",
     "ename": "RecursionError",
     "evalue": "maximum recursion depth exceeded",
     "traceback": [
      "\u001B[0;31m---------------------------------------------------------------------------\u001B[0m",
      "\u001B[0;31mRecursionError\u001B[0m                            Traceback (most recent call last)",
      "\u001B[0;32m<ipython-input-58-c6e0f7eb0cde>\u001B[0m in \u001B[0;36m<module>\u001B[0;34m()\u001B[0m\n\u001B[0;32m----> 1\u001B[0;31m \u001B[0mrecursion\u001B[0m\u001B[0;34m(\u001B[0m\u001B[0;34m)\u001B[0m\u001B[0;34m\u001B[0m\u001B[0m\n\u001B[0m",
      "\u001B[0;32m<ipython-input-57-d9b9ba688751>\u001B[0m in \u001B[0;36mrecursion\u001B[0;34m()\u001B[0m\n\u001B[1;32m      1\u001B[0m \u001B[0;32mdef\u001B[0m \u001B[0mrecursion\u001B[0m\u001B[0;34m(\u001B[0m\u001B[0;34m)\u001B[0m\u001B[0;34m:\u001B[0m\u001B[0;34m\u001B[0m\u001B[0m\n\u001B[0;32m----> 2\u001B[0;31m     \u001B[0mrecursion\u001B[0m\u001B[0;34m(\u001B[0m\u001B[0;34m)\u001B[0m\u001B[0;34m\u001B[0m\u001B[0m\n\u001B[0m",
      "... last 1 frames repeated, from the frame below ...\n",
      "\u001B[0;32m<ipython-input-57-d9b9ba688751>\u001B[0m in \u001B[0;36mrecursion\u001B[0;34m()\u001B[0m\n\u001B[1;32m      1\u001B[0m \u001B[0;32mdef\u001B[0m \u001B[0mrecursion\u001B[0m\u001B[0;34m(\u001B[0m\u001B[0;34m)\u001B[0m\u001B[0;34m:\u001B[0m\u001B[0;34m\u001B[0m\u001B[0m\n\u001B[0;32m----> 2\u001B[0;31m     \u001B[0mrecursion\u001B[0m\u001B[0;34m(\u001B[0m\u001B[0;34m)\u001B[0m\u001B[0;34m\u001B[0m\u001B[0m\n\u001B[0m",
      "\u001B[0;31mRecursionError\u001B[0m: maximum recursion depth exceeded"
     ]
    }
   ]
  },
  {
   "cell_type": "markdown",
   "metadata": {
    "id": "l3sEFbrwkM5q",
    "colab_type": "text"
   },
   "source": [
    "## Keyboard Input\n",
    "\n",
    "- Python provides a built-in function called `input` that stops the program and waits for the user to type something. \n",
    "\n",
    "- When the user presses Return or Enter, the program resumes and input returns what the user typed as a string. "
   ]
  },
  {
   "cell_type": "code",
   "metadata": {
    "id": "dfdyJ87EkM5r",
    "colab_type": "code",
    "colab": {},
    "outputId": "e1898b9a-69d0-44fb-a9ba-cbfd762a86e5"
   },
   "source": [
    "text = input()"
   ],
   "execution_count": 0,
   "outputs": [
    {
     "output_type": "stream",
     "text": [
      "blah\n"
     ],
     "name": "stdout"
    }
   ]
  },
  {
   "cell_type": "code",
   "metadata": {
    "id": "oNmxALOxkM5t",
    "colab_type": "code",
    "colab": {},
    "outputId": "b96f082d-332a-4bfd-be2f-688a9cb2be84"
   },
   "source": [
    "text"
   ],
   "execution_count": 0,
   "outputs": [
    {
     "output_type": "execute_result",
     "data": {
      "text/plain": [
       "'blah'"
      ]
     },
     "metadata": {
      "tags": []
     },
     "execution_count": 60
    }
   ]
  },
  {
   "cell_type": "code",
   "metadata": {
    "id": "plsHDXu0kM5v",
    "colab_type": "code",
    "colab": {},
    "outputId": "a27cade9-fce8-414c-edab-3bfa6a271352"
   },
   "source": [
    "number = input('Pick a number between 1 and 3:\\n')"
   ],
   "execution_count": 0,
   "outputs": [
    {
     "output_type": "stream",
     "text": [
      "Pick a number between 1 and 3:\n",
      "2\n"
     ],
     "name": "stdout"
    }
   ]
  },
  {
   "cell_type": "code",
   "metadata": {
    "id": "VhrC1F-DkM5z",
    "colab_type": "code",
    "colab": {},
    "outputId": "cf579302-12e6-4ed9-c6f7-35a8c19e227b"
   },
   "source": [
    "number"
   ],
   "execution_count": 0,
   "outputs": [
    {
     "output_type": "execute_result",
     "data": {
      "text/plain": [
       "'2'"
      ]
     },
     "metadata": {
      "tags": []
     },
     "execution_count": 62
    }
   ]
  },
  {
   "cell_type": "code",
   "metadata": {
    "id": "BkwGQzX5kM51",
    "colab_type": "code",
    "colab": {},
    "outputId": "00ecbc11-03ea-47c8-d2c8-128c39d46005"
   },
   "source": [
    "int(number)"
   ],
   "execution_count": 0,
   "outputs": [
    {
     "output_type": "execute_result",
     "data": {
      "text/plain": [
       "2"
      ]
     },
     "metadata": {
      "tags": []
     },
     "execution_count": 63
    }
   ]
  },
  {
   "cell_type": "markdown",
   "metadata": {
    "id": "vSBxPg8TkM53",
    "colab_type": "text"
   },
   "source": [
    "What if they typed out the digits instead?"
   ]
  },
  {
   "cell_type": "code",
   "metadata": {
    "id": "A30wLBZ7kM54",
    "colab_type": "code",
    "colab": {},
    "outputId": "56900866-2f99-4029-bd30-a42fc1ce64f4"
   },
   "source": [
    "number = input('Pick a number between 1 and 3:\\n')"
   ],
   "execution_count": 0,
   "outputs": [
    {
     "output_type": "stream",
     "text": [
      "Pick a number between 1 and 3:\n",
      "two\n"
     ],
     "name": "stdout"
    }
   ]
  },
  {
   "cell_type": "code",
   "metadata": {
    "id": "GpuPsDeqkM57",
    "colab_type": "code",
    "colab": {},
    "outputId": "679c4275-0ddc-488f-cfad-6cbc66d73fbf",
    "pycharm": {
     "name": "#%%\n"
    }
   },
   "source": [
    "int(number)\n",
    "\n",
    "\n"
   ],
   "execution_count": 0,
   "outputs": [
    {
     "output_type": "error",
     "ename": "ValueError",
     "evalue": "invalid literal for int() with base 10: 'two'",
     "traceback": [
      "\u001B[0;31m---------------------------------------------------------------------------\u001B[0m",
      "\u001B[0;31mValueError\u001B[0m                                Traceback (most recent call last)",
      "\u001B[0;32m<ipython-input-65-23a75fe4b6c6>\u001B[0m in \u001B[0;36m<module>\u001B[0;34m()\u001B[0m\n\u001B[0;32m----> 1\u001B[0;31m \u001B[0mint\u001B[0m\u001B[0;34m(\u001B[0m\u001B[0mnumber\u001B[0m\u001B[0;34m)\u001B[0m\u001B[0;34m\u001B[0m\u001B[0m\n\u001B[0m",
      "\u001B[0;31mValueError\u001B[0m: invalid literal for int() with base 10: 'two'"
     ]
    }
   ]
  }
 ]
}