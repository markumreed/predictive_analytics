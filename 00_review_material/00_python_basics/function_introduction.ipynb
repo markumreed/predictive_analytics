{
 "nbformat": 4,
 "nbformat_minor": 0,
 "metadata": {
  "kernelspec": {
   "display_name": "Python 3",
   "language": "python",
   "name": "python3"
  },
  "language_info": {
   "codemirror_mode": {
    "name": "ipython",
    "version": 3
   },
   "file_extension": ".py",
   "mimetype": "text/x-python",
   "name": "python",
   "nbconvert_exporter": "python",
   "pygments_lexer": "ipython3",
   "version": "3.5.3"
  },
  "colab": {
   "name": "function_introduction.ipynb",
   "provenance": [],
   "include_colab_link": true
  }
 },
 "cells": [
  {
   "cell_type": "markdown",
   "metadata": {
    "id": "view-in-github",
    "colab_type": "text"
   },
   "source": [
    "<a href=\"https://colab.research.google.com/github/SoIllEconomist/ds4b/blob/master/python_ds4b/python_basics/course_restart/function_introduction.ipynb\" target=\"_parent\"><img src=\"https://colab.research.google.com/assets/colab-badge.svg\" alt=\"Open In Colab\"/></a>"
   ]
  },
  {
   "cell_type": "markdown",
   "metadata": {
    "id": "Sv1gsJ9BlLd1",
    "colab_type": "text"
   },
   "source": [
    "# Functions\n",
    "**function** is a named sequence of statements that performs a computation. \n",
    "\n",
    "- When you define a function, you specify the name and the sequence of statements. \n",
    "\n",
    "- Later, you can “call” the function by name."
   ]
  },
  {
   "cell_type": "markdown",
   "metadata": {
    "id": "ARBAwPlKlLd7",
    "colab_type": "text"
   },
   "source": [
    "## Function calls\n",
    "\n",
    "We've already see a **function call**:"
   ]
  },
  {
   "cell_type": "code",
   "metadata": {
    "id": "cC6U6KXJlLeA",
    "colab_type": "code",
    "colab": {},
    "outputId": "7e2d8165-fbd6-43e7-c0a1-f467d2c40552"
   },
   "source": [
    "type(42)"
   ],
   "execution_count": 0,
   "outputs": [
    {
     "output_type": "execute_result",
     "data": {
      "text/plain": [
       "int"
      ]
     },
     "metadata": {
      "tags": []
     },
     "execution_count": 1
    }
   ]
  },
  {
   "cell_type": "markdown",
   "metadata": {
    "id": "akBvUtw-lLeH",
    "colab_type": "text"
   },
   "source": [
    "- The name of the function is type. \n",
    "\n",
    "- The expression in parentheses is called the argument of the function. \n",
    "\n",
    "- The result, for this function, is the type of the **argument**.\n",
    "\n",
    "- It is common to say that a function “takes” an argument and “returns” a result. The result is also called the **return value**."
   ]
  },
  {
   "cell_type": "code",
   "metadata": {
    "id": "6FdIGBzwlLeI",
    "colab_type": "code",
    "colab": {},
    "outputId": "4e29a4b2-8ae3-446e-9744-a39207770cf9"
   },
   "source": [
    "int('32') # string to int"
   ],
   "execution_count": 0,
   "outputs": [
    {
     "output_type": "execute_result",
     "data": {
      "text/plain": [
       "32"
      ]
     },
     "metadata": {
      "tags": []
     },
     "execution_count": 2
    }
   ]
  },
  {
   "cell_type": "code",
   "metadata": {
    "id": "-u_z1oz0lLeM",
    "colab_type": "code",
    "colab": {},
    "outputId": "46bd75d5-c829-42a1-86d9-1c48468102bc"
   },
   "source": [
    "int('Hello')"
   ],
   "execution_count": 0,
   "outputs": [
    {
     "output_type": "error",
     "ename": "ValueError",
     "evalue": "invalid literal for int() with base 10: 'Hello'",
     "traceback": [
      "\u001B[0;31m---------------------------------------------------------------------------\u001B[0m",
      "\u001B[0;31mValueError\u001B[0m                                Traceback (most recent call last)",
      "\u001B[0;32m<ipython-input-3-6765ce49acfe>\u001B[0m in \u001B[0;36m<module>\u001B[0;34m()\u001B[0m\n\u001B[0;32m----> 1\u001B[0;31m \u001B[0mint\u001B[0m\u001B[0;34m(\u001B[0m\u001B[0;34m'Hello'\u001B[0m\u001B[0;34m)\u001B[0m\u001B[0;34m\u001B[0m\u001B[0m\n\u001B[0m",
      "\u001B[0;31mValueError\u001B[0m: invalid literal for int() with base 10: 'Hello'"
     ]
    }
   ]
  },
  {
   "cell_type": "code",
   "metadata": {
    "id": "nR4RK_NglLeR",
    "colab_type": "code",
    "colab": {},
    "outputId": "e65dec93-c155-42a7-a861-1b9ab27407ee"
   },
   "source": [
    "float(32) # int / string to float"
   ],
   "execution_count": 0,
   "outputs": [
    {
     "output_type": "execute_result",
     "data": {
      "text/plain": [
       "32.0"
      ]
     },
     "metadata": {
      "tags": []
     },
     "execution_count": 4
    }
   ]
  },
  {
   "cell_type": "code",
   "metadata": {
    "id": "pHw0CZC-lLeV",
    "colab_type": "code",
    "colab": {},
    "outputId": "ebfa1efe-d5d8-4e38-fa3d-22d97f6fd414"
   },
   "source": [
    "float('3.14')"
   ],
   "execution_count": 0,
   "outputs": [
    {
     "output_type": "execute_result",
     "data": {
      "text/plain": [
       "3.14"
      ]
     },
     "metadata": {
      "tags": []
     },
     "execution_count": 6
    }
   ]
  },
  {
   "cell_type": "code",
   "metadata": {
    "id": "fmOCuXevlLea",
    "colab_type": "code",
    "colab": {},
    "outputId": "a6f2afb0-5e6e-47a2-9f6e-84a963629f49"
   },
   "source": [
    "str(31) # int / float to string"
   ],
   "execution_count": 0,
   "outputs": [
    {
     "output_type": "execute_result",
     "data": {
      "text/plain": [
       "'31'"
      ]
     },
     "metadata": {
      "tags": []
     },
     "execution_count": 7
    }
   ]
  },
  {
   "cell_type": "markdown",
   "metadata": {
    "id": "HYgLkJwtlLed",
    "colab_type": "text"
   },
   "source": [
    "## Math functions\n",
    "\n",
    "Python has a math module that provides most of the familiar mathematical functions. \n",
    "\n",
    "- A **module** is a file that contains a collection of related functions.\n",
    "\n",
    "- Before we can use the functions in a module, we have to import it with an **import statement**:\n"
   ]
  },
  {
   "cell_type": "code",
   "metadata": {
    "id": "aQS6xENClLee",
    "colab_type": "code",
    "colab": {}
   },
   "source": [
    "import math"
   ],
   "execution_count": 0,
   "outputs": []
  },
  {
   "cell_type": "markdown",
   "metadata": {
    "id": "_sbqKelJlLei",
    "colab_type": "text"
   },
   "source": [
    "This statement creates a **module object** named math. "
   ]
  },
  {
   "cell_type": "code",
   "metadata": {
    "id": "TxGKfhJTlLej",
    "colab_type": "code",
    "colab": {},
    "outputId": "5ac21c05-e1b3-4fc1-a02f-24ef7d99a442"
   },
   "source": [
    "math"
   ],
   "execution_count": 0,
   "outputs": [
    {
     "output_type": "execute_result",
     "data": {
      "text/plain": [
       "<module 'math' from '/anaconda3/lib/python3.6/lib-dynload/math.cpython-36m-darwin.so'>"
      ]
     },
     "metadata": {
      "tags": []
     },
     "execution_count": 9
    }
   ]
  },
  {
   "cell_type": "markdown",
   "metadata": {
    "id": "0T6zitN7lLel",
    "colab_type": "text"
   },
   "source": [
    "The module object contains the functions and variables defined in the module. \n",
    "\n",
    "- To access one of the functions, you have to specify the name of the module and the name of the function, separated by a period. \n",
    "\n",
    "    - This format is called **dot notation**\n",
    "    \n",
    "### Example"
   ]
  },
  {
   "cell_type": "code",
   "metadata": {
    "id": "HvYP_yySlLem",
    "colab_type": "code",
    "colab": {},
    "outputId": "0ebd1da0-e4ce-4605-d834-4ae3bfa9bbf7"
   },
   "source": [
    "degrees = 45\n",
    "radians = degrees / 180.0 * math.pi\n",
    "math.sin(radians)"
   ],
   "execution_count": 0,
   "outputs": [
    {
     "output_type": "execute_result",
     "data": {
      "text/plain": [
       "0.7071067811865475"
      ]
     },
     "metadata": {
      "tags": []
     },
     "execution_count": 5
    }
   ]
  },
  {
   "cell_type": "markdown",
   "metadata": {
    "id": "6_ZSHxEvlLep",
    "colab_type": "text"
   },
   "source": [
    "The expression `math.pi` gets the variable pi from the math module. \n",
    "\n",
    "Its value is a floating-point approximation of $\\pi$, accurate to about 15 digits."
   ]
  },
  {
   "cell_type": "code",
   "metadata": {
    "id": "ppcdGtlhlLep",
    "colab_type": "code",
    "colab": {},
    "outputId": "65a8e7a9-bbf0-4bb6-f163-495d6ca96ec1"
   },
   "source": [
    "math.pi"
   ],
   "execution_count": 0,
   "outputs": [
    {
     "output_type": "execute_result",
     "data": {
      "text/plain": [
       "3.141592653589793"
      ]
     },
     "metadata": {
      "tags": []
     },
     "execution_count": 4
    }
   ]
  },
  {
   "cell_type": "markdown",
   "metadata": {
    "id": "3WFqm-HklLes",
    "colab_type": "text"
   },
   "source": [
    "## New Functions\n",
    "\n",
    "A **function definition** specifies the name of a new function and the sequence of statements that run when the function is called."
   ]
  },
  {
   "cell_type": "code",
   "metadata": {
    "id": "deKeb8lAlLet",
    "colab_type": "code",
    "colab": {}
   },
   "source": [
    "def print_lyrics():\n",
    "    print(\"Hello darkness my old friend\")\n",
    "    print(\"Pink fluffy unicorns!\")"
   ],
   "execution_count": 0,
   "outputs": []
  },
  {
   "cell_type": "markdown",
   "metadata": {
    "id": "mt-hfwzHlLev",
    "colab_type": "text"
   },
   "source": [
    "`def` is a keyword that indicates that this is a function definition.\n",
    "\n",
    "Defining a function creates a **function object**, which has type function:"
   ]
  },
  {
   "cell_type": "code",
   "metadata": {
    "id": "Axf8pyoklLew",
    "colab_type": "code",
    "colab": {},
    "outputId": "a8d0dcf9-bb4a-4422-d958-6a83e0634878"
   },
   "source": [
    "type(print_lyrics)"
   ],
   "execution_count": 0,
   "outputs": [
    {
     "output_type": "execute_result",
     "data": {
      "text/plain": [
       "function"
      ]
     },
     "metadata": {
      "tags": []
     },
     "execution_count": 8
    }
   ]
  },
  {
   "cell_type": "code",
   "metadata": {
    "id": "J3Cms9t1lLe0",
    "colab_type": "code",
    "colab": {},
    "outputId": "9975c210-71c5-43fc-f78a-851c726f2307"
   },
   "source": [
    "print_lyrics()"
   ],
   "execution_count": 0,
   "outputs": [
    {
     "output_type": "stream",
     "text": [
      "Hello darkness my old friend\n",
      "Pink fluffy unicorns!\n"
     ],
     "name": "stdout"
    }
   ]
  },
  {
   "cell_type": "markdown",
   "metadata": {
    "id": "RBgqN2r6lLe3",
    "colab_type": "text"
   },
   "source": [
    "Once you have defined a function, you can use it inside another function."
   ]
  },
  {
   "cell_type": "code",
   "metadata": {
    "id": "rprFV6nPlLe3",
    "colab_type": "code",
    "colab": {}
   },
   "source": [
    "def repeat_lyrics():\n",
    "    print_lyrics()\n",
    "    print_lyrics()"
   ],
   "execution_count": 0,
   "outputs": []
  },
  {
   "cell_type": "code",
   "metadata": {
    "id": "NBSbWqZhlLe6",
    "colab_type": "code",
    "colab": {},
    "outputId": "747bd9bb-d21f-4ba2-bc33-fd38e8068d99"
   },
   "source": [
    "repeat_lyrics()"
   ],
   "execution_count": 0,
   "outputs": [
    {
     "output_type": "stream",
     "text": [
      "Hello darkness my old friend\n",
      "Pink fluffy unicorns!\n",
      "Hello darkness my old friend\n",
      "Pink fluffy unicorns!\n"
     ],
     "name": "stdout"
    }
   ]
  },
  {
   "cell_type": "markdown",
   "metadata": {
    "id": "AhzT3aCxlLe8",
    "colab_type": "text"
   },
   "source": [
    "## Definitions and Uses\n",
    "\n",
    "Pulling together the code fragments from the previous section, the whole program looks like this:\n",
    "\n",
    "```python\n",
    "def print_lyrics():\n",
    "    print(\"I'm a lumberjack, and I'm okay.\")\n",
    "    print(\"I sleep all night and I work all day.\")\n",
    "\n",
    "def repeat_lyrics():\n",
    "    print_lyrics()\n",
    "    print_lyrics()\n",
    "\n",
    "repeat_lyrics()\n",
    "```\n",
    "\n",
    "This program contains two function definitions: `print_lyrics` and `repeat_lyrics`. \n",
    "\n",
    "You have to create a function before you can run it. In other words, the function definition has to run before the function gets called."
   ]
  },
  {
   "cell_type": "markdown",
   "metadata": {
    "id": "KrO2opaFlLe9",
    "colab_type": "text"
   },
   "source": [
    "## Parameters and arguments\n",
    "\n",
    "Some of the functions we have seen require arguments.\n",
    "\n",
    "Inside the function, the arguments are assigned to variables called **parameters**. Here is a definition for a function that takes an argument:"
   ]
  },
  {
   "cell_type": "code",
   "metadata": {
    "id": "uaWfkoJClLe-",
    "colab_type": "code",
    "colab": {}
   },
   "source": [
    "def print_twice(param):\n",
    "    print(param)\n",
    "    print(param)"
   ],
   "execution_count": 0,
   "outputs": []
  },
  {
   "cell_type": "code",
   "metadata": {
    "id": "jIdGDq6MlLfA",
    "colab_type": "code",
    "colab": {},
    "outputId": "852fb55a-6685-40b2-d00c-7a770821d1ac"
   },
   "source": [
    "print_twice('Hello')"
   ],
   "execution_count": 0,
   "outputs": [
    {
     "output_type": "stream",
     "text": [
      "Hello\n",
      "Hello\n"
     ],
     "name": "stdout"
    }
   ]
  },
  {
   "cell_type": "code",
   "metadata": {
    "id": "4SMXnf9LlLfF",
    "colab_type": "code",
    "colab": {},
    "outputId": "571197c4-9cdb-444b-e1a8-4a06cff116ea"
   },
   "source": [
    "print_twice(42)"
   ],
   "execution_count": 0,
   "outputs": [
    {
     "output_type": "stream",
     "text": [
      "42\n",
      "42\n"
     ],
     "name": "stdout"
    }
   ]
  },
  {
   "cell_type": "code",
   "metadata": {
    "id": "3I9fCy0vlLfJ",
    "colab_type": "code",
    "colab": {},
    "outputId": "60e0f72f-d0f5-466f-a49b-ead1b22265ec"
   },
   "source": [
    "print_twice(math.pi)"
   ],
   "execution_count": 0,
   "outputs": [
    {
     "output_type": "stream",
     "text": [
      "3.141592653589793\n",
      "3.141592653589793\n"
     ],
     "name": "stdout"
    }
   ]
  },
  {
   "cell_type": "code",
   "metadata": {
    "id": "wcOmIO3LlLfL",
    "colab_type": "code",
    "colab": {},
    "outputId": "701ec645-62b6-4629-b7d1-11392c6f3262"
   },
   "source": [
    "print_twice('Spam ' * 10)"
   ],
   "execution_count": 0,
   "outputs": [
    {
     "output_type": "stream",
     "text": [
      "Spam Spam Spam Spam Spam Spam Spam Spam Spam Spam \n",
      "Spam Spam Spam Spam Spam Spam Spam Spam Spam Spam \n"
     ],
     "name": "stdout"
    }
   ]
  },
  {
   "cell_type": "code",
   "metadata": {
    "id": "c6CsR4atlLfN",
    "colab_type": "code",
    "colab": {},
    "outputId": "38d082e7-6b36-4f34-ed7d-17544be3bd00"
   },
   "source": [
    "print_twice(math.cos(math.pi))"
   ],
   "execution_count": 0,
   "outputs": [
    {
     "output_type": "stream",
     "text": [
      "-1.0\n",
      "-1.0\n"
     ],
     "name": "stdout"
    }
   ]
  },
  {
   "cell_type": "markdown",
   "metadata": {
    "id": "ym6l1WgFlLfP",
    "colab_type": "text"
   },
   "source": [
    "The argument is evaluated before the function is called, so in the examples the expressions `'Spam '*10` and `math.cos(math.pi)` are only evaluated once."
   ]
  },
  {
   "cell_type": "code",
   "metadata": {
    "id": "EcH87ONSlLfQ",
    "colab_type": "code",
    "colab": {}
   },
   "source": [
    "spam = 'Spam is the king of breakfast!'"
   ],
   "execution_count": 0,
   "outputs": []
  },
  {
   "cell_type": "code",
   "metadata": {
    "id": "1rDeltJolLfT",
    "colab_type": "code",
    "colab": {},
    "outputId": "9905b182-db9f-4505-e1bc-56019f0c27c7"
   },
   "source": [
    "print_twice(spam)"
   ],
   "execution_count": 0,
   "outputs": [
    {
     "output_type": "stream",
     "text": [
      "Spam is the king of breakfast!\n",
      "Spam is the king of breakfast!\n"
     ],
     "name": "stdout"
    }
   ]
  },
  {
   "cell_type": "markdown",
   "metadata": {
    "id": "f3IeoWrXlLfW",
    "colab_type": "text"
   },
   "source": [
    "## Variables and parameters are local\n",
    "\n",
    "When you create a variable inside a function, it is **local**, which means that it only exists inside the function. For example:"
   ]
  },
  {
   "cell_type": "code",
   "metadata": {
    "id": "XA5gUR21lLfW",
    "colab_type": "code",
    "colab": {}
   },
   "source": [
    "def cat_twice(part1, part2):\n",
    "    cat = part1 + part2\n",
    "    print_twice(cat)"
   ],
   "execution_count": 0,
   "outputs": []
  },
  {
   "cell_type": "markdown",
   "metadata": {
    "id": "q9Fyjy5olLfY",
    "colab_type": "text"
   },
   "source": [
    "This function takes two arguments, concatenates them, and prints the result twice. Here is an example that uses it:"
   ]
  },
  {
   "cell_type": "code",
   "metadata": {
    "id": "z9F0R3LIlLfZ",
    "colab_type": "code",
    "colab": {},
    "outputId": "ec75d103-874f-4a76-daca-8e8da1e5aeb1"
   },
   "source": [
    "line1 = 'Hello Darkness! '\n",
    "line2 = 'Big Fluffy Unicorns!'\n",
    "cat_twice(line1, line2)"
   ],
   "execution_count": 0,
   "outputs": [
    {
     "output_type": "stream",
     "text": [
      "Hello Darkness! Big Fluffy Unicorns!\n",
      "Hello Darkness! Big Fluffy Unicorns!\n"
     ],
     "name": "stdout"
    }
   ]
  },
  {
   "cell_type": "markdown",
   "metadata": {
    "id": "GpWylxpSlLfb",
    "colab_type": "text"
   },
   "source": [
    "When cat_twice terminates, the variable cat is destroyed. If we try to print it, we get an exception:"
   ]
  },
  {
   "cell_type": "code",
   "metadata": {
    "id": "I6t3Woa9lLfc",
    "colab_type": "code",
    "colab": {},
    "outputId": "5d3bb8c6-6e76-4fb0-9ce0-5875fb8096bc"
   },
   "source": [
    "print(cat)"
   ],
   "execution_count": 0,
   "outputs": [
    {
     "output_type": "error",
     "ename": "NameError",
     "evalue": "name 'cat' is not defined",
     "traceback": [
      "\u001B[0;31m---------------------------------------------------------------------------\u001B[0m",
      "\u001B[0;31mNameError\u001B[0m                                 Traceback (most recent call last)",
      "\u001B[0;32m<ipython-input-28-34599fba884e>\u001B[0m in \u001B[0;36m<module>\u001B[0;34m()\u001B[0m\n\u001B[0;32m----> 1\u001B[0;31m \u001B[0mprint\u001B[0m\u001B[0;34m(\u001B[0m\u001B[0mcat\u001B[0m\u001B[0;34m)\u001B[0m\u001B[0;34m\u001B[0m\u001B[0m\n\u001B[0m",
      "\u001B[0;31mNameError\u001B[0m: name 'cat' is not defined"
     ]
    }
   ]
  },
  {
   "cell_type": "markdown",
   "metadata": {
    "id": "Dal5qs6blLfe",
    "colab_type": "text"
   },
   "source": [
    "## Why functions\n",
    "\n",
    "It may not be clear why it is worth the trouble to divide a program into functions. There are several reasons:\n",
    "\n",
    "- Creating a new function gives you an opportunity to name a group of statements, which makes your program easier to read and debug.\n",
    "- Functions can make a program smaller by eliminating repetitive code. Later, if you make a change, you only have to make it in one place.\n",
    "- Dividing a long program into functions allows you to debug the parts one at a time and then assemble them into a working whole.\n",
    "- Well-designed functions are often useful for many programs. Once you write and debug one, you can reuse it."
   ]
  }
 ]
}