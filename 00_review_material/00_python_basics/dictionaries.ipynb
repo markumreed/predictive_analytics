{
 "nbformat": 4,
 "nbformat_minor": 0,
 "metadata": {
  "kernelspec": {
   "display_name": "Python 3",
   "language": "python",
   "name": "python3"
  },
  "language_info": {
   "codemirror_mode": {
    "name": "ipython",
    "version": 3
   },
   "file_extension": ".py",
   "mimetype": "text/x-python",
   "name": "python",
   "nbconvert_exporter": "python",
   "pygments_lexer": "ipython3",
   "version": "3.6.5"
  },
  "colab": {
   "name": "dictionaries.ipynb",
   "provenance": [],
   "include_colab_link": true
  }
 },
 "cells": [
  {
   "cell_type": "markdown",
   "metadata": {
    "id": "view-in-github",
    "colab_type": "text"
   },
   "source": [
    "<a href=\"https://colab.research.google.com/github/SoIllEconomist/ds4b/blob/master/python_ds4b/python_basics/course_restart/dictionaries.ipynb\" target=\"_parent\"><img src=\"https://colab.research.google.com/assets/colab-badge.svg\" alt=\"Open In Colab\"/></a>"
   ]
  },
  {
   "cell_type": "markdown",
   "metadata": {
    "id": "ntGcTMIBkesa",
    "colab_type": "text"
   },
   "source": [
    "# Dictionaries\n",
    "A **dictionary** is like a list, but more general. In a list, the indices have to be integers; in a dictionary they can be (almost) any type.\n",
    "\n",
    "- A dictionary contains a collection of indices, which are called **keys**, and a collection of **values**\n",
    "\n",
    "- Each key is associated with a single value. \n",
    "\n",
    "- The association of a key and a value is called a \n",
    "**key-value pair**\n",
    "\n",
    "- Dictionaries represent a **mapping** from keys to values, so you can also say that each key “maps to” a value\n",
    "\n",
    "- The function `dict` creates a new dictionary with no items"
   ]
  },
  {
   "cell_type": "code",
   "metadata": {
    "id": "mc0mYZohkesd",
    "colab_type": "code",
    "colab": {},
    "outputId": "362f7660-2fdc-41ff-9e37-18e0aa41910a"
   },
   "source": [
    "en2ch = dict()\n",
    "en2ch"
   ],
   "execution_count": 0,
   "outputs": [
    {
     "output_type": "execute_result",
     "data": {
      "text/plain": [
       "{}"
      ]
     },
     "metadata": {
      "tags": []
     },
     "execution_count": 3
    }
   ]
  },
  {
   "cell_type": "markdown",
   "metadata": {
    "id": "DkT1uHPCkesi",
    "colab_type": "text"
   },
   "source": [
    "squiggly-brackets, `{}`, represent an empty dictionary. To add items to the dictionary, you can use square brackets:"
   ]
  },
  {
   "cell_type": "code",
   "metadata": {
    "id": "O8caP564kesj",
    "colab_type": "code",
    "colab": {}
   },
   "source": [
    "en2ch['one'] = 'yi'"
   ],
   "execution_count": 0,
   "outputs": []
  },
  {
   "cell_type": "markdown",
   "metadata": {
    "id": "Z2f1of2ikesm",
    "colab_type": "text"
   },
   "source": [
    "- This line creates an item that maps from the key 'one' to the value 'yi'. \n",
    "\n",
    "- If we print the dictionary again, we see a key-value pair with a colon between the key and value:"
   ]
  },
  {
   "cell_type": "code",
   "metadata": {
    "id": "qXjrkM5Ikesn",
    "colab_type": "code",
    "colab": {},
    "outputId": "526a502b-eca2-4ad1-e1f5-ff559fde15d3"
   },
   "source": [
    "en2ch"
   ],
   "execution_count": 0,
   "outputs": [
    {
     "output_type": "execute_result",
     "data": {
      "text/plain": [
       "{'one': 'yi'}"
      ]
     },
     "metadata": {
      "tags": []
     },
     "execution_count": 5
    }
   ]
  },
  {
   "cell_type": "markdown",
   "metadata": {
    "id": "zDPuter9kesq",
    "colab_type": "text"
   },
   "source": [
    "This output format is also an input format. For example, you can create a new dictionary with three items:"
   ]
  },
  {
   "cell_type": "code",
   "metadata": {
    "id": "ojni9Hmikesr",
    "colab_type": "code",
    "colab": {},
    "outputId": "eda8d83d-1faf-4751-f31c-8c5c60fb56f4"
   },
   "source": [
    "en2ch = {'one':'yi','two':'er','three':'san'}\n",
    "en2ch"
   ],
   "execution_count": 0,
   "outputs": [
    {
     "output_type": "execute_result",
     "data": {
      "text/plain": [
       "{'one': 'yi', 'two': 'er', 'three': 'san'}"
      ]
     },
     "metadata": {
      "tags": []
     },
     "execution_count": 1
    }
   ]
  },
  {
   "cell_type": "markdown",
   "metadata": {
    "id": "WrN8Xvqkkesu",
    "colab_type": "text"
   },
   "source": [
    "- The order of the key-value pairs might not be the same\n",
    "\n",
    "- If you type the same example on your computer, you might get a different result\n",
    "\n",
    "    - The order of items in a dictionary is unpredictable.\n",
    "- Not a problem since the elements of a dictionary are never indexed with integer indices\n",
    "- Instead, you use the keys to look up the corresponding values:"
   ]
  },
  {
   "cell_type": "code",
   "metadata": {
    "id": "z4G5VzAfkesu",
    "colab_type": "code",
    "colab": {},
    "outputId": "805e5b59-101c-4967-fcad-782b37770808"
   },
   "source": [
    "en2ch['two']"
   ],
   "execution_count": 0,
   "outputs": [
    {
     "output_type": "execute_result",
     "data": {
      "text/plain": [
       "'er'"
      ]
     },
     "metadata": {
      "tags": []
     },
     "execution_count": 13
    }
   ]
  },
  {
   "cell_type": "markdown",
   "metadata": {
    "id": "tDql9nn1kesx",
    "colab_type": "text"
   },
   "source": [
    "- The key 'two' always maps to the value 'er' so the order of the items doesn’t matter.\n",
    "\n",
    "- If the key isn’t in the dictionary, you get an exception:"
   ]
  },
  {
   "cell_type": "code",
   "metadata": {
    "id": "l_20jfVDkesy",
    "colab_type": "code",
    "colab": {},
    "outputId": "a2190630-d170-44b5-f876-5931137e3030"
   },
   "source": [
    "en2ch['four']"
   ],
   "execution_count": 0,
   "outputs": [
    {
     "output_type": "error",
     "ename": "KeyError",
     "evalue": "'four'",
     "traceback": [
      "\u001B[0;31m---------------------------------------------------------------------------\u001B[0m",
      "\u001B[0;31mKeyError\u001B[0m                                  Traceback (most recent call last)",
      "\u001B[0;32m<ipython-input-14-bf386d070566>\u001B[0m in \u001B[0;36m<module>\u001B[0;34m()\u001B[0m\n\u001B[0;32m----> 1\u001B[0;31m \u001B[0men2ch\u001B[0m\u001B[0;34m[\u001B[0m\u001B[0;34m'four'\u001B[0m\u001B[0;34m]\u001B[0m\u001B[0;34m\u001B[0m\u001B[0m\n\u001B[0m",
      "\u001B[0;31mKeyError\u001B[0m: 'four'"
     ]
    }
   ]
  },
  {
   "cell_type": "markdown",
   "metadata": {
    "id": "lsw_g9yGkes1",
    "colab_type": "text"
   },
   "source": [
    "The `len` function works on dictionaries; it returns the number of key-value pairs:"
   ]
  },
  {
   "cell_type": "code",
   "metadata": {
    "id": "M8kQUwihkes2",
    "colab_type": "code",
    "colab": {},
    "outputId": "b6d1e9fc-4390-4e04-c693-e70da5102063"
   },
   "source": [
    "len(en2ch)"
   ],
   "execution_count": 0,
   "outputs": [
    {
     "output_type": "execute_result",
     "data": {
      "text/plain": [
       "3"
      ]
     },
     "metadata": {
      "tags": []
     },
     "execution_count": 15
    }
   ]
  },
  {
   "cell_type": "markdown",
   "metadata": {
    "id": "NV8o8OPkkes4",
    "colab_type": "text"
   },
   "source": [
    "The `in` operator works on dictionaries; it tells you whether something appears as a **key** in the dictionary"
   ]
  },
  {
   "cell_type": "code",
   "metadata": {
    "id": "r-83cPeQkes5",
    "colab_type": "code",
    "colab": {},
    "outputId": "f171f5a4-f4c2-4090-ab04-6b1a757135a1"
   },
   "source": [
    "'one' in en2ch"
   ],
   "execution_count": 0,
   "outputs": [
    {
     "output_type": "execute_result",
     "data": {
      "text/plain": [
       "True"
      ]
     },
     "metadata": {
      "tags": []
     },
     "execution_count": 2
    }
   ]
  },
  {
   "cell_type": "code",
   "metadata": {
    "id": "KeW25Ngpkes7",
    "colab_type": "code",
    "colab": {},
    "outputId": "49e426e2-0b0a-4090-8e66-d8ccabbc7acc"
   },
   "source": [
    "'yi' in en2ch"
   ],
   "execution_count": 0,
   "outputs": [
    {
     "output_type": "execute_result",
     "data": {
      "text/plain": [
       "False"
      ]
     },
     "metadata": {
      "tags": []
     },
     "execution_count": 3
    }
   ]
  },
  {
   "cell_type": "markdown",
   "metadata": {
    "id": "-5EXEFzPkes-",
    "colab_type": "text"
   },
   "source": [
    "To see whether something appears as a value in a dictionary, you can use the method `values`, which returns a collection of values, and then use the `in` operator:"
   ]
  },
  {
   "cell_type": "code",
   "metadata": {
    "id": "xGKKEx4ykes-",
    "colab_type": "code",
    "colab": {},
    "outputId": "28b513a8-b74c-4684-f12e-b64b883ab344"
   },
   "source": [
    "'yi' in en2ch.values()"
   ],
   "execution_count": 0,
   "outputs": [
    {
     "output_type": "execute_result",
     "data": {
      "text/plain": [
       "True"
      ]
     },
     "metadata": {
      "tags": []
     },
     "execution_count": 5
    }
   ]
  },
  {
   "cell_type": "code",
   "metadata": {
    "id": "S5W_lWpKketB",
    "colab_type": "code",
    "colab": {},
    "outputId": "e55deae3-c879-49e8-cdb6-bbc94cf4c2ff"
   },
   "source": [
    "en2ch.values()"
   ],
   "execution_count": 0,
   "outputs": [
    {
     "output_type": "execute_result",
     "data": {
      "text/plain": [
       "dict_values(['yi', 'er', 'san'])"
      ]
     },
     "metadata": {
      "tags": []
     },
     "execution_count": 8
    }
   ]
  },
  {
   "cell_type": "markdown",
   "metadata": {
    "id": "59UWDRGlketE",
    "colab_type": "text"
   },
   "source": [
    "## Dictionary as a collection of counters\n",
    "Suppose you are given a string and you want to count how many times each letter appears. \n",
    "\n",
    "- An advantage of a dictionary implementation is that we don’t have to know ahead of time which letters appear in the string and we only have to make room for the letters that do appear\n",
    "\n",
    "\n"
   ]
  },
  {
   "cell_type": "code",
   "metadata": {
    "id": "bIPq4uh8ketJ",
    "colab_type": "code",
    "colab": {}
   },
   "source": [
    "def alpha_count(s):\n",
    "    d = dict()\n",
    "    for c in s:\n",
    "        if c not in d:\n",
    "            d[c] = 1\n",
    "        else:\n",
    "            d[c] += 1\n",
    "    return d"
   ],
   "execution_count": 0,
   "outputs": []
  },
  {
   "cell_type": "markdown",
   "metadata": {
    "id": "VJ48o2uyketM",
    "colab_type": "text"
   },
   "source": [
    "- The first line of the function creates an empty dictionary. \n",
    "- The for loop traverses the string. \n",
    "    - Each time through the loop, if the character `c` is not in the dictionary, we create a new item with key `c` and the initial value 1 (since we have seen this letter once). \n",
    "    - If `c` is already in the dictionary we increment `d[c]`"
   ]
  },
  {
   "cell_type": "code",
   "metadata": {
    "id": "D00b9_QLketM",
    "colab_type": "code",
    "colab": {}
   },
   "source": [
    "h = alpha_count('the quick brown fox jumped over the lazy dog')"
   ],
   "execution_count": 0,
   "outputs": []
  },
  {
   "cell_type": "code",
   "metadata": {
    "id": "qcdZbKD9ketP",
    "colab_type": "code",
    "colab": {},
    "outputId": "ae511611-2f2f-42cc-b456-3c0cf6a05eac"
   },
   "source": [
    "h"
   ],
   "execution_count": 0,
   "outputs": [
    {
     "output_type": "execute_result",
     "data": {
      "text/plain": [
       "{'t': 2,\n",
       " 'h': 2,\n",
       " 'e': 4,\n",
       " ' ': 8,\n",
       " 'q': 1,\n",
       " 'u': 2,\n",
       " 'i': 1,\n",
       " 'c': 1,\n",
       " 'k': 1,\n",
       " 'b': 1,\n",
       " 'r': 2,\n",
       " 'o': 4,\n",
       " 'w': 1,\n",
       " 'n': 1,\n",
       " 'f': 1,\n",
       " 'x': 1,\n",
       " 'j': 1,\n",
       " 'm': 1,\n",
       " 'p': 1,\n",
       " 'd': 2,\n",
       " 'v': 1,\n",
       " 'l': 1,\n",
       " 'a': 1,\n",
       " 'z': 1,\n",
       " 'y': 1,\n",
       " 'g': 1}"
      ]
     },
     "metadata": {
      "tags": []
     },
     "execution_count": 12
    }
   ]
  },
  {
   "cell_type": "markdown",
   "metadata": {
    "id": "LG38mLyDketT",
    "colab_type": "text"
   },
   "source": [
    "h indicates that the letters 't', 'h' appeared twice; 'e' appears four times; etc.\n",
    "\n",
    "Dictionaries have a method called get that takes a key and a default value. If the key appears in the dictionary, `get` returns the corresponding value; otherwise it returns the default value:"
   ]
  },
  {
   "cell_type": "code",
   "metadata": {
    "id": "BrFtgM6FketU",
    "colab_type": "code",
    "colab": {},
    "outputId": "4f66a98c-094e-4f90-df75-7f112e5c0d40"
   },
   "source": [
    "h = alpha_count('a')\n",
    "h"
   ],
   "execution_count": 0,
   "outputs": [
    {
     "output_type": "execute_result",
     "data": {
      "text/plain": [
       "{'a': 1}"
      ]
     },
     "metadata": {
      "tags": []
     },
     "execution_count": 13
    }
   ]
  },
  {
   "cell_type": "code",
   "metadata": {
    "id": "g8QWk8qkketX",
    "colab_type": "code",
    "colab": {},
    "outputId": "7db3d552-f0bb-4a8f-e64e-ca44629ab9cd"
   },
   "source": [
    "h.get('a',0) # Find 'a', if not return 0"
   ],
   "execution_count": 0,
   "outputs": [
    {
     "output_type": "execute_result",
     "data": {
      "text/plain": [
       "1"
      ]
     },
     "metadata": {
      "tags": []
     },
     "execution_count": 14
    }
   ]
  },
  {
   "cell_type": "code",
   "metadata": {
    "id": "U5g1Uqz4keta",
    "colab_type": "code",
    "colab": {},
    "outputId": "b8dca0e8-96cb-412e-efab-c9bc694f5307"
   },
   "source": [
    "h.get('b',0)"
   ],
   "execution_count": 0,
   "outputs": [
    {
     "output_type": "execute_result",
     "data": {
      "text/plain": [
       "0"
      ]
     },
     "metadata": {
      "tags": []
     },
     "execution_count": 15
    }
   ]
  },
  {
   "cell_type": "markdown",
   "metadata": {
    "id": "NGmLvuenketf",
    "colab_type": "text"
   },
   "source": [
    "#### Exercise\n",
    "\n",
    "Use `get` to write `alpha_count` more concisely. \n",
    "\n",
    "```python\n",
    "def alpha_count(s):\n",
    "    d = dict()\n",
    "    for c in s:\n",
    "        if c not in d:\n",
    "            d[c] = 1\n",
    "        else:\n",
    "            d[c] += 1\n",
    "    return d\n",
    "```\n",
    "*Hint: You should be able to eliminate the `if` statement.*\n"
   ]
  },
  {
   "cell_type": "code",
   "metadata": {
    "id": "rzSVsdX-ketg",
    "colab_type": "code",
    "colab": {}
   },
   "source": [
    "def alpha_count(s):\n",
    "    d = dict()\n",
    "    for c in s:\n",
    "        d[c] = d.get(c, 0) + 1\n",
    "    return d"
   ],
   "execution_count": 0,
   "outputs": []
  },
  {
   "cell_type": "code",
   "metadata": {
    "id": "Bh3NjAB-ketk",
    "colab_type": "code",
    "colab": {},
    "outputId": "30310dab-fee9-49be-d96d-c5b47c835e6a"
   },
   "source": [
    "alpha_count('carrot')"
   ],
   "execution_count": 0,
   "outputs": [
    {
     "output_type": "execute_result",
     "data": {
      "text/plain": [
       "{'c': 1, 'a': 1, 'r': 2, 'o': 1, 't': 1}"
      ]
     },
     "metadata": {
      "tags": []
     },
     "execution_count": 17
    }
   ]
  },
  {
   "cell_type": "markdown",
   "metadata": {
    "id": "1BpW2IW7ketm",
    "colab_type": "text"
   },
   "source": [
    "## Looping and dictionaries\n",
    "\n",
    "If you use a dictionary in a `for` statement, it traverses the keys of the dictionary. For example, `print_count` prints each *key* and the corresponding *value*:\n",
    "\n"
   ]
  },
  {
   "cell_type": "code",
   "metadata": {
    "id": "CEYIsL25ketn",
    "colab_type": "code",
    "colab": {}
   },
   "source": [
    "def print_count(h):\n",
    "    for k in h:\n",
    "        print(k, h[k])"
   ],
   "execution_count": 0,
   "outputs": []
  },
  {
   "cell_type": "code",
   "metadata": {
    "id": "5YjxwM9Eketp",
    "colab_type": "code",
    "colab": {},
    "outputId": "193089dc-c0bf-439f-efb1-8f83cb9238bd"
   },
   "source": [
    "h = alpha_count('parrot')\n",
    "h"
   ],
   "execution_count": 0,
   "outputs": [
    {
     "output_type": "execute_result",
     "data": {
      "text/plain": [
       "{'p': 1, 'a': 1, 'r': 2, 'o': 1, 't': 1}"
      ]
     },
     "metadata": {
      "tags": []
     },
     "execution_count": 22
    }
   ]
  },
  {
   "cell_type": "code",
   "metadata": {
    "id": "HHMJq3Zykets",
    "colab_type": "code",
    "colab": {},
    "outputId": "27d34b66-05c0-4997-fd67-de8db25e6432"
   },
   "source": [
    "print_count(h)"
   ],
   "execution_count": 0,
   "outputs": [
    {
     "output_type": "stream",
     "text": [
      "p 1\n",
      "a 1\n",
      "r 2\n",
      "o 1\n",
      "t 1\n"
     ],
     "name": "stdout"
    }
   ]
  },
  {
   "cell_type": "markdown",
   "metadata": {
    "id": "JB4GXJXVketu",
    "colab_type": "text"
   },
   "source": [
    "- The keys are in no particular order. To traverse the keys in sorted order, you can use the built-in function `sorted`:"
   ]
  },
  {
   "cell_type": "code",
   "metadata": {
    "id": "MEDl3hgOketv",
    "colab_type": "code",
    "colab": {},
    "outputId": "02af2f3e-988a-42e0-8094-0af895b6ead0"
   },
   "source": [
    "for key in sorted(h):\n",
    "    print(key, h[key])"
   ],
   "execution_count": 0,
   "outputs": [
    {
     "output_type": "stream",
     "text": [
      "a 1\n",
      "o 1\n",
      "p 1\n",
      "r 2\n",
      "t 1\n"
     ],
     "name": "stdout"
    }
   ]
  },
  {
   "cell_type": "markdown",
   "metadata": {
    "id": "4V4tQ1Tyketx",
    "colab_type": "text"
   },
   "source": [
    "#### Exercise\n",
    "\n",
    "Use the `sorted` function to have `print_count` print a sorted dictionary. \n",
    "\n",
    "```python\n",
    "def print_count(h):\n",
    "    for c in h:\n",
    "        print(c, h[c])\n",
    "```"
   ]
  },
  {
   "cell_type": "code",
   "metadata": {
    "id": "uAwZK99Iketx",
    "colab_type": "code",
    "colab": {}
   },
   "source": [
    "def print_count(h):\n",
    "    for c in sorted(h):\n",
    "        print(c, h[c])"
   ],
   "execution_count": 0,
   "outputs": []
  },
  {
   "cell_type": "code",
   "metadata": {
    "id": "gL9J7fBgket1",
    "colab_type": "code",
    "colab": {},
    "outputId": "027c7708-dd38-4762-fb1a-750a5d20593c"
   },
   "source": [
    "h = alpha_count('Pparrot'.lower())\n",
    "print_count(h)"
   ],
   "execution_count": 0,
   "outputs": [
    {
     "output_type": "stream",
     "text": [
      "a 1\n",
      "o 1\n",
      "p 2\n",
      "r 2\n",
      "t 1\n"
     ],
     "name": "stdout"
    }
   ]
  },
  {
   "cell_type": "markdown",
   "metadata": {
    "id": "MBXSoXypket4",
    "colab_type": "text"
   },
   "source": [
    "## Reverse Lookup\n",
    "\n",
    "Given a dictionary `d` and a key `k`, it is easy to find the corresponding value `v = d[k]`. This operation is called a **lookup**.\n",
    "\n",
    "But what if you have `v` and you want to find `k`?\n",
    "\n",
    "You have two problems: \n",
    "1. There might be more than one key that maps to the value v. \n",
    "2. There is no simple syntax to do a **reverse lookup**; you have to search.\n",
    "\n",
    "Here is a function that takes a value and returns the **first** key that maps to that value:"
   ]
  },
  {
   "cell_type": "code",
   "metadata": {
    "id": "_QDiVdieket5",
    "colab_type": "code",
    "colab": {}
   },
   "source": [
    "def reverse_lookup(d, v):\n",
    "    for k in d:\n",
    "        if d[k] == v:\n",
    "            return k\n",
    "    raise LookupError('value does not appear in the dictionary')"
   ],
   "execution_count": 0,
   "outputs": []
  },
  {
   "cell_type": "code",
   "metadata": {
    "id": "YPEVIs0gket8",
    "colab_type": "code",
    "colab": {},
    "outputId": "ee5c5ae4-d8ef-42ac-876a-d8c1784a3093"
   },
   "source": [
    "h"
   ],
   "execution_count": 0,
   "outputs": [
    {
     "output_type": "execute_result",
     "data": {
      "text/plain": [
       "{'p': 1, 'a': 1, 'r': 2, 'o': 1, 't': 1}"
      ]
     },
     "metadata": {
      "tags": []
     },
     "execution_count": 45
    }
   ]
  },
  {
   "cell_type": "code",
   "metadata": {
    "id": "yBI3wm_Zket-",
    "colab_type": "code",
    "colab": {},
    "outputId": "2320ecac-aa78-4a75-d74f-28e2414c1707"
   },
   "source": [
    "reverse_lookup(h,2)"
   ],
   "execution_count": 0,
   "outputs": [
    {
     "output_type": "execute_result",
     "data": {
      "text/plain": [
       "'r'"
      ]
     },
     "metadata": {
      "tags": []
     },
     "execution_count": 46
    }
   ]
  },
  {
   "cell_type": "code",
   "metadata": {
    "id": "6G9mb5RlkeuA",
    "colab_type": "code",
    "colab": {},
    "outputId": "e9e42f39-88d4-48f3-d3b8-4e87c9c685f6"
   },
   "source": [
    "reverse_lookup(h,1)"
   ],
   "execution_count": 0,
   "outputs": [
    {
     "output_type": "execute_result",
     "data": {
      "text/plain": [
       "'p'"
      ]
     },
     "metadata": {
      "tags": []
     },
     "execution_count": 47
    }
   ]
  },
  {
   "cell_type": "markdown",
   "metadata": {
    "id": "Z3JGbbK5keuC",
    "colab_type": "text"
   },
   "source": [
    "A reverse lookup is much slower than a forward lookup; if you have to do it often, or if the dictionary gets big, the performance of your program will suffer."
   ]
  }
 ]
}