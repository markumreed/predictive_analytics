{
 "nbformat": 4,
 "nbformat_minor": 0,
 "metadata": {
  "celltoolbar": "Slideshow",
  "kernelspec": {
   "display_name": "Python 3",
   "language": "python",
   "name": "python3"
  },
  "language_info": {
   "codemirror_mode": {
    "name": "ipython",
    "version": 3
   },
   "file_extension": ".py",
   "mimetype": "text/x-python",
   "name": "python",
   "nbconvert_exporter": "python",
   "pygments_lexer": "ipython3",
   "version": "3.5.3"
  },
  "colab": {
   "name": "strings.ipynb",
   "provenance": [],
   "include_colab_link": true
  }
 },
 "cells": [
  {
   "cell_type": "markdown",
   "metadata": {
    "id": "view-in-github",
    "colab_type": "text"
   },
   "source": [
    "<a href=\"https://colab.research.google.com/github/SoIllEconomist/ds4b/blob/master/python_ds4b/python_basics/course_restart/strings.ipynb\" target=\"_parent\"><img src=\"https://colab.research.google.com/assets/colab-badge.svg\" alt=\"Open In Colab\"/></a>"
   ]
  },
  {
   "cell_type": "markdown",
   "metadata": {
    "id": "2kHwY6LLmC6n",
    "colab_type": "text"
   },
   "source": [
    "# Strings\n",
    "\n",
    "- Strings are not like integers, floats, and booleans. \n",
    "- A string is a **sequence**, which means it is an ordered collection of other values. "
   ]
  },
  {
   "cell_type": "markdown",
   "metadata": {
    "id": "AfH8HlgcmC6q",
    "colab_type": "text"
   },
   "source": [
    "## A string is a sequence\n",
    "\n",
    "- A string is a sequence of characters\n",
    "- You can access the characters one at a time with the bracket operator:"
   ]
  },
  {
   "cell_type": "code",
   "metadata": {
    "id": "XADRtsrbmC6r",
    "colab_type": "code",
    "colab": {},
    "outputId": "249f2233-a3ce-401b-e548-87bdd77b56de"
   },
   "source": [
    "fruit = 'coconut'\n",
    "letter = fruit[1]\n",
    "letter"
   ],
   "execution_count": 0,
   "outputs": [
    {
     "output_type": "execute_result",
     "data": {
      "text/plain": [
       "'o'"
      ]
     },
     "metadata": {
      "tags": []
     },
     "execution_count": 1
    }
   ]
  },
  {
   "cell_type": "markdown",
   "metadata": {
    "id": "dw5HkcWDmC63",
    "colab_type": "text"
   },
   "source": [
    "The expression in brackets is called an index. The index indicates which character in the sequence you want (hence the name)."
   ]
  },
  {
   "cell_type": "code",
   "metadata": {
    "id": "mAeugB8qmC66",
    "colab_type": "code",
    "colab": {},
    "outputId": "abad006b-ba61-4100-9439-b30108c2dd05"
   },
   "source": [
    "fruit = 'coconut'\n",
    "letter = fruit[1]\n",
    "letter"
   ],
   "execution_count": 0,
   "outputs": [
    {
     "output_type": "execute_result",
     "data": {
      "text/plain": [
       "'o'"
      ]
     },
     "metadata": {
      "tags": []
     },
     "execution_count": 2
    }
   ]
  },
  {
   "cell_type": "markdown",
   "metadata": {
    "id": "urABEzzrmC69",
    "colab_type": "text"
   },
   "source": [
    "- For most people, the first letter of 'coconut' is c, not o. \n",
    "- But for computer scientists, the index is an offset from the beginning of the string, and the offset of the first letter is zero."
   ]
  },
  {
   "cell_type": "code",
   "metadata": {
    "id": "U-2kV1w-mC6-",
    "colab_type": "code",
    "colab": {},
    "outputId": "f41686f6-710a-456e-a6b0-1486681f95e2"
   },
   "source": [
    "letter = fruit[0]\n",
    "letter"
   ],
   "execution_count": 0,
   "outputs": [
    {
     "output_type": "execute_result",
     "data": {
      "text/plain": [
       "'c'"
      ]
     },
     "metadata": {
      "tags": []
     },
     "execution_count": 3
    }
   ]
  },
  {
   "cell_type": "markdown",
   "metadata": {
    "id": "GPIKNGVomC7C",
    "colab_type": "text"
   },
   "source": [
    "## len\n",
    "**len** is a built-in function that returns the number of characters in a string:"
   ]
  },
  {
   "cell_type": "code",
   "metadata": {
    "id": "oFiLI1xymC7D",
    "colab_type": "code",
    "colab": {},
    "outputId": "21914bb2-d8f1-46c2-999f-5bd264230d46"
   },
   "source": [
    "fruit = 'lime'\n",
    "len(fruit)"
   ],
   "execution_count": 0,
   "outputs": [
    {
     "output_type": "execute_result",
     "data": {
      "text/plain": [
       "4"
      ]
     },
     "metadata": {
      "tags": []
     },
     "execution_count": 9
    }
   ]
  },
  {
   "cell_type": "markdown",
   "metadata": {
    "id": "K6-47aFMmC7L",
    "colab_type": "text"
   },
   "source": [
    "To get the last letter of a string, you might be tempted to try something like this:"
   ]
  },
  {
   "cell_type": "code",
   "metadata": {
    "id": "Yhh8uOSBmC7M",
    "colab_type": "code",
    "colab": {},
    "outputId": "2141365b-59d3-477c-9bf3-f43ed15abe5f"
   },
   "source": [
    "length = len(fruit)\n",
    "fruit[4]"
   ],
   "execution_count": 0,
   "outputs": [
    {
     "output_type": "error",
     "ename": "IndexError",
     "evalue": "string index out of range",
     "traceback": [
      "\u001B[0;31m---------------------------------------------------------------------------\u001B[0m",
      "\u001B[0;31mIndexError\u001B[0m                                Traceback (most recent call last)",
      "\u001B[0;32m<ipython-input-10-9c7dbe8f62db>\u001B[0m in \u001B[0;36m<module>\u001B[0;34m()\u001B[0m\n\u001B[1;32m      1\u001B[0m \u001B[0mlength\u001B[0m \u001B[0;34m=\u001B[0m \u001B[0mlen\u001B[0m\u001B[0;34m(\u001B[0m\u001B[0mfruit\u001B[0m\u001B[0;34m)\u001B[0m\u001B[0;34m\u001B[0m\u001B[0m\n\u001B[0;32m----> 2\u001B[0;31m \u001B[0mfruit\u001B[0m\u001B[0;34m[\u001B[0m\u001B[0;36m4\u001B[0m\u001B[0;34m]\u001B[0m\u001B[0;34m\u001B[0m\u001B[0m\n\u001B[0m",
      "\u001B[0;31mIndexError\u001B[0m: string index out of range"
     ]
    }
   ]
  },
  {
   "cell_type": "markdown",
   "metadata": {
    "id": "fXMnNCRKmC7R",
    "colab_type": "text"
   },
   "source": [
    "- The reason for the `IndexError` is that there is no letter in ’banana’ with the index 6. \n",
    "\n",
    "- Since we started counting at zero, the six letters are numbered 0 to 5. "
   ]
  },
  {
   "cell_type": "markdown",
   "metadata": {
    "id": "3p0lNnUVmC7S",
    "colab_type": "text"
   },
   "source": [
    "- To get the last character, you have to subtract 1 from length:"
   ]
  },
  {
   "cell_type": "code",
   "metadata": {
    "id": "8nPddm6hmC7T",
    "colab_type": "code",
    "colab": {},
    "outputId": "b50f981a-a2db-458b-bed6-7d63d2ad9fcf"
   },
   "source": [
    "fruit[len(fruit) - 1]"
   ],
   "execution_count": 0,
   "outputs": [
    {
     "output_type": "execute_result",
     "data": {
      "text/plain": [
       "'a'"
      ]
     },
     "metadata": {
      "tags": []
     },
     "execution_count": 7
    }
   ]
  },
  {
   "cell_type": "markdown",
   "metadata": {
    "id": "QQpdv-2omC7W",
    "colab_type": "text"
   },
   "source": [
    "Or you can use negative indices, which count backward from the end of the string."
   ]
  },
  {
   "cell_type": "code",
   "metadata": {
    "id": "LddiKPM3mC7X",
    "colab_type": "code",
    "colab": {}
   },
   "source": [
    "fruit[-1]"
   ],
   "execution_count": 0,
   "outputs": []
  },
  {
   "cell_type": "markdown",
   "metadata": {
    "id": "LtQVlJi7mC7Z",
    "colab_type": "text"
   },
   "source": [
    "## Traversal with a for loop\n",
    "\n",
    "- A lot of computations involve processing a string one character at a time \n",
    "\n",
    "- Often they start at the beginning, select each character in turn, do something to it, and continue until the end\n",
    "\n",
    "    - This pattern of processing is called a **traversal**. \n",
    "\n",
    "One way to write a traversal is with a while loop:"
   ]
  },
  {
   "cell_type": "code",
   "metadata": {
    "id": "Us8v9NOTmC7a",
    "colab_type": "code",
    "colab": {}
   },
   "source": [
    "fruit = 'kiwi'\n",
    "index = 0\n",
    "while index < len(fruit):\n",
    "    letter = fruit[index]\n",
    "    print(letter)\n",
    "    index = index + 1"
   ],
   "execution_count": 0,
   "outputs": []
  },
  {
   "cell_type": "markdown",
   "metadata": {
    "id": "j3fYgCM1mC7d",
    "colab_type": "text"
   },
   "source": [
    "Another way to write a traversal is with a for loop:"
   ]
  },
  {
   "cell_type": "code",
   "metadata": {
    "id": "l7MiztLamC7d",
    "colab_type": "code",
    "colab": {}
   },
   "source": [
    "for letter in fruit:\n",
    "    print(letter)"
   ],
   "execution_count": 0,
   "outputs": []
  },
  {
   "cell_type": "markdown",
   "metadata": {
    "id": "LDvXwHlhmC7g",
    "colab_type": "text"
   },
   "source": [
    "## Example: Concatenation\n",
    "\n",
    "The following example shows how to use concatenation (string addition) and a for loop to generate an abecedarian series (that is, in alphabetical order). In Robert McCloskey’s book Make Way for Ducklings, the names of the ducklings are Jack, Kack, Lack, Mack, Nack, Ouack, Pack, and Quack. This loop outputs these names in order:\n",
    "\n"
   ]
  },
  {
   "cell_type": "code",
   "metadata": {
    "id": "4wnUT9LQmC7h",
    "colab_type": "code",
    "colab": {},
    "outputId": "32a243d7-6ea5-4104-ee49-3716df83a0dc"
   },
   "source": [
    "prefixes = 'JKLMNOPQ'\n",
    "suffix = 'ack'\n",
    "\n",
    "for letter in prefixes:\n",
    "    print(letter + suffix)"
   ],
   "execution_count": 0,
   "outputs": [
    {
     "output_type": "stream",
     "text": [
      "Jack\n",
      "Kack\n",
      "Lack\n",
      "Mack\n",
      "Nack\n",
      "Oack\n",
      "Pack\n",
      "Qack\n"
     ],
     "name": "stdout"
    }
   ]
  },
  {
   "cell_type": "markdown",
   "metadata": {
    "id": "w1xUoSkLmC7j",
    "colab_type": "text"
   },
   "source": [
    "## Example: In-class question\n",
    "\n",
    "Notice that Ouack and Quack are misspelled: How do you fix this?"
   ]
  },
  {
   "cell_type": "code",
   "metadata": {
    "id": "4Hu8cArrmC7k",
    "colab_type": "code",
    "colab": {},
    "outputId": "70f2556a-41b7-4613-90be-058f861cc363"
   },
   "source": [
    "prefixes = 'JKLMNOPQ'\n",
    "suffix = 'ack'\n",
    "\n",
    "for letter in prefixes:\n",
    "    if letter == 'O' or letter == 'Q':\n",
    "        print(letter + 'u' + suffix)\n",
    "    else:\n",
    "        print(letter + suffix)"
   ],
   "execution_count": 0,
   "outputs": [
    {
     "output_type": "stream",
     "text": [
      "Jack\n",
      "Kack\n",
      "Lack\n",
      "Mack\n",
      "Nack\n",
      "Ouack\n",
      "Pack\n",
      "Quack\n"
     ],
     "name": "stdout"
    }
   ]
  },
  {
   "cell_type": "markdown",
   "metadata": {
    "id": "RBi55aQWmC7n",
    "colab_type": "text"
   },
   "source": [
    "## String slices\n",
    "\n",
    "**Slice:** a segment of a string.\n",
    "- Selecting a slice is similar to selecting a character\n",
    "- The operator `[n:m]` returns the part of the string from the $n^{th}$ character to the $m^{th}$ character\n",
    "    - including the first but excluding the last."
   ]
  },
  {
   "cell_type": "code",
   "metadata": {
    "id": "znq6Q_vUmC7o",
    "colab_type": "code",
    "colab": {}
   },
   "source": [
    "s = 'Henderson Reddies'\n",
    "s[0:9]"
   ],
   "execution_count": 0,
   "outputs": []
  },
  {
   "cell_type": "code",
   "metadata": {
    "id": "W0UqXUdDmC7v",
    "colab_type": "code",
    "colab": {}
   },
   "source": [
    "s[10:17]"
   ],
   "execution_count": 0,
   "outputs": []
  },
  {
   "cell_type": "markdown",
   "metadata": {
    "id": "eTronK8DmC7z",
    "colab_type": "text"
   },
   "source": [
    "- If you omit the first index (before the colon), the slice starts at the beginning of the string. \n",
    "- If you omit the second index, the slice goes to the end of the string:"
   ]
  },
  {
   "cell_type": "code",
   "metadata": {
    "id": "bY5L-tTzmC70",
    "colab_type": "code",
    "colab": {}
   },
   "source": [
    "fruit = 'peach'\n",
    "fruit[:3]"
   ],
   "execution_count": 0,
   "outputs": []
  },
  {
   "cell_type": "code",
   "metadata": {
    "id": "U6XtEufTmC74",
    "colab_type": "code",
    "colab": {}
   },
   "source": [
    "fruit[3:]"
   ],
   "execution_count": 0,
   "outputs": []
  },
  {
   "cell_type": "markdown",
   "metadata": {
    "id": "ZlTY5rBqmC77",
    "colab_type": "text"
   },
   "source": [
    "## Strings are immutable\n",
    "\n",
    "- You cannot use the `[]` operator to change characters in a string:"
   ]
  },
  {
   "cell_type": "code",
   "metadata": {
    "id": "os2RqES4mC78",
    "colab_type": "code",
    "colab": {}
   },
   "source": [
    "greeting = 'Hello, students!'\n",
    "greeting[0] = 'J'"
   ],
   "execution_count": 0,
   "outputs": []
  },
  {
   "cell_type": "markdown",
   "metadata": {
    "id": "KXfhoBIfmC8I",
    "colab_type": "text"
   },
   "source": [
    "The reason for the error is that strings are immutable, which means you can’t change an existing string. "
   ]
  },
  {
   "cell_type": "markdown",
   "metadata": {
    "id": "7xHqZXB_mC8I",
    "colab_type": "text"
   },
   "source": [
    "The best you can do is create a new string that is a variation on the original:"
   ]
  },
  {
   "cell_type": "code",
   "metadata": {
    "id": "trjErVSgmC8J",
    "colab_type": "code",
    "colab": {}
   },
   "source": [
    "greeting = 'Hello, students!'\n",
    "new_greeting = 'J' + greeting[1:]\n",
    "new_greeting"
   ],
   "execution_count": 0,
   "outputs": []
  },
  {
   "cell_type": "markdown",
   "metadata": {
    "id": "RNugfmVZmC8M",
    "colab_type": "text"
   },
   "source": [
    "This example concatenates a new first letter onto a slice of greeting. It has no effect on the original string."
   ]
  },
  {
   "cell_type": "markdown",
   "metadata": {
    "id": "gnz2v1hLmC8M",
    "colab_type": "text"
   },
   "source": [
    "## Search\n",
    "\n",
    "What does the following function do?\n",
    "\n",
    "```python\n",
    "def find(word, letter):\n",
    "    index = 0\n",
    "    while index < len(word):\n",
    "        if word[index] == letter:\n",
    "            return index\n",
    "        index = index + 1\n",
    "    return -1\n",
    "```"
   ]
  },
  {
   "cell_type": "markdown",
   "metadata": {
    "id": "s052Ond1mC8N",
    "colab_type": "text"
   },
   "source": [
    "- In a sense, find is the inverse of the `[]` operator. Instead of taking an index and extracting the corresponding character, it takes a character and finds the index where that character appears. If the character is not found, the function returns -1.\n",
    "\n",
    "- This pattern of computation—traversing a sequence and returning when we find what we are looking for—is called a **search**."
   ]
  },
  {
   "cell_type": "markdown",
   "metadata": {
    "id": "PTMSGxk7mC8N",
    "colab_type": "text"
   },
   "source": [
    "## Looping and counting\n",
    "\n",
    "This program counts the number of times the letter a appears in a string:\n",
    "\n",
    "```python\n",
    "word = 'mississippi'\n",
    "count = 0\n",
    "for letter in word:\n",
    "    if letter == 'i':\n",
    "        count = count + 1\n",
    "print(count)\n",
    "```\n",
    "This program demonstrates another pattern of computation called a counter. The variable count is initialized to 0 and then incremented each time an a is found. When the loop exits, count contains the result—the total number of a’s."
   ]
  },
  {
   "cell_type": "markdown",
   "metadata": {
    "id": "3MTicZh9mC8O",
    "colab_type": "text"
   },
   "source": [
    "## String methods\n",
    "\n",
    "- Strings provide methods that perform a variety of useful operations. \n",
    "- A method is similar to a function—it takes arguments and returns a value—but the syntax is different.\n",
    "\n",
    "Instead of the function syntax `upper(word)`, it uses the method syntax `word.upper()`."
   ]
  },
  {
   "cell_type": "code",
   "metadata": {
    "id": "sl_dXSG1mC8P",
    "colab_type": "code",
    "colab": {}
   },
   "source": [
    "word = 'reddie'\n",
    "new_word = word.upper()\n",
    "new_word"
   ],
   "execution_count": 0,
   "outputs": []
  },
  {
   "cell_type": "markdown",
   "metadata": {
    "id": "icgJE0UAmC8R",
    "colab_type": "text"
   },
   "source": [
    "```python\n",
    "new_word = word.upper()\n",
    "```\n",
    "\n",
    "- This form of dot notation specifies the name of the method, upper, and the name of the string to apply the method to, word. \n",
    "\n",
    "- The empty parentheses indicate that this method takes no arguments.\n",
    "\n",
    "- A method call is called an **invocation**;"
   ]
  },
  {
   "cell_type": "markdown",
   "metadata": {
    "id": "8BUUfGDJmC8S",
    "colab_type": "text"
   },
   "source": [
    "## in operator\n",
    "\n",
    "The word `in` is a boolean operator that takes two strings and returns `True` if the first appears as a substring in the second:"
   ]
  },
  {
   "cell_type": "code",
   "metadata": {
    "id": "QKThzKlbmC8S",
    "colab_type": "code",
    "colab": {}
   },
   "source": [
    "'e' in 'reddie'"
   ],
   "execution_count": 0,
   "outputs": []
  },
  {
   "cell_type": "code",
   "metadata": {
    "id": "ceH7SgRzmC8V",
    "colab_type": "code",
    "colab": {}
   },
   "source": [
    "'f' in 'reddie'"
   ],
   "execution_count": 0,
   "outputs": []
  },
  {
   "cell_type": "markdown",
   "metadata": {
    "id": "FsPoh_kPmC8X",
    "colab_type": "text"
   },
   "source": [
    "## Example\n",
    "\n",
    "The following function prints all the letters from word1 that also appear in word2:"
   ]
  },
  {
   "cell_type": "code",
   "metadata": {
    "id": "kyP_qjhTmC8Y",
    "colab_type": "code",
    "colab": {}
   },
   "source": [
    "def in_both(word1, word2):\n",
    "    for letter in word1:\n",
    "        if letter in word2:\n",
    "            print(letter)"
   ],
   "execution_count": 0,
   "outputs": []
  },
  {
   "cell_type": "code",
   "metadata": {
    "id": "6XVyK5sYmC8a",
    "colab_type": "code",
    "colab": {}
   },
   "source": [
    "in_both('Henderson', 'Reddies')"
   ],
   "execution_count": 0,
   "outputs": []
  },
  {
   "cell_type": "markdown",
   "metadata": {
    "id": "DOSLpcN8mC8c",
    "colab_type": "text"
   },
   "source": [
    "## String comparison\n",
    "\n",
    "The relational operators work on strings. To see if two strings are equal:"
   ]
  },
  {
   "cell_type": "code",
   "metadata": {
    "id": "qKWFlln3mC8d",
    "colab_type": "code",
    "colab": {}
   },
   "source": [
    "word = 'apple'\n",
    "if word == 'banana':\n",
    "    print('All right, bananas.')"
   ],
   "execution_count": 0,
   "outputs": []
  },
  {
   "cell_type": "markdown",
   "metadata": {
    "id": "QvsNMpd3mC8g",
    "colab_type": "text"
   },
   "source": [
    "Other relational operations are useful for putting words in alphabetical order:"
   ]
  },
  {
   "cell_type": "code",
   "metadata": {
    "id": "sMgFIHyfmC8g",
    "colab_type": "code",
    "colab": {}
   },
   "source": [
    "word = 'banana' # Try apple and pineapple\n",
    "if word < 'banana':\n",
    "    print('Your word, ' + word + ', comes before banana.')\n",
    "elif word > 'banana':\n",
    "    print('Your word, ' + word + ', comes after banana.')\n",
    "else:\n",
    "    print('All right, bananas.')"
   ],
   "execution_count": 0,
   "outputs": []
  }
 ]
}