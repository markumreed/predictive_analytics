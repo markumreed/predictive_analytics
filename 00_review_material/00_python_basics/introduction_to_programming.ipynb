{
 "nbformat": 4,
 "nbformat_minor": 0,
 "metadata": {
  "kernelspec": {
   "display_name": "Python 3",
   "language": "python",
   "name": "python3"
  },
  "language_info": {
   "codemirror_mode": {
    "name": "ipython",
    "version": 3
   },
   "file_extension": ".py",
   "mimetype": "text/x-python",
   "name": "python",
   "nbconvert_exporter": "python",
   "pygments_lexer": "ipython3",
   "version": "3.6.5"
  },
  "colab": {
   "name": "introduction_to_programming.ipynb",
   "provenance": [],
   "include_colab_link": true
  }
 },
 "cells": [
  {
   "cell_type": "markdown",
   "metadata": {
    "id": "view-in-github",
    "colab_type": "text"
   },
   "source": [
    "<a href=\"https://colab.research.google.com/github/SoIllEconomist/ds4b/blob/master/python_ds4b/python_basics/course_restart/introduction_to_programming.ipynb\" target=\"_parent\"><img src=\"https://colab.research.google.com/assets/colab-badge.svg\" alt=\"Open In Colab\"/></a>"
   ]
  },
  {
   "cell_type": "markdown",
   "metadata": {
    "id": "R641USe6lYWM",
    "colab_type": "text"
   },
   "source": [
    "# Introduction, Types, & Expressions\n"
   ]
  },
  {
   "cell_type": "markdown",
   "source": [
    "## Why Learn to Code?\n",
    "### Outcomes\n",
    "1. Fluency: (Python) procedural programming\n",
    "    - Use assignments, conditionals, & loops\n",
    "    - Create Python modules and programs\n",
    "\n",
    "2. Competency: object-oriented programming\n",
    "    - Recognize and use objects and classes\n",
    "    \n",
    "3. Knowledge: Foundations for Data Science"
   ],
   "metadata": {
    "collapsed": false
   }
  },
  {
   "cell_type": "markdown",
   "metadata": {
    "id": "LHhY3nWwlYWQ",
    "colab_type": "text"
   },
   "source": [
    "# Why Python?\n",
    "- Low overhead\n",
    "    - little to learn before you start 'doing'\n",
    "    - easier for beginners\n",
    "    - designed with 'rapid prototyping' in mind\n",
    "- Highly relevant to non-CS majors\n",
    "    - NumPy, SciPy and Pandas heavily used\n",
    "- Modern language\n",
    "    - Popular for web applications\n",
    "    - Applicable to mobile app development\n",
    "    - Data Scientists Toolkit"
   ]
  },
  {
   "cell_type": "markdown",
   "metadata": {
    "id": "O24mDJW0lYWR",
    "colab_type": "text"
   },
   "source": [
    "# Storing and Computing Data"
   ]
  },
  {
   "cell_type": "markdown",
   "metadata": {
    "id": "Mvz_qUZhlYWV",
    "colab_type": "text"
   },
   "source": [
    "## Expressions\n",
    "An expression **represents** something\n",
    "    \n",
    "- Python **evaluates it** (turns it into a value)\n",
    "- Similar to a calculator"
   ]
  },
  {
   "cell_type": "code",
   "metadata": {
    "id": "scYypUAllYWW",
    "colab_type": "code",
    "colab": {},
    "outputId": "bff89115-c4fa-4682-a673-a4eff6da2533"
   },
   "source": [
    "2.3 # Literal (Evaluates to self)"
   ],
   "execution_count": 0,
   "outputs": [
    {
     "output_type": "execute_result",
     "data": {
      "text/plain": [
       "2.3"
      ]
     },
     "metadata": {
      "tags": []
     },
     "execution_count": 1
    }
   ]
  },
  {
   "cell_type": "code",
   "metadata": {
    "id": "XuGboJWslYWa",
    "colab_type": "code",
    "colab": {},
    "outputId": "6ea13eee-9667-4baa-8c11-aff0f419ebc0"
   },
   "source": [
    "(3*7 + 2) * 0.1 # An expression with four literals and some operators"
   ],
   "execution_count": 0,
   "outputs": [
    {
     "output_type": "execute_result",
     "data": {
      "text/plain": [
       "2.3000000000000003"
      ]
     },
     "metadata": {
      "tags": []
     },
     "execution_count": 2
    }
   ]
  },
  {
   "cell_type": "markdown",
   "metadata": {
    "id": "nYOPYWdWlYWd",
    "colab_type": "text"
   },
   "source": [
    "## Types\n",
    "A set of values and operations on these values\n",
    "    \n",
    "- Examples of operations: +,-,/,*\n",
    "- Meaning of operations depend on type\n",
    "    \n",
    "**MEMORIZE THIS DEFINITION**"
   ]
  },
  {
   "cell_type": "markdown",
   "metadata": {
    "id": "JXdjoT8RlYWf",
    "colab_type": "text"
   },
   "source": [
    "## How to tell the type of a value\n",
    "\n",
    "Command:\n",
    "```python\n",
    "type(<value>)\n",
    "```"
   ]
  },
  {
   "cell_type": "code",
   "metadata": {
    "id": "5DZmsgKqlYWg",
    "colab_type": "code",
    "colab": {},
    "outputId": "acf30eb7-db0e-4f13-83de-5097d67dc366"
   },
   "source": [
    "type(2)"
   ],
   "execution_count": 0,
   "outputs": [
    {
     "output_type": "execute_result",
     "data": {
      "text/plain": [
       "int"
      ]
     },
     "metadata": {
      "tags": []
     },
     "execution_count": 3
    }
   ]
  },
  {
   "cell_type": "markdown",
   "metadata": {
    "id": "MZqmFb3ylYWj",
    "colab_type": "text"
   },
   "source": [
    "## Type: float (floating point)\n",
    "\n",
    "**Values:** (approximations of) real numbers\n",
    "- With a \".\": a **float** literal (e.g., 2.0)\n",
    "- Without a decimal: an **int** literal (e.g., 2)\n",
    "    \n",
    "**Operations:** + ,- ,\\* ,/ ,\\*\\*\n",
    "- *Notice:* operator meaning can change from type to type\n",
    "\n",
    "**Exponent notation** useful for large (or small) values\n",
    "\n",
    "$-22.51e6$ is $-22.51 * 10^6$ or $-22510000$\n",
    "\n",
    "$22.51e-6$ is $-22.51 * 10^{-6}$ or $0.00002251$"
   ]
  },
  {
   "cell_type": "markdown",
   "metadata": {
    "id": "NX7I_I1dlYWk",
    "colab_type": "text"
   },
   "source": [
    "## Types: int (integers)\n",
    "\n",
    "**Values:** $\\dots , -3, -2, -1, 0, 1, 2, 3, 4, 5, \\dots$\n",
    "\n",
    "**Operations:** + ,- ,\\* , \\*\\* ,/ , // , %\n"
   ]
  },
  {
   "cell_type": "markdown",
   "metadata": {
    "id": "YFxgtWRclYWl",
    "colab_type": "text"
   },
   "source": [
    "## Type: bool (boolean)\n",
    "\n",
    "**Values:** True, False\n",
    "- Booleans literals `True` and `False` (MUST BE CAPITALIZED)\n",
    "    \n",
    "**Operations:** not, and, or\n",
    "- not b: **True** if *b is false* and **False** if b is true\n",
    "- b and c: **True** if *both b and c are true*; **False** otherwise\n",
    "- b or c: **True** if *b is true or c is true*; **False** otherwise\n",
    "\n",
    "Often come from comparing `int` or `float` values\n",
    "- Order comparisons: $i<j$ $i<=j$ $i>=j$ $i>j$\n",
    "- Equality, inequality: $i == j$ $i!=j$"
   ]
  },
  {
   "cell_type": "markdown",
   "metadata": {
    "id": "xIE7msgvlYWm",
    "colab_type": "text"
   },
   "source": [
    "## Type: str (string) for text\n",
    "\n",
    "**Values:** any sequence of characters\n",
    "\n",
    "**Operation(s):** + (contenation, or concatenation)\n",
    "- operator `+` changes from type to type\n",
    "    \n",
    "**String literal:** sequence of characters in quotes\n",
    "- Double quotes: \"abc#&$g<\" or \"Hello World!\"\n",
    "- Single quotes: 'Hello World'\n",
    "\n",
    "**Concatenation** applies only to strings\n",
    "- \"ab\"  + \"cd\" evaluates to \"abcd\"\n",
    "- \"ab\" + 2 produces an **ERROR**"
   ]
  }
 ]
}