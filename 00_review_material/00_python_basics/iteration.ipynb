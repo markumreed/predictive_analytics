{
 "nbformat": 4,
 "nbformat_minor": 0,
 "metadata": {
  "celltoolbar": "Slideshow",
  "kernelspec": {
   "display_name": "Python 3",
   "language": "python",
   "name": "python3"
  },
  "language_info": {
   "codemirror_mode": {
    "name": "ipython",
    "version": 3
   },
   "file_extension": ".py",
   "mimetype": "text/x-python",
   "name": "python",
   "nbconvert_exporter": "python",
   "pygments_lexer": "ipython3",
   "version": "3.6.5"
  },
  "colab": {
   "name": "iteration.ipynb",
   "provenance": [],
   "include_colab_link": true
  }
 },
 "cells": [
  {
   "cell_type": "markdown",
   "metadata": {
    "id": "view-in-github",
    "colab_type": "text"
   },
   "source": [
    "<a href=\"https://colab.research.google.com/github/SoIllEconomist/ds4b/blob/master/python_ds4b/python_basics/course_restart/iteration.ipynb\" target=\"_parent\"><img src=\"https://colab.research.google.com/assets/colab-badge.svg\" alt=\"Open In Colab\"/></a>"
   ]
  },
  {
   "cell_type": "markdown",
   "metadata": {
    "id": "LbE2umzslpg4",
    "colab_type": "text"
   },
   "source": [
    "# Iteration\n",
    "\n",
    "- **iteration:** the ability to run a block of statements repeatedly\n",
    "    - Saw a kind of iteration with recursion and\n",
    "    - using `for` loop"
   ]
  },
  {
   "cell_type": "markdown",
   "metadata": {
    "id": "vIL1kiA8lpg8",
    "colab_type": "text"
   },
   "source": [
    "## Reassignment\n",
    "\n",
    "- Python uses the equal sign `=` for assignment\n",
    "- Legal to make more than one assignment to the same variable\n",
    "- New assignment makes an existing variable refer to a new value (and stop referring to the old value)"
   ]
  },
  {
   "cell_type": "code",
   "metadata": {
    "id": "2sulzDTulpg-",
    "colab_type": "code",
    "colab": {},
    "outputId": "91d9eccc-03da-441b-87fa-6b57a7d1fd67"
   },
   "source": [
    "x = 5\n",
    "x"
   ],
   "execution_count": 0,
   "outputs": [
    {
     "output_type": "execute_result",
     "data": {
      "text/plain": [
       "5"
      ]
     },
     "metadata": {
      "tags": []
     },
     "execution_count": 1
    }
   ]
  },
  {
   "cell_type": "code",
   "metadata": {
    "id": "R2LaKDbUlphG",
    "colab_type": "code",
    "colab": {},
    "outputId": "97fe9d74-4660-44a6-d52a-6084c4b53d7a"
   },
   "source": [
    "x = 7\n",
    "x"
   ],
   "execution_count": 0,
   "outputs": [
    {
     "output_type": "execute_result",
     "data": {
      "text/plain": [
       "7"
      ]
     },
     "metadata": {
      "tags": []
     },
     "execution_count": 2
    }
   ]
  },
  {
   "cell_type": "code",
   "metadata": {
    "id": "ak0k6B85lphL",
    "colab_type": "code",
    "colab": {},
    "outputId": "aa31a13a-d45d-4bf2-b483-6294a22018cf"
   },
   "source": [
    "a = 5\n",
    "b = a # a & b are equal\n",
    "a = 3 # a & b are NOT equal\n",
    "b"
   ],
   "execution_count": 0,
   "outputs": [
    {
     "output_type": "execute_result",
     "data": {
      "text/plain": [
       "5"
      ]
     },
     "metadata": {
      "tags": []
     },
     "execution_count": 3
    }
   ]
  },
  {
   "cell_type": "markdown",
   "metadata": {
    "id": "Y0Ts_AJ4lphR",
    "colab_type": "text"
   },
   "source": [
    "- Reassigning variables is useful, but you should use it with caution \n",
    "\n",
    "- If the values of variables change frequently, it can make the code difficult to read and debug"
   ]
  },
  {
   "cell_type": "markdown",
   "metadata": {
    "id": "ip2hn0kBlphT",
    "colab_type": "text"
   },
   "source": [
    "## Updating variables\n",
    "- Common reassignment is an **update**, where the new value depends on the old"
   ]
  },
  {
   "cell_type": "code",
   "metadata": {
    "id": "mz9gNcGTlphU",
    "colab_type": "code",
    "colab": {},
    "outputId": "3d7558b5-4772-4bbf-ae65-a3ecd9988810"
   },
   "source": [
    "c = c + 1"
   ],
   "execution_count": 0,
   "outputs": [
    {
     "output_type": "error",
     "ename": "NameError",
     "evalue": "name 'c' is not defined",
     "traceback": [
      "\u001B[0;31m---------------------------------------------------------------------------\u001B[0m",
      "\u001B[0;31mNameError\u001B[0m                                 Traceback (most recent call last)",
      "\u001B[0;32m<ipython-input-5-511f86f677ea>\u001B[0m in \u001B[0;36m<module>\u001B[0;34m()\u001B[0m\n\u001B[0;32m----> 1\u001B[0;31m \u001B[0mc\u001B[0m \u001B[0;34m=\u001B[0m \u001B[0mc\u001B[0m \u001B[0;34m+\u001B[0m \u001B[0;36m1\u001B[0m\u001B[0;34m\u001B[0m\u001B[0m\n\u001B[0m",
      "\u001B[0;31mNameError\u001B[0m: name 'c' is not defined"
     ]
    }
   ]
  },
  {
   "cell_type": "markdown",
   "metadata": {
    "id": "zfSFyAR0lphX",
    "colab_type": "text"
   },
   "source": [
    "Before you can update a variable, you have to **initialize** it, usually with a simple assignment:"
   ]
  },
  {
   "cell_type": "code",
   "metadata": {
    "id": "tu4za-8wlphY",
    "colab_type": "code",
    "colab": {}
   },
   "source": [
    "z = 0\n",
    "z = z + 1"
   ],
   "execution_count": 0,
   "outputs": []
  },
  {
   "cell_type": "markdown",
   "metadata": {
    "id": "HIiouwxRlphc",
    "colab_type": "text"
   },
   "source": [
    "Updating a variable by adding 1 is called an **increment**; subtracting 1 is called a **decrement**."
   ]
  },
  {
   "cell_type": "markdown",
   "metadata": {
    "id": "SxeWpC4blphd",
    "colab_type": "text"
   },
   "source": [
    "## while statement\n",
    "\n",
    "- Repeating identical or similar tasks without making errors is something that computers do well and people do poorly\n",
    "\n",
    "- Since iteration is so common:\n",
    "    \n",
    "    - Python provides features to make it easier"
   ]
  },
  {
   "cell_type": "code",
   "metadata": {
    "id": "WID0NTXPlphf",
    "colab_type": "code",
    "colab": {}
   },
   "source": [
    "def countdown(n):\n",
    "    while n > 0:\n",
    "        print(n)\n",
    "        n = n - 1\n",
    "        \n",
    "    print('Blastoff!')  "
   ],
   "execution_count": 0,
   "outputs": []
  },
  {
   "cell_type": "code",
   "metadata": {
    "id": "gBC1_exnlphk",
    "colab_type": "code",
    "colab": {},
    "outputId": "500ea4ae-f407-44ef-c802-de6bdec2f59a"
   },
   "source": [
    "countdown(3)"
   ],
   "execution_count": 0,
   "outputs": [
    {
     "output_type": "stream",
     "text": [
      "3\n",
      "2\n",
      "1\n",
      "Blastoff!\n"
     ],
     "name": "stdout"
    }
   ]
  },
  {
   "cell_type": "markdown",
   "metadata": {
    "id": "ueOwWC17lpho",
    "colab_type": "text"
   },
   "source": [
    "```python\n",
    "def countdown(n):\n",
    "    while n > 0:\n",
    "        print(n)\n",
    "        n = n - 1\n",
    "        \n",
    "    print('Blastoff!')  \n",
    "```\n",
    "\n",
    "Here is the flow of execution for a while statement:\n",
    "\n",
    "1. Determine whether the condition is true or false.\n",
    "2. If false, exit the while statement and continue execution at the next statement.\n",
    "3. If the condition is true, run the body and then go back to step 1.\n",
    "\n",
    "**This type of flow is called a loop because the third step loops back around to the top.**"
   ]
  },
  {
   "cell_type": "markdown",
   "metadata": {
    "id": "x9ZDfFRAlphp",
    "colab_type": "text"
   },
   "source": [
    "```python\n",
    "def countdown(n):\n",
    "    while n > 0:\n",
    "        print(n)\n",
    "        n = n - 1\n",
    "        \n",
    "    print('Blastoff!')  \n",
    "```\n",
    "\n",
    "The body of the loop should change the value of one or more variables so that the condition becomes false eventually and the loop terminates. \n",
    "\n",
    "Otherwise the loop will repeat forever, which is called an **infinite loop**. "
   ]
  },
  {
   "cell_type": "markdown",
   "metadata": {
    "id": "2GidrghFlphq",
    "colab_type": "text"
   },
   "source": [
    "## break\n",
    "- Sometimes you don’t know it’s time to end a loop until you get half way through the body\n",
    "- In that case you can use the `break` statement to jump out of the loop.\n",
    "\n",
    "Suppose you want to take input from the user until they type done. You could write:"
   ]
  },
  {
   "cell_type": "code",
   "metadata": {
    "id": "eq-MkQ8nlphr",
    "colab_type": "code",
    "colab": {},
    "outputId": "47e4c69e-39d5-4793-c73e-665393f3d833"
   },
   "source": [
    "while True:\n",
    "    line = input('> ')\n",
    "    if line == 'done':\n",
    "        break\n",
    "    print(line)\n",
    "print('Done')"
   ],
   "execution_count": 0,
   "outputs": [
    {
     "output_type": "stream",
     "text": [
      "> not done\n",
      "not done\n",
      "> done\n",
      "Done\n"
     ],
     "name": "stdout"
    }
   ]
  },
  {
   "cell_type": "markdown",
   "metadata": {
    "id": "ybyv6T62lphw",
    "colab_type": "text"
   },
   "source": [
    "```python\n",
    "while True:\n",
    "    line = input('> ')\n",
    "    if line == 'done':\n",
    "        break\n",
    "    print(line)\n",
    "print('Done')\n",
    "```\n",
    "\n",
    "The loop condition is `True`, which is always true, so the loop runs until it hits the break statement\n",
    "\n",
    "This way of writing while loops is common because you can check the condition anywhere in the loop (not just at the top) and you can express the stop condition affirmatively  rather than negatively \n",
    "\n",
    "E.g. \n",
    "- “stop when this happens”\n",
    "- “keep going until that happens”"
   ]
  },
  {
   "cell_type": "markdown",
   "metadata": {
    "id": "nml_Ubtflphy",
    "colab_type": "text"
   },
   "source": [
    "## Example: Square roots\n",
    "\n",
    "- Loops are often used in programs that compute numerical results by starting with an approximate answer and iteratively improving it\n",
    "\n",
    "- Suppose that you want to know the square root of *a *\n",
    "\n",
    "- If you start with almost any estimate, *x*, you can compute a better estimate with the following formula:\n",
    "\n",
    "$$y=\\frac{x+a/x}{2}$$"
   ]
  },
  {
   "cell_type": "markdown",
   "metadata": {
    "id": "_5f5hgJmlphz",
    "colab_type": "text"
   },
   "source": [
    "For example, if a is 4 and x is 3:"
   ]
  },
  {
   "cell_type": "code",
   "metadata": {
    "id": "sXbhvTmUlph0",
    "colab_type": "code",
    "colab": {}
   },
   "source": [
    "a = 4\n",
    "x = 3\n",
    "y = (x + a/x) / 2"
   ],
   "execution_count": 0,
   "outputs": []
  },
  {
   "cell_type": "code",
   "metadata": {
    "id": "j_lHhw5Hlph3",
    "colab_type": "code",
    "colab": {}
   },
   "source": [
    "y"
   ],
   "execution_count": 0,
   "outputs": []
  },
  {
   "cell_type": "markdown",
   "metadata": {
    "id": "ti1K-3tElph6",
    "colab_type": "text"
   },
   "source": [
    "The result is closer to the correct answer (√4 = 2). If we repeat the process with the new estimate, it gets even closer:"
   ]
  },
  {
   "cell_type": "code",
   "metadata": {
    "id": "ZH_VTtGIlph7",
    "colab_type": "code",
    "colab": {},
    "outputId": "07a36499-9c4a-4947-e743-fad36c8a7038"
   },
   "source": [
    "# Run this a few times\n",
    "# y will get closer to 2\n",
    "x = y\n",
    "y = (x + a/x) / 2\n",
    "y"
   ],
   "execution_count": 0,
   "outputs": [
    {
     "output_type": "execute_result",
     "data": {
      "text/plain": [
       "2.0"
      ]
     },
     "metadata": {
      "tags": []
     },
     "execution_count": 14
    }
   ]
  },
  {
   "cell_type": "markdown",
   "metadata": {
    "id": "He94Hm1alph9",
    "colab_type": "text"
   },
   "source": [
    "In general we don’t know ahead of time how many steps it takes to get to the right answer, but we know when we get there because the estimate stops changing\n",
    "\n",
    "When y == x, we can stop. Here is a loop that starts with an initial estimate, x, and improves it until it stops changing:"
   ]
  },
  {
   "cell_type": "code",
   "metadata": {
    "id": "KSIc9752lpiB",
    "colab_type": "code",
    "colab": {},
    "outputId": "9670e7d3-e23b-4045-c4c3-1906a8fbf233"
   },
   "source": [
    "while True:\n",
    "    print(x)\n",
    "    y = (x + a/x) / 2\n",
    "    if y == x:\n",
    "        break\n",
    "    x = y"
   ],
   "execution_count": 0,
   "outputs": [
    {
     "output_type": "stream",
     "text": [
      "2.0000000000262146\n",
      "2.0\n"
     ],
     "name": "stdout"
    }
   ]
  },
  {
   "cell_type": "code",
   "metadata": {
    "id": "fJ8n4B90lpiE",
    "colab_type": "code",
    "colab": {}
   },
   "source": [
    "while True:\n",
    "    print(x)\n",
    "    y = (x + a/x) / 2\n",
    "    if y == x:\n",
    "        break\n",
    "    x = y"
   ],
   "execution_count": 0,
   "outputs": []
  },
  {
   "cell_type": "code",
   "metadata": {
    "id": "5p0F9WGIlpiG",
    "colab_type": "code",
    "colab": {}
   },
   "source": [
    "def mysquart(a, x):\n",
    "    while True:\n",
    "        y = (x + a/x) / 2\n",
    "        if y == x:\n",
    "            break\n",
    "        x = y\n",
    "        return x"
   ],
   "execution_count": 0,
   "outputs": []
  },
  {
   "cell_type": "code",
   "metadata": {
    "id": "8asnz79flpiJ",
    "colab_type": "code",
    "colab": {},
    "outputId": "0f4bdcf8-96f9-4457-db0e-8f962b4f8a43"
   },
   "source": [
    "mysquart(4, 3)"
   ],
   "execution_count": 0,
   "outputs": [
    {
     "output_type": "execute_result",
     "data": {
      "text/plain": [
       "2.1666666666666665"
      ]
     },
     "metadata": {
      "tags": []
     },
     "execution_count": 18
    }
   ]
  }
 ]
}