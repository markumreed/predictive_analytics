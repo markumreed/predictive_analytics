{
 "nbformat": 4,
 "nbformat_minor": 0,
 "metadata": {
  "kernelspec": {
   "display_name": "Python 3",
   "language": "python",
   "name": "python3"
  },
  "language_info": {
   "codemirror_mode": {
    "name": "ipython",
    "version": 3
   },
   "file_extension": ".py",
   "mimetype": "text/x-python",
   "name": "python",
   "nbconvert_exporter": "python",
   "pygments_lexer": "ipython3",
   "version": "3.6.5"
  },
  "colab": {
   "name": "lists.ipynb",
   "provenance": [],
   "include_colab_link": true
  }
 },
 "cells": [
  {
   "cell_type": "markdown",
   "metadata": {
    "id": "view-in-github",
    "colab_type": "text"
   },
   "source": [
    "<a href=\"https://colab.research.google.com/github/SoIllEconomist/ds4b/blob/master/python_ds4b/python_basics/course_restart/lists.ipynb\" target=\"_parent\"><img src=\"https://colab.research.google.com/assets/colab-badge.svg\" alt=\"Open In Colab\"/></a>"
   ]
  },
  {
   "cell_type": "markdown",
   "metadata": {
    "id": "ScpfIYRnlxoc",
    "colab_type": "text"
   },
   "source": [
    "# Lists\n",
    "## List == Sequence\n",
    "\n",
    "- **list:** sequence of values\n",
    "- Values inside of lists are **elements** or **items**\n",
    "- There are several ways to create a new list;\n",
    "    - the simplest is to enclose the elements in square brackets `[]`"
   ]
  },
  {
   "cell_type": "code",
   "metadata": {
    "id": "sppIyScylxof",
    "colab_type": "code",
    "colab": {},
    "outputId": "188ada43-8ca5-4957-839c-895d4364fed6"
   },
   "source": [
    "[10,20,30,40] # list of 4 integers"
   ],
   "execution_count": 0,
   "outputs": [
    {
     "output_type": "execute_result",
     "data": {
      "text/plain": [
       "[10, 20, 30, 40]"
      ]
     },
     "metadata": {
      "tags": []
     },
     "execution_count": 1
    }
   ]
  },
  {
   "cell_type": "code",
   "metadata": {
    "id": "U5Xm9PDJlxom",
    "colab_type": "code",
    "colab": {},
    "outputId": "bb035a69-b26b-4cfc-fca5-8c3a890c11f2"
   },
   "source": [
    "['Eli','Xu','Markum'] # list of 3 strings"
   ],
   "execution_count": 0,
   "outputs": [
    {
     "output_type": "execute_result",
     "data": {
      "text/plain": [
       "['Eli', 'Xu', 'Markum']"
      ]
     },
     "metadata": {
      "tags": []
     },
     "execution_count": 2
    }
   ]
  },
  {
   "cell_type": "markdown",
   "metadata": {
    "id": "R6J-t3B9lxoq",
    "colab_type": "text"
   },
   "source": [
    "- Elements of a list do NOT have to be the same type:"
   ]
  },
  {
   "cell_type": "code",
   "metadata": {
    "id": "navnn_8klxos",
    "colab_type": "code",
    "colab": {},
    "outputId": "487a8f24-163c-4c63-c2a0-91d3d32215f7"
   },
   "source": [
    "['string',2.0,5,[10,20], True] # list of string, float, integer, another list"
   ],
   "execution_count": 0,
   "outputs": [
    {
     "output_type": "execute_result",
     "data": {
      "text/plain": [
       "['string', 2.0, 5, [10, 20], True]"
      ]
     },
     "metadata": {
      "tags": []
     },
     "execution_count": 3
    }
   ]
  },
  {
   "cell_type": "markdown",
   "metadata": {
    "id": "-xxk8F30lxov",
    "colab_type": "text"
   },
   "source": [
    "- A list within another list is **nested**"
   ]
  },
  {
   "cell_type": "markdown",
   "metadata": {
    "id": "QIgWGIeElxow",
    "colab_type": "text"
   },
   "source": [
    "A list that contains no items is an **empty list**"
   ]
  },
  {
   "cell_type": "code",
   "metadata": {
    "id": "767Z9RdKlxox",
    "colab_type": "code",
    "colab": {},
    "outputId": "0ba95976-97e4-459a-8ef9-a7a7fea9745a"
   },
   "source": [
    "[]"
   ],
   "execution_count": 0,
   "outputs": [
    {
     "output_type": "execute_result",
     "data": {
      "text/plain": [
       "[]"
      ]
     },
     "metadata": {
      "tags": []
     },
     "execution_count": 4
    }
   ]
  },
  {
   "cell_type": "markdown",
   "metadata": {
    "id": "T4DP-GDglxo1",
    "colab_type": "text"
   },
   "source": [
    "- You can assign values to variables"
   ]
  },
  {
   "cell_type": "code",
   "metadata": {
    "id": "YGwsKdZIlxo2",
    "colab_type": "code",
    "colab": {},
    "outputId": "241c8332-15c5-4321-cb00-ac26d28e41f0"
   },
   "source": [
    "people = ['Eli','Xu','Markum']\n",
    "numbers = [3,6,9]\n",
    "empty = []\n",
    "print(people, numbers, empty)"
   ],
   "execution_count": 0,
   "outputs": [
    {
     "output_type": "stream",
     "text": [
      "['Eli', 'Xu', 'Markum'] [3, 6, 9] []\n"
     ],
     "name": "stdout"
    }
   ]
  },
  {
   "cell_type": "markdown",
   "metadata": {
    "id": "Ef_Ge2S-lxo6",
    "colab_type": "text"
   },
   "source": [
    "## Lists are Mutable\n",
    "- Syntax for accessing the elements of a list is the same as for accessing the characters of a string—the bracket operator.\n",
    "- The expression inside the brackets specifies the index. Remember that the indices start at 0:"
   ]
  },
  {
   "cell_type": "code",
   "metadata": {
    "id": "r3U-sYHnlxo7",
    "colab_type": "code",
    "colab": {},
    "outputId": "4fdaa1bb-75b0-42ed-861a-617a790aa4cc"
   },
   "source": [
    "people[0]"
   ],
   "execution_count": 0,
   "outputs": [
    {
     "output_type": "execute_result",
     "data": {
      "text/plain": [
       "'Eli'"
      ]
     },
     "metadata": {
      "tags": []
     },
     "execution_count": 6
    }
   ]
  },
  {
   "cell_type": "code",
   "metadata": {
    "id": "H2WDFAZ7lxo-",
    "colab_type": "code",
    "colab": {}
   },
   "source": [
    "pep = ['e','x','m',[0,'target']]"
   ],
   "execution_count": 0,
   "outputs": []
  },
  {
   "cell_type": "code",
   "metadata": {
    "id": "1TtssbcOlxpA",
    "colab_type": "code",
    "colab": {},
    "outputId": "e930e9e0-69e6-419e-d758-87ec0730bcf7"
   },
   "source": [
    "pep[3][1]"
   ],
   "execution_count": 0,
   "outputs": [
    {
     "output_type": "execute_result",
     "data": {
      "text/plain": [
       "'target'"
      ]
     },
     "metadata": {
      "tags": []
     },
     "execution_count": 8
    }
   ]
  },
  {
   "cell_type": "markdown",
   "metadata": {
    "id": "EgksDODtlxpE",
    "colab_type": "text"
   },
   "source": [
    "- Unlike strings, lists are mutable. When the bracket operator appears on the left side of an assignment, it identifies the element of the list that will be assigned."
   ]
  },
  {
   "cell_type": "code",
   "metadata": {
    "id": "eRgMKavElxpF",
    "colab_type": "code",
    "colab": {}
   },
   "source": [
    "numbers = [10,20,30]"
   ],
   "execution_count": 0,
   "outputs": []
  },
  {
   "cell_type": "code",
   "metadata": {
    "id": "7-ThWoqalxpH",
    "colab_type": "code",
    "colab": {}
   },
   "source": [
    "numbers[1] = 21"
   ],
   "execution_count": 0,
   "outputs": []
  },
  {
   "cell_type": "code",
   "metadata": {
    "id": "t4tl1iePlxpN",
    "colab_type": "code",
    "colab": {},
    "outputId": "cf0e3fac-d266-4968-a2f8-df7a139580dd"
   },
   "source": [
    "numbers"
   ],
   "execution_count": 0,
   "outputs": [
    {
     "output_type": "execute_result",
     "data": {
      "text/plain": [
       "[10, 21, 30]"
      ]
     },
     "metadata": {
      "tags": []
     },
     "execution_count": 11
    }
   ]
  },
  {
   "cell_type": "markdown",
   "metadata": {
    "id": "Ds49LIHOlxpQ",
    "colab_type": "text"
   },
   "source": [
    "List indices work the same way as string indices:\n",
    "\n",
    "- Any integer expression can be used as an index.\n",
    "- If you try to read or write an element that does not exist, you get an `IndexError`.\n",
    "- If an index has a negative value, it counts backward from the end of the list.\n",
    "\n",
    "The `in` operator also works on lists:"
   ]
  },
  {
   "cell_type": "code",
   "metadata": {
    "id": "F0g9K6GZlxpR",
    "colab_type": "code",
    "colab": {},
    "outputId": "82bda9f5-546c-4fbb-d660-658cca975592"
   },
   "source": [
    "'Xu' in people"
   ],
   "execution_count": 0,
   "outputs": [
    {
     "output_type": "execute_result",
     "data": {
      "text/plain": [
       "True"
      ]
     },
     "metadata": {
      "tags": []
     },
     "execution_count": 12
    }
   ]
  },
  {
   "cell_type": "code",
   "metadata": {
    "id": "T4BG-geGlxpj",
    "colab_type": "code",
    "colab": {},
    "outputId": "6803d13f-db0f-4535-c6a2-76a3f66740a9"
   },
   "source": [
    "'Bob' in people"
   ],
   "execution_count": 0,
   "outputs": [
    {
     "output_type": "execute_result",
     "data": {
      "text/plain": [
       "False"
      ]
     },
     "metadata": {
      "tags": []
     },
     "execution_count": 13
    }
   ]
  },
  {
   "cell_type": "markdown",
   "metadata": {
    "id": "fZeUcDOTlxpo",
    "colab_type": "text"
   },
   "source": [
    "## Traversing a list\n",
    "\n",
    "The most common way to traverse the elements of a list is with a `for` loop. The syntax is the same as for strings:"
   ]
  },
  {
   "cell_type": "code",
   "metadata": {
    "id": "GCGjjZONlxpp",
    "colab_type": "code",
    "colab": {},
    "outputId": "3e8e5bfb-d7c6-4441-9d76-ee82e1502067"
   },
   "source": [
    "for p in people:\n",
    "    print('Hello, ', p)"
   ],
   "execution_count": 0,
   "outputs": [
    {
     "output_type": "stream",
     "text": [
      "Hello,  Eli\n",
      "Hello,  Xu\n",
      "Hello,  Markum\n"
     ],
     "name": "stdout"
    }
   ]
  },
  {
   "cell_type": "code",
   "metadata": {
    "id": "3HeLpg7Zlxpt",
    "colab_type": "code",
    "colab": {},
    "outputId": "21ba4662-a779-41c0-cc84-12e6cc517979"
   },
   "source": [
    "people"
   ],
   "execution_count": 0,
   "outputs": [
    {
     "output_type": "execute_result",
     "data": {
      "text/plain": [
       "['Eli', 'Xu', 'Markum']"
      ]
     },
     "metadata": {
      "tags": []
     },
     "execution_count": 82
    }
   ]
  },
  {
   "cell_type": "code",
   "metadata": {
    "id": "SosozrTTlxpw",
    "colab_type": "code",
    "colab": {},
    "outputId": "a3d14340-ff79-4df4-ff3f-f68fc7999051"
   },
   "source": [
    "for num in [1,2,3]:\n",
    "    num2 = num * 2\n",
    "    print(num2)"
   ],
   "execution_count": 0,
   "outputs": [
    {
     "output_type": "stream",
     "text": [
      "2\n",
      "4\n",
      "6\n"
     ],
     "name": "stdout"
    }
   ]
  },
  {
   "cell_type": "markdown",
   "metadata": {
    "id": "BMAVA7xzlxpz",
    "colab_type": "text"
   },
   "source": [
    "- This works well if you only need to read the elements of the list. \n",
    "- But if you want to write or update the elements, you need the indices. \n",
    "- A common way to do that is to combine the built-in functions `range` and `len`:"
   ]
  },
  {
   "cell_type": "code",
   "metadata": {
    "id": "VwYC-inGlxp0",
    "colab_type": "code",
    "colab": {}
   },
   "source": [
    "numbers = [10, 20, 30]\n",
    "for i in range(len(numbers)):\n",
    "    numbers[i] = numbers[i] * 2"
   ],
   "execution_count": 0,
   "outputs": []
  },
  {
   "cell_type": "code",
   "metadata": {
    "id": "8r5BmjT7lxp4",
    "colab_type": "code",
    "colab": {},
    "outputId": "cd2804eb-8ee9-4af3-e843-fcb4942b0aba"
   },
   "source": [
    "numbers"
   ],
   "execution_count": 0,
   "outputs": [
    {
     "output_type": "execute_result",
     "data": {
      "text/plain": [
       "[20, 40, 60]"
      ]
     },
     "metadata": {
      "tags": []
     },
     "execution_count": 17
    }
   ]
  },
  {
   "cell_type": "markdown",
   "metadata": {
    "id": "wqk2q7jllxqA",
    "colab_type": "text"
   },
   "source": [
    "***How would we translate the above code into a function?***\n",
    "\n",
    "Call the function `double_it` that takes a list, `t`."
   ]
  },
  {
   "cell_type": "code",
   "metadata": {
    "id": "ska9OtWvlxqP",
    "colab_type": "code",
    "colab": {}
   },
   "source": [
    "def double_it(t):\n",
    "    \"\"\"\n",
    "    double_it takes a list and doubles the\n",
    "    values inside.\n",
    "    \n",
    "    t: list\n",
    "    \"\"\"\n",
    "    for i in range(len(t)):\n",
    "        t[i] = t[i] * 2\n",
    "    return t"
   ],
   "execution_count": 0,
   "outputs": []
  },
  {
   "cell_type": "code",
   "metadata": {
    "id": "QW2ggrqTlxqS",
    "colab_type": "code",
    "colab": {},
    "outputId": "020a890e-0b07-44c2-d21c-1d6ca3a3a9fe"
   },
   "source": [
    "double_it([1,2,3])"
   ],
   "execution_count": 0,
   "outputs": [
    {
     "output_type": "execute_result",
     "data": {
      "text/plain": [
       "[2, 4, 6]"
      ]
     },
     "metadata": {
      "tags": []
     },
     "execution_count": 86
    }
   ]
  },
  {
   "cell_type": "markdown",
   "metadata": {
    "id": "6UAU-HQ6lxqU",
    "colab_type": "text"
   },
   "source": [
    "## List operations\n",
    "\n",
    "The `+` operator **concatenates** lists:"
   ]
  },
  {
   "cell_type": "code",
   "metadata": {
    "id": "nnrZRWfzlxqV",
    "colab_type": "code",
    "colab": {},
    "outputId": "c4747653-dcfa-4e82-b8f5-ac25d8999fa5"
   },
   "source": [
    "a = [1,2,3]\n",
    "b = [4,5,6]\n",
    "c = a + b\n",
    "c"
   ],
   "execution_count": 0,
   "outputs": [
    {
     "output_type": "execute_result",
     "data": {
      "text/plain": [
       "[1, 2, 3, 4, 5, 6]"
      ]
     },
     "metadata": {
      "tags": []
     },
     "execution_count": 20
    }
   ]
  },
  {
   "cell_type": "markdown",
   "metadata": {
    "id": "-arT6jpxlxqY",
    "colab_type": "text"
   },
   "source": [
    "The `*` operator **repeats** a list a given number of times:"
   ]
  },
  {
   "cell_type": "code",
   "metadata": {
    "id": "1Sd9d0OWlxqZ",
    "colab_type": "code",
    "colab": {},
    "outputId": "326d7c2b-941c-4ec1-a8a7-52dd35cf5c81"
   },
   "source": [
    "[0] * 6"
   ],
   "execution_count": 0,
   "outputs": [
    {
     "output_type": "execute_result",
     "data": {
      "text/plain": [
       "[0, 0, 0, 0, 0, 0]"
      ]
     },
     "metadata": {
      "tags": []
     },
     "execution_count": 21
    }
   ]
  },
  {
   "cell_type": "code",
   "metadata": {
    "id": "jB_iX_hllxqc",
    "colab_type": "code",
    "colab": {},
    "outputId": "e6455afd-5d0a-40e1-9dd8-74b4fb824d2f"
   },
   "source": [
    "[1, 2, 3] * 3 # Waltz sequence"
   ],
   "execution_count": 0,
   "outputs": [
    {
     "output_type": "execute_result",
     "data": {
      "text/plain": [
       "[1, 2, 3, 1, 2, 3, 1, 2, 3]"
      ]
     },
     "metadata": {
      "tags": []
     },
     "execution_count": 22
    }
   ]
  },
  {
   "cell_type": "markdown",
   "metadata": {
    "id": "sUlMB8YXlxqe",
    "colab_type": "text"
   },
   "source": [
    "## List slices"
   ]
  },
  {
   "cell_type": "code",
   "metadata": {
    "id": "cWXv9IBKlxqf",
    "colab_type": "code",
    "colab": {}
   },
   "source": [
    "t = ['a', 'b', 'c', 'd', 'e', 'f']"
   ],
   "execution_count": 0,
   "outputs": []
  },
  {
   "cell_type": "code",
   "metadata": {
    "id": "lXJwGP0Ulxqh",
    "colab_type": "code",
    "colab": {},
    "outputId": "e01af975-08df-4a17-8a34-24b4766ed553"
   },
   "source": [
    "t[1:3]"
   ],
   "execution_count": 0,
   "outputs": [
    {
     "output_type": "execute_result",
     "data": {
      "text/plain": [
       "['b', 'c']"
      ]
     },
     "metadata": {
      "tags": []
     },
     "execution_count": 24
    }
   ]
  },
  {
   "cell_type": "code",
   "metadata": {
    "id": "G1jZU-Cflxqj",
    "colab_type": "code",
    "colab": {},
    "outputId": "b3ff3fa0-d1ea-4ef8-c7e1-367befe2d75c"
   },
   "source": [
    "t[:4]"
   ],
   "execution_count": 0,
   "outputs": [
    {
     "output_type": "execute_result",
     "data": {
      "text/plain": [
       "['a', 'b', 'c', 'd']"
      ]
     },
     "metadata": {
      "tags": []
     },
     "execution_count": 25
    }
   ]
  },
  {
   "cell_type": "code",
   "metadata": {
    "id": "TPsuY_aJlxqm",
    "colab_type": "code",
    "colab": {},
    "outputId": "9e3ae751-3de9-4c63-a99b-2708d3bad2a8"
   },
   "source": [
    "t[2:]"
   ],
   "execution_count": 0,
   "outputs": [
    {
     "output_type": "execute_result",
     "data": {
      "text/plain": [
       "['c', 'd', 'e', 'f']"
      ]
     },
     "metadata": {
      "tags": []
     },
     "execution_count": 26
    }
   ]
  },
  {
   "cell_type": "code",
   "metadata": {
    "id": "9Uc7JrsWlxqo",
    "colab_type": "code",
    "colab": {},
    "outputId": "be7fed93-9a3a-490e-a5ef-a97a82cc200c"
   },
   "source": [
    "t[:]"
   ],
   "execution_count": 0,
   "outputs": [
    {
     "output_type": "execute_result",
     "data": {
      "text/plain": [
       "['a', 'b', 'c', 'd', 'e', 'f']"
      ]
     },
     "metadata": {
      "tags": []
     },
     "execution_count": 27
    }
   ]
  },
  {
   "cell_type": "markdown",
   "metadata": {
    "id": "IdVil9mflxqq",
    "colab_type": "text"
   },
   "source": [
    "A slice operator on the left side of an assignment can update multiple elements:"
   ]
  },
  {
   "cell_type": "code",
   "metadata": {
    "id": "seezwaBLlxqr",
    "colab_type": "code",
    "colab": {}
   },
   "source": [
    "t[1:3] = ['Change', 'This']"
   ],
   "execution_count": 0,
   "outputs": []
  },
  {
   "cell_type": "code",
   "metadata": {
    "id": "exfd54ntlxqt",
    "colab_type": "code",
    "colab": {},
    "outputId": "2f8d3a7c-986a-4218-b1d9-eee50385f944"
   },
   "source": [
    "t"
   ],
   "execution_count": 0,
   "outputs": [
    {
     "output_type": "execute_result",
     "data": {
      "text/plain": [
       "[3, 'Change', 'This', 'test', 'test', 'test']"
      ]
     },
     "metadata": {
      "tags": []
     },
     "execution_count": 92
    }
   ]
  },
  {
   "cell_type": "markdown",
   "metadata": {
    "id": "Ew9AvZexlxqv",
    "colab_type": "text"
   },
   "source": [
    "## List methods\n",
    "Python provides methods that operate on lists. \n",
    "- `append` adds a new element to the end of a list:"
   ]
  },
  {
   "cell_type": "code",
   "metadata": {
    "id": "uj-efMcDlxqw",
    "colab_type": "code",
    "colab": {}
   },
   "source": [
    "t = ['a','b','c']\n",
    "t.append('d')"
   ],
   "execution_count": 0,
   "outputs": []
  },
  {
   "cell_type": "code",
   "metadata": {
    "id": "DVwHumJ_lxqz",
    "colab_type": "code",
    "colab": {},
    "outputId": "75da1ec7-8632-43af-8e20-1d86e49583ec"
   },
   "source": [
    "t"
   ],
   "execution_count": 0,
   "outputs": [
    {
     "output_type": "execute_result",
     "data": {
      "text/plain": [
       "['a', 'b', 'c', 'd']"
      ]
     },
     "metadata": {
      "tags": []
     },
     "execution_count": 31
    }
   ]
  },
  {
   "cell_type": "markdown",
   "metadata": {
    "id": "V5K8kd52lxq4",
    "colab_type": "text"
   },
   "source": [
    "`extend` takes a list as an argument and appends all of the elements:"
   ]
  },
  {
   "cell_type": "code",
   "metadata": {
    "id": "BSAPxFpClxq5",
    "colab_type": "code",
    "colab": {}
   },
   "source": [
    "t1 = ['a','b','c']\n",
    "t2 = ['d','e']\n",
    "t1.extend(t2)"
   ],
   "execution_count": 0,
   "outputs": []
  },
  {
   "cell_type": "code",
   "metadata": {
    "id": "kdI_1beClxq8",
    "colab_type": "code",
    "colab": {},
    "outputId": "e8b76ded-0431-4973-f2f7-c8ad62a9f2a6"
   },
   "source": [
    "t1"
   ],
   "execution_count": 0,
   "outputs": [
    {
     "output_type": "execute_result",
     "data": {
      "text/plain": [
       "['a', 'b', 'c', 'd', 'e']"
      ]
     },
     "metadata": {
      "tags": []
     },
     "execution_count": 33
    }
   ]
  },
  {
   "cell_type": "markdown",
   "metadata": {
    "id": "mY7hVUWhlxrA",
    "colab_type": "text"
   },
   "source": [
    "## Map, filter, reduce\n",
    "### Reduce\n",
    "An operation that combines a sequence of elements into a single value is called **reduce**.\n",
    "\n",
    "To add up all the number in a list, you can use a loop:"
   ]
  },
  {
   "cell_type": "code",
   "metadata": {
    "id": "5Rx--sQJlxrA",
    "colab_type": "code",
    "colab": {}
   },
   "source": [
    "def add_all(t):\n",
    "    total = 0\n",
    "    for x in t:\n",
    "        total += x\n",
    "    return total"
   ],
   "execution_count": 0,
   "outputs": []
  },
  {
   "cell_type": "code",
   "metadata": {
    "id": "SxnGd1itlxrC",
    "colab_type": "code",
    "colab": {},
    "outputId": "dc10926c-0c5d-4bb2-b9c3-658167a0a384"
   },
   "source": [
    "add_all([1,2,3])"
   ],
   "execution_count": 0,
   "outputs": [
    {
     "output_type": "execute_result",
     "data": {
      "text/plain": [
       "6"
      ]
     },
     "metadata": {
      "tags": []
     },
     "execution_count": 35
    }
   ]
  },
  {
   "cell_type": "markdown",
   "metadata": {
    "id": "ffTmy691lxrE",
    "colab_type": "text"
   },
   "source": [
    "- total is initialized to 0. \n",
    "- Each time through the loop, x gets one element from the list. \n",
    "- The += operator provides a short way to update a variable. \n",
    "\n",
    "```python\n",
    "    total += x\n",
    "```\n",
    "is equivalent to\n",
    "\n",
    "```python\n",
    "    total = total + x\n",
    "```"
   ]
  },
  {
   "cell_type": "markdown",
   "metadata": {
    "id": "5Dc2K6iylxrF",
    "colab_type": "text"
   },
   "source": [
    "Adding up the elements of a list is such a common operation that Python provides it as a built-in function, `sum`:"
   ]
  },
  {
   "cell_type": "code",
   "metadata": {
    "id": "PnnKK3HdlxrH",
    "colab_type": "code",
    "colab": {},
    "outputId": "df931e0e-bcf1-4df2-9cda-e5494e25d562"
   },
   "source": [
    "t = [1,2,3]\n",
    "sum(t)"
   ],
   "execution_count": 0,
   "outputs": [
    {
     "output_type": "execute_result",
     "data": {
      "text/plain": [
       "6"
      ]
     },
     "metadata": {
      "tags": []
     },
     "execution_count": 36
    }
   ]
  },
  {
   "cell_type": "markdown",
   "metadata": {
    "id": "DPH7NTdllxrK",
    "colab_type": "text"
   },
   "source": [
    "### Map\n",
    "\n",
    "Sometimes you want to traverse one list while building another. For example, the following function takes a list of strings and returns a new list that contains capitalized strings:"
   ]
  },
  {
   "cell_type": "code",
   "metadata": {
    "id": "Nph420rslxrK",
    "colab_type": "code",
    "colab": {}
   },
   "source": [
    "def capitalize_all(t):\n",
    "    res = []\n",
    "    for s in t:\n",
    "        res.append(s.capitalize())\n",
    "    return res"
   ],
   "execution_count": 0,
   "outputs": []
  },
  {
   "cell_type": "code",
   "metadata": {
    "id": "_s3UHed4lxrM",
    "colab_type": "code",
    "colab": {},
    "outputId": "2067ac31-9ef2-491f-e29d-c12b53aaf838"
   },
   "source": [
    "capitalize_all(['this','is','neat'])"
   ],
   "execution_count": 0,
   "outputs": [
    {
     "output_type": "execute_result",
     "data": {
      "text/plain": [
       "['This', 'Is', 'Neat']"
      ]
     },
     "metadata": {
      "tags": []
     },
     "execution_count": 96
    }
   ]
  },
  {
   "cell_type": "markdown",
   "metadata": {
    "id": "LqB6qJAtlxrO",
    "colab_type": "text"
   },
   "source": [
    "- res is initialized with an empty list; each time through the loop, we append the next element. \n",
    "- An operation like capitalize_all is called a **map** because it “maps” a function onto each of the elements in a sequence."
   ]
  },
  {
   "cell_type": "markdown",
   "metadata": {
    "id": "QtrZfyGalxrP",
    "colab_type": "text"
   },
   "source": [
    "### Filter\n",
    "\n",
    "An operation to select some of the elements from a list and return a sublist. For example, the following function takes a list of strings and returns a list that contains only the uppercase strings:"
   ]
  },
  {
   "cell_type": "code",
   "metadata": {
    "id": "wffUhH1KlxrP",
    "colab_type": "code",
    "colab": {}
   },
   "source": [
    "def only_upper(t):\n",
    "    res = []\n",
    "    for s in t:\n",
    "        if s.isupper():\n",
    "            res.append(s)\n",
    "    return res"
   ],
   "execution_count": 0,
   "outputs": []
  },
  {
   "cell_type": "code",
   "metadata": {
    "id": "ZBLMPN6vlxrR",
    "colab_type": "code",
    "colab": {},
    "outputId": "2c8b3d70-7427-4ba7-de7d-c70b3021c428"
   },
   "source": [
    "only_upper(['A','b','C'])"
   ],
   "execution_count": 0,
   "outputs": [
    {
     "output_type": "execute_result",
     "data": {
      "text/plain": [
       "['A', 'C']"
      ]
     },
     "metadata": {
      "tags": []
     },
     "execution_count": 97
    }
   ]
  },
  {
   "cell_type": "markdown",
   "metadata": {
    "id": "Uk2lebHslxrT",
    "colab_type": "text"
   },
   "source": [
    "- `isupper` is a string method that returns `True` if the string contains only upper case letters.\n",
    "\n",
    "- An operation like only_upper is called a **filter** because it selects some of the elements and filters out the others."
   ]
  },
  {
   "cell_type": "markdown",
   "metadata": {
    "id": "TsPB4SHDlxrU",
    "colab_type": "text"
   },
   "source": [
    "## Deleting Elements\n",
    "There are several ways to delete elements from a list. If you know the index of the element you want, you can use `pop`:"
   ]
  },
  {
   "cell_type": "code",
   "metadata": {
    "id": "TmhCaNbBlxrU",
    "colab_type": "code",
    "colab": {}
   },
   "source": [
    "t = ['a','b','c']\n",
    "x = t.pop(1)"
   ],
   "execution_count": 0,
   "outputs": []
  },
  {
   "cell_type": "code",
   "metadata": {
    "id": "U5kvLWODlxrV",
    "colab_type": "code",
    "colab": {},
    "outputId": "02903db7-eabf-4fc5-f858-3b678df377d0"
   },
   "source": [
    "t"
   ],
   "execution_count": 0,
   "outputs": [
    {
     "output_type": "execute_result",
     "data": {
      "text/plain": [
       "['a', 'c']"
      ]
     },
     "metadata": {
      "tags": []
     },
     "execution_count": 42
    }
   ]
  },
  {
   "cell_type": "code",
   "metadata": {
    "id": "MNbeyI-dlxrY",
    "colab_type": "code",
    "colab": {},
    "outputId": "db40b198-63a9-4539-c0de-b18d5e083ac7"
   },
   "source": [
    "x"
   ],
   "execution_count": 0,
   "outputs": [
    {
     "output_type": "execute_result",
     "data": {
      "text/plain": [
       "'b'"
      ]
     },
     "metadata": {
      "tags": []
     },
     "execution_count": 43
    }
   ]
  },
  {
   "cell_type": "markdown",
   "metadata": {
    "id": "dpOiDbVglxrZ",
    "colab_type": "text"
   },
   "source": [
    "- `pop` modifies the list and returns the element that was removed. \n",
    "- If you don’t provide an index, it deletes and returns the last element.\n",
    "\n",
    "If you don’t need the removed value, you can use the `del` operator:"
   ]
  },
  {
   "cell_type": "code",
   "metadata": {
    "id": "HYKb_mSylxrZ",
    "colab_type": "code",
    "colab": {}
   },
   "source": [
    "t = ['a','b','c']\n",
    "del t[1]"
   ],
   "execution_count": 0,
   "outputs": []
  },
  {
   "cell_type": "code",
   "metadata": {
    "id": "Kk8k8LuRlxrb",
    "colab_type": "code",
    "colab": {},
    "outputId": "25fb4deb-7d37-432d-b823-8250945b374f"
   },
   "source": [
    "t"
   ],
   "execution_count": 0,
   "outputs": [
    {
     "output_type": "execute_result",
     "data": {
      "text/plain": [
       "['a', 'c']"
      ]
     },
     "metadata": {
      "tags": []
     },
     "execution_count": 45
    }
   ]
  },
  {
   "cell_type": "markdown",
   "metadata": {
    "id": "DJdeeV7ulxrd",
    "colab_type": "text"
   },
   "source": [
    "If you know the element you want to remove (but not the index), you can use `remove`:"
   ]
  },
  {
   "cell_type": "code",
   "metadata": {
    "id": "lfuTvnyllxre",
    "colab_type": "code",
    "colab": {}
   },
   "source": [
    "t = ['a', 'b', 'c']\n",
    "t.remove('b')"
   ],
   "execution_count": 0,
   "outputs": []
  },
  {
   "cell_type": "code",
   "metadata": {
    "id": "1WqWyZPwlxrf",
    "colab_type": "code",
    "colab": {},
    "outputId": "a83c7c86-b1f1-4a5b-93a6-46f9354ce433"
   },
   "source": [
    "t"
   ],
   "execution_count": 0,
   "outputs": [
    {
     "output_type": "execute_result",
     "data": {
      "text/plain": [
       "['a', 'c']"
      ]
     },
     "metadata": {
      "tags": []
     },
     "execution_count": 47
    }
   ]
  },
  {
   "cell_type": "markdown",
   "metadata": {
    "id": "eoeevX4Olxrj",
    "colab_type": "text"
   },
   "source": [
    "To remove more than one element, you can use `del` with a slice index:"
   ]
  },
  {
   "cell_type": "code",
   "metadata": {
    "id": "EBOV-38plxrj",
    "colab_type": "code",
    "colab": {}
   },
   "source": [
    "t = ['a', 'b', 'c', 'd', 'e', 'f']\n",
    "del t[1:5]"
   ],
   "execution_count": 0,
   "outputs": []
  },
  {
   "cell_type": "code",
   "metadata": {
    "id": "vr9Mib6Slxrl",
    "colab_type": "code",
    "colab": {},
    "outputId": "0e3de302-77f7-4676-cd53-1b8a976eed29"
   },
   "source": [
    "t"
   ],
   "execution_count": 0,
   "outputs": [
    {
     "output_type": "execute_result",
     "data": {
      "text/plain": [
       "['a', 'f']"
      ]
     },
     "metadata": {
      "tags": []
     },
     "execution_count": 49
    }
   ]
  },
  {
   "cell_type": "markdown",
   "metadata": {
    "id": "n4u7s2x4lxrn",
    "colab_type": "text"
   },
   "source": [
    "## Lists and strings\n",
    "A string is a sequence of characters and a list is a sequence of values, but a list of characters is not the same as a string. To convert from a string to a list of characters, you can use `list`:\n",
    "\n"
   ]
  },
  {
   "cell_type": "code",
   "metadata": {
    "id": "e7W6FtQelxro",
    "colab_type": "code",
    "colab": {}
   },
   "source": [
    "test = 'test'\n",
    "t = list(test)"
   ],
   "execution_count": 0,
   "outputs": []
  },
  {
   "cell_type": "code",
   "metadata": {
    "id": "xivBrfgqlxrq",
    "colab_type": "code",
    "colab": {},
    "outputId": "4a0e7aed-909f-47d9-bed2-9b6b69180c1b"
   },
   "source": [
    "t"
   ],
   "execution_count": 0,
   "outputs": [
    {
     "output_type": "execute_result",
     "data": {
      "text/plain": [
       "['t', 'e', 's', 't']"
      ]
     },
     "metadata": {
      "tags": []
     },
     "execution_count": 51
    }
   ]
  },
  {
   "cell_type": "markdown",
   "metadata": {
    "id": "DEYuVSxClxrs",
    "colab_type": "text"
   },
   "source": [
    "- The `list` function breaks a string into individual letters. \n",
    "- If you want to break a string into words, you can use the `split` method:"
   ]
  },
  {
   "cell_type": "code",
   "metadata": {
    "id": "LQB-ukWGlxrs",
    "colab_type": "code",
    "colab": {}
   },
   "source": [
    "test = 'this is a test'\n",
    "t = test.split()"
   ],
   "execution_count": 0,
   "outputs": []
  },
  {
   "cell_type": "code",
   "metadata": {
    "id": "aVtVhoeAlxru",
    "colab_type": "code",
    "colab": {},
    "outputId": "0d8bb44c-bdf1-4d59-f6b9-ee75d27b0159"
   },
   "source": [
    "t"
   ],
   "execution_count": 0,
   "outputs": [
    {
     "output_type": "execute_result",
     "data": {
      "text/plain": [
       "['this', 'is', 'a', 'test']"
      ]
     },
     "metadata": {
      "tags": []
     },
     "execution_count": 102
    }
   ]
  },
  {
   "cell_type": "markdown",
   "metadata": {
    "id": "_nfHxXISlxrx",
    "colab_type": "text"
   },
   "source": [
    "An optional argument called a **delimiter** specifies which characters to use as word boundaries. The following example uses a hyphen as a delimiter:"
   ]
  },
  {
   "cell_type": "code",
   "metadata": {
    "id": "KJZt6bcllxry",
    "colab_type": "code",
    "colab": {}
   },
   "source": [
    "hyp = 'H-E-L-L-O'\n",
    "t = hyp.split(\"-\")"
   ],
   "execution_count": 0,
   "outputs": []
  },
  {
   "cell_type": "code",
   "metadata": {
    "id": "DCGThEezlxrz",
    "colab_type": "code",
    "colab": {},
    "outputId": "d99dcfe4-bf6b-403b-864c-501881654620"
   },
   "source": [
    "t"
   ],
   "execution_count": 0,
   "outputs": [
    {
     "output_type": "execute_result",
     "data": {
      "text/plain": [
       "['H', 'E', 'L', 'L', 'O']"
      ]
     },
     "metadata": {
      "tags": []
     },
     "execution_count": 104
    }
   ]
  },
  {
   "cell_type": "markdown",
   "metadata": {
    "id": "v0YkldaNlxr1",
    "colab_type": "text"
   },
   "source": [
    "- `join` is the inverse of `split`. \n",
    "- It takes a list of strings and concatenates the elements. \n",
    "- `join` is a string method, so you have to invoke it on the delimiter and pass the list as a parameter:"
   ]
  },
  {
   "cell_type": "code",
   "metadata": {
    "id": "Irp0OuGRlxr2",
    "colab_type": "code",
    "colab": {},
    "outputId": "db502f3b-bc38-4bd5-d987-67ff1f9cb403"
   },
   "source": [
    "t = ['H', 'E', 'L', 'L', 'O']\n",
    "'-'.join(t)"
   ],
   "execution_count": 0,
   "outputs": [
    {
     "output_type": "execute_result",
     "data": {
      "text/plain": [
       "'H-E-L-L-O'"
      ]
     },
     "metadata": {
      "tags": []
     },
     "execution_count": 105
    }
   ]
  },
  {
   "cell_type": "code",
   "metadata": {
    "id": "lPRCLxrAlxr4",
    "colab_type": "code",
    "colab": {},
    "outputId": "c0396c21-fb3a-4315-b0e0-0780803589b4"
   },
   "source": [
    "'&'.join(t)"
   ],
   "execution_count": 0,
   "outputs": [
    {
     "output_type": "execute_result",
     "data": {
      "text/plain": [
       "'H&E&L&L&O'"
      ]
     },
     "metadata": {
      "tags": []
     },
     "execution_count": 106
    }
   ]
  },
  {
   "cell_type": "code",
   "metadata": {
    "id": "g6PLdJ51lxr6",
    "colab_type": "code",
    "colab": {},
    "outputId": "3b1ed2d7-235b-4c10-fae4-d635f7956619"
   },
   "source": [
    "' '.join(t)"
   ],
   "execution_count": 0,
   "outputs": [
    {
     "output_type": "execute_result",
     "data": {
      "text/plain": [
       "'H E L L O'"
      ]
     },
     "metadata": {
      "tags": []
     },
     "execution_count": 107
    }
   ]
  },
  {
   "cell_type": "markdown",
   "metadata": {
    "id": "b2m7y4Pdlxr8",
    "colab_type": "text"
   },
   "source": [
    "## List arguments\n",
    "When you pass a list to a function, the function gets a reference to the list. If the function modifies the list, the caller sees the change. For example, delete_head removes the first element from a list:"
   ]
  },
  {
   "cell_type": "code",
   "metadata": {
    "id": "NH065ikSlxr8",
    "colab_type": "code",
    "colab": {}
   },
   "source": [
    "def delete_head(t):\n",
    "    del t[0]"
   ],
   "execution_count": 0,
   "outputs": []
  },
  {
   "cell_type": "markdown",
   "metadata": {
    "id": "X1Brv7G_lxr-",
    "colab_type": "text"
   },
   "source": [
    "The parameter t and the variable letters are aliases for the same object. "
   ]
  },
  {
   "cell_type": "code",
   "metadata": {
    "id": "tMKYQSvJlxr_",
    "colab_type": "code",
    "colab": {},
    "outputId": "126e02cc-d511-46d2-95b3-b36663fd2c59"
   },
   "source": [
    "letters = list('abcd')\n",
    "letters"
   ],
   "execution_count": 0,
   "outputs": [
    {
     "output_type": "execute_result",
     "data": {
      "text/plain": [
       "['a', 'b', 'c', 'd']"
      ]
     },
     "metadata": {
      "tags": []
     },
     "execution_count": 60
    }
   ]
  },
  {
   "cell_type": "code",
   "metadata": {
    "id": "410M9K05lxsC",
    "colab_type": "code",
    "colab": {}
   },
   "source": [
    "delete_head(letters)"
   ],
   "execution_count": 0,
   "outputs": []
  },
  {
   "cell_type": "code",
   "metadata": {
    "id": "PZ3BVZm6lxsD",
    "colab_type": "code",
    "colab": {},
    "outputId": "f730e1f5-6ff8-4384-ed15-c50fe0551295"
   },
   "source": [
    "letters"
   ],
   "execution_count": 0,
   "outputs": [
    {
     "output_type": "execute_result",
     "data": {
      "text/plain": [
       "['b', 'c', 'd']"
      ]
     },
     "metadata": {
      "tags": []
     },
     "execution_count": 62
    }
   ]
  },
  {
   "cell_type": "markdown",
   "metadata": {
    "id": "cQXCs_27lxsF",
    "colab_type": "text"
   },
   "source": [
    "It is important to distinguish between operations that modify lists and operations that create new lists. For example, the append method modifies a list, but the + operator creates a new list."
   ]
  },
  {
   "cell_type": "code",
   "metadata": {
    "id": "U5dA-ipvlxsF",
    "colab_type": "code",
    "colab": {}
   },
   "source": [
    "t1 = [1, 2]\n",
    "t1.append(3)"
   ],
   "execution_count": 0,
   "outputs": []
  },
  {
   "cell_type": "code",
   "metadata": {
    "id": "ASImr-7DlxsH",
    "colab_type": "code",
    "colab": {},
    "outputId": "d165b579-5eb7-469b-e0a7-4cb91356ac2d"
   },
   "source": [
    "t1"
   ],
   "execution_count": 0,
   "outputs": [
    {
     "output_type": "execute_result",
     "data": {
      "text/plain": [
       "[1, 2, 3]"
      ]
     },
     "metadata": {
      "tags": []
     },
     "execution_count": 3
    }
   ]
  },
  {
   "cell_type": "code",
   "metadata": {
    "id": "Q3EL9NPFlxsL",
    "colab_type": "code",
    "colab": {}
   },
   "source": [
    "t2 # Returns None"
   ],
   "execution_count": 0,
   "outputs": []
  },
  {
   "cell_type": "markdown",
   "metadata": {
    "id": "EDwtyNcelxsP",
    "colab_type": "text"
   },
   "source": [
    "The return value from append is `None`."
   ]
  },
  {
   "cell_type": "code",
   "metadata": {
    "id": "NLB5a0cNlxsP",
    "colab_type": "code",
    "colab": {},
    "outputId": "ba15131e-f5ae-4266-936c-30edf41eed7e"
   },
   "source": [
    "t3 = t1 + [4]\n",
    "t1"
   ],
   "execution_count": 0,
   "outputs": [
    {
     "output_type": "execute_result",
     "data": {
      "text/plain": [
       "[1, 2, 3]"
      ]
     },
     "metadata": {
      "tags": []
     },
     "execution_count": 66
    }
   ]
  },
  {
   "cell_type": "code",
   "metadata": {
    "id": "O6PFV6TqlxsR",
    "colab_type": "code",
    "colab": {},
    "outputId": "289a4ee1-4bc3-434b-c3cf-0e42be105043"
   },
   "source": [
    "t3"
   ],
   "execution_count": 0,
   "outputs": [
    {
     "output_type": "execute_result",
     "data": {
      "text/plain": [
       "[1, 2, 3, 4]"
      ]
     },
     "metadata": {
      "tags": []
     },
     "execution_count": 67
    }
   ]
  },
  {
   "cell_type": "markdown",
   "metadata": {
    "id": "9B9-xyKelxsS",
    "colab_type": "text"
   },
   "source": [
    "- The result of the operator is a new list, and the original list is unchanged.\n",
    "\n",
    "- This difference is important when you write functions that are supposed to modify lists. For example, this function does not delete the head of a list:"
   ]
  },
  {
   "cell_type": "code",
   "metadata": {
    "id": "F2Y4c8Z8lxsT",
    "colab_type": "code",
    "colab": {}
   },
   "source": [
    "def bad_delete_head(t):\n",
    "    t = t[1:]              # WRONG!"
   ],
   "execution_count": 0,
   "outputs": []
  },
  {
   "cell_type": "markdown",
   "metadata": {
    "id": "I24QTpMklxsU",
    "colab_type": "text"
   },
   "source": [
    "The slice operator creates a new list and the assignment makes t refer to it, but that doesn’t affect the caller."
   ]
  },
  {
   "cell_type": "code",
   "metadata": {
    "id": "ieuk-PVIlxsU",
    "colab_type": "code",
    "colab": {}
   },
   "source": [
    "t4 = [1, 2, 3]\n",
    "bad_delete_head(t4)"
   ],
   "execution_count": 0,
   "outputs": []
  },
  {
   "cell_type": "code",
   "metadata": {
    "id": "9FkXPal-lxsW",
    "colab_type": "code",
    "colab": {},
    "outputId": "2a39b92c-eb4d-4a13-eae1-258b625e637d"
   },
   "source": [
    "t4"
   ],
   "execution_count": 0,
   "outputs": [
    {
     "output_type": "execute_result",
     "data": {
      "text/plain": [
       "[1, 2, 3]"
      ]
     },
     "metadata": {
      "tags": []
     },
     "execution_count": 70
    }
   ]
  },
  {
   "cell_type": "markdown",
   "metadata": {
    "id": "Ph4RvszklxsY",
    "colab_type": "text"
   },
   "source": [
    "- At the beginning of bad_delete_head, t and t4 refer to the same list. At the end, t refers to a new list, but t4 still refers to the original, unmodified list.\n",
    "\n",
    "- An alternative is to write a function that creates and returns a new list. For example, tail returns all but the first element of a list:\n",
    "\n"
   ]
  },
  {
   "cell_type": "code",
   "metadata": {
    "id": "HtU5XifblxsY",
    "colab_type": "code",
    "colab": {}
   },
   "source": [
    "def tail(t):\n",
    "    return t[1:]"
   ],
   "execution_count": 0,
   "outputs": []
  },
  {
   "cell_type": "markdown",
   "metadata": {
    "id": "YUqGvqZllxsb",
    "colab_type": "text"
   },
   "source": [
    "This function leaves the original list unmodified. Here’s how it is used:"
   ]
  },
  {
   "cell_type": "code",
   "metadata": {
    "id": "hVnVV4dAlxsb",
    "colab_type": "code",
    "colab": {},
    "outputId": "fdb181d9-de04-48c4-8f49-43c182ddbf42"
   },
   "source": [
    "letters = ['a', 'b', 'c']\n",
    "rest = tail(letters)\n",
    "rest"
   ],
   "execution_count": 0,
   "outputs": [
    {
     "output_type": "execute_result",
     "data": {
      "text/plain": [
       "['b', 'c']"
      ]
     },
     "metadata": {
      "tags": []
     },
     "execution_count": 7
    }
   ]
  },
  {
   "cell_type": "code",
   "metadata": {
    "id": "gzha8q6Clxsd",
    "colab_type": "code",
    "colab": {},
    "outputId": "0e0e5677-c11e-48e1-fc74-4164649627d2"
   },
   "source": [
    "letters = list('abcdefghi')\n",
    "letters[::-1]"
   ],
   "execution_count": 0,
   "outputs": [
    {
     "output_type": "execute_result",
     "data": {
      "text/plain": [
       "['i', 'h', 'g', 'f', 'e', 'd', 'c', 'b', 'a']"
      ]
     },
     "metadata": {
      "tags": []
     },
     "execution_count": 5
    }
   ]
  },
  {
   "cell_type": "code",
   "metadata": {
    "id": "mDI49OAulxsg",
    "colab_type": "code",
    "colab": {},
    "outputId": "f65c4cb7-f719-42a0-b851-e347ed9093ea"
   },
   "source": [
    "x = [1,2,3]\n",
    "x[::-1]"
   ],
   "execution_count": 0,
   "outputs": [
    {
     "output_type": "execute_result",
     "data": {
      "text/plain": [
       "[3, 2, 1]"
      ]
     },
     "metadata": {
      "tags": []
     },
     "execution_count": 6
    }
   ]
  },
  {
   "cell_type": "markdown",
   "metadata": {
    "id": "CuFEPUYdlxsj",
    "colab_type": "text"
   },
   "source": [
    "## Debugging\n",
    "Careless use of lists can lead to long hours of debugging. \n",
    "\n",
    "### Most list methods modify the argument and return `None`\n",
    "\n",
    "- This is the opposite of the string methods, which return a new string and leave the original alone.\n",
    "- If you are used to writing string code like this:"
   ]
  },
  {
   "cell_type": "markdown",
   "metadata": {
    "id": "mSZ_hcUVlxsk",
    "colab_type": "text"
   },
   "source": [
    "```python\n",
    "word = word.strip()\n",
    "```\n",
    "It is tempting to write list code like this:\n",
    "\n",
    "```python\n",
    "t = t.sort()           # WRONG!\n",
    "```\n",
    "- Sort returns `None`, the next operation you perform with t is likely to fail."
   ]
  },
  {
   "cell_type": "markdown",
   "metadata": {
    "id": "VlbADaAklxsk",
    "colab_type": "text"
   },
   "source": [
    "### Pick an idiom and stick with it\n",
    "\n",
    "Part of the problem with lists is that there are too many ways to do things. For example, to remove an element from a list, you can use `pop`, `remove`, `del`, or `slice`\n",
    "\n",
    "To add an element, you can use the append method or the `+` operator. Assuming that t is a list and x is a list element, \n",
    "\n",
    "**These are correct:**\n",
    "\n",
    "```python\n",
    "t.append(x)\n",
    "t = t + [x]\n",
    "t += [x]\n",
    "```\n",
    "\n",
    "**And these are wrong:**\n",
    "\n",
    "```python\n",
    "t.append([x])          # WRONG!\n",
    "t = t.append(x)        # WRONG!\n",
    "t + [x]                # WRONG!\n",
    "t = t + x              # WRONG!\n",
    "```\n",
    "\n",
    "- Try out each of these examples to make sure you understand what they do. \n",
    "\n",
    "- Notice that only the last one causes a runtime error; the other three are legal, but they do the wrong thing."
   ]
  },
  {
   "cell_type": "markdown",
   "metadata": {
    "id": "SdHn3rm3lxsl",
    "colab_type": "text"
   },
   "source": [
    "### Make copies to avoid aliasing.\n",
    "\n",
    "If you want to use a method like sort that modifies the argument, but you need to keep the original list as well, you can make a copy."
   ]
  },
  {
   "cell_type": "code",
   "metadata": {
    "id": "yQdg6qtLlxsl",
    "colab_type": "code",
    "colab": {}
   },
   "source": [
    "t = [3, 1, 2]\n",
    "t2 = t[:]\n",
    "t2.sort()"
   ],
   "execution_count": 0,
   "outputs": []
  },
  {
   "cell_type": "code",
   "metadata": {
    "id": "sP53qfvdlxsn",
    "colab_type": "code",
    "colab": {},
    "outputId": "0849e7a8-ce59-44f0-9454-9ebb20fbca0d"
   },
   "source": [
    "t"
   ],
   "execution_count": 0,
   "outputs": [
    {
     "output_type": "execute_result",
     "data": {
      "text/plain": [
       "[3, 1, 2]"
      ]
     },
     "metadata": {
      "tags": []
     },
     "execution_count": 74
    }
   ]
  },
  {
   "cell_type": "code",
   "metadata": {
    "id": "ibSz8slIlxso",
    "colab_type": "code",
    "colab": {},
    "outputId": "d4231ca6-e829-48fa-925d-9d084f2bb084"
   },
   "source": [
    "t2"
   ],
   "execution_count": 0,
   "outputs": [
    {
     "output_type": "execute_result",
     "data": {
      "text/plain": [
       "[1, 2, 3]"
      ]
     },
     "metadata": {
      "tags": []
     },
     "execution_count": 75
    }
   ]
  },
  {
   "cell_type": "markdown",
   "metadata": {
    "id": "4YSCDK7Elxsq",
    "colab_type": "text"
   },
   "source": [
    "In this example you could also use the built-in function sorted, which returns a new, sorted list and leaves the original alone."
   ]
  },
  {
   "cell_type": "code",
   "metadata": {
    "id": "OT0c_kMolxsq",
    "colab_type": "code",
    "colab": {}
   },
   "source": [
    "t2 = sorted(t)"
   ],
   "execution_count": 0,
   "outputs": []
  },
  {
   "cell_type": "code",
   "metadata": {
    "id": "QzAYkRallxsr",
    "colab_type": "code",
    "colab": {},
    "outputId": "fc9f9476-1a54-4500-a2bd-0f2b6dee7a60"
   },
   "source": [
    "t"
   ],
   "execution_count": 0,
   "outputs": [
    {
     "output_type": "execute_result",
     "data": {
      "text/plain": [
       "[3, 1, 2]"
      ]
     },
     "metadata": {
      "tags": []
     },
     "execution_count": 77
    }
   ]
  },
  {
   "cell_type": "code",
   "metadata": {
    "id": "0IYH9m-klxss",
    "colab_type": "code",
    "colab": {},
    "outputId": "a5a48851-76b5-49c4-b4ca-9af2fae1d71c"
   },
   "source": [
    "t2"
   ],
   "execution_count": 0,
   "outputs": [
    {
     "output_type": "execute_result",
     "data": {
      "text/plain": [
       "[1, 2, 3]"
      ]
     },
     "metadata": {
      "tags": []
     },
     "execution_count": 78
    }
   ]
  }
 ]
}